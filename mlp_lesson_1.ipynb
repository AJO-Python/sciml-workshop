{
  "nbformat": 4,
  "nbformat_minor": 0,
  "metadata": {
    "kernelspec": {
      "display_name": "Python 3",
      "language": "python",
      "name": "python3"
    },
    "language_info": {
      "codemirror_mode": {
        "name": "ipython",
        "version": 3
      },
      "file_extension": ".py",
      "mimetype": "text/x-python",
      "name": "python",
      "nbconvert_exporter": "python",
      "pygments_lexer": "ipython3",
      "version": "3.7.5"
    },
    "colab": {
      "name": "Copy of mlp_lesson_1.ipynb",
      "provenance": [],
      "collapsed_sections": [],
      "toc_visible": true
    },
    "accelerator": "GPU"
  },
  "cells": [
    {
      "cell_type": "code",
      "metadata": {
        "id": "qijZ3YAIW52C",
        "colab_type": "code",
        "outputId": "84563294-07b5-4aee-d39f-367f2277d52e",
        "colab": {
          "base_uri": "https://localhost:8080/",
          "height": 425
        }
      },
      "source": [
        "%tensorflow_version 2.x\n",
        "from google.colab import auth\n",
        "auth.authenticate_user()\n",
        "\n",
        "project_id = 'sciml-workshop'\n",
        "bucket_name = 'sciml-workshop'\n",
        "\n",
        "!echo \"deb http://packages.cloud.google.com/apt gcsfuse-bionic main\" > /etc/apt/sources.list.d/gcsfuse.list\n",
        "!curl https://packages.cloud.google.com/apt/doc/apt-key.gpg | apt-key add -\n",
        "!apt -qq update\n",
        "!apt -qq install gcsfuse\n",
        "\n",
        "!gcloud config set project {project_id}\n",
        "\n",
        "!mkdir data\n",
        "!gcsfuse  --implicit-dirs --limit-bytes-per-sec -1 --limit-ops-per-sec -1 {bucket_name} /content/data\n",
        "!gsutil cp gs://{bucket_name}/utils.py /content/utils.py"
      ],
      "execution_count": 2,
      "outputs": [
        {
          "output_type": "stream",
          "text": [
            "  % Total    % Received % Xferd  Average Speed   Time    Time     Time  Current\n",
            "                                 Dload  Upload   Total   Spent    Left  Speed\n",
            "\r  0     0    0     0    0     0      0      0 --:--:-- --:--:-- --:--:--     0\r100   653  100   653    0     0  15547      0 --:--:-- --:--:-- --:--:-- 15547\n",
            "OK\n",
            "40 packages can be upgraded. Run 'apt list --upgradable' to see them.\n",
            "The following NEW packages will be installed:\n",
            "  gcsfuse\n",
            "0 upgraded, 1 newly installed, 0 to remove and 40 not upgraded.\n",
            "Need to get 4,274 kB of archives.\n",
            "After this operation, 12.8 MB of additional disk space will be used.\n",
            "Selecting previously unselected package gcsfuse.\n",
            "(Reading database ... 144439 files and directories currently installed.)\n",
            "Preparing to unpack .../gcsfuse_0.28.1_amd64.deb ...\n",
            "Unpacking gcsfuse (0.28.1) ...\n",
            "Setting up gcsfuse (0.28.1) ...\n",
            "Updated property [core/project].\n",
            "Using mount point: /content/data\n",
            "Opening GCS connection...\n",
            "Opening bucket...\n",
            "Mounting file system...\n",
            "File system has been successfully mounted.\n",
            "Copying gs://sciml-workshop/utils.py...\n",
            "/ [1 files][  788.0 B/  788.0 B]                                                \n",
            "Operation completed over 1 objects/788.0 B.                                      \n"
          ],
          "name": "stdout"
        }
      ]
    },
    {
      "cell_type": "code",
      "metadata": {
        "id": "g1ADsgamWdpj",
        "colab_type": "code",
        "colab": {}
      },
      "source": [
        "import pandas as pd\n",
        "import matplotlib.pyplot as plt\n",
        "import numpy as np\n",
        "from utils import load_validation_set, check_hit_rate\n",
        "from numpy.random import seed\n",
        "import tensorflow as tf\n",
        "seed(1)\n",
        "tf.random.set_seed(2)\n",
        "plt.style.use('ggplot')"
      ],
      "execution_count": 0,
      "outputs": []
    },
    {
      "cell_type": "markdown",
      "metadata": {
        "id": "bmqjHBR4Wdpn",
        "colab_type": "text"
      },
      "source": [
        "# Multi layer perceptron\n",
        "\n",
        "In this practical we fit our first deep neural network. We are starting with the simplest architecture - a multi-layer perceptron (MLP). \n",
        "\n",
        "## The task\n",
        "\n",
        "We have a set of spectra from Muon spectroscopy experiemnts, we would like to train a NN to be able to detect from a given spectrum wheter or not a certain element is present in the sample. In this case we are going to try to train a network to detect if there is `Ag` in a sample.\n",
        "\n",
        "## The data\n",
        "\n",
        "There is a dataset conveniently provided with spectra and labels saying wheter or not there is `Ag` in the data (`ag-muon-data.pkl`). It is in a `pickle` file, load it into a `pandas` dataframe and take a quick look."
      ]
    },
    {
      "cell_type": "code",
      "metadata": {
        "id": "GwnW1fp1Wdpo",
        "colab_type": "code",
        "colab": {}
      },
      "source": [
        "df = pd.read_pickle('/content/data/muon/ag-muon-data.pkl')"
      ],
      "execution_count": 0,
      "outputs": []
    },
    {
      "cell_type": "code",
      "metadata": {
        "id": "Mn6n3OgMWdpr",
        "colab_type": "code",
        "outputId": "d08f0b72-3d8b-4d0e-d8eb-61b15969473d",
        "colab": {
          "base_uri": "https://localhost:8080/",
          "height": 204
        }
      },
      "source": [
        "df.head()"
      ],
      "execution_count": 5,
      "outputs": [
        {
          "output_type": "execute_result",
          "data": {
            "text/html": [
              "<div>\n",
              "<style scoped>\n",
              "    .dataframe tbody tr th:only-of-type {\n",
              "        vertical-align: middle;\n",
              "    }\n",
              "\n",
              "    .dataframe tbody tr th {\n",
              "        vertical-align: top;\n",
              "    }\n",
              "\n",
              "    .dataframe thead th {\n",
              "        text-align: right;\n",
              "    }\n",
              "</style>\n",
              "<table border=\"1\" class=\"dataframe\">\n",
              "  <thead>\n",
              "    <tr style=\"text-align: right;\">\n",
              "      <th></th>\n",
              "      <th>0</th>\n",
              "      <th>1</th>\n",
              "      <th>2</th>\n",
              "      <th>3</th>\n",
              "    </tr>\n",
              "  </thead>\n",
              "  <tbody>\n",
              "    <tr>\n",
              "      <th>0</th>\n",
              "      <td>[Zn]</td>\n",
              "      <td>0</td>\n",
              "      <td>[0, 20, 40, 60, 80, 100, 120, 140, 160, 180, 2...</td>\n",
              "      <td>[0.0, 0.0, 181.8778921374784, 488.349654519592...</td>\n",
              "    </tr>\n",
              "    <tr>\n",
              "      <th>1</th>\n",
              "      <td>[Sb, Zn, Si]</td>\n",
              "      <td>0</td>\n",
              "      <td>[0, 20, 40, 60, 80, 100, 120, 140, 160, 180, 2...</td>\n",
              "      <td>[0.0, 0.0, 202.97108056052195, 433.59971962403...</td>\n",
              "    </tr>\n",
              "    <tr>\n",
              "      <th>2</th>\n",
              "      <td>[Fe, Sb]</td>\n",
              "      <td>0</td>\n",
              "      <td>[0, 20, 40, 60, 80, 100, 120, 140, 160, 180, 2...</td>\n",
              "      <td>[0.0, 0.0, 212.7229415490735, 428.816091507503...</td>\n",
              "    </tr>\n",
              "    <tr>\n",
              "      <th>3</th>\n",
              "      <td>[Ag, Zn, Cu, Sb]</td>\n",
              "      <td>1</td>\n",
              "      <td>[0, 20, 40, 60, 80, 100, 120, 140, 160, 180, 2...</td>\n",
              "      <td>[0.0, 0.0, 192.36172506402616, 420.19496785125...</td>\n",
              "    </tr>\n",
              "    <tr>\n",
              "      <th>4</th>\n",
              "      <td>[Fe, Zn]</td>\n",
              "      <td>0</td>\n",
              "      <td>[0, 20, 40, 60, 80, 100, 120, 140, 160, 180, 2...</td>\n",
              "      <td>[0.0, 0.0, 206.91647977543502, 434.03768636007...</td>\n",
              "    </tr>\n",
              "  </tbody>\n",
              "</table>\n",
              "</div>"
            ],
            "text/plain": [
              "                  0  ...                                                  3\n",
              "0              [Zn]  ...  [0.0, 0.0, 181.8778921374784, 488.349654519592...\n",
              "1      [Sb, Zn, Si]  ...  [0.0, 0.0, 202.97108056052195, 433.59971962403...\n",
              "2          [Fe, Sb]  ...  [0.0, 0.0, 212.7229415490735, 428.816091507503...\n",
              "3  [Ag, Zn, Cu, Sb]  ...  [0.0, 0.0, 192.36172506402616, 420.19496785125...\n",
              "4          [Fe, Zn]  ...  [0.0, 0.0, 206.91647977543502, 434.03768636007...\n",
              "\n",
              "[5 rows x 4 columns]"
            ]
          },
          "metadata": {
            "tags": []
          },
          "execution_count": 5
        }
      ]
    },
    {
      "cell_type": "markdown",
      "metadata": {
        "id": "9CVyNT5iWdpu",
        "colab_type": "text"
      },
      "source": [
        "Notice that the third column of the dataframe contains either 1 or zero, conveniently the data has already been one-hot-encoded for you. 1 - there is `Ag` in the sample, 0 - there is no `Ag` in the sample. The fifth column of the dataframe contains the spectroscopic signal from the experiment. \n",
        "\n",
        "The sample number `23993` is pure `Ag` plot it out to see the kind of data we are looking at.\n",
        "\n",
        "*Note* To access this data in `pandas` use `sample = df.iloc[23993][3]`"
      ]
    },
    {
      "cell_type": "code",
      "metadata": {
        "id": "fZA4V6MFWdpv",
        "colab_type": "code",
        "colab": {}
      },
      "source": [
        "sample = df.iloc[23993][3]"
      ],
      "execution_count": 0,
      "outputs": []
    },
    {
      "cell_type": "code",
      "metadata": {
        "id": "XHTxPgN1Wdpy",
        "colab_type": "code",
        "outputId": "987e5012-776f-470a-a406-0762db6ab506",
        "colab": {
          "base_uri": "https://localhost:8080/",
          "height": 282
        }
      },
      "source": [
        "plt.plot(sample)"
      ],
      "execution_count": 7,
      "outputs": [
        {
          "output_type": "execute_result",
          "data": {
            "text/plain": [
              "[<matplotlib.lines.Line2D at 0x7ff270ea4dd8>]"
            ]
          },
          "metadata": {
            "tags": []
          },
          "execution_count": 7
        },
        {
          "output_type": "display_data",
          "data": {
            "image/png": "[encoded data removed]",
            "text/plain": [
              "<Figure size 432x288 with 1 Axes>"
            ]
          },
          "metadata": {
            "tags": []
          }
        }
      ]
    },
    {
      "cell_type": "markdown",
      "metadata": {
        "id": "qOG1SbFqWdp1",
        "colab_type": "text"
      },
      "source": [
        "We can see some clear peaks associated with `Ag` - however, to get a feel for the complexity of picking out signals with `Ag` in multinary samples try plotting sample number `26`, which is an `Ag/Si` binary."
      ]
    },
    {
      "cell_type": "code",
      "metadata": {
        "id": "KmJrRvsQWdp1",
        "colab_type": "code",
        "outputId": "a3c8fb6e-54e6-4c93-d93f-92c29f5bdf23",
        "colab": {
          "base_uri": "https://localhost:8080/",
          "height": 282
        }
      },
      "source": [
        "sample = df.iloc[26][3]\n",
        "plt.plot(sample)"
      ],
      "execution_count": 8,
      "outputs": [
        {
          "output_type": "execute_result",
          "data": {
            "text/plain": [
              "[<matplotlib.lines.Line2D at 0x7ff210f64358>]"
            ]
          },
          "metadata": {
            "tags": []
          },
          "execution_count": 8
        },
        {
          "output_type": "display_data",
          "data": {
            "image/png": "[encoded data removed]",
            "text/plain": [
              "<Figure size 432x288 with 1 Axes>"
            ]
          },
          "metadata": {
            "tags": []
          }
        }
      ]
    },
    {
      "cell_type": "markdown",
      "metadata": {
        "id": "CwlM96N6Wdp4",
        "colab_type": "text"
      },
      "source": [
        "## The approach\n",
        "\n",
        "We are going to try and train a NN to classify spectra into those that contain `Ag` and those that do not.\n",
        "\n",
        "Get X - your input data as the fifth column of the dataset and y your objective as the third column. You can use the pandas function `to_list` to do this. Convert the resulting lists to `numpy` arrays for feeding to the NN."
      ]
    },
    {
      "cell_type": "code",
      "metadata": {
        "id": "oJmWbyHuWdp5",
        "colab_type": "code",
        "colab": {}
      },
      "source": [
        "X = np.array(df[3].to_list())\n",
        "y = np.array(df[1].to_list())"
      ],
      "execution_count": 0,
      "outputs": []
    },
    {
      "cell_type": "markdown",
      "metadata": {
        "id": "ckWlIsKhWdp7",
        "colab_type": "text"
      },
      "source": [
        "## Try out a network\n",
        "\n",
        "We can see that the data is given as a series of 300 points, each corresponding to an intensity. We can think about building a MLP that has 300 nodes in the input layer and then a single node in the output layer. The output should be 1 if there is `Ag` in the sample and 0 if there is no `Ag` in the sample.\n",
        "\n",
        "We will start by using `keras` `Sequential` model building - this allows you to simply add new layers to a model using the `model.add(<layer details>)` command. The model is instantiated with\n",
        "```\n",
        "model = Sequential()\n",
        "```\n",
        "Now we want to add layers to the netowrk - as we are building a MLP, all of our layers are fully connected or [`Dense`](https://keras.io/layers/core/) layers. The arguments that are passed to the dense layer are\n",
        "* Number of nodes\n",
        "* Number of inputs to the layer - this is only necessary for the first layer and must match the shape of the data\n",
        "* Activation function - this is the non-linear function used to calculate the activation of the layer \n",
        "* There are many other properties you can set, but these are all we need for now\n",
        "\n",
        "**Note** we are importing from `tensorflow.keras`, rather than `keras` this is to ensure consistency with models built in pure `tensorflow`."
      ]
    },
    {
      "cell_type": "code",
      "metadata": {
        "id": "FVcK-qakWdp8",
        "colab_type": "code",
        "colab": {}
      },
      "source": [
        "from tensorflow.keras import Sequential\n",
        "from tensorflow.keras.layers import Dense\n",
        "# define the keras model\n",
        "model = Sequential()\n",
        "model.add(Dense(12, input_dim=300, activation='relu'))\n",
        "model.add(Dense(8, activation='relu'))\n",
        "model.add(Dense(1, activation='sigmoid'))"
      ],
      "execution_count": 0,
      "outputs": []
    },
    {
      "cell_type": "markdown",
      "metadata": {
        "id": "C8E73mU4Wdp_",
        "colab_type": "text"
      },
      "source": [
        "We can now look at the properties of the model with `model.summary()`"
      ]
    },
    {
      "cell_type": "code",
      "metadata": {
        "id": "LUEQHuq0Wdp_",
        "colab_type": "code",
        "outputId": "08aa95d9-1bcd-42d6-d905-357ec0226e3c",
        "colab": {
          "base_uri": "https://localhost:8080/",
          "height": 255
        }
      },
      "source": [
        "model.summary()"
      ],
      "execution_count": 11,
      "outputs": [
        {
          "output_type": "stream",
          "text": [
            "Model: \"sequential\"\n",
            "_________________________________________________________________\n",
            "Layer (type)                 Output Shape              Param #   \n",
            "=================================================================\n",
            "dense (Dense)                (None, 12)                3612      \n",
            "_________________________________________________________________\n",
            "dense_1 (Dense)              (None, 8)                 104       \n",
            "_________________________________________________________________\n",
            "dense_2 (Dense)              (None, 1)                 9         \n",
            "=================================================================\n",
            "Total params: 3,725\n",
            "Trainable params: 3,725\n",
            "Non-trainable params: 0\n",
            "_________________________________________________________________\n"
          ],
          "name": "stdout"
        }
      ]
    },
    {
      "cell_type": "markdown",
      "metadata": {
        "id": "uxprsbAHWdqC",
        "colab_type": "text"
      },
      "source": [
        "Now you need to [compile](https://keras.io/models/model/) the model - this involves setting a `loss` to train against, an `optimizer` and optionally some `metrics` to evaluate during the training. For the `loss`, since we are fitting to a range between 0 and 1 `binary_crossentropy` is the obvious choice. For `optimizer` we use `adam` and we will have just one metric `accuracy` - note that metrics must be passed as a list. See the [`keras` documentation](https://keras.io/models/model/)"
      ]
    },
    {
      "cell_type": "code",
      "metadata": {
        "id": "cVn00v38WdqC",
        "colab_type": "code",
        "colab": {}
      },
      "source": [
        "model.compile(loss='binary_crossentropy', optimizer='adam', metrics=['accuracy'])"
      ],
      "execution_count": 0,
      "outputs": []
    },
    {
      "cell_type": "markdown",
      "metadata": {
        "id": "TQiTTzhtWdqF",
        "colab_type": "text"
      },
      "source": [
        "When the model is compied we can now start to fit it using the data. Again details of the `fit` function of `keras` models can be found in the [`keras` documentation](https://keras.io/models/model/). \n",
        "\n",
        "We need to specify the X and y data, we will run for 60 epochs and we will use a batch size of 32. We should also specify a validation split of 20% of the data using `validation_split=0.2` Run the model for `5` epochs with a `batch_size` of 64."
      ]
    },
    {
      "cell_type": "code",
      "metadata": {
        "scrolled": true,
        "id": "kScAfBwYWdqF",
        "colab_type": "code",
        "outputId": "7a6cbc57-070d-4c4e-8d52-baccd3e9e025",
        "colab": {
          "base_uri": "https://localhost:8080/",
          "height": 204
        }
      },
      "source": [
        "model.fit(X, y, epochs=5, batch_size=64, validation_split=0.2)"
      ],
      "execution_count": 13,
      "outputs": [
        {
          "output_type": "stream",
          "text": [
            "Epoch 1/5\n",
            "2800/2800 [==============================] - 7s 2ms/step - loss: 0.2339 - accuracy: 0.9515 - val_loss: 0.0554 - val_accuracy: 1.0000\n",
            "Epoch 2/5\n",
            "2800/2800 [==============================] - 6s 2ms/step - loss: 0.1935 - accuracy: 0.9519 - val_loss: 0.0688 - val_accuracy: 1.0000\n",
            "Epoch 3/5\n",
            "2800/2800 [==============================] - 7s 2ms/step - loss: 0.1929 - accuracy: 0.9519 - val_loss: 0.0454 - val_accuracy: 1.0000\n",
            "Epoch 4/5\n",
            "2800/2800 [==============================] - 7s 2ms/step - loss: 0.1921 - accuracy: 0.9519 - val_loss: 0.0416 - val_accuracy: 1.0000\n",
            "Epoch 5/5\n",
            "2800/2800 [==============================] - 7s 2ms/step - loss: 0.1905 - accuracy: 0.9519 - val_loss: 0.0412 - val_accuracy: 1.0000\n"
          ],
          "name": "stdout"
        },
        {
          "output_type": "execute_result",
          "data": {
            "text/plain": [
              "<tensorflow.python.keras.callbacks.History at 0x7ff210bbb6d8>"
            ]
          },
          "metadata": {
            "tags": []
          },
          "execution_count": 13
        }
      ]
    },
    {
      "cell_type": "markdown",
      "metadata": {
        "id": "KR9jSDAZWdqI",
        "colab_type": "text"
      },
      "source": [
        "## Class imbalance\n",
        "\n",
        "Notice how the accuracy of the model very quickly achieves a certain value and then stops improving. This value could be well above 50%, which suggests that that model is actually learning something. However we may have fallen into a trap here. Take a look at the distribution of the target data, using `plt.hist(y)`. Also pay special attention to the validation data (the final 20% of the data)."
      ]
    },
    {
      "cell_type": "code",
      "metadata": {
        "id": "qf-hafCCWdqJ",
        "colab_type": "code",
        "outputId": "9c4c2e82-ad92-4087-f765-b9fff1bec597",
        "colab": {
          "base_uri": "https://localhost:8080/",
          "height": 333
        }
      },
      "source": [
        "plt.hist(y[21000:])"
      ],
      "execution_count": 14,
      "outputs": [
        {
          "output_type": "execute_result",
          "data": {
            "text/plain": [
              "(array([201927.,      0.,      0.,      0.,      0.,      0.,      0.,\n",
              "             0.,      0.,   1073.]),\n",
              " array([0. , 0.1, 0.2, 0.3, 0.4, 0.5, 0.6, 0.7, 0.8, 0.9, 1. ]),\n",
              " <a list of 10 Patch objects>)"
            ]
          },
          "metadata": {
            "tags": []
          },
          "execution_count": 14
        },
        {
          "output_type": "display_data",
          "data": {
            "image/png": "[encoded data removed]",
            "text/plain": [
              "<Figure size 432x288 with 1 Axes>"
            ]
          },
          "metadata": {
            "tags": []
          }
        }
      ]
    },
    {
      "cell_type": "markdown",
      "metadata": {
        "id": "_DK95Vu2WdqL",
        "colab_type": "text"
      },
      "source": [
        "We can check how the model performs on a more balanced set of data, which has 50:50 `Ag`/`no Ag` split.\n",
        "* Use the utility function `xtest, ytest = load_validation_set()` \n",
        "* Create an array of predicted values by running the `model.predict()` on `xtest`\n",
        "* Use the utility function `check_hit_rate(y_pred, ytest)` to see how well the model really does"
      ]
    },
    {
      "cell_type": "code",
      "metadata": {
        "id": "agqD44zuWdqL",
        "colab_type": "code",
        "outputId": "76431b21-7774-44fb-fd50-8723f9bd61a8",
        "colab": {
          "base_uri": "https://localhost:8080/",
          "height": 317
        }
      },
      "source": [
        "xtest, ytest = load_validation_set()\n",
        "y_pred = model.predict(xtest)\n",
        "check_hit_rate(y_pred, ytest)"
      ],
      "execution_count": 15,
      "outputs": [
        {
          "output_type": "error",
          "ename": "FileNotFoundError",
          "evalue": "ignored",
          "traceback": [
            "\u001b[0;31m---------------------------------------------------------------------------\u001b[0m",
            "\u001b[0;31mFileNotFoundError\u001b[0m                         Traceback (most recent call last)",
            "\u001b[0;32m<ipython-input-15-093f02fc3546>\u001b[0m in \u001b[0;36m<module>\u001b[0;34m()\u001b[0m\n\u001b[0;32m----> 1\u001b[0;31m \u001b[0mxtest\u001b[0m\u001b[0;34m,\u001b[0m \u001b[0mytest\u001b[0m \u001b[0;34m=\u001b[0m \u001b[0mload_validation_set\u001b[0m\u001b[0;34m(\u001b[0m\u001b[0;34m)\u001b[0m\u001b[0;34m\u001b[0m\u001b[0;34m\u001b[0m\u001b[0m\n\u001b[0m\u001b[1;32m      2\u001b[0m \u001b[0my_pred\u001b[0m \u001b[0;34m=\u001b[0m \u001b[0mmodel\u001b[0m\u001b[0;34m.\u001b[0m\u001b[0mpredict\u001b[0m\u001b[0;34m(\u001b[0m\u001b[0mxtest\u001b[0m\u001b[0;34m)\u001b[0m\u001b[0;34m\u001b[0m\u001b[0;34m\u001b[0m\u001b[0m\n\u001b[1;32m      3\u001b[0m \u001b[0mcheck_hit_rate\u001b[0m\u001b[0;34m(\u001b[0m\u001b[0my_pred\u001b[0m\u001b[0;34m,\u001b[0m \u001b[0mytest\u001b[0m\u001b[0;34m)\u001b[0m\u001b[0;34m\u001b[0m\u001b[0;34m\u001b[0m\u001b[0m\n",
            "\u001b[0;32m/content/utils.py\u001b[0m in \u001b[0;36mload_validation_set\u001b[0;34m()\u001b[0m\n\u001b[1;32m      2\u001b[0m \u001b[0;34m\u001b[0m\u001b[0m\n\u001b[1;32m      3\u001b[0m \u001b[0;32mdef\u001b[0m \u001b[0mload_validation_set\u001b[0m\u001b[0;34m(\u001b[0m\u001b[0;34m)\u001b[0m\u001b[0;34m:\u001b[0m\u001b[0;34m\u001b[0m\u001b[0;34m\u001b[0m\u001b[0m\n\u001b[0;32m----> 4\u001b[0;31m     \u001b[0mfileObject\u001b[0m \u001b[0;34m=\u001b[0m \u001b[0mopen\u001b[0m\u001b[0;34m(\u001b[0m\u001b[0;34m'test_spectra.pkl'\u001b[0m\u001b[0;34m,\u001b[0m \u001b[0;34m'rb'\u001b[0m\u001b[0;34m)\u001b[0m\u001b[0;34m\u001b[0m\u001b[0;34m\u001b[0m\u001b[0m\n\u001b[0m\u001b[1;32m      5\u001b[0m     \u001b[0mXtest\u001b[0m \u001b[0;34m=\u001b[0m \u001b[0mpkl\u001b[0m\u001b[0;34m.\u001b[0m\u001b[0mload\u001b[0m\u001b[0;34m(\u001b[0m\u001b[0mfileObject\u001b[0m\u001b[0;34m)\u001b[0m\u001b[0;34m\u001b[0m\u001b[0;34m\u001b[0m\u001b[0m\n\u001b[1;32m      6\u001b[0m     \u001b[0mfileObject\u001b[0m\u001b[0;34m.\u001b[0m\u001b[0mclose\u001b[0m\u001b[0;34m(\u001b[0m\u001b[0;34m)\u001b[0m\u001b[0;34m\u001b[0m\u001b[0;34m\u001b[0m\u001b[0m\n",
            "\u001b[0;31mFileNotFoundError\u001b[0m: [Errno 2] No such file or directory: 'test_spectra.pkl'"
          ]
        }
      ]
    },
    {
      "cell_type": "markdown",
      "metadata": {
        "id": "MJ8XcuKBWdqR",
        "colab_type": "text"
      },
      "source": [
        "You might notice something about the class numbers that closely resembls the accuracy achieved by the model. The data with no `Ag` accounts for around 95% of the data. So if the model simply learns to guess no `Ag` it can achieve 95% accuracy without learning anything useful. To avoid this we will rebalabace the classes.\n",
        "\n",
        "With class imbalance there are a number  of strategies that you can take to address the problem.\n",
        "\n",
        "* Up-sample the minority class\n",
        "* Down-sample the majority class\n",
        "* Change your performance metric\n",
        "\n",
        "In our case the best available option is to down-sample the majority class, so that `Ag` and no`Ag` have equal numbers in the datasets.\n",
        "\n",
        "You can split the dataframe into the `1` and `0` entries using something like `df[df[1]==0]`.\n",
        "\n",
        "Then use [`sklearn.utils.resample`](https://scikit-learn.org/stable/modules/generated/sklearn.utils.resample.html) to resample the majority dataframe.\n",
        "\n",
        "Then concatenate and shuffle the datasets - `pd.concat` followed by `pd.sample`\n",
        "\n",
        "A good online guide is available [here](https://elitedatascience.com/imbalanced-classes)."
      ]
    },
    {
      "cell_type": "code",
      "metadata": {
        "id": "kf92YzpNWdqS",
        "colab_type": "code",
        "colab": {}
      },
      "source": [
        "from sklearn.utils import resample\n",
        "\n",
        "num_ag = np.count_nonzero(y==0)\n",
        "num_no_ag = np.count_nonzero(y==1)\n",
        "\n",
        "df_majority = df[df[1]==0]\n",
        "df_minority = df[df[1]==1]\n",
        "\n",
        "# Downsample majority class\n",
        "df_majority_downsampled = resample(df_majority, \n",
        "                                 replace=False,    # sample without replacement\n",
        "                                 n_samples=num_no_ag,     # to match minority class\n",
        "                                 random_state=123) # reproducible results\n",
        "\n",
        "df_downsampled = pd.concat([df_majority_downsampled, df_minority])\n",
        "df_new = df_downsampled.sample(frac=1)\n",
        "\n",
        "X = np.array(df_new[3].to_list())\n",
        "y = np.array(df_new[1].to_list())"
      ],
      "execution_count": 0,
      "outputs": []
    },
    {
      "cell_type": "code",
      "metadata": {
        "id": "a4wURrs5WdqU",
        "colab_type": "code",
        "colab": {}
      },
      "source": [
        "model.fit(X, y, epochs=5, batch_size=64, validation_split=0.2)"
      ],
      "execution_count": 0,
      "outputs": []
    },
    {
      "cell_type": "markdown",
      "metadata": {
        "id": "MmKi4XcQWdqW",
        "colab_type": "text"
      },
      "source": [
        "**Note** In some instances the model now stops learning at around 50% - pretty disappointing. So what else could be holding us back? In some instances the model will actually train and achieve above 50% in this step - the explanation is below.\n",
        "\n",
        "## Optimizer hyperparameters\n",
        "\n",
        "Recall from the lecture that we talked about hyperparameters in optimizers. In this case we have used the `Adam` optimizer with a default learning rate. \n",
        "\n",
        "#### \"The learning rate is perhaps the most important hyperparameter. If you have time to tune only one hyperparameter, tune the learning rate.\" - Goodfellow, Deep Learning\n",
        "\n",
        "One thing that can happen if our learning rate is too high initially is that the optimizer can continually jump over optimal solutions and not actually find its way to a good answer. Whether or not the optimizer does find it's way to a minmum is down to a combination of the loss function space, the starting parameters and the optimizer settings. Since the initial parameters of the network are randomised there are some cases, as noted above where, the network will optimise at the standard learning rate. However, sometimes it will just keep skipping around and not learning. \n",
        "\n",
        "To overcome this problem we can lower the learning rate of the optimizer for an initial optimisation. Once the model has started to train and the loss has started to decrease we can dial the learning rate back up to speed up the training.\n",
        "\n",
        "On the other hand, lower the learning rate too much and training will take an eternity.\n",
        "\n",
        "### Grid search for learning rate\n",
        "\n",
        "For this part of the exercise we will do a serach over possible learning rates. Typically we would look over  range of 0.1 to 10$^{-5}$ on a $\\log$ scale.\n",
        "\n",
        "To edit the optimizer settings, we import the optimizer `Adam` from `tensorflow.keras.optimizers` and set the learning rate\n",
        "\n",
        "```\n",
        "ad = Adam(learning_rate=0.0001)\n",
        "model.compile(loss='binary_crossentropy', optimizer=ad, metrics=['accuracy'])\n",
        "```\n",
        "\n",
        "Construct a loop to go over the learning rate range described above. For each training cycle we will extract the best validation accuracy value.\n",
        "\n",
        "You can save the history of a training cycle as a dictionary simply by `history = model.fit(<params>)`, here the metrics and losses are saved to a dictionary `history.history`. Run the model for 40 epochs at each learning rate.\n",
        "\n",
        "Save this dictionary for each learning rate and then compare the results. Look at maximum value for `accuracy` from each of the learning rates."
      ]
    },
    {
      "cell_type": "code",
      "metadata": {
        "id": "aCrRhMONWdqX",
        "colab_type": "code",
        "colab": {}
      },
      "source": [
        "from tensorflow.keras.optimizers import Adam\n",
        "lr_histories = []\n",
        "for lr in [1e-1, 1e-2, 1e-3, 1e-4, 1e-5]:\n",
        "    model = Sequential()\n",
        "    model.add(Dense(12, input_dim=300, activation='relu'))\n",
        "    model.add(Dense(8, activation='relu'))\n",
        "    model.add(Dense(1, activation='sigmoid'))\n",
        "    ad = Adam(learning_rate=lr, beta_1=0.9, beta_2=0.999, amsgrad=False)\n",
        "    model.compile(loss='binary_crossentropy', optimizer=ad, metrics=['accuracy'])\n",
        "    history = model.fit(X, y, epochs=40, batch_size=64, validation_split=0.2)\n",
        "    lr_histories.append(history.history)"
      ],
      "execution_count": 0,
      "outputs": []
    },
    {
      "cell_type": "code",
      "metadata": {
        "id": "ImKwyo6HWdqa",
        "colab_type": "code",
        "colab": {}
      },
      "source": [
        "maxs = [max(h['val_acc']) for h in lr_histories]\n",
        "plt.plot(maxs)"
      ],
      "execution_count": 0,
      "outputs": []
    },
    {
      "cell_type": "markdown",
      "metadata": {
        "id": "IS4FOh1AWdqd",
        "colab_type": "text"
      },
      "source": [
        "### Now train the model at the identified learning rate for 100 epochs\n",
        "\n",
        "The `val_acc` tops out at learning rate $10^{-3}$ or $10^{-4}$. Remember there is some randomness in how the data is split and shuffled and in the initialisation of paremeters, hence it can be one of two values. Regardless, we will take the mean of these two as the learning rate for training the model for a longer time. 100 epochs.\n",
        "\n",
        "Then plot the training history of this run - again taken from the `history.history` dictionary."
      ]
    },
    {
      "cell_type": "code",
      "metadata": {
        "id": "yB8JzmY_Wdqd",
        "colab_type": "code",
        "colab": {}
      },
      "source": [
        "# define the keras model\n",
        "from tensorflow.keras.optimizers import Adam\n",
        "model = Sequential()\n",
        "model.add(Dense(12, input_dim=300, activation='relu'))\n",
        "model.add(Dense(8, activation='relu'))\n",
        "model.add(Dense(1, activation='sigmoid'))\n",
        "ad = Adam(learning_rate=5e-4, beta_1=0.9, beta_2=0.999, amsgrad=False)\n",
        "model.compile(loss='binary_crossentropy', optimizer=ad, metrics=['accuracy'])\n",
        "history = model.fit(X, y, epochs=100, batch_size=64, validation_split=0.2)"
      ],
      "execution_count": 0,
      "outputs": []
    },
    {
      "cell_type": "code",
      "metadata": {
        "id": "uDgjkiysWdqg",
        "colab_type": "code",
        "colab": {}
      },
      "source": [
        "plt.plot(history.history['acc'])\n",
        "plt.plot(history.history['val_acc'])\n",
        "print(max(history.history['val_acc']))"
      ],
      "execution_count": 0,
      "outputs": []
    },
    {
      "cell_type": "markdown",
      "metadata": {
        "id": "trnGTKe8Wdqi",
        "colab_type": "text"
      },
      "source": [
        "## Speed up the learning\n",
        "\n",
        "Even when we are using a slower learning rate, it is possible to speed up the training process. `BatchNormalization` is covered in the lectures and involves normalising all values going into a layer before the forward pass. Although it introduces some small extra computational cost into the forward pass, the results for speeding up learning rate can be spectacular - particularly in the deeper networs that we will look at in the next part of this exercise.\n",
        "\n",
        "For now, import `BatchNormalization` from `tensorflow.keras.layers` and add a `BatchNormalization()` unit between each of your `Dense` layers.\n",
        "\n",
        "Retrain the model and look at the learning rates."
      ]
    },
    {
      "cell_type": "code",
      "metadata": {
        "id": "oTuTMdxJWdqi",
        "colab_type": "code",
        "colab": {}
      },
      "source": [
        "from tensorflow.keras.layers import BatchNormalization"
      ],
      "execution_count": 0,
      "outputs": []
    },
    {
      "cell_type": "code",
      "metadata": {
        "id": "cEbsvpWHWdqk",
        "colab_type": "code",
        "colab": {}
      },
      "source": [
        "# define the keras model\n",
        "from tensorflow.keras.optimizers import Adam\n",
        "model = Sequential()\n",
        "model.add(Dense(12, input_dim=300, activation='relu'))\n",
        "model.add(BatchNormalization())\n",
        "model.add(Dense(8, activation='relu'))\n",
        "model.add(BatchNormalization())\n",
        "model.add(Dense(1, activation='sigmoid'))\n",
        "ad = Adam(learning_rate=1e-4, beta_1=0.9, beta_2=0.999, amsgrad=False)\n",
        "model.compile(loss='binary_crossentropy', optimizer=ad, metrics=['accuracy'])\n",
        "history_bn = model.fit(X, y, epochs=100, batch_size=64, validation_split=0.2)"
      ],
      "execution_count": 0,
      "outputs": []
    },
    {
      "cell_type": "code",
      "metadata": {
        "id": "y3TTCsVrWdqo",
        "colab_type": "code",
        "colab": {}
      },
      "source": [
        "plt.plot(history_bn.history['acc'])\n",
        "plt.plot(history_bn.history['val_acc'])\n",
        "print(max(history_bn.history['val_acc']))"
      ],
      "execution_count": 0,
      "outputs": []
    },
    {
      "cell_type": "code",
      "metadata": {
        "id": "DvDSacNVWdqq",
        "colab_type": "code",
        "colab": {}
      },
      "source": [
        "# define the keras model\n",
        "from tensorflow.keras.layers import Dropout\n",
        "model = Sequential()\n",
        "model.add(Dense(12, input_dim=300, activation='relu'))\n",
        "model.add(BatchNormalization())\n",
        "model.add(Dense(8, activation='relu'))\n",
        "model.add(Dropout(0.5))\n",
        "model.add(Dense(1, activation='sigmoid'))\n",
        "ad = Adam(learning_rate=1e-4, beta_1=0.9, beta_2=0.999, amsgrad=False)\n",
        "model.compile(loss='binary_crossentropy', optimizer=ad, metrics=['accuracy'])\n",
        "history_bn = model.fit(X, y, epochs=100, batch_size=64, validation_split=0.2)"
      ],
      "execution_count": 0,
      "outputs": []
    },
    {
      "cell_type": "code",
      "metadata": {
        "id": "fjSGPzsmWdqt",
        "colab_type": "code",
        "colab": {}
      },
      "source": [
        "plt.plot(history_bn.history['acc'])\n",
        "plt.plot(history_bn.history['val_acc'])\n",
        "print(max(history_bn.history['val_acc']))"
      ],
      "execution_count": 0,
      "outputs": []
    },
    {
      "cell_type": "markdown",
      "metadata": {
        "id": "3dym8spyWdqw",
        "colab_type": "text"
      },
      "source": [
        "## Look at some other metrics\n",
        "\n",
        "Lets look at some other metrics of model performance. Let's try a confusion matrix. Start getting your true and predicted y values, then use `sklearn.metrics.confusion_matrix` to build the confusion matrix."
      ]
    },
    {
      "cell_type": "code",
      "metadata": {
        "id": "buo62iQfWdqw",
        "colab_type": "code",
        "colab": {}
      },
      "source": [
        "y_true = y\n",
        "y_pred = model.predict(X)"
      ],
      "execution_count": 0,
      "outputs": []
    },
    {
      "cell_type": "code",
      "metadata": {
        "id": "Nz564pDyWdqz",
        "colab_type": "code",
        "colab": {}
      },
      "source": [
        "from sklearn.metrics import confusion_matrix, plot_confusion_matrix\n",
        "\n",
        "y_pred = np.rint(y_pred)\n",
        "confusion_matrix(y_true, y_pred)"
      ],
      "execution_count": 0,
      "outputs": []
    },
    {
      "cell_type": "code",
      "metadata": {
        "id": "-2EmhyJmWdq1",
        "colab_type": "code",
        "colab": {}
      },
      "source": [
        ""
      ],
      "execution_count": 0,
      "outputs": []
    }
  ]
}