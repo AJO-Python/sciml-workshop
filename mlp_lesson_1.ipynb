{
  "nbformat": 4,
  "nbformat_minor": 0,
  "metadata": {
    "kernelspec": {
      "display_name": "Python 3",
      "language": "python",
      "name": "python3"
    },
    "language_info": {
      "codemirror_mode": {
        "name": "ipython",
        "version": 3
      },
      "file_extension": ".py",
      "mimetype": "text/x-python",
      "name": "python",
      "nbconvert_exporter": "python",
      "pygments_lexer": "ipython3",
      "version": "3.7.5"
    },
    "colab": {
      "name": "Copy of Copy of mlp_lesson_1.ipynb",
      "provenance": [],
      "collapsed_sections": []
    },
    "accelerator": "GPU"
  },
  "cells": [
    {
      "cell_type": "markdown",
      "metadata": {
        "id": "88wc41xeE4AS",
        "colab_type": "text"
      },
      "source": [
        "# MLP Lesson 1\n",
        "\n",
        "## Google Cloud Storage Boilerplate\n",
        "\n",
        "This first cell has some boilerplate to connect the Google Cloud Storage bucket containing the data used for this tutorial to the Google Colab environment. \n",
        "\n",
        "In order to access the data for this workshop you'll need to run this cell, follow the link when prompted and copy the Google SDK token into the prompt. If everything works correctly a new folder called `data` should appear in the file browser on the left."
      ]
    },
    {
      "cell_type": "code",
      "metadata": {
        "id": "qijZ3YAIW52C",
        "colab_type": "code",
        "outputId": "ff86deba-302f-4d03-f3db-7e8998da4d28",
        "colab": {
          "base_uri": "https://localhost:8080/",
          "height": 374
        }
      },
      "source": [
        "%tensorflow_version 2.x\n",
        "from google.colab import auth\n",
        "auth.authenticate_user()\n",
        "\n",
        "project_id = 'sciml-workshop'\n",
        "bucket_name = 'sciml-workshop'\n",
        "\n",
        "!echo \"deb http://packages.cloud.google.com/apt gcsfuse-bionic main\" > /etc/apt/sources.list.d/gcsfuse.list\n",
        "!curl https://packages.cloud.google.com/apt/doc/apt-key.gpg | apt-key add -\n",
        "!apt -qq update\n",
        "!apt -qq install gcsfuse\n",
        "\n",
        "!gcloud config set project {project_id}\n",
        "\n",
        "!mkdir data\n",
        "!gcsfuse  --implicit-dirs --limit-bytes-per-sec -1 --limit-ops-per-sec -1 {bucket_name} /content/data"
      ],
      "execution_count": 1,
      "outputs": [
        {
          "output_type": "stream",
          "text": [
            "  % Total    % Received % Xferd  Average Speed   Time    Time     Time  Current\n",
            "                                 Dload  Upload   Total   Spent    Left  Speed\n",
            "\r  0     0    0     0    0     0      0      0 --:--:-- --:--:-- --:--:--     0\r100   653  100   653    0     0   8592      0 --:--:-- --:--:-- --:--:--  8592\n",
            "OK\n",
            "58 packages can be upgraded. Run 'apt list --upgradable' to see them.\n",
            "The following NEW packages will be installed:\n",
            "  gcsfuse\n",
            "0 upgraded, 1 newly installed, 0 to remove and 58 not upgraded.\n",
            "Need to get 4,274 kB of archives.\n",
            "After this operation, 12.8 MB of additional disk space will be used.\n",
            "Selecting previously unselected package gcsfuse.\n",
            "(Reading database ... 144467 files and directories currently installed.)\n",
            "Preparing to unpack .../gcsfuse_0.28.1_amd64.deb ...\n",
            "Unpacking gcsfuse (0.28.1) ...\n",
            "Setting up gcsfuse (0.28.1) ...\n",
            "Updated property [core/project].\n",
            "Using mount point: /content/data\n",
            "Opening GCS connection...\n",
            "Opening bucket...\n",
            "Mounting file system...\n",
            "File system has been successfully mounted.\n"
          ],
          "name": "stdout"
        }
      ]
    },
    {
      "cell_type": "code",
      "metadata": {
        "id": "g1ADsgamWdpj",
        "colab_type": "code",
        "colab": {}
      },
      "source": [
        "import pickle\n",
        "import pandas as pd\n",
        "import matplotlib.pyplot as plt\n",
        "import numpy as np\n",
        "from sklearn.metrics import accuracy_score\n",
        "from numpy.random import seed\n",
        "import tensorflow as tf\n",
        "seed(1)\n",
        "tf.random.set_seed(2)\n",
        "plt.style.use('ggplot')"
      ],
      "execution_count": 0,
      "outputs": []
    },
    {
      "cell_type": "markdown",
      "metadata": {
        "id": "bmqjHBR4Wdpn",
        "colab_type": "text"
      },
      "source": [
        "# Multi layer perceptron\n",
        "\n",
        "In this practical we fit our first deep neural network. We are starting with the simplest architecture - a multi-layer perceptron (MLP). \n",
        "\n",
        "## The task\n",
        "\n",
        "We have a set of spectra from Muon spectroscopy experiemnts, we would like to train a NN to be able to detect from a given spectrum wheter or not a certain element is present in the sample. In this case we are going to try to train a network to detect if there is `Ag` in a sample.\n",
        "\n",
        "## The data\n",
        "\n",
        "There is a dataset conveniently provided with spectra and labels saying wheter or not there is `Ag` in the data (`ag-muon-data.pkl`). It is in a `pickle` file, load it into a `pandas` dataframe and take a quick look."
      ]
    },
    {
      "cell_type": "code",
      "metadata": {
        "id": "GwnW1fp1Wdpo",
        "colab_type": "code",
        "colab": {}
      },
      "source": [
        "df = pd.read_pickle('/content/data/muon/ag-muon-data.pkl')"
      ],
      "execution_count": 0,
      "outputs": []
    },
    {
      "cell_type": "code",
      "metadata": {
        "id": "Mn6n3OgMWdpr",
        "colab_type": "code",
        "outputId": "b9a5bcdd-b530-4c88-d18e-c31ea1a4ccc2",
        "colab": {
          "base_uri": "https://localhost:8080/",
          "height": 204
        }
      },
      "source": [
        "df.head()"
      ],
      "execution_count": 4,
      "outputs": [
        {
          "output_type": "execute_result",
          "data": {
            "text/html": [
              "<div>\n",
              "<style scoped>\n",
              "    .dataframe tbody tr th:only-of-type {\n",
              "        vertical-align: middle;\n",
              "    }\n",
              "\n",
              "    .dataframe tbody tr th {\n",
              "        vertical-align: top;\n",
              "    }\n",
              "\n",
              "    .dataframe thead th {\n",
              "        text-align: right;\n",
              "    }\n",
              "</style>\n",
              "<table border=\"1\" class=\"dataframe\">\n",
              "  <thead>\n",
              "    <tr style=\"text-align: right;\">\n",
              "      <th></th>\n",
              "      <th>0</th>\n",
              "      <th>1</th>\n",
              "      <th>2</th>\n",
              "      <th>3</th>\n",
              "    </tr>\n",
              "  </thead>\n",
              "  <tbody>\n",
              "    <tr>\n",
              "      <th>0</th>\n",
              "      <td>[Zn]</td>\n",
              "      <td>0</td>\n",
              "      <td>[0, 20, 40, 60, 80, 100, 120, 140, 160, 180, 2...</td>\n",
              "      <td>[0.0, 0.0, 181.8778921374784, 488.349654519592...</td>\n",
              "    </tr>\n",
              "    <tr>\n",
              "      <th>1</th>\n",
              "      <td>[Sb, Zn, Si]</td>\n",
              "      <td>0</td>\n",
              "      <td>[0, 20, 40, 60, 80, 100, 120, 140, 160, 180, 2...</td>\n",
              "      <td>[0.0, 0.0, 202.97108056052195, 433.59971962403...</td>\n",
              "    </tr>\n",
              "    <tr>\n",
              "      <th>2</th>\n",
              "      <td>[Fe, Sb]</td>\n",
              "      <td>0</td>\n",
              "      <td>[0, 20, 40, 60, 80, 100, 120, 140, 160, 180, 2...</td>\n",
              "      <td>[0.0, 0.0, 212.7229415490735, 428.816091507503...</td>\n",
              "    </tr>\n",
              "    <tr>\n",
              "      <th>3</th>\n",
              "      <td>[Ag, Zn, Cu, Sb]</td>\n",
              "      <td>1</td>\n",
              "      <td>[0, 20, 40, 60, 80, 100, 120, 140, 160, 180, 2...</td>\n",
              "      <td>[0.0, 0.0, 192.36172506402616, 420.19496785125...</td>\n",
              "    </tr>\n",
              "    <tr>\n",
              "      <th>4</th>\n",
              "      <td>[Fe, Zn]</td>\n",
              "      <td>0</td>\n",
              "      <td>[0, 20, 40, 60, 80, 100, 120, 140, 160, 180, 2...</td>\n",
              "      <td>[0.0, 0.0, 206.91647977543502, 434.03768636007...</td>\n",
              "    </tr>\n",
              "  </tbody>\n",
              "</table>\n",
              "</div>"
            ],
            "text/plain": [
              "                  0  ...                                                  3\n",
              "0              [Zn]  ...  [0.0, 0.0, 181.8778921374784, 488.349654519592...\n",
              "1      [Sb, Zn, Si]  ...  [0.0, 0.0, 202.97108056052195, 433.59971962403...\n",
              "2          [Fe, Sb]  ...  [0.0, 0.0, 212.7229415490735, 428.816091507503...\n",
              "3  [Ag, Zn, Cu, Sb]  ...  [0.0, 0.0, 192.36172506402616, 420.19496785125...\n",
              "4          [Fe, Zn]  ...  [0.0, 0.0, 206.91647977543502, 434.03768636007...\n",
              "\n",
              "[5 rows x 4 columns]"
            ]
          },
          "metadata": {
            "tags": []
          },
          "execution_count": 4
        }
      ]
    },
    {
      "cell_type": "markdown",
      "metadata": {
        "id": "9CVyNT5iWdpu",
        "colab_type": "text"
      },
      "source": [
        "Notice that the third column of the dataframe contains either 1 or zero, conveniently the data has already been one-hot-encoded for you. 1 - there is `Ag` in the sample, 0 - there is no `Ag` in the sample. The fifth column of the dataframe contains the spectroscopic signal from the experiment. \n",
        "\n",
        "The sample number `23993` is pure `Ag` plot it out to see the kind of data we are looking at.\n",
        "\n",
        "*Note* To access this data in `pandas` use `sample = df.iloc[23993][3]`"
      ]
    },
    {
      "cell_type": "code",
      "metadata": {
        "id": "fZA4V6MFWdpv",
        "colab_type": "code",
        "colab": {}
      },
      "source": [
        "sample = df.iloc[23993][3]"
      ],
      "execution_count": 0,
      "outputs": []
    },
    {
      "cell_type": "code",
      "metadata": {
        "id": "XHTxPgN1Wdpy",
        "colab_type": "code",
        "outputId": "72876a1d-f4f9-4fc1-b521-d77ba3b1d6ca",
        "colab": {
          "base_uri": "https://localhost:8080/",
          "height": 282
        }
      },
      "source": [
        "plt.plot(sample)"
      ],
      "execution_count": 6,
      "outputs": [
        {
          "output_type": "execute_result",
          "data": {
            "text/plain": [
              "[<matplotlib.lines.Line2D at 0x7f4941368048>]"
            ]
          },
          "metadata": {
            "tags": []
          },
          "execution_count": 6
        },
        {
          "output_type": "display_data",
          "data": {
            "image/png": "[encoded data removed]",
            "text/plain": [
              "<Figure size 432x288 with 1 Axes>"
            ]
          },
          "metadata": {
            "tags": []
          }
        }
      ]
    },
    {
      "cell_type": "markdown",
      "metadata": {
        "id": "qOG1SbFqWdp1",
        "colab_type": "text"
      },
      "source": [
        "We can see some clear peaks associated with `Ag` - however, to get a feel for the complexity of picking out signals with `Ag` in multinary samples try plotting sample number `26`, which is an `Ag/Si` binary."
      ]
    },
    {
      "cell_type": "code",
      "metadata": {
        "id": "KmJrRvsQWdp1",
        "colab_type": "code",
        "outputId": "d6cf3e59-d3aa-45c2-947d-cd7976e38ae5",
        "colab": {
          "base_uri": "https://localhost:8080/",
          "height": 282
        }
      },
      "source": [
        "sample = df.iloc[26][3]\n",
        "plt.plot(sample)"
      ],
      "execution_count": 7,
      "outputs": [
        {
          "output_type": "execute_result",
          "data": {
            "text/plain": [
              "[<matplotlib.lines.Line2D at 0x7f494119ec50>]"
            ]
          },
          "metadata": {
            "tags": []
          },
          "execution_count": 7
        },
        {
          "output_type": "display_data",
          "data": {
            "image/png": "[encoded data removed]",
            "text/plain": [
              "<Figure size 432x288 with 1 Axes>"
            ]
          },
          "metadata": {
            "tags": []
          }
        }
      ]
    },
    {
      "cell_type": "markdown",
      "metadata": {
        "id": "CwlM96N6Wdp4",
        "colab_type": "text"
      },
      "source": [
        "## The approach\n",
        "\n",
        "We are going to try and train a NN to classify spectra into those that contain `Ag` and those that do not.\n",
        "\n",
        "Get X - your input data as the fifth column of the dataset and y your objective as the third column. You can use the pandas function `to_list` to do this. Convert the resulting lists to `numpy` arrays for feeding to the NN."
      ]
    },
    {
      "cell_type": "code",
      "metadata": {
        "id": "oJmWbyHuWdp5",
        "colab_type": "code",
        "colab": {}
      },
      "source": [
        "X = np.array(df[3].to_list())\n",
        "y = np.array(df[1].to_list())"
      ],
      "execution_count": 0,
      "outputs": []
    },
    {
      "cell_type": "markdown",
      "metadata": {
        "id": "ckWlIsKhWdp7",
        "colab_type": "text"
      },
      "source": [
        "## Try out a network\n",
        "\n",
        "We can see that the data is given as a series of 300 points, each corresponding to an intensity. We can think about building a MLP that has 300 nodes in the input layer and then a single node in the output layer. The output should be 1 if there is `Ag` in the sample and 0 if there is no `Ag` in the sample.\n",
        "\n",
        "We will start by using `keras` `Sequential` model building - this allows you to simply add new layers to a model using the `model.add(<layer details>)` command. The model is instantiated with\n",
        "```\n",
        "model = Sequential()\n",
        "```\n",
        "Now we want to add layers to the netowrk - as we are building a MLP, all of our layers are fully connected or [`Dense`](https://keras.io/layers/core/) layers. The arguments that are passed to the dense layer are\n",
        "* Number of nodes\n",
        "* Number of inputs to the layer - this is only necessary for the first layer and must match the shape of the data\n",
        "* Activation function - this is the non-linear function used to calculate the activation of the layer \n",
        "* There are many other properties you can set, but these are all we need for now\n",
        "\n",
        "**Note** we are importing from `tensorflow.keras`, rather than `keras` this is to ensure consistency with models built in pure `tensorflow`."
      ]
    },
    {
      "cell_type": "code",
      "metadata": {
        "id": "FVcK-qakWdp8",
        "colab_type": "code",
        "colab": {}
      },
      "source": [
        "from tensorflow.keras import Sequential\n",
        "from tensorflow.keras.layers import Dense\n",
        "# define the keras model\n",
        "model = Sequential()\n",
        "model.add(Dense(12, input_dim=300, activation='relu'))\n",
        "model.add(Dense(8, activation='relu'))\n",
        "model.add(Dense(1, activation='sigmoid'))"
      ],
      "execution_count": 0,
      "outputs": []
    },
    {
      "cell_type": "markdown",
      "metadata": {
        "id": "C8E73mU4Wdp_",
        "colab_type": "text"
      },
      "source": [
        "We can now look at the properties of the model with `model.summary()`"
      ]
    },
    {
      "cell_type": "code",
      "metadata": {
        "id": "LUEQHuq0Wdp_",
        "colab_type": "code",
        "outputId": "e84ccb97-f062-4124-82b5-7478b961eeba",
        "colab": {
          "base_uri": "https://localhost:8080/",
          "height": 255
        }
      },
      "source": [
        "model.summary()"
      ],
      "execution_count": 10,
      "outputs": [
        {
          "output_type": "stream",
          "text": [
            "Model: \"sequential\"\n",
            "_________________________________________________________________\n",
            "Layer (type)                 Output Shape              Param #   \n",
            "=================================================================\n",
            "dense (Dense)                (None, 12)                3612      \n",
            "_________________________________________________________________\n",
            "dense_1 (Dense)              (None, 8)                 104       \n",
            "_________________________________________________________________\n",
            "dense_2 (Dense)              (None, 1)                 9         \n",
            "=================================================================\n",
            "Total params: 3,725\n",
            "Trainable params: 3,725\n",
            "Non-trainable params: 0\n",
            "_________________________________________________________________\n"
          ],
          "name": "stdout"
        }
      ]
    },
    {
      "cell_type": "markdown",
      "metadata": {
        "id": "uxprsbAHWdqC",
        "colab_type": "text"
      },
      "source": [
        "Now you need to [compile](https://keras.io/models/model/) the model - this involves setting a `loss` to train against, an `optimizer` and optionally some `metrics` to evaluate during the training. For the `loss`, since we are fitting to a range between 0 and 1 `binary_crossentropy` is the obvious choice. For `optimizer` we use `adam` and we will have just one metric `accuracy` - note that metrics must be passed as a list. See the [`keras` documentation](https://keras.io/models/model/)"
      ]
    },
    {
      "cell_type": "code",
      "metadata": {
        "id": "cVn00v38WdqC",
        "colab_type": "code",
        "colab": {}
      },
      "source": [
        "model.compile(loss='binary_crossentropy', optimizer='adam', metrics=['accuracy'])"
      ],
      "execution_count": 0,
      "outputs": []
    },
    {
      "cell_type": "markdown",
      "metadata": {
        "id": "TQiTTzhtWdqF",
        "colab_type": "text"
      },
      "source": [
        "When the model is compied we can now start to fit it using the data. Again details of the `fit` function of `keras` models can be found in the [`keras` documentation](https://keras.io/models/model/). \n",
        "\n",
        "We need to specify the X and y data, we will run for 60 epochs and we will use a batch size of 32. We should also specify a validation split of 20% of the data using `validation_split=0.2` Run the model for `5` epochs with a `batch_size` of 64."
      ]
    },
    {
      "cell_type": "code",
      "metadata": {
        "scrolled": true,
        "id": "kScAfBwYWdqF",
        "colab_type": "code",
        "outputId": "e7f3c87e-ed4a-497d-8290-1b677f1cbb4b",
        "colab": {
          "base_uri": "https://localhost:8080/",
          "height": 204
        }
      },
      "source": [
        "model.fit(X, y, epochs=5, batch_size=64, validation_split=0.2)"
      ],
      "execution_count": 12,
      "outputs": [
        {
          "output_type": "stream",
          "text": [
            "Epoch 1/5\n",
            "2800/2800 [==============================] - 7s 2ms/step - loss: 0.2339 - accuracy: 0.9515 - val_loss: 0.0554 - val_accuracy: 1.0000\n",
            "Epoch 2/5\n",
            "2800/2800 [==============================] - 6s 2ms/step - loss: 0.1935 - accuracy: 0.9519 - val_loss: 0.0688 - val_accuracy: 1.0000\n",
            "Epoch 3/5\n",
            "2800/2800 [==============================] - 6s 2ms/step - loss: 0.1929 - accuracy: 0.9519 - val_loss: 0.0454 - val_accuracy: 1.0000\n",
            "Epoch 4/5\n",
            "2800/2800 [==============================] - 6s 2ms/step - loss: 0.1921 - accuracy: 0.9519 - val_loss: 0.0416 - val_accuracy: 1.0000\n",
            "Epoch 5/5\n",
            "2800/2800 [==============================] - 7s 2ms/step - loss: 0.1905 - accuracy: 0.9519 - val_loss: 0.0412 - val_accuracy: 1.0000\n"
          ],
          "name": "stdout"
        },
        {
          "output_type": "execute_result",
          "data": {
            "text/plain": [
              "<tensorflow.python.keras.callbacks.History at 0x7f4940e58080>"
            ]
          },
          "metadata": {
            "tags": []
          },
          "execution_count": 12
        }
      ]
    },
    {
      "cell_type": "markdown",
      "metadata": {
        "id": "KR9jSDAZWdqI",
        "colab_type": "text"
      },
      "source": [
        "## Class imbalance\n",
        "\n",
        "Notice how the accuracy of the model very quickly achieves a certain value and then stops improving. This value could be well above 50%, which suggests that that model is actually learning something. However we may have fallen into a trap here. Take a look at the distribution of the target data, using `plt.hist(y)`. Also pay special attention to the validation data (the final 20% of the data)."
      ]
    },
    {
      "cell_type": "code",
      "metadata": {
        "id": "qf-hafCCWdqJ",
        "colab_type": "code",
        "outputId": "8c9a3f51-8b91-4d30-bf5d-37488aa36fbe",
        "colab": {
          "base_uri": "https://localhost:8080/",
          "height": 333
        }
      },
      "source": [
        "plt.hist(y[21000:])"
      ],
      "execution_count": 13,
      "outputs": [
        {
          "output_type": "execute_result",
          "data": {
            "text/plain": [
              "(array([201927.,      0.,      0.,      0.,      0.,      0.,      0.,\n",
              "             0.,      0.,   1073.]),\n",
              " array([0. , 0.1, 0.2, 0.3, 0.4, 0.5, 0.6, 0.7, 0.8, 0.9, 1. ]),\n",
              " <a list of 10 Patch objects>)"
            ]
          },
          "metadata": {
            "tags": []
          },
          "execution_count": 13
        },
        {
          "output_type": "display_data",
          "data": {
            "image/png": "[encoded data removed]",
            "text/plain": [
              "<Figure size 432x288 with 1 Axes>"
            ]
          },
          "metadata": {
            "tags": []
          }
        }
      ]
    },
    {
      "cell_type": "markdown",
      "metadata": {
        "id": "_DK95Vu2WdqL",
        "colab_type": "text"
      },
      "source": [
        "We can check how the model performs on a more balanced set of data, which has 50:50 `Ag`/`no Ag` split.\n",
        "* Load the test set data (`xtest`) and corresponding labels (`ytest`)\n",
        "* Create an array of predicted values by running the `model.predict()` on `xtest`\n",
        "* Use the function `accuracy_score(y_pred, ytest)` to see how well the model really does"
      ]
    },
    {
      "cell_type": "code",
      "metadata": {
        "id": "agqD44zuWdqL",
        "colab_type": "code",
        "outputId": "70eb24a6-fc23-4f60-e866-63306d7203d0",
        "colab": {
          "base_uri": "https://localhost:8080/",
          "height": 34
        }
      },
      "source": [
        "with open('data/muon/test_spectra.pkl', 'rb') as handle:\n",
        "  xtest = pickle.load(handle)\n",
        "\n",
        "with open('data/muon/test_labels.pkl', 'rb') as handle:\n",
        "  ytest = pickle.load(handle)\n",
        "\n",
        "y_pred = model.predict(xtest)\n",
        "accuracy_score(ytest, y_pred > .5)"
      ],
      "execution_count": 14,
      "outputs": [
        {
          "output_type": "execute_result",
          "data": {
            "text/plain": [
              "0.5"
            ]
          },
          "metadata": {
            "tags": []
          },
          "execution_count": 14
        }
      ]
    },
    {
      "cell_type": "markdown",
      "metadata": {
        "id": "MJ8XcuKBWdqR",
        "colab_type": "text"
      },
      "source": [
        "You might notice something about the class numbers that closely resembls the accuracy achieved by the model. The data with no `Ag` accounts for around 95% of the data. So if the model simply learns to guess no `Ag` it can achieve 95% accuracy without learning anything useful. To avoid this we will rebalabace the classes. This is known as the accuracy paradox.\n",
        "\n",
        "With class imbalance there are a number  of strategies that you can take to address the problem.\n",
        "\n",
        "* Up-sample the minority class\n",
        "* Down-sample the majority class\n",
        "* Change your performance metric\n",
        "\n",
        "In our case the best available option is to down-sample the majority class, so that `Ag` and no`Ag` have equal numbers in the datasets.\n",
        "\n",
        "You can split the dataframe into the `1` and `0` entries using something like `df[df[1]==0]`.\n",
        "\n",
        "Then use [`sklearn.utils.resample`](https://scikit-learn.org/stable/modules/generated/sklearn.utils.resample.html) to resample the majority dataframe.\n",
        "\n",
        "Then concatenate and shuffle the datasets - `pd.concat` followed by `pd.sample`\n",
        "\n",
        "A good online guide is available [here](https://elitedatascience.com/imbalanced-classes)."
      ]
    },
    {
      "cell_type": "code",
      "metadata": {
        "id": "kf92YzpNWdqS",
        "colab_type": "code",
        "colab": {}
      },
      "source": [
        "from sklearn.utils import resample\n",
        "\n",
        "num_ag = np.count_nonzero(y==0)\n",
        "num_no_ag = np.count_nonzero(y==1)\n",
        "\n",
        "df_majority = df[df[1]==0]\n",
        "df_minority = df[df[1]==1]\n",
        "\n",
        "# Downsample majority class\n",
        "df_majority_downsampled = resample(df_majority, \n",
        "                                 replace=False,    # sample without replacement\n",
        "                                 n_samples=num_no_ag,     # to match minority class\n",
        "                                 random_state=123) # reproducible results\n",
        "\n",
        "df_downsampled = pd.concat([df_majority_downsampled, df_minority])\n",
        "df_new = df_downsampled.sample(frac=1)\n",
        "\n",
        "X = np.array(df_new[3].to_list())\n",
        "y = np.array(df_new[1].to_list())"
      ],
      "execution_count": 0,
      "outputs": []
    },
    {
      "cell_type": "code",
      "metadata": {
        "id": "a4wURrs5WdqU",
        "colab_type": "code",
        "outputId": "b4fed70b-5540-46db-c745-8066285e2934",
        "colab": {
          "base_uri": "https://localhost:8080/",
          "height": 204
        }
      },
      "source": [
        "model.fit(X, y, epochs=5, batch_size=64, validation_split=0.2)"
      ],
      "execution_count": 16,
      "outputs": [
        {
          "output_type": "stream",
          "text": [
            "Epoch 1/5\n",
            "216/216 [==============================] - 1s 4ms/step - loss: 0.7105 - accuracy: 0.4966 - val_loss: 0.6934 - val_accuracy: 0.5138\n",
            "Epoch 2/5\n",
            "216/216 [==============================] - 1s 3ms/step - loss: 0.6942 - accuracy: 0.4966 - val_loss: 0.6928 - val_accuracy: 0.5138\n",
            "Epoch 3/5\n",
            "216/216 [==============================] - 1s 3ms/step - loss: 0.6933 - accuracy: 0.4966 - val_loss: 0.6931 - val_accuracy: 0.5138\n",
            "Epoch 4/5\n",
            "216/216 [==============================] - 1s 3ms/step - loss: 0.6932 - accuracy: 0.4963 - val_loss: 0.6932 - val_accuracy: 0.4862\n",
            "Epoch 5/5\n",
            "216/216 [==============================] - 1s 3ms/step - loss: 0.6932 - accuracy: 0.5013 - val_loss: 0.6932 - val_accuracy: 0.4862\n"
          ],
          "name": "stdout"
        },
        {
          "output_type": "execute_result",
          "data": {
            "text/plain": [
              "<tensorflow.python.keras.callbacks.History at 0x7f49406c3390>"
            ]
          },
          "metadata": {
            "tags": []
          },
          "execution_count": 16
        }
      ]
    },
    {
      "cell_type": "markdown",
      "metadata": {
        "id": "MmKi4XcQWdqW",
        "colab_type": "text"
      },
      "source": [
        "**Note** In some instances the model now stops learning at around 50% - pretty disappointing. So what else could be holding us back? In some instances the model will actually train and achieve above 50% in this step - the explanation is below.\n",
        "\n",
        "## Optimizer hyperparameters\n",
        "\n",
        "Recall from the lecture that we talked about hyperparameters in optimizers. In this case we have used the `Adam` optimizer with a default learning rate. \n",
        "\n",
        "> \"The learning rate is perhaps the most important hyperparameter. If you have time to tune only one hyperparameter, tune the learning rate.\" - Goodfellow, Deep Learning\n",
        "\n",
        "One thing that can happen if our learning rate is too high initially is that the optimizer can continually jump over optimal solutions and not actually find its way to a good answer. Whether or not the optimizer does find it's way to a minmum is down to a combination of the loss function space, the starting parameters and the optimizer settings. Since the initial parameters of the network are randomised there are some cases, as noted above where, the network will optimise at the standard learning rate. However, sometimes it will just keep skipping around and not learning. \n",
        "\n",
        "To overcome this problem we can lower the learning rate of the optimizer for an initial optimisation. Once the model has started to train and the loss has started to decrease we can dial the learning rate back up to speed up the training.\n",
        "\n",
        "On the other hand, lower the learning rate too much and training will take an eternity.\n",
        "\n",
        "### Grid search for learning rate\n",
        "\n",
        "For this part of the exercise we will do a serach over possible learning rates. Typically we would look over  range of 0.1 to 10$^{-5}$ on a $\\log$ scale.\n",
        "\n",
        "To edit the optimizer settings, we import the optimizer `Adam` from `tensorflow.keras.optimizers` and set the learning rate\n",
        "\n",
        "```\n",
        "ad = Adam(learning_rate=0.0001)\n",
        "model.compile(loss='binary_crossentropy', optimizer=ad, metrics=['accuracy'])\n",
        "```\n",
        "\n",
        "Construct a loop to go over the learning rate range described above. For each training cycle we will extract the best validation accuracy value.\n",
        "\n",
        "You can save the history of a training cycle as a dictionary simply by `history = model.fit(<params>)`, here the metrics and losses are saved to a dictionary `history.history`. Run the model for 40 epochs at each learning rate.\n",
        "\n",
        "Save this dictionary for each learning rate and then compare the results. Look at maximum value for `accuracy` from each of the learning rates."
      ]
    },
    {
      "cell_type": "code",
      "metadata": {
        "id": "aCrRhMONWdqX",
        "colab_type": "code",
        "outputId": "8f23f19c-548b-48c6-b5eb-94b2a41f03d3",
        "colab": {
          "base_uri": "https://localhost:8080/",
          "height": 1000
        }
      },
      "source": [
        "from tensorflow.keras.optimizers import Adam\n",
        "lr_histories = []\n",
        "for lr in [1e-1, 1e-2, 1e-3, 1e-4, 1e-5]:\n",
        "    model = Sequential()\n",
        "    model.add(Dense(12, input_dim=300, activation='relu'))\n",
        "    model.add(Dense(8, activation='relu'))\n",
        "    model.add(Dense(1, activation='sigmoid'))\n",
        "    ad = Adam(learning_rate=lr, beta_1=0.9, beta_2=0.999, amsgrad=False)\n",
        "    model.compile(loss='binary_crossentropy', optimizer=ad, metrics=['accuracy'])\n",
        "    history = model.fit(X, y, epochs=40, batch_size=64, validation_split=0.2)\n",
        "    lr_histories.append(history.history)"
      ],
      "execution_count": 17,
      "outputs": [
        {
          "output_type": "stream",
          "text": [
            "Epoch 1/40\n",
            "216/216 [==============================] - 1s 4ms/step - loss: 6.7685 - accuracy: 0.4968 - val_loss: 0.6928 - val_accuracy: 0.5138\n",
            "Epoch 2/40\n",
            "216/216 [==============================] - 1s 4ms/step - loss: 0.6938 - accuracy: 0.4984 - val_loss: 0.6953 - val_accuracy: 0.4862\n",
            "Epoch 3/40\n",
            "216/216 [==============================] - 1s 3ms/step - loss: 0.6947 - accuracy: 0.4942 - val_loss: 0.6928 - val_accuracy: 0.5138\n",
            "Epoch 4/40\n",
            "216/216 [==============================] - 1s 3ms/step - loss: 0.6943 - accuracy: 0.5053 - val_loss: 0.6956 - val_accuracy: 0.4862\n",
            "Epoch 5/40\n",
            "216/216 [==============================] - 1s 3ms/step - loss: 0.6942 - accuracy: 0.5032 - val_loss: 0.6995 - val_accuracy: 0.4862\n",
            "Epoch 6/40\n",
            "216/216 [==============================] - 1s 3ms/step - loss: 0.6943 - accuracy: 0.5040 - val_loss: 0.6938 - val_accuracy: 0.4862\n",
            "Epoch 7/40\n",
            "216/216 [==============================] - 1s 3ms/step - loss: 0.6943 - accuracy: 0.4982 - val_loss: 0.6985 - val_accuracy: 0.4862\n",
            "Epoch 8/40\n",
            "216/216 [==============================] - 1s 3ms/step - loss: 0.6940 - accuracy: 0.5001 - val_loss: 0.6951 - val_accuracy: 0.4862\n",
            "Epoch 9/40\n",
            "216/216 [==============================] - 1s 3ms/step - loss: 0.6940 - accuracy: 0.5007 - val_loss: 0.6954 - val_accuracy: 0.4862\n",
            "Epoch 10/40\n",
            "216/216 [==============================] - 1s 3ms/step - loss: 0.6949 - accuracy: 0.5008 - val_loss: 0.6930 - val_accuracy: 0.5138\n",
            "Epoch 11/40\n",
            "216/216 [==============================] - 1s 3ms/step - loss: 0.6950 - accuracy: 0.4934 - val_loss: 0.6931 - val_accuracy: 0.5138\n",
            "Epoch 12/40\n",
            "216/216 [==============================] - 1s 3ms/step - loss: 0.6944 - accuracy: 0.5011 - val_loss: 0.6932 - val_accuracy: 0.4862\n",
            "Epoch 13/40\n",
            "216/216 [==============================] - 1s 3ms/step - loss: 0.6937 - accuracy: 0.5060 - val_loss: 0.6940 - val_accuracy: 0.5138\n",
            "Epoch 14/40\n",
            "216/216 [==============================] - 1s 3ms/step - loss: 0.6950 - accuracy: 0.5005 - val_loss: 0.6930 - val_accuracy: 0.5138\n",
            "Epoch 15/40\n",
            "216/216 [==============================] - 1s 3ms/step - loss: 0.6945 - accuracy: 0.5005 - val_loss: 0.6939 - val_accuracy: 0.5138\n",
            "Epoch 16/40\n",
            "216/216 [==============================] - 1s 3ms/step - loss: 0.6946 - accuracy: 0.4984 - val_loss: 0.6984 - val_accuracy: 0.4862\n",
            "Epoch 17/40\n",
            "216/216 [==============================] - 1s 3ms/step - loss: 0.6949 - accuracy: 0.5005 - val_loss: 0.6928 - val_accuracy: 0.5138\n",
            "Epoch 18/40\n",
            "216/216 [==============================] - 1s 3ms/step - loss: 0.6944 - accuracy: 0.5011 - val_loss: 0.6930 - val_accuracy: 0.5138\n",
            "Epoch 19/40\n",
            "216/216 [==============================] - 1s 3ms/step - loss: 0.6945 - accuracy: 0.4997 - val_loss: 0.6928 - val_accuracy: 0.5138\n",
            "Epoch 20/40\n",
            "216/216 [==============================] - 1s 3ms/step - loss: 0.6947 - accuracy: 0.4986 - val_loss: 0.6928 - val_accuracy: 0.5138\n",
            "Epoch 21/40\n",
            "216/216 [==============================] - 1s 3ms/step - loss: 0.6943 - accuracy: 0.5017 - val_loss: 0.6973 - val_accuracy: 0.4862\n",
            "Epoch 22/40\n",
            "216/216 [==============================] - 1s 3ms/step - loss: 0.6947 - accuracy: 0.5005 - val_loss: 0.6966 - val_accuracy: 0.4862\n",
            "Epoch 23/40\n",
            "216/216 [==============================] - 1s 3ms/step - loss: 0.6943 - accuracy: 0.5034 - val_loss: 0.6958 - val_accuracy: 0.4862\n",
            "Epoch 24/40\n",
            "216/216 [==============================] - 1s 3ms/step - loss: 0.6946 - accuracy: 0.5014 - val_loss: 0.6952 - val_accuracy: 0.4862\n",
            "Epoch 25/40\n",
            "216/216 [==============================] - 1s 3ms/step - loss: 0.6954 - accuracy: 0.5013 - val_loss: 0.6948 - val_accuracy: 0.4862\n",
            "Epoch 26/40\n",
            "216/216 [==============================] - 1s 3ms/step - loss: 0.6944 - accuracy: 0.5032 - val_loss: 0.6949 - val_accuracy: 0.4862\n",
            "Epoch 27/40\n",
            "216/216 [==============================] - 1s 3ms/step - loss: 0.6947 - accuracy: 0.4985 - val_loss: 0.6967 - val_accuracy: 0.4862\n",
            "Epoch 28/40\n",
            "216/216 [==============================] - 1s 3ms/step - loss: 0.6936 - accuracy: 0.5145 - val_loss: 0.7048 - val_accuracy: 0.4862\n",
            "Epoch 29/40\n",
            "216/216 [==============================] - 1s 3ms/step - loss: 0.6947 - accuracy: 0.4944 - val_loss: 0.6930 - val_accuracy: 0.5138\n",
            "Epoch 30/40\n",
            "216/216 [==============================] - 1s 3ms/step - loss: 0.6947 - accuracy: 0.5005 - val_loss: 0.6967 - val_accuracy: 0.5138\n",
            "Epoch 31/40\n",
            "216/216 [==============================] - 1s 3ms/step - loss: 0.6948 - accuracy: 0.5002 - val_loss: 0.6929 - val_accuracy: 0.5138\n",
            "Epoch 32/40\n",
            "216/216 [==============================] - 1s 3ms/step - loss: 0.6940 - accuracy: 0.5042 - val_loss: 0.6928 - val_accuracy: 0.5138\n",
            "Epoch 33/40\n",
            "216/216 [==============================] - 1s 3ms/step - loss: 0.6945 - accuracy: 0.5008 - val_loss: 0.6930 - val_accuracy: 0.5138\n",
            "Epoch 34/40\n",
            "216/216 [==============================] - 1s 3ms/step - loss: 0.6948 - accuracy: 0.4966 - val_loss: 0.6954 - val_accuracy: 0.4862\n",
            "Epoch 35/40\n",
            "216/216 [==============================] - 1s 3ms/step - loss: 0.6949 - accuracy: 0.5026 - val_loss: 0.7002 - val_accuracy: 0.4862\n",
            "Epoch 36/40\n",
            "216/216 [==============================] - 1s 3ms/step - loss: 0.6944 - accuracy: 0.5023 - val_loss: 0.6952 - val_accuracy: 0.4862\n",
            "Epoch 37/40\n",
            "216/216 [==============================] - 1s 3ms/step - loss: 0.6949 - accuracy: 0.4984 - val_loss: 0.6937 - val_accuracy: 0.4862\n",
            "Epoch 38/40\n",
            "216/216 [==============================] - 1s 3ms/step - loss: 0.6940 - accuracy: 0.5033 - val_loss: 0.6932 - val_accuracy: 0.4862\n",
            "Epoch 39/40\n",
            "216/216 [==============================] - 1s 3ms/step - loss: 0.6945 - accuracy: 0.4958 - val_loss: 0.6953 - val_accuracy: 0.4862\n",
            "Epoch 40/40\n",
            "216/216 [==============================] - 1s 3ms/step - loss: 0.6947 - accuracy: 0.5028 - val_loss: 0.6928 - val_accuracy: 0.5138\n",
            "Epoch 1/40\n",
            "216/216 [==============================] - 1s 3ms/step - loss: 1.8547 - accuracy: 0.5062 - val_loss: 0.6918 - val_accuracy: 0.5187\n",
            "Epoch 2/40\n",
            "216/216 [==============================] - 1s 3ms/step - loss: 0.6936 - accuracy: 0.5008 - val_loss: 0.6932 - val_accuracy: 0.4862\n",
            "Epoch 3/40\n",
            "216/216 [==============================] - 1s 3ms/step - loss: 0.6933 - accuracy: 0.4943 - val_loss: 0.6935 - val_accuracy: 0.4862\n",
            "Epoch 4/40\n",
            "216/216 [==============================] - 1s 3ms/step - loss: 0.6933 - accuracy: 0.5051 - val_loss: 0.6929 - val_accuracy: 0.5138\n",
            "Epoch 5/40\n",
            "216/216 [==============================] - 1s 3ms/step - loss: 0.6933 - accuracy: 0.4984 - val_loss: 0.6930 - val_accuracy: 0.5138\n",
            "Epoch 6/40\n",
            "216/216 [==============================] - 1s 3ms/step - loss: 0.6933 - accuracy: 0.4966 - val_loss: 0.6936 - val_accuracy: 0.4862\n",
            "Epoch 7/40\n",
            "216/216 [==============================] - 1s 3ms/step - loss: 0.6933 - accuracy: 0.4953 - val_loss: 0.6933 - val_accuracy: 0.4862\n",
            "Epoch 8/40\n",
            "216/216 [==============================] - 1s 3ms/step - loss: 0.6932 - accuracy: 0.5048 - val_loss: 0.6936 - val_accuracy: 0.4862\n",
            "Epoch 9/40\n",
            "216/216 [==============================] - 1s 3ms/step - loss: 0.6932 - accuracy: 0.5016 - val_loss: 0.6945 - val_accuracy: 0.4862\n",
            "Epoch 10/40\n",
            "216/216 [==============================] - 1s 3ms/step - loss: 0.6932 - accuracy: 0.5036 - val_loss: 0.6946 - val_accuracy: 0.4862\n",
            "Epoch 11/40\n",
            "216/216 [==============================] - 1s 3ms/step - loss: 0.6933 - accuracy: 0.5016 - val_loss: 0.6935 - val_accuracy: 0.4862\n",
            "Epoch 12/40\n",
            "216/216 [==============================] - 1s 3ms/step - loss: 0.6932 - accuracy: 0.5083 - val_loss: 0.6929 - val_accuracy: 0.5138\n",
            "Epoch 13/40\n",
            "216/216 [==============================] - 1s 3ms/step - loss: 0.6932 - accuracy: 0.5037 - val_loss: 0.6928 - val_accuracy: 0.5138\n",
            "Epoch 14/40\n",
            "216/216 [==============================] - 1s 3ms/step - loss: 0.6934 - accuracy: 0.5018 - val_loss: 0.6934 - val_accuracy: 0.4862\n",
            "Epoch 15/40\n",
            "216/216 [==============================] - 1s 3ms/step - loss: 0.6934 - accuracy: 0.4947 - val_loss: 0.6933 - val_accuracy: 0.4862\n",
            "Epoch 16/40\n",
            "216/216 [==============================] - 1s 3ms/step - loss: 0.6933 - accuracy: 0.4901 - val_loss: 0.6933 - val_accuracy: 0.4862\n",
            "Epoch 17/40\n",
            "216/216 [==============================] - 1s 3ms/step - loss: 0.6934 - accuracy: 0.4975 - val_loss: 0.6932 - val_accuracy: 0.4862\n",
            "Epoch 18/40\n",
            "216/216 [==============================] - 1s 3ms/step - loss: 0.6932 - accuracy: 0.5019 - val_loss: 0.6930 - val_accuracy: 0.5138\n",
            "Epoch 19/40\n",
            "216/216 [==============================] - 1s 3ms/step - loss: 0.6933 - accuracy: 0.4971 - val_loss: 0.6929 - val_accuracy: 0.5138\n",
            "Epoch 20/40\n",
            "216/216 [==============================] - 1s 3ms/step - loss: 0.6932 - accuracy: 0.5066 - val_loss: 0.6936 - val_accuracy: 0.4862\n",
            "Epoch 21/40\n",
            "216/216 [==============================] - 1s 3ms/step - loss: 0.6933 - accuracy: 0.5020 - val_loss: 0.6936 - val_accuracy: 0.4862\n",
            "Epoch 22/40\n",
            "216/216 [==============================] - 1s 3ms/step - loss: 0.6932 - accuracy: 0.4972 - val_loss: 0.6951 - val_accuracy: 0.4862\n",
            "Epoch 23/40\n",
            "216/216 [==============================] - 1s 3ms/step - loss: 0.6934 - accuracy: 0.4974 - val_loss: 0.6936 - val_accuracy: 0.4862\n",
            "Epoch 24/40\n",
            "216/216 [==============================] - 1s 3ms/step - loss: 0.6933 - accuracy: 0.4966 - val_loss: 0.6934 - val_accuracy: 0.4862\n",
            "Epoch 25/40\n",
            "216/216 [==============================] - 1s 3ms/step - loss: 0.6932 - accuracy: 0.5000 - val_loss: 0.6947 - val_accuracy: 0.4862\n",
            "Epoch 26/40\n",
            "216/216 [==============================] - 1s 3ms/step - loss: 0.6934 - accuracy: 0.5028 - val_loss: 0.6929 - val_accuracy: 0.5138\n",
            "Epoch 27/40\n",
            "216/216 [==============================] - 1s 3ms/step - loss: 0.6932 - accuracy: 0.5045 - val_loss: 0.6940 - val_accuracy: 0.4862\n",
            "Epoch 28/40\n",
            "216/216 [==============================] - 1s 3ms/step - loss: 0.6934 - accuracy: 0.5017 - val_loss: 0.6958 - val_accuracy: 0.4862\n",
            "Epoch 29/40\n",
            "216/216 [==============================] - 1s 3ms/step - loss: 0.6934 - accuracy: 0.5018 - val_loss: 0.6933 - val_accuracy: 0.4862\n",
            "Epoch 30/40\n",
            "216/216 [==============================] - 1s 3ms/step - loss: 0.6934 - accuracy: 0.5004 - val_loss: 0.6942 - val_accuracy: 0.4862\n",
            "Epoch 31/40\n",
            "216/216 [==============================] - 1s 3ms/step - loss: 0.6933 - accuracy: 0.4972 - val_loss: 0.6939 - val_accuracy: 0.4862\n",
            "Epoch 32/40\n",
            "216/216 [==============================] - 1s 3ms/step - loss: 0.6934 - accuracy: 0.4981 - val_loss: 0.6940 - val_accuracy: 0.4862\n",
            "Epoch 33/40\n",
            "216/216 [==============================] - 1s 3ms/step - loss: 0.6933 - accuracy: 0.4965 - val_loss: 0.6940 - val_accuracy: 0.4862\n",
            "Epoch 34/40\n",
            "216/216 [==============================] - 1s 3ms/step - loss: 0.6933 - accuracy: 0.4952 - val_loss: 0.6932 - val_accuracy: 0.4862\n",
            "Epoch 35/40\n",
            "216/216 [==============================] - 1s 3ms/step - loss: 0.6933 - accuracy: 0.4921 - val_loss: 0.6934 - val_accuracy: 0.4862\n",
            "Epoch 36/40\n",
            "216/216 [==============================] - 1s 3ms/step - loss: 0.6935 - accuracy: 0.4985 - val_loss: 0.6934 - val_accuracy: 0.4862\n",
            "Epoch 37/40\n",
            "216/216 [==============================] - 1s 3ms/step - loss: 0.6933 - accuracy: 0.4955 - val_loss: 0.6934 - val_accuracy: 0.4862\n",
            "Epoch 38/40\n",
            "216/216 [==============================] - 1s 3ms/step - loss: 0.6932 - accuracy: 0.5004 - val_loss: 0.6935 - val_accuracy: 0.4862\n",
            "Epoch 39/40\n",
            "216/216 [==============================] - 1s 3ms/step - loss: 0.6933 - accuracy: 0.5006 - val_loss: 0.6929 - val_accuracy: 0.5138\n",
            "Epoch 40/40\n",
            "216/216 [==============================] - 1s 3ms/step - loss: 0.6933 - accuracy: 0.4971 - val_loss: 0.6933 - val_accuracy: 0.4862\n",
            "Epoch 1/40\n",
            "216/216 [==============================] - 1s 3ms/step - loss: 0.7760 - accuracy: 0.4921 - val_loss: 0.6941 - val_accuracy: 0.5109\n",
            "Epoch 2/40\n",
            "216/216 [==============================] - 1s 3ms/step - loss: 0.6948 - accuracy: 0.4912 - val_loss: 0.6950 - val_accuracy: 0.4862\n",
            "Epoch 3/40\n",
            "216/216 [==============================] - 1s 3ms/step - loss: 0.6942 - accuracy: 0.4958 - val_loss: 0.6933 - val_accuracy: 0.5074\n",
            "Epoch 4/40\n",
            "216/216 [==============================] - 1s 3ms/step - loss: 0.6937 - accuracy: 0.5009 - val_loss: 0.6945 - val_accuracy: 0.4833\n",
            "Epoch 5/40\n",
            "216/216 [==============================] - 1s 3ms/step - loss: 0.6936 - accuracy: 0.5082 - val_loss: 0.6939 - val_accuracy: 0.4862\n",
            "Epoch 6/40\n",
            "216/216 [==============================] - 1s 3ms/step - loss: 0.6937 - accuracy: 0.4989 - val_loss: 0.6936 - val_accuracy: 0.4981\n",
            "Epoch 7/40\n",
            "216/216 [==============================] - 1s 3ms/step - loss: 0.6938 - accuracy: 0.5012 - val_loss: 0.6937 - val_accuracy: 0.4978\n",
            "Epoch 8/40\n",
            "216/216 [==============================] - 1s 3ms/step - loss: 0.6930 - accuracy: 0.5093 - val_loss: 0.6946 - val_accuracy: 0.4935\n",
            "Epoch 9/40\n",
            "216/216 [==============================] - 1s 3ms/step - loss: 0.6925 - accuracy: 0.5142 - val_loss: 0.6957 - val_accuracy: 0.5001\n",
            "Epoch 10/40\n",
            "216/216 [==============================] - 1s 3ms/step - loss: 0.6923 - accuracy: 0.5232 - val_loss: 0.6925 - val_accuracy: 0.5115\n",
            "Epoch 11/40\n",
            "216/216 [==============================] - 1s 3ms/step - loss: 0.6936 - accuracy: 0.5170 - val_loss: 0.6942 - val_accuracy: 0.5007\n",
            "Epoch 12/40\n",
            "216/216 [==============================] - 1s 3ms/step - loss: 0.6929 - accuracy: 0.5156 - val_loss: 0.6920 - val_accuracy: 0.5132\n",
            "Epoch 13/40\n",
            "216/216 [==============================] - 1s 3ms/step - loss: 0.6908 - accuracy: 0.5256 - val_loss: 0.6919 - val_accuracy: 0.5228\n",
            "Epoch 14/40\n",
            "216/216 [==============================] - 1s 3ms/step - loss: 0.6920 - accuracy: 0.5186 - val_loss: 0.6915 - val_accuracy: 0.5355\n",
            "Epoch 15/40\n",
            "216/216 [==============================] - 1s 3ms/step - loss: 0.6896 - accuracy: 0.5315 - val_loss: 0.6895 - val_accuracy: 0.5428\n",
            "Epoch 16/40\n",
            "216/216 [==============================] - 1s 3ms/step - loss: 0.6886 - accuracy: 0.5388 - val_loss: 0.6909 - val_accuracy: 0.5268\n",
            "Epoch 17/40\n",
            "216/216 [==============================] - 1s 3ms/step - loss: 0.6893 - accuracy: 0.5299 - val_loss: 0.6917 - val_accuracy: 0.5138\n",
            "Epoch 18/40\n",
            "216/216 [==============================] - 1s 3ms/step - loss: 0.6880 - accuracy: 0.5309 - val_loss: 0.6837 - val_accuracy: 0.5561\n",
            "Epoch 19/40\n",
            "216/216 [==============================] - 1s 3ms/step - loss: 0.6867 - accuracy: 0.5510 - val_loss: 0.6883 - val_accuracy: 0.5399\n",
            "Epoch 20/40\n",
            "216/216 [==============================] - 1s 3ms/step - loss: 0.6829 - accuracy: 0.5623 - val_loss: 0.6797 - val_accuracy: 0.5759\n",
            "Epoch 21/40\n",
            "216/216 [==============================] - 1s 3ms/step - loss: 0.6793 - accuracy: 0.5677 - val_loss: 0.6733 - val_accuracy: 0.5779\n",
            "Epoch 22/40\n",
            "216/216 [==============================] - 1s 3ms/step - loss: 0.6771 - accuracy: 0.5739 - val_loss: 0.6754 - val_accuracy: 0.5680\n",
            "Epoch 23/40\n",
            "216/216 [==============================] - 1s 3ms/step - loss: 0.6728 - accuracy: 0.5840 - val_loss: 0.6637 - val_accuracy: 0.5997\n",
            "Epoch 24/40\n",
            "216/216 [==============================] - 1s 3ms/step - loss: 0.6668 - accuracy: 0.5900 - val_loss: 0.6794 - val_accuracy: 0.5599\n",
            "Epoch 25/40\n",
            "216/216 [==============================] - 1s 3ms/step - loss: 0.6601 - accuracy: 0.6051 - val_loss: 0.7003 - val_accuracy: 0.5460\n",
            "Epoch 26/40\n",
            "216/216 [==============================] - 1s 3ms/step - loss: 0.6608 - accuracy: 0.6025 - val_loss: 0.6564 - val_accuracy: 0.6159\n",
            "Epoch 27/40\n",
            "216/216 [==============================] - 1s 3ms/step - loss: 0.6566 - accuracy: 0.6087 - val_loss: 0.6483 - val_accuracy: 0.6263\n",
            "Epoch 28/40\n",
            "216/216 [==============================] - 1s 3ms/step - loss: 0.6416 - accuracy: 0.6326 - val_loss: 0.6406 - val_accuracy: 0.6234\n",
            "Epoch 29/40\n",
            "216/216 [==============================] - 1s 3ms/step - loss: 0.6476 - accuracy: 0.6207 - val_loss: 0.6388 - val_accuracy: 0.6350\n",
            "Epoch 30/40\n",
            "216/216 [==============================] - 1s 3ms/step - loss: 0.6406 - accuracy: 0.6290 - val_loss: 0.6376 - val_accuracy: 0.6339\n",
            "Epoch 31/40\n",
            "216/216 [==============================] - 1s 3ms/step - loss: 0.6382 - accuracy: 0.6366 - val_loss: 0.6422 - val_accuracy: 0.6234\n",
            "Epoch 32/40\n",
            "216/216 [==============================] - 1s 3ms/step - loss: 0.6287 - accuracy: 0.6386 - val_loss: 0.6324 - val_accuracy: 0.6423\n",
            "Epoch 33/40\n",
            "216/216 [==============================] - 1s 3ms/step - loss: 0.6351 - accuracy: 0.6402 - val_loss: 0.6508 - val_accuracy: 0.6133\n",
            "Epoch 34/40\n",
            "216/216 [==============================] - 1s 3ms/step - loss: 0.6333 - accuracy: 0.6400 - val_loss: 0.6270 - val_accuracy: 0.6446\n",
            "Epoch 35/40\n",
            "216/216 [==============================] - 1s 3ms/step - loss: 0.6258 - accuracy: 0.6476 - val_loss: 0.6419 - val_accuracy: 0.6316\n",
            "Epoch 36/40\n",
            "216/216 [==============================] - 1s 3ms/step - loss: 0.6232 - accuracy: 0.6488 - val_loss: 0.6194 - val_accuracy: 0.6568\n",
            "Epoch 37/40\n",
            "216/216 [==============================] - 1s 3ms/step - loss: 0.6270 - accuracy: 0.6454 - val_loss: 0.6220 - val_accuracy: 0.6525\n",
            "Epoch 38/40\n",
            "216/216 [==============================] - 1s 3ms/step - loss: 0.6198 - accuracy: 0.6553 - val_loss: 0.6412 - val_accuracy: 0.6321\n",
            "Epoch 39/40\n",
            "216/216 [==============================] - 1s 3ms/step - loss: 0.6230 - accuracy: 0.6518 - val_loss: 0.6263 - val_accuracy: 0.6440\n",
            "Epoch 40/40\n",
            "216/216 [==============================] - 1s 3ms/step - loss: 0.6214 - accuracy: 0.6558 - val_loss: 0.6196 - val_accuracy: 0.6510\n",
            "Epoch 1/40\n",
            "216/216 [==============================] - 1s 4ms/step - loss: 6.1402 - accuracy: 0.5040 - val_loss: 0.7421 - val_accuracy: 0.5013\n",
            "Epoch 2/40\n",
            "216/216 [==============================] - 1s 3ms/step - loss: 0.7064 - accuracy: 0.5023 - val_loss: 0.7021 - val_accuracy: 0.5138\n",
            "Epoch 3/40\n",
            "216/216 [==============================] - 1s 3ms/step - loss: 0.6970 - accuracy: 0.5002 - val_loss: 0.6975 - val_accuracy: 0.5126\n",
            "Epoch 4/40\n",
            "216/216 [==============================] - 1s 3ms/step - loss: 0.6944 - accuracy: 0.4995 - val_loss: 0.6954 - val_accuracy: 0.5126\n",
            "Epoch 5/40\n",
            "216/216 [==============================] - 1s 3ms/step - loss: 0.6937 - accuracy: 0.4992 - val_loss: 0.6945 - val_accuracy: 0.5129\n",
            "Epoch 6/40\n",
            "216/216 [==============================] - 1s 3ms/step - loss: 0.6934 - accuracy: 0.4990 - val_loss: 0.6940 - val_accuracy: 0.5123\n",
            "Epoch 7/40\n",
            "216/216 [==============================] - 1s 3ms/step - loss: 0.6933 - accuracy: 0.4986 - val_loss: 0.6935 - val_accuracy: 0.5135\n",
            "Epoch 8/40\n",
            "216/216 [==============================] - 1s 3ms/step - loss: 0.6931 - accuracy: 0.4989 - val_loss: 0.6933 - val_accuracy: 0.5144\n",
            "Epoch 9/40\n",
            "216/216 [==============================] - 1s 3ms/step - loss: 0.6931 - accuracy: 0.4989 - val_loss: 0.6932 - val_accuracy: 0.5147\n",
            "Epoch 10/40\n",
            "216/216 [==============================] - 1s 3ms/step - loss: 0.6930 - accuracy: 0.4995 - val_loss: 0.6931 - val_accuracy: 0.5149\n",
            "Epoch 11/40\n",
            "216/216 [==============================] - 1s 3ms/step - loss: 0.6930 - accuracy: 0.4995 - val_loss: 0.6931 - val_accuracy: 0.5144\n",
            "Epoch 12/40\n",
            "216/216 [==============================] - 1s 3ms/step - loss: 0.6930 - accuracy: 0.4993 - val_loss: 0.6931 - val_accuracy: 0.5141\n",
            "Epoch 13/40\n",
            "216/216 [==============================] - 1s 3ms/step - loss: 0.6930 - accuracy: 0.4996 - val_loss: 0.6931 - val_accuracy: 0.5138\n",
            "Epoch 14/40\n",
            "216/216 [==============================] - 1s 3ms/step - loss: 0.6930 - accuracy: 0.4992 - val_loss: 0.6932 - val_accuracy: 0.5141\n",
            "Epoch 15/40\n",
            "216/216 [==============================] - 1s 3ms/step - loss: 0.6930 - accuracy: 0.4989 - val_loss: 0.6933 - val_accuracy: 0.5144\n",
            "Epoch 16/40\n",
            "216/216 [==============================] - 1s 3ms/step - loss: 0.6930 - accuracy: 0.4985 - val_loss: 0.6933 - val_accuracy: 0.5144\n",
            "Epoch 17/40\n",
            "216/216 [==============================] - 1s 3ms/step - loss: 0.6930 - accuracy: 0.4987 - val_loss: 0.6933 - val_accuracy: 0.5144\n",
            "Epoch 18/40\n",
            "216/216 [==============================] - 1s 3ms/step - loss: 0.6930 - accuracy: 0.4988 - val_loss: 0.6933 - val_accuracy: 0.5144\n",
            "Epoch 19/40\n",
            "216/216 [==============================] - 1s 3ms/step - loss: 0.6930 - accuracy: 0.4920 - val_loss: 0.6936 - val_accuracy: 0.5129\n",
            "Epoch 20/40\n",
            "216/216 [==============================] - 1s 3ms/step - loss: 0.6930 - accuracy: 0.4982 - val_loss: 0.6938 - val_accuracy: 0.4865\n",
            "Epoch 21/40\n",
            "216/216 [==============================] - 1s 3ms/step - loss: 0.6929 - accuracy: 0.4977 - val_loss: 0.6939 - val_accuracy: 0.4862\n",
            "Epoch 22/40\n",
            "216/216 [==============================] - 1s 3ms/step - loss: 0.6930 - accuracy: 0.5035 - val_loss: 0.6938 - val_accuracy: 0.4862\n",
            "Epoch 23/40\n",
            "216/216 [==============================] - 1s 3ms/step - loss: 0.6930 - accuracy: 0.5034 - val_loss: 0.6943 - val_accuracy: 0.4862\n",
            "Epoch 24/40\n",
            "216/216 [==============================] - 1s 3ms/step - loss: 0.6931 - accuracy: 0.5035 - val_loss: 0.6937 - val_accuracy: 0.4862\n",
            "Epoch 25/40\n",
            "216/216 [==============================] - 1s 3ms/step - loss: 0.6929 - accuracy: 0.5034 - val_loss: 0.6937 - val_accuracy: 0.4862\n",
            "Epoch 26/40\n",
            "216/216 [==============================] - 1s 3ms/step - loss: 0.6931 - accuracy: 0.5034 - val_loss: 0.6938 - val_accuracy: 0.4862\n",
            "Epoch 27/40\n",
            "216/216 [==============================] - 1s 3ms/step - loss: 0.6931 - accuracy: 0.5035 - val_loss: 0.6938 - val_accuracy: 0.4862\n",
            "Epoch 28/40\n",
            "216/216 [==============================] - 1s 3ms/step - loss: 0.6930 - accuracy: 0.5034 - val_loss: 0.6938 - val_accuracy: 0.4862\n",
            "Epoch 29/40\n",
            "216/216 [==============================] - 1s 3ms/step - loss: 0.6931 - accuracy: 0.5034 - val_loss: 0.6940 - val_accuracy: 0.4862\n",
            "Epoch 30/40\n",
            "216/216 [==============================] - 1s 3ms/step - loss: 0.6930 - accuracy: 0.5034 - val_loss: 0.6936 - val_accuracy: 0.4862\n",
            "Epoch 31/40\n",
            "216/216 [==============================] - 1s 3ms/step - loss: 0.6931 - accuracy: 0.5034 - val_loss: 0.6936 - val_accuracy: 0.4862\n",
            "Epoch 32/40\n",
            "216/216 [==============================] - 1s 3ms/step - loss: 0.6930 - accuracy: 0.5034 - val_loss: 0.6935 - val_accuracy: 0.4862\n",
            "Epoch 33/40\n",
            "216/216 [==============================] - 1s 3ms/step - loss: 0.6932 - accuracy: 0.5034 - val_loss: 0.6933 - val_accuracy: 0.4862\n",
            "Epoch 34/40\n",
            "216/216 [==============================] - 1s 3ms/step - loss: 0.6931 - accuracy: 0.5034 - val_loss: 0.6933 - val_accuracy: 0.4862\n",
            "Epoch 35/40\n",
            "216/216 [==============================] - 1s 3ms/step - loss: 0.6930 - accuracy: 0.5034 - val_loss: 0.6932 - val_accuracy: 0.4862\n",
            "Epoch 36/40\n",
            "216/216 [==============================] - 1s 3ms/step - loss: 0.6932 - accuracy: 0.5034 - val_loss: 0.6933 - val_accuracy: 0.4862\n",
            "Epoch 37/40\n",
            "216/216 [==============================] - 1s 3ms/step - loss: 0.6930 - accuracy: 0.5034 - val_loss: 0.6933 - val_accuracy: 0.4862\n",
            "Epoch 38/40\n",
            "216/216 [==============================] - 1s 3ms/step - loss: 0.6931 - accuracy: 0.5034 - val_loss: 0.6932 - val_accuracy: 0.4862\n",
            "Epoch 39/40\n",
            "216/216 [==============================] - 1s 3ms/step - loss: 0.6932 - accuracy: 0.5034 - val_loss: 0.6933 - val_accuracy: 0.4862\n",
            "Epoch 40/40\n",
            "216/216 [==============================] - 1s 3ms/step - loss: 0.6931 - accuracy: 0.5034 - val_loss: 0.6933 - val_accuracy: 0.4862\n",
            "Epoch 1/40\n",
            "216/216 [==============================] - 1s 3ms/step - loss: 15.5503 - accuracy: 0.4964 - val_loss: 7.9419 - val_accuracy: 0.5141\n",
            "Epoch 2/40\n",
            "216/216 [==============================] - 1s 3ms/step - loss: 4.1110 - accuracy: 0.4918 - val_loss: 2.7407 - val_accuracy: 0.4703\n",
            "Epoch 3/40\n",
            "216/216 [==============================] - 1s 3ms/step - loss: 2.6004 - accuracy: 0.4892 - val_loss: 2.7267 - val_accuracy: 0.4700\n",
            "Epoch 4/40\n",
            "216/216 [==============================] - 1s 3ms/step - loss: 2.5706 - accuracy: 0.4884 - val_loss: 2.7014 - val_accuracy: 0.4694\n",
            "Epoch 5/40\n",
            "216/216 [==============================] - 1s 3ms/step - loss: 2.5477 - accuracy: 0.4894 - val_loss: 2.6826 - val_accuracy: 0.4723\n",
            "Epoch 6/40\n",
            "216/216 [==============================] - 1s 3ms/step - loss: 2.5252 - accuracy: 0.4868 - val_loss: 2.6580 - val_accuracy: 0.4694\n",
            "Epoch 7/40\n",
            "216/216 [==============================] - 1s 3ms/step - loss: 2.5016 - accuracy: 0.4889 - val_loss: 2.6308 - val_accuracy: 0.4679\n",
            "Epoch 8/40\n",
            "216/216 [==============================] - 1s 3ms/step - loss: 2.4767 - accuracy: 0.4900 - val_loss: 2.6098 - val_accuracy: 0.4674\n",
            "Epoch 9/40\n",
            "216/216 [==============================] - 1s 3ms/step - loss: 2.4515 - accuracy: 0.4895 - val_loss: 2.5859 - val_accuracy: 0.4685\n",
            "Epoch 10/40\n",
            "216/216 [==============================] - 1s 3ms/step - loss: 2.4250 - accuracy: 0.4896 - val_loss: 2.5514 - val_accuracy: 0.4688\n",
            "Epoch 11/40\n",
            "216/216 [==============================] - 1s 3ms/step - loss: 2.3991 - accuracy: 0.4886 - val_loss: 2.5196 - val_accuracy: 0.4679\n",
            "Epoch 12/40\n",
            "216/216 [==============================] - 1s 3ms/step - loss: 2.3716 - accuracy: 0.4901 - val_loss: 2.4884 - val_accuracy: 0.4685\n",
            "Epoch 13/40\n",
            "216/216 [==============================] - 1s 3ms/step - loss: 2.3460 - accuracy: 0.4921 - val_loss: 2.4638 - val_accuracy: 0.4677\n",
            "Epoch 14/40\n",
            "216/216 [==============================] - 1s 3ms/step - loss: 2.3191 - accuracy: 0.4931 - val_loss: 2.4298 - val_accuracy: 0.4688\n",
            "Epoch 15/40\n",
            "216/216 [==============================] - 1s 3ms/step - loss: 2.2918 - accuracy: 0.4910 - val_loss: 2.4047 - val_accuracy: 0.4703\n",
            "Epoch 16/40\n",
            "216/216 [==============================] - 1s 3ms/step - loss: 2.2653 - accuracy: 0.4902 - val_loss: 2.3806 - val_accuracy: 0.4688\n",
            "Epoch 17/40\n",
            "216/216 [==============================] - 1s 3ms/step - loss: 2.2393 - accuracy: 0.4937 - val_loss: 2.3462 - val_accuracy: 0.4711\n",
            "Epoch 18/40\n",
            "216/216 [==============================] - 1s 3ms/step - loss: 2.2127 - accuracy: 0.4934 - val_loss: 2.3259 - val_accuracy: 0.4685\n",
            "Epoch 19/40\n",
            "216/216 [==============================] - 1s 3ms/step - loss: 2.1874 - accuracy: 0.4942 - val_loss: 2.2915 - val_accuracy: 0.4740\n",
            "Epoch 20/40\n",
            "216/216 [==============================] - 1s 3ms/step - loss: 2.1622 - accuracy: 0.4951 - val_loss: 2.2639 - val_accuracy: 0.4740\n",
            "Epoch 21/40\n",
            "216/216 [==============================] - 1s 3ms/step - loss: 2.1392 - accuracy: 0.4968 - val_loss: 2.2476 - val_accuracy: 0.4737\n",
            "Epoch 22/40\n",
            "216/216 [==============================] - 1s 3ms/step - loss: 2.1151 - accuracy: 0.4953 - val_loss: 2.2198 - val_accuracy: 0.4749\n",
            "Epoch 23/40\n",
            "216/216 [==============================] - 1s 3ms/step - loss: 2.0924 - accuracy: 0.4964 - val_loss: 2.1943 - val_accuracy: 0.4755\n",
            "Epoch 24/40\n",
            "216/216 [==============================] - 1s 3ms/step - loss: 2.0701 - accuracy: 0.4981 - val_loss: 2.1695 - val_accuracy: 0.4764\n",
            "Epoch 25/40\n",
            "216/216 [==============================] - 1s 3ms/step - loss: 2.0468 - accuracy: 0.4980 - val_loss: 2.1694 - val_accuracy: 0.4737\n",
            "Epoch 26/40\n",
            "216/216 [==============================] - 1s 3ms/step - loss: 2.0265 - accuracy: 0.4982 - val_loss: 2.1180 - val_accuracy: 0.4758\n",
            "Epoch 27/40\n",
            "216/216 [==============================] - 1s 3ms/step - loss: 2.0056 - accuracy: 0.4975 - val_loss: 2.0956 - val_accuracy: 0.4769\n",
            "Epoch 28/40\n",
            "216/216 [==============================] - 1s 3ms/step - loss: 1.9844 - accuracy: 0.4980 - val_loss: 2.0967 - val_accuracy: 0.4795\n",
            "Epoch 29/40\n",
            "216/216 [==============================] - 1s 3ms/step - loss: 1.9662 - accuracy: 0.5011 - val_loss: 2.0557 - val_accuracy: 0.4769\n",
            "Epoch 30/40\n",
            "216/216 [==============================] - 1s 3ms/step - loss: 1.9458 - accuracy: 0.5001 - val_loss: 2.0348 - val_accuracy: 0.4772\n",
            "Epoch 31/40\n",
            "216/216 [==============================] - 1s 3ms/step - loss: 1.9256 - accuracy: 0.5026 - val_loss: 2.0169 - val_accuracy: 0.4795\n",
            "Epoch 32/40\n",
            "216/216 [==============================] - 1s 3ms/step - loss: 1.9079 - accuracy: 0.5011 - val_loss: 1.9960 - val_accuracy: 0.4801\n",
            "Epoch 33/40\n",
            "216/216 [==============================] - 1s 3ms/step - loss: 1.8892 - accuracy: 0.5003 - val_loss: 1.9808 - val_accuracy: 0.4798\n",
            "Epoch 34/40\n",
            "216/216 [==============================] - 1s 3ms/step - loss: 1.8721 - accuracy: 0.5011 - val_loss: 1.9522 - val_accuracy: 0.4810\n",
            "Epoch 35/40\n",
            "216/216 [==============================] - 1s 3ms/step - loss: 1.8541 - accuracy: 0.5023 - val_loss: 1.9378 - val_accuracy: 0.4790\n",
            "Epoch 36/40\n",
            "216/216 [==============================] - 1s 3ms/step - loss: 1.8360 - accuracy: 0.5011 - val_loss: 1.9194 - val_accuracy: 0.4813\n",
            "Epoch 37/40\n",
            "216/216 [==============================] - 1s 3ms/step - loss: 1.8200 - accuracy: 0.5019 - val_loss: 1.9076 - val_accuracy: 0.4859\n",
            "Epoch 38/40\n",
            "216/216 [==============================] - 1s 3ms/step - loss: 1.8037 - accuracy: 0.5035 - val_loss: 1.8901 - val_accuracy: 0.4853\n",
            "Epoch 39/40\n",
            "216/216 [==============================] - 1s 3ms/step - loss: 1.7870 - accuracy: 0.5019 - val_loss: 1.8625 - val_accuracy: 0.4859\n",
            "Epoch 40/40\n",
            "216/216 [==============================] - 1s 3ms/step - loss: 1.7718 - accuracy: 0.5027 - val_loss: 1.8460 - val_accuracy: 0.4848\n"
          ],
          "name": "stdout"
        }
      ]
    },
    {
      "cell_type": "code",
      "metadata": {
        "id": "ImKwyo6HWdqa",
        "colab_type": "code",
        "outputId": "0a97bcd1-fa60-4dec-8fdd-61d07817a145",
        "colab": {
          "base_uri": "https://localhost:8080/",
          "height": 282
        }
      },
      "source": [
        "maxs = [max(h['val_accuracy']) for h in lr_histories]\n",
        "plt.plot(maxs)"
      ],
      "execution_count": 18,
      "outputs": [
        {
          "output_type": "execute_result",
          "data": {
            "text/plain": [
              "[<matplotlib.lines.Line2D at 0x7f493eaa7358>]"
            ]
          },
          "metadata": {
            "tags": []
          },
          "execution_count": 18
        },
        {
          "output_type": "display_data",
          "data": {
            "image/png": "[encoded data removed]",
            "text/plain": [
              "<Figure size 432x288 with 1 Axes>"
            ]
          },
          "metadata": {
            "tags": []
          }
        }
      ]
    },
    {
      "cell_type": "markdown",
      "metadata": {
        "id": "IS4FOh1AWdqd",
        "colab_type": "text"
      },
      "source": [
        "### Now train the model at the identified learning rate for 100 epochs\n",
        "\n",
        "The `val_acc` tops out at learning rate $10^{-3}$ or $10^{-4}$. Remember there is some randomness in how the data is split and shuffled and in the initialisation of paremeters, hence it can be one of two values. Regardless, we will take the mean of these two as the learning rate for training the model for a longer time. 100 epochs.\n",
        "\n",
        "Then plot the training history of this run - again taken from the `history.history` dictionary."
      ]
    },
    {
      "cell_type": "code",
      "metadata": {
        "id": "yB8JzmY_Wdqd",
        "colab_type": "code",
        "outputId": "a31e5b06-c63a-4a86-f70d-8702b38257d5",
        "colab": {
          "base_uri": "https://localhost:8080/",
          "height": 1000
        }
      },
      "source": [
        "# define the keras model\n",
        "from tensorflow.keras.optimizers import Adam\n",
        "model = Sequential()\n",
        "model.add(Dense(12, input_dim=300, activation='relu'))\n",
        "model.add(Dense(8, activation='relu'))\n",
        "model.add(Dense(1, activation='sigmoid'))\n",
        "ad = Adam(learning_rate=5e-4, beta_1=0.9, beta_2=0.999, amsgrad=False)\n",
        "model.compile(loss='binary_crossentropy', optimizer=ad, metrics=['accuracy'])\n",
        "history = model.fit(X, y, epochs=100, batch_size=64, validation_split=0.2)"
      ],
      "execution_count": 19,
      "outputs": [
        {
          "output_type": "stream",
          "text": [
            "Epoch 1/100\n",
            "216/216 [==============================] - 1s 3ms/step - loss: 0.8115 - accuracy: 0.4908 - val_loss: 0.7203 - val_accuracy: 0.4935\n",
            "Epoch 2/100\n",
            "216/216 [==============================] - 1s 3ms/step - loss: 0.7128 - accuracy: 0.5092 - val_loss: 0.7021 - val_accuracy: 0.5178\n",
            "Epoch 3/100\n",
            "216/216 [==============================] - 1s 3ms/step - loss: 0.7025 - accuracy: 0.5161 - val_loss: 0.7033 - val_accuracy: 0.5149\n",
            "Epoch 4/100\n",
            "216/216 [==============================] - 1s 3ms/step - loss: 0.6969 - accuracy: 0.5226 - val_loss: 0.6909 - val_accuracy: 0.5352\n",
            "Epoch 5/100\n",
            "216/216 [==============================] - 1s 3ms/step - loss: 0.6944 - accuracy: 0.5248 - val_loss: 0.7053 - val_accuracy: 0.5132\n",
            "Epoch 6/100\n",
            "216/216 [==============================] - 1s 3ms/step - loss: 0.6910 - accuracy: 0.5342 - val_loss: 0.6860 - val_accuracy: 0.5457\n",
            "Epoch 7/100\n",
            "216/216 [==============================] - 1s 3ms/step - loss: 0.6901 - accuracy: 0.5427 - val_loss: 0.6885 - val_accuracy: 0.5361\n",
            "Epoch 8/100\n",
            "216/216 [==============================] - 1s 3ms/step - loss: 0.6877 - accuracy: 0.5419 - val_loss: 0.6825 - val_accuracy: 0.5616\n",
            "Epoch 9/100\n",
            "216/216 [==============================] - 1s 3ms/step - loss: 0.6864 - accuracy: 0.5514 - val_loss: 0.6878 - val_accuracy: 0.5323\n",
            "Epoch 10/100\n",
            "216/216 [==============================] - 1s 3ms/step - loss: 0.6870 - accuracy: 0.5467 - val_loss: 0.6824 - val_accuracy: 0.5567\n",
            "Epoch 11/100\n",
            "216/216 [==============================] - 1s 3ms/step - loss: 0.6846 - accuracy: 0.5545 - val_loss: 0.6781 - val_accuracy: 0.5773\n",
            "Epoch 12/100\n",
            "216/216 [==============================] - 1s 3ms/step - loss: 0.6840 - accuracy: 0.5552 - val_loss: 0.6807 - val_accuracy: 0.5550\n",
            "Epoch 13/100\n",
            "216/216 [==============================] - 1s 3ms/step - loss: 0.6803 - accuracy: 0.5663 - val_loss: 0.6771 - val_accuracy: 0.5747\n",
            "Epoch 14/100\n",
            "216/216 [==============================] - 1s 3ms/step - loss: 0.6793 - accuracy: 0.5718 - val_loss: 0.6724 - val_accuracy: 0.5933\n",
            "Epoch 15/100\n",
            "216/216 [==============================] - 1s 3ms/step - loss: 0.6765 - accuracy: 0.5740 - val_loss: 0.6698 - val_accuracy: 0.5950\n",
            "Epoch 16/100\n",
            "216/216 [==============================] - 1s 3ms/step - loss: 0.6738 - accuracy: 0.5797 - val_loss: 0.6688 - val_accuracy: 0.5953\n",
            "Epoch 17/100\n",
            "216/216 [==============================] - 1s 3ms/step - loss: 0.6729 - accuracy: 0.5842 - val_loss: 0.6722 - val_accuracy: 0.5796\n",
            "Epoch 18/100\n",
            "216/216 [==============================] - 1s 3ms/step - loss: 0.6672 - accuracy: 0.5941 - val_loss: 0.6647 - val_accuracy: 0.6063\n",
            "Epoch 19/100\n",
            "216/216 [==============================] - 1s 3ms/step - loss: 0.6668 - accuracy: 0.5945 - val_loss: 0.6598 - val_accuracy: 0.6176\n",
            "Epoch 20/100\n",
            "216/216 [==============================] - 1s 3ms/step - loss: 0.6602 - accuracy: 0.6058 - val_loss: 0.6612 - val_accuracy: 0.6037\n",
            "Epoch 21/100\n",
            "216/216 [==============================] - 1s 3ms/step - loss: 0.6579 - accuracy: 0.6062 - val_loss: 0.6493 - val_accuracy: 0.6234\n",
            "Epoch 22/100\n",
            "216/216 [==============================] - 1s 3ms/step - loss: 0.6550 - accuracy: 0.6110 - val_loss: 0.6502 - val_accuracy: 0.6182\n",
            "Epoch 23/100\n",
            "216/216 [==============================] - 1s 3ms/step - loss: 0.6523 - accuracy: 0.6156 - val_loss: 0.6397 - val_accuracy: 0.6435\n",
            "Epoch 24/100\n",
            "216/216 [==============================] - 1s 3ms/step - loss: 0.6445 - accuracy: 0.6278 - val_loss: 0.6477 - val_accuracy: 0.6237\n",
            "Epoch 25/100\n",
            "216/216 [==============================] - 1s 3ms/step - loss: 0.6401 - accuracy: 0.6347 - val_loss: 0.6654 - val_accuracy: 0.5762\n",
            "Epoch 26/100\n",
            "216/216 [==============================] - 1s 3ms/step - loss: 0.6422 - accuracy: 0.6286 - val_loss: 0.7321 - val_accuracy: 0.5416\n",
            "Epoch 27/100\n",
            "216/216 [==============================] - 1s 3ms/step - loss: 0.6422 - accuracy: 0.6281 - val_loss: 0.6271 - val_accuracy: 0.6580\n",
            "Epoch 28/100\n",
            "216/216 [==============================] - 1s 3ms/step - loss: 0.6308 - accuracy: 0.6439 - val_loss: 0.6238 - val_accuracy: 0.6606\n",
            "Epoch 29/100\n",
            "216/216 [==============================] - 1s 3ms/step - loss: 0.6330 - accuracy: 0.6355 - val_loss: 0.6257 - val_accuracy: 0.6536\n",
            "Epoch 30/100\n",
            "216/216 [==============================] - 1s 3ms/step - loss: 0.6308 - accuracy: 0.6384 - val_loss: 0.6256 - val_accuracy: 0.6493\n",
            "Epoch 31/100\n",
            "216/216 [==============================] - 1s 3ms/step - loss: 0.6304 - accuracy: 0.6414 - val_loss: 0.6370 - val_accuracy: 0.6319\n",
            "Epoch 32/100\n",
            "216/216 [==============================] - 1s 3ms/step - loss: 0.6226 - accuracy: 0.6513 - val_loss: 0.6183 - val_accuracy: 0.6600\n",
            "Epoch 33/100\n",
            "216/216 [==============================] - 1s 3ms/step - loss: 0.6329 - accuracy: 0.6413 - val_loss: 0.6781 - val_accuracy: 0.5770\n",
            "Epoch 34/100\n",
            "216/216 [==============================] - 1s 3ms/step - loss: 0.6266 - accuracy: 0.6450 - val_loss: 0.6200 - val_accuracy: 0.6551\n",
            "Epoch 35/100\n",
            "216/216 [==============================] - 1s 3ms/step - loss: 0.6238 - accuracy: 0.6508 - val_loss: 0.6342 - val_accuracy: 0.6356\n",
            "Epoch 36/100\n",
            "216/216 [==============================] - 1s 3ms/step - loss: 0.6200 - accuracy: 0.6531 - val_loss: 0.6229 - val_accuracy: 0.6585\n",
            "Epoch 37/100\n",
            "216/216 [==============================] - 1s 3ms/step - loss: 0.6268 - accuracy: 0.6444 - val_loss: 0.6315 - val_accuracy: 0.6385\n",
            "Epoch 38/100\n",
            "216/216 [==============================] - 1s 3ms/step - loss: 0.6175 - accuracy: 0.6603 - val_loss: 0.6517 - val_accuracy: 0.6162\n",
            "Epoch 39/100\n",
            "216/216 [==============================] - 1s 3ms/step - loss: 0.6224 - accuracy: 0.6505 - val_loss: 0.6151 - val_accuracy: 0.6620\n",
            "Epoch 40/100\n",
            "216/216 [==============================] - 1s 3ms/step - loss: 0.6191 - accuracy: 0.6548 - val_loss: 0.6139 - val_accuracy: 0.6643\n",
            "Epoch 41/100\n",
            "216/216 [==============================] - 1s 3ms/step - loss: 0.6213 - accuracy: 0.6518 - val_loss: 0.6291 - val_accuracy: 0.6507\n",
            "Epoch 42/100\n",
            "216/216 [==============================] - 1s 3ms/step - loss: 0.6181 - accuracy: 0.6558 - val_loss: 0.6195 - val_accuracy: 0.6545\n",
            "Epoch 43/100\n",
            "216/216 [==============================] - 1s 3ms/step - loss: 0.6196 - accuracy: 0.6530 - val_loss: 0.6181 - val_accuracy: 0.6641\n",
            "Epoch 44/100\n",
            "216/216 [==============================] - 1s 3ms/step - loss: 0.6235 - accuracy: 0.6495 - val_loss: 0.6129 - val_accuracy: 0.6690\n",
            "Epoch 45/100\n",
            "216/216 [==============================] - 1s 3ms/step - loss: 0.6188 - accuracy: 0.6547 - val_loss: 0.6283 - val_accuracy: 0.6432\n",
            "Epoch 46/100\n",
            "216/216 [==============================] - 1s 3ms/step - loss: 0.6209 - accuracy: 0.6533 - val_loss: 0.6179 - val_accuracy: 0.6562\n",
            "Epoch 47/100\n",
            "216/216 [==============================] - 1s 3ms/step - loss: 0.6201 - accuracy: 0.6575 - val_loss: 0.6125 - val_accuracy: 0.6664\n",
            "Epoch 48/100\n",
            "216/216 [==============================] - 1s 3ms/step - loss: 0.6208 - accuracy: 0.6519 - val_loss: 0.6126 - val_accuracy: 0.6649\n",
            "Epoch 49/100\n",
            "216/216 [==============================] - 1s 3ms/step - loss: 0.6211 - accuracy: 0.6503 - val_loss: 0.6143 - val_accuracy: 0.6632\n",
            "Epoch 50/100\n",
            "216/216 [==============================] - 1s 3ms/step - loss: 0.6194 - accuracy: 0.6537 - val_loss: 0.6704 - val_accuracy: 0.6052\n",
            "Epoch 51/100\n",
            "216/216 [==============================] - 1s 3ms/step - loss: 0.6238 - accuracy: 0.6479 - val_loss: 0.6128 - val_accuracy: 0.6661\n",
            "Epoch 52/100\n",
            "216/216 [==============================] - 1s 3ms/step - loss: 0.6169 - accuracy: 0.6536 - val_loss: 0.6138 - val_accuracy: 0.6641\n",
            "Epoch 53/100\n",
            "216/216 [==============================] - 1s 3ms/step - loss: 0.6167 - accuracy: 0.6594 - val_loss: 0.6124 - val_accuracy: 0.6632\n",
            "Epoch 54/100\n",
            "216/216 [==============================] - 1s 3ms/step - loss: 0.6157 - accuracy: 0.6574 - val_loss: 0.6355 - val_accuracy: 0.6362\n",
            "Epoch 55/100\n",
            "216/216 [==============================] - 1s 3ms/step - loss: 0.6214 - accuracy: 0.6489 - val_loss: 0.6410 - val_accuracy: 0.6321\n",
            "Epoch 56/100\n",
            "216/216 [==============================] - 1s 3ms/step - loss: 0.6172 - accuracy: 0.6559 - val_loss: 0.6705 - val_accuracy: 0.5936\n",
            "Epoch 57/100\n",
            "216/216 [==============================] - 1s 3ms/step - loss: 0.6175 - accuracy: 0.6542 - val_loss: 0.6171 - val_accuracy: 0.6612\n",
            "Epoch 58/100\n",
            "216/216 [==============================] - 1s 3ms/step - loss: 0.6134 - accuracy: 0.6598 - val_loss: 0.6156 - val_accuracy: 0.6600\n",
            "Epoch 59/100\n",
            "216/216 [==============================] - 1s 3ms/step - loss: 0.6176 - accuracy: 0.6533 - val_loss: 0.6331 - val_accuracy: 0.6458\n",
            "Epoch 60/100\n",
            "216/216 [==============================] - 1s 3ms/step - loss: 0.6169 - accuracy: 0.6578 - val_loss: 0.6166 - val_accuracy: 0.6539\n",
            "Epoch 61/100\n",
            "216/216 [==============================] - 1s 3ms/step - loss: 0.6202 - accuracy: 0.6542 - val_loss: 0.6117 - val_accuracy: 0.6690\n",
            "Epoch 62/100\n",
            "216/216 [==============================] - 1s 3ms/step - loss: 0.6152 - accuracy: 0.6584 - val_loss: 0.6156 - val_accuracy: 0.6600\n",
            "Epoch 63/100\n",
            "216/216 [==============================] - 1s 3ms/step - loss: 0.6154 - accuracy: 0.6596 - val_loss: 0.6145 - val_accuracy: 0.6620\n",
            "Epoch 64/100\n",
            "216/216 [==============================] - 1s 3ms/step - loss: 0.6181 - accuracy: 0.6592 - val_loss: 0.6119 - val_accuracy: 0.6670\n",
            "Epoch 65/100\n",
            "216/216 [==============================] - 1s 3ms/step - loss: 0.6133 - accuracy: 0.6587 - val_loss: 0.6268 - val_accuracy: 0.6464\n",
            "Epoch 66/100\n",
            "216/216 [==============================] - 1s 3ms/step - loss: 0.6179 - accuracy: 0.6573 - val_loss: 0.6197 - val_accuracy: 0.6516\n",
            "Epoch 67/100\n",
            "216/216 [==============================] - 1s 3ms/step - loss: 0.6195 - accuracy: 0.6569 - val_loss: 0.6384 - val_accuracy: 0.6362\n",
            "Epoch 68/100\n",
            "216/216 [==============================] - 1s 3ms/step - loss: 0.6160 - accuracy: 0.6578 - val_loss: 0.6113 - val_accuracy: 0.6684\n",
            "Epoch 69/100\n",
            "216/216 [==============================] - 1s 3ms/step - loss: 0.6177 - accuracy: 0.6579 - val_loss: 0.6188 - val_accuracy: 0.6530\n",
            "Epoch 70/100\n",
            "216/216 [==============================] - 1s 3ms/step - loss: 0.6176 - accuracy: 0.6571 - val_loss: 0.6184 - val_accuracy: 0.6539\n",
            "Epoch 71/100\n",
            "216/216 [==============================] - 1s 3ms/step - loss: 0.6165 - accuracy: 0.6528 - val_loss: 0.6387 - val_accuracy: 0.6368\n",
            "Epoch 72/100\n",
            "216/216 [==============================] - 1s 3ms/step - loss: 0.6191 - accuracy: 0.6556 - val_loss: 0.6128 - val_accuracy: 0.6652\n",
            "Epoch 73/100\n",
            "216/216 [==============================] - 1s 3ms/step - loss: 0.6138 - accuracy: 0.6585 - val_loss: 0.6197 - val_accuracy: 0.6516\n",
            "Epoch 74/100\n",
            "216/216 [==============================] - 1s 3ms/step - loss: 0.6132 - accuracy: 0.6616 - val_loss: 0.6127 - val_accuracy: 0.6643\n",
            "Epoch 75/100\n",
            "216/216 [==============================] - 1s 3ms/step - loss: 0.6194 - accuracy: 0.6562 - val_loss: 0.6168 - val_accuracy: 0.6591\n",
            "Epoch 76/100\n",
            "216/216 [==============================] - 1s 3ms/step - loss: 0.6258 - accuracy: 0.6486 - val_loss: 0.6137 - val_accuracy: 0.6638\n",
            "Epoch 77/100\n",
            "216/216 [==============================] - 1s 3ms/step - loss: 0.6175 - accuracy: 0.6546 - val_loss: 0.6115 - val_accuracy: 0.6678\n",
            "Epoch 78/100\n",
            "216/216 [==============================] - 1s 3ms/step - loss: 0.6146 - accuracy: 0.6604 - val_loss: 0.6138 - val_accuracy: 0.6623\n",
            "Epoch 79/100\n",
            "216/216 [==============================] - 1s 3ms/step - loss: 0.6119 - accuracy: 0.6629 - val_loss: 0.6166 - val_accuracy: 0.6559\n",
            "Epoch 80/100\n",
            "216/216 [==============================] - 1s 3ms/step - loss: 0.6124 - accuracy: 0.6635 - val_loss: 0.6561 - val_accuracy: 0.6165\n",
            "Epoch 81/100\n",
            "216/216 [==============================] - 1s 3ms/step - loss: 0.6161 - accuracy: 0.6570 - val_loss: 0.6167 - val_accuracy: 0.6539\n",
            "Epoch 82/100\n",
            "216/216 [==============================] - 1s 3ms/step - loss: 0.6144 - accuracy: 0.6594 - val_loss: 0.6119 - val_accuracy: 0.6655\n",
            "Epoch 83/100\n",
            "216/216 [==============================] - 1s 3ms/step - loss: 0.6192 - accuracy: 0.6537 - val_loss: 0.6155 - val_accuracy: 0.6606\n",
            "Epoch 84/100\n",
            "216/216 [==============================] - 1s 3ms/step - loss: 0.6144 - accuracy: 0.6568 - val_loss: 0.6581 - val_accuracy: 0.6226\n",
            "Epoch 85/100\n",
            "216/216 [==============================] - 1s 3ms/step - loss: 0.6180 - accuracy: 0.6575 - val_loss: 0.6171 - val_accuracy: 0.6583\n",
            "Epoch 86/100\n",
            "216/216 [==============================] - 1s 3ms/step - loss: 0.6151 - accuracy: 0.6582 - val_loss: 0.6115 - val_accuracy: 0.6658\n",
            "Epoch 87/100\n",
            "216/216 [==============================] - 1s 3ms/step - loss: 0.6129 - accuracy: 0.6608 - val_loss: 0.6697 - val_accuracy: 0.6020\n",
            "Epoch 88/100\n",
            "216/216 [==============================] - 1s 3ms/step - loss: 0.6164 - accuracy: 0.6574 - val_loss: 0.6191 - val_accuracy: 0.6516\n",
            "Epoch 89/100\n",
            "216/216 [==============================] - 1s 3ms/step - loss: 0.6111 - accuracy: 0.6594 - val_loss: 0.6131 - val_accuracy: 0.6626\n",
            "Epoch 90/100\n",
            "216/216 [==============================] - 1s 3ms/step - loss: 0.6153 - accuracy: 0.6563 - val_loss: 0.6121 - val_accuracy: 0.6646\n",
            "Epoch 91/100\n",
            "216/216 [==============================] - 1s 3ms/step - loss: 0.6237 - accuracy: 0.6463 - val_loss: 0.6118 - val_accuracy: 0.6652\n",
            "Epoch 92/100\n",
            "216/216 [==============================] - 1s 3ms/step - loss: 0.6134 - accuracy: 0.6630 - val_loss: 0.6116 - val_accuracy: 0.6661\n",
            "Epoch 93/100\n",
            "216/216 [==============================] - 1s 3ms/step - loss: 0.6167 - accuracy: 0.6585 - val_loss: 0.6308 - val_accuracy: 0.6446\n",
            "Epoch 94/100\n",
            "216/216 [==============================] - 1s 3ms/step - loss: 0.6115 - accuracy: 0.6625 - val_loss: 0.6118 - val_accuracy: 0.6661\n",
            "Epoch 95/100\n",
            "216/216 [==============================] - 1s 3ms/step - loss: 0.6138 - accuracy: 0.6595 - val_loss: 0.6126 - val_accuracy: 0.6649\n",
            "Epoch 96/100\n",
            "216/216 [==============================] - 1s 3ms/step - loss: 0.6150 - accuracy: 0.6565 - val_loss: 0.6110 - val_accuracy: 0.6670\n",
            "Epoch 97/100\n",
            "216/216 [==============================] - 1s 3ms/step - loss: 0.6112 - accuracy: 0.6633 - val_loss: 0.6120 - val_accuracy: 0.6672\n",
            "Epoch 98/100\n",
            "216/216 [==============================] - 1s 3ms/step - loss: 0.6148 - accuracy: 0.6578 - val_loss: 0.6170 - val_accuracy: 0.6565\n",
            "Epoch 99/100\n",
            "216/216 [==============================] - 1s 3ms/step - loss: 0.6124 - accuracy: 0.6594 - val_loss: 0.6505 - val_accuracy: 0.6211\n",
            "Epoch 100/100\n",
            "216/216 [==============================] - 1s 3ms/step - loss: 0.6219 - accuracy: 0.6529 - val_loss: 0.6114 - val_accuracy: 0.6672\n"
          ],
          "name": "stdout"
        }
      ]
    },
    {
      "cell_type": "code",
      "metadata": {
        "id": "uDgjkiysWdqg",
        "colab_type": "code",
        "outputId": "c99689f3-86bd-4d98-d577-66e339cd8365",
        "colab": {
          "base_uri": "https://localhost:8080/",
          "height": 283
        }
      },
      "source": [
        "plt.plot(history.history['accuracy'])\n",
        "plt.plot(history.history['val_accuracy'])\n",
        "print(max(history.history['val_accuracy']))"
      ],
      "execution_count": 20,
      "outputs": [
        {
          "output_type": "stream",
          "text": [
            "0.668987512588501\n"
          ],
          "name": "stdout"
        },
        {
          "output_type": "display_data",
          "data": {
            "image/png": "[encoded data removed]",
            "text/plain": [
              "<Figure size 432x288 with 1 Axes>"
            ]
          },
          "metadata": {
            "tags": []
          }
        }
      ]
    },
    {
      "cell_type": "markdown",
      "metadata": {
        "id": "trnGTKe8Wdqi",
        "colab_type": "text"
      },
      "source": [
        "## Speed up the learning\n",
        "\n",
        "Even when we are using a slower learning rate, it is possible to speed up the training process. `BatchNormalization` is covered in the lectures and involves normalising all values going into a layer before the forward pass. Although it introduces some small extra computational cost into the forward pass, the results for speeding up learning rate can be spectacular - particularly in the deeper networks that we will look at in the next part of this exercise.\n",
        "\n",
        "For now, import `BatchNormalization` from `tensorflow.keras.layers` and add a `BatchNormalization()` unit between each of your `Dense` layers.\n",
        "\n",
        "Retrain the model and look at the learning rates."
      ]
    },
    {
      "cell_type": "code",
      "metadata": {
        "id": "cEbsvpWHWdqk",
        "colab_type": "code",
        "outputId": "b4646654-ac1c-415b-a7fe-6750d8101a29",
        "colab": {
          "base_uri": "https://localhost:8080/",
          "height": 1000
        }
      },
      "source": [
        "# define the keras model\n",
        "from tensorflow.keras.layers import BatchNormalization\n",
        "from tensorflow.keras.optimizers import Adam\n",
        "model = Sequential()\n",
        "model.add(Dense(12, input_dim=300, activation='relu'))\n",
        "model.add(BatchNormalization())\n",
        "model.add(Dense(8, activation='relu'))\n",
        "model.add(BatchNormalization())\n",
        "model.add(Dense(1, activation='sigmoid'))\n",
        "ad = Adam(learning_rate=1e-4)\n",
        "model.compile(loss='binary_crossentropy', optimizer=ad, metrics=['accuracy'])\n",
        "history_bn = model.fit(X, y, epochs=100, batch_size=64, validation_split=0.2)"
      ],
      "execution_count": 21,
      "outputs": [
        {
          "output_type": "stream",
          "text": [
            "Epoch 1/100\n",
            "216/216 [==============================] - 1s 4ms/step - loss: 0.8622 - accuracy: 0.4823 - val_loss: 0.8539 - val_accuracy: 0.4848\n",
            "Epoch 2/100\n",
            "216/216 [==============================] - 1s 4ms/step - loss: 0.7976 - accuracy: 0.4900 - val_loss: 0.7905 - val_accuracy: 0.4912\n",
            "Epoch 3/100\n",
            "216/216 [==============================] - 1s 4ms/step - loss: 0.7612 - accuracy: 0.4923 - val_loss: 0.7561 - val_accuracy: 0.4987\n",
            "Epoch 4/100\n",
            "216/216 [==============================] - 1s 4ms/step - loss: 0.7351 - accuracy: 0.5032 - val_loss: 0.7330 - val_accuracy: 0.5091\n",
            "Epoch 5/100\n",
            "216/216 [==============================] - 1s 4ms/step - loss: 0.7190 - accuracy: 0.5169 - val_loss: 0.7204 - val_accuracy: 0.5196\n",
            "Epoch 6/100\n",
            "216/216 [==============================] - 1s 4ms/step - loss: 0.7093 - accuracy: 0.5301 - val_loss: 0.7111 - val_accuracy: 0.5257\n",
            "Epoch 7/100\n",
            "216/216 [==============================] - 1s 4ms/step - loss: 0.7024 - accuracy: 0.5338 - val_loss: 0.7042 - val_accuracy: 0.5309\n",
            "Epoch 8/100\n",
            "216/216 [==============================] - 1s 4ms/step - loss: 0.6958 - accuracy: 0.5449 - val_loss: 0.6969 - val_accuracy: 0.5419\n",
            "Epoch 9/100\n",
            "216/216 [==============================] - 1s 4ms/step - loss: 0.6886 - accuracy: 0.5532 - val_loss: 0.6909 - val_accuracy: 0.5538\n",
            "Epoch 10/100\n",
            "216/216 [==============================] - 1s 4ms/step - loss: 0.6834 - accuracy: 0.5632 - val_loss: 0.6857 - val_accuracy: 0.5553\n",
            "Epoch 11/100\n",
            "216/216 [==============================] - 1s 4ms/step - loss: 0.6787 - accuracy: 0.5705 - val_loss: 0.6811 - val_accuracy: 0.5672\n",
            "Epoch 12/100\n",
            "216/216 [==============================] - 1s 4ms/step - loss: 0.6719 - accuracy: 0.5844 - val_loss: 0.6774 - val_accuracy: 0.5799\n",
            "Epoch 13/100\n",
            "216/216 [==============================] - 1s 4ms/step - loss: 0.6652 - accuracy: 0.5938 - val_loss: 0.6723 - val_accuracy: 0.5880\n",
            "Epoch 14/100\n",
            "216/216 [==============================] - 1s 4ms/step - loss: 0.6587 - accuracy: 0.6038 - val_loss: 0.6607 - val_accuracy: 0.6057\n",
            "Epoch 15/100\n",
            "216/216 [==============================] - 1s 4ms/step - loss: 0.6507 - accuracy: 0.6194 - val_loss: 0.6532 - val_accuracy: 0.6171\n",
            "Epoch 16/100\n",
            "216/216 [==============================] - 1s 4ms/step - loss: 0.6427 - accuracy: 0.6302 - val_loss: 0.6668 - val_accuracy: 0.5965\n",
            "Epoch 17/100\n",
            "216/216 [==============================] - 1s 4ms/step - loss: 0.6359 - accuracy: 0.6418 - val_loss: 0.6440 - val_accuracy: 0.6356\n",
            "Epoch 18/100\n",
            "216/216 [==============================] - 1s 4ms/step - loss: 0.6309 - accuracy: 0.6429 - val_loss: 0.6349 - val_accuracy: 0.6394\n",
            "Epoch 19/100\n",
            "216/216 [==============================] - 1s 4ms/step - loss: 0.6265 - accuracy: 0.6504 - val_loss: 0.6528 - val_accuracy: 0.6153\n",
            "Epoch 20/100\n",
            "216/216 [==============================] - 1s 4ms/step - loss: 0.6232 - accuracy: 0.6551 - val_loss: 0.6281 - val_accuracy: 0.6464\n",
            "Epoch 21/100\n",
            "216/216 [==============================] - 1s 4ms/step - loss: 0.6211 - accuracy: 0.6556 - val_loss: 0.6404 - val_accuracy: 0.6342\n",
            "Epoch 22/100\n",
            "216/216 [==============================] - 1s 4ms/step - loss: 0.6182 - accuracy: 0.6567 - val_loss: 0.6247 - val_accuracy: 0.6539\n",
            "Epoch 23/100\n",
            "216/216 [==============================] - 1s 4ms/step - loss: 0.6171 - accuracy: 0.6600 - val_loss: 0.6259 - val_accuracy: 0.6516\n",
            "Epoch 24/100\n",
            "216/216 [==============================] - 1s 4ms/step - loss: 0.6136 - accuracy: 0.6648 - val_loss: 0.6246 - val_accuracy: 0.6554\n",
            "Epoch 25/100\n",
            "216/216 [==============================] - 1s 4ms/step - loss: 0.6133 - accuracy: 0.6638 - val_loss: 0.6227 - val_accuracy: 0.6556\n",
            "Epoch 26/100\n",
            "216/216 [==============================] - 1s 4ms/step - loss: 0.6148 - accuracy: 0.6617 - val_loss: 0.6408 - val_accuracy: 0.6388\n",
            "Epoch 27/100\n",
            "216/216 [==============================] - 1s 4ms/step - loss: 0.6130 - accuracy: 0.6648 - val_loss: 0.6246 - val_accuracy: 0.6551\n",
            "Epoch 28/100\n",
            "216/216 [==============================] - 1s 4ms/step - loss: 0.6132 - accuracy: 0.6611 - val_loss: 0.6448 - val_accuracy: 0.6333\n",
            "Epoch 29/100\n",
            "216/216 [==============================] - 1s 4ms/step - loss: 0.6110 - accuracy: 0.6625 - val_loss: 0.6223 - val_accuracy: 0.6562\n",
            "Epoch 30/100\n",
            "216/216 [==============================] - 1s 4ms/step - loss: 0.6111 - accuracy: 0.6679 - val_loss: 0.6190 - val_accuracy: 0.6585\n",
            "Epoch 31/100\n",
            "216/216 [==============================] - 1s 4ms/step - loss: 0.6095 - accuracy: 0.6640 - val_loss: 0.6186 - val_accuracy: 0.6583\n",
            "Epoch 32/100\n",
            "216/216 [==============================] - 1s 4ms/step - loss: 0.6100 - accuracy: 0.6645 - val_loss: 0.6394 - val_accuracy: 0.6417\n",
            "Epoch 33/100\n",
            "216/216 [==============================] - 1s 4ms/step - loss: 0.6098 - accuracy: 0.6679 - val_loss: 0.6232 - val_accuracy: 0.6559\n",
            "Epoch 34/100\n",
            "216/216 [==============================] - 1s 4ms/step - loss: 0.6084 - accuracy: 0.6678 - val_loss: 0.6198 - val_accuracy: 0.6594\n",
            "Epoch 35/100\n",
            "216/216 [==============================] - 1s 4ms/step - loss: 0.6086 - accuracy: 0.6664 - val_loss: 0.6199 - val_accuracy: 0.6580\n",
            "Epoch 36/100\n",
            "216/216 [==============================] - 1s 4ms/step - loss: 0.6091 - accuracy: 0.6649 - val_loss: 0.6224 - val_accuracy: 0.6568\n",
            "Epoch 37/100\n",
            "216/216 [==============================] - 1s 4ms/step - loss: 0.6089 - accuracy: 0.6682 - val_loss: 0.6185 - val_accuracy: 0.6606\n",
            "Epoch 38/100\n",
            "216/216 [==============================] - 1s 4ms/step - loss: 0.6075 - accuracy: 0.6690 - val_loss: 0.6171 - val_accuracy: 0.6591\n",
            "Epoch 39/100\n",
            "216/216 [==============================] - 1s 4ms/step - loss: 0.6076 - accuracy: 0.6653 - val_loss: 0.6175 - val_accuracy: 0.6588\n",
            "Epoch 40/100\n",
            "216/216 [==============================] - 1s 4ms/step - loss: 0.6069 - accuracy: 0.6681 - val_loss: 0.6187 - val_accuracy: 0.6603\n",
            "Epoch 41/100\n",
            "216/216 [==============================] - 1s 4ms/step - loss: 0.6080 - accuracy: 0.6690 - val_loss: 0.6171 - val_accuracy: 0.6617\n",
            "Epoch 42/100\n",
            "216/216 [==============================] - 1s 4ms/step - loss: 0.6062 - accuracy: 0.6718 - val_loss: 0.6213 - val_accuracy: 0.6574\n",
            "Epoch 43/100\n",
            "216/216 [==============================] - 1s 4ms/step - loss: 0.6058 - accuracy: 0.6711 - val_loss: 0.6203 - val_accuracy: 0.6565\n",
            "Epoch 44/100\n",
            "216/216 [==============================] - 1s 4ms/step - loss: 0.6089 - accuracy: 0.6657 - val_loss: 0.6170 - val_accuracy: 0.6606\n",
            "Epoch 45/100\n",
            "216/216 [==============================] - 1s 4ms/step - loss: 0.6064 - accuracy: 0.6671 - val_loss: 0.6182 - val_accuracy: 0.6612\n",
            "Epoch 46/100\n",
            "216/216 [==============================] - 1s 4ms/step - loss: 0.6061 - accuracy: 0.6679 - val_loss: 0.6207 - val_accuracy: 0.6588\n",
            "Epoch 47/100\n",
            "216/216 [==============================] - 1s 4ms/step - loss: 0.6058 - accuracy: 0.6699 - val_loss: 0.6190 - val_accuracy: 0.6594\n",
            "Epoch 48/100\n",
            "216/216 [==============================] - 1s 4ms/step - loss: 0.6052 - accuracy: 0.6666 - val_loss: 0.6186 - val_accuracy: 0.6594\n",
            "Epoch 49/100\n",
            "216/216 [==============================] - 1s 4ms/step - loss: 0.6064 - accuracy: 0.6691 - val_loss: 0.6377 - val_accuracy: 0.6429\n",
            "Epoch 50/100\n",
            "216/216 [==============================] - 1s 4ms/step - loss: 0.6064 - accuracy: 0.6694 - val_loss: 0.6165 - val_accuracy: 0.6594\n",
            "Epoch 51/100\n",
            "216/216 [==============================] - 1s 4ms/step - loss: 0.6058 - accuracy: 0.6686 - val_loss: 0.6186 - val_accuracy: 0.6594\n",
            "Epoch 52/100\n",
            "216/216 [==============================] - 1s 4ms/step - loss: 0.6052 - accuracy: 0.6708 - val_loss: 0.6230 - val_accuracy: 0.6556\n",
            "Epoch 53/100\n",
            "216/216 [==============================] - 1s 4ms/step - loss: 0.6057 - accuracy: 0.6708 - val_loss: 0.6167 - val_accuracy: 0.6606\n",
            "Epoch 54/100\n",
            "216/216 [==============================] - 1s 4ms/step - loss: 0.6050 - accuracy: 0.6744 - val_loss: 0.6260 - val_accuracy: 0.6475\n",
            "Epoch 55/100\n",
            "216/216 [==============================] - 1s 4ms/step - loss: 0.6042 - accuracy: 0.6708 - val_loss: 0.6204 - val_accuracy: 0.6580\n",
            "Epoch 56/100\n",
            "216/216 [==============================] - 1s 4ms/step - loss: 0.6053 - accuracy: 0.6706 - val_loss: 0.6167 - val_accuracy: 0.6588\n",
            "Epoch 57/100\n",
            "216/216 [==============================] - 1s 4ms/step - loss: 0.6046 - accuracy: 0.6713 - val_loss: 0.6170 - val_accuracy: 0.6617\n",
            "Epoch 58/100\n",
            "216/216 [==============================] - 1s 4ms/step - loss: 0.6048 - accuracy: 0.6690 - val_loss: 0.6186 - val_accuracy: 0.6617\n",
            "Epoch 59/100\n",
            "216/216 [==============================] - 1s 4ms/step - loss: 0.6038 - accuracy: 0.6732 - val_loss: 0.6248 - val_accuracy: 0.6490\n",
            "Epoch 60/100\n",
            "216/216 [==============================] - 1s 4ms/step - loss: 0.6036 - accuracy: 0.6737 - val_loss: 0.6208 - val_accuracy: 0.6556\n",
            "Epoch 61/100\n",
            "216/216 [==============================] - 1s 4ms/step - loss: 0.6047 - accuracy: 0.6727 - val_loss: 0.6194 - val_accuracy: 0.6597\n",
            "Epoch 62/100\n",
            "216/216 [==============================] - 1s 4ms/step - loss: 0.6034 - accuracy: 0.6732 - val_loss: 0.6312 - val_accuracy: 0.6513\n",
            "Epoch 63/100\n",
            "216/216 [==============================] - 1s 4ms/step - loss: 0.6027 - accuracy: 0.6719 - val_loss: 0.6190 - val_accuracy: 0.6600\n",
            "Epoch 64/100\n",
            "216/216 [==============================] - 1s 4ms/step - loss: 0.6046 - accuracy: 0.6723 - val_loss: 0.6168 - val_accuracy: 0.6629\n",
            "Epoch 65/100\n",
            "216/216 [==============================] - 1s 4ms/step - loss: 0.6029 - accuracy: 0.6734 - val_loss: 0.6182 - val_accuracy: 0.6583\n",
            "Epoch 66/100\n",
            "216/216 [==============================] - 1s 4ms/step - loss: 0.6031 - accuracy: 0.6745 - val_loss: 0.6320 - val_accuracy: 0.6411\n",
            "Epoch 67/100\n",
            "216/216 [==============================] - 1s 4ms/step - loss: 0.6037 - accuracy: 0.6723 - val_loss: 0.6176 - val_accuracy: 0.6562\n",
            "Epoch 68/100\n",
            "216/216 [==============================] - 1s 4ms/step - loss: 0.6043 - accuracy: 0.6706 - val_loss: 0.6185 - val_accuracy: 0.6591\n",
            "Epoch 69/100\n",
            "216/216 [==============================] - 1s 4ms/step - loss: 0.6025 - accuracy: 0.6731 - val_loss: 0.6272 - val_accuracy: 0.6481\n",
            "Epoch 70/100\n",
            "216/216 [==============================] - 1s 4ms/step - loss: 0.6034 - accuracy: 0.6706 - val_loss: 0.6167 - val_accuracy: 0.6603\n",
            "Epoch 71/100\n",
            "216/216 [==============================] - 1s 4ms/step - loss: 0.6029 - accuracy: 0.6725 - val_loss: 0.6191 - val_accuracy: 0.6565\n",
            "Epoch 72/100\n",
            "216/216 [==============================] - 1s 4ms/step - loss: 0.6023 - accuracy: 0.6770 - val_loss: 0.6218 - val_accuracy: 0.6568\n",
            "Epoch 73/100\n",
            "216/216 [==============================] - 1s 4ms/step - loss: 0.6019 - accuracy: 0.6711 - val_loss: 0.6192 - val_accuracy: 0.6594\n",
            "Epoch 74/100\n",
            "216/216 [==============================] - 1s 4ms/step - loss: 0.6017 - accuracy: 0.6730 - val_loss: 0.6171 - val_accuracy: 0.6614\n",
            "Epoch 75/100\n",
            "216/216 [==============================] - 1s 4ms/step - loss: 0.6019 - accuracy: 0.6751 - val_loss: 0.6202 - val_accuracy: 0.6594\n",
            "Epoch 76/100\n",
            "216/216 [==============================] - 1s 4ms/step - loss: 0.6030 - accuracy: 0.6735 - val_loss: 0.6251 - val_accuracy: 0.6504\n",
            "Epoch 77/100\n",
            "216/216 [==============================] - 1s 4ms/step - loss: 0.6031 - accuracy: 0.6724 - val_loss: 0.6183 - val_accuracy: 0.6588\n",
            "Epoch 78/100\n",
            "216/216 [==============================] - 1s 4ms/step - loss: 0.6019 - accuracy: 0.6725 - val_loss: 0.6167 - val_accuracy: 0.6591\n",
            "Epoch 79/100\n",
            "216/216 [==============================] - 1s 4ms/step - loss: 0.6020 - accuracy: 0.6725 - val_loss: 0.6231 - val_accuracy: 0.6542\n",
            "Epoch 80/100\n",
            "216/216 [==============================] - 1s 4ms/step - loss: 0.6008 - accuracy: 0.6716 - val_loss: 0.6184 - val_accuracy: 0.6588\n",
            "Epoch 81/100\n",
            "216/216 [==============================] - 1s 4ms/step - loss: 0.6021 - accuracy: 0.6728 - val_loss: 0.6271 - val_accuracy: 0.6533\n",
            "Epoch 82/100\n",
            "216/216 [==============================] - 1s 4ms/step - loss: 0.6008 - accuracy: 0.6744 - val_loss: 0.6194 - val_accuracy: 0.6600\n",
            "Epoch 83/100\n",
            "216/216 [==============================] - 1s 4ms/step - loss: 0.6013 - accuracy: 0.6745 - val_loss: 0.6172 - val_accuracy: 0.6597\n",
            "Epoch 84/100\n",
            "216/216 [==============================] - 1s 4ms/step - loss: 0.6008 - accuracy: 0.6730 - val_loss: 0.6178 - val_accuracy: 0.6577\n",
            "Epoch 85/100\n",
            "216/216 [==============================] - 1s 4ms/step - loss: 0.6012 - accuracy: 0.6719 - val_loss: 0.6179 - val_accuracy: 0.6585\n",
            "Epoch 86/100\n",
            "216/216 [==============================] - 1s 4ms/step - loss: 0.6018 - accuracy: 0.6738 - val_loss: 0.6177 - val_accuracy: 0.6583\n",
            "Epoch 87/100\n",
            "216/216 [==============================] - 1s 4ms/step - loss: 0.6016 - accuracy: 0.6754 - val_loss: 0.6427 - val_accuracy: 0.6359\n",
            "Epoch 88/100\n",
            "216/216 [==============================] - 1s 4ms/step - loss: 0.6013 - accuracy: 0.6703 - val_loss: 0.6224 - val_accuracy: 0.6539\n",
            "Epoch 89/100\n",
            "216/216 [==============================] - 1s 4ms/step - loss: 0.6007 - accuracy: 0.6716 - val_loss: 0.6284 - val_accuracy: 0.6556\n",
            "Epoch 90/100\n",
            "216/216 [==============================] - 1s 4ms/step - loss: 0.6001 - accuracy: 0.6740 - val_loss: 0.6200 - val_accuracy: 0.6571\n",
            "Epoch 91/100\n",
            "216/216 [==============================] - 1s 4ms/step - loss: 0.5996 - accuracy: 0.6769 - val_loss: 0.6175 - val_accuracy: 0.6591\n",
            "Epoch 92/100\n",
            "216/216 [==============================] - 1s 4ms/step - loss: 0.6006 - accuracy: 0.6754 - val_loss: 0.6170 - val_accuracy: 0.6612\n",
            "Epoch 93/100\n",
            "216/216 [==============================] - 1s 4ms/step - loss: 0.5999 - accuracy: 0.6745 - val_loss: 0.6176 - val_accuracy: 0.6623\n",
            "Epoch 94/100\n",
            "216/216 [==============================] - 1s 4ms/step - loss: 0.6003 - accuracy: 0.6748 - val_loss: 0.6181 - val_accuracy: 0.6617\n",
            "Epoch 95/100\n",
            "216/216 [==============================] - 1s 4ms/step - loss: 0.5986 - accuracy: 0.6774 - val_loss: 0.6252 - val_accuracy: 0.6522\n",
            "Epoch 96/100\n",
            "216/216 [==============================] - 1s 4ms/step - loss: 0.6017 - accuracy: 0.6744 - val_loss: 0.6173 - val_accuracy: 0.6600\n",
            "Epoch 97/100\n",
            "216/216 [==============================] - 1s 4ms/step - loss: 0.5998 - accuracy: 0.6769 - val_loss: 0.6174 - val_accuracy: 0.6600\n",
            "Epoch 98/100\n",
            "216/216 [==============================] - 1s 4ms/step - loss: 0.5995 - accuracy: 0.6782 - val_loss: 0.6219 - val_accuracy: 0.6565\n",
            "Epoch 99/100\n",
            "216/216 [==============================] - 1s 4ms/step - loss: 0.6003 - accuracy: 0.6773 - val_loss: 0.6212 - val_accuracy: 0.6574\n",
            "Epoch 100/100\n",
            "216/216 [==============================] - 1s 4ms/step - loss: 0.5997 - accuracy: 0.6737 - val_loss: 0.6291 - val_accuracy: 0.6455\n"
          ],
          "name": "stdout"
        }
      ]
    },
    {
      "cell_type": "code",
      "metadata": {
        "id": "y3TTCsVrWdqo",
        "colab_type": "code",
        "outputId": "49398386-7632-4f95-e59e-3bd29312706f",
        "colab": {
          "base_uri": "https://localhost:8080/",
          "height": 282
        }
      },
      "source": [
        "plt.plot(history_bn.history['accuracy'])\n",
        "plt.plot(history_bn.history['val_accuracy'])\n",
        "print(max(history_bn.history['val_accuracy']))"
      ],
      "execution_count": 22,
      "outputs": [
        {
          "output_type": "stream",
          "text": [
            "0.6628952622413635\n"
          ],
          "name": "stdout"
        },
        {
          "output_type": "display_data",
          "data": {
            "image/png": "[encoded data removed]",
            "text/plain": [
              "<Figure size 432x288 with 1 Axes>"
            ]
          },
          "metadata": {
            "tags": []
          }
        }
      ]
    },
    {
      "cell_type": "markdown",
      "metadata": {
        "id": "3dym8spyWdqw",
        "colab_type": "text"
      },
      "source": [
        "## Look at some other metrics\n",
        "\n",
        "Lets look at some other metrics of model performance. Let's try a confusion matrix. Start getting your true and predicted y values, then use `sklearn.metrics.confusion_matrix` to build the confusion matrix.\n",
        "\n",
        "The confusion matrix returned by `scikit-learn` has the following form:\n",
        "\n",
        "$$\n",
        "\\begin{bmatrix}\n",
        "TP & FP \\\\\n",
        "FN & TN \\\\ \n",
        "\\end{bmatrix}\n",
        "$$\n",
        "\n",
        "Where:\n",
        " - TP: True Positives\n",
        " - FP: False Positives\n",
        " - FN: False Negatives\n",
        " - TN: True Negatives\n",
        "\n",
        "This matrix can indicate when the model is going wrong and can help to debug point problems with the network."
      ]
    },
    {
      "cell_type": "code",
      "metadata": {
        "id": "buo62iQfWdqw",
        "colab_type": "code",
        "colab": {}
      },
      "source": [
        "y_true = y\n",
        "y_pred = model.predict(X)"
      ],
      "execution_count": 0,
      "outputs": []
    },
    {
      "cell_type": "code",
      "metadata": {
        "id": "Nz564pDyWdqz",
        "colab_type": "code",
        "outputId": "4e5f6f07-9c0a-46e2-92bc-348bac032cfa",
        "colab": {
          "base_uri": "https://localhost:8080/",
          "height": 51
        }
      },
      "source": [
        "from sklearn.metrics import confusion_matrix, plot_confusion_matrix\n",
        "\n",
        "y_pred = np.rint(y_pred)\n",
        "confusion_matrix(y_true, y_pred)"
      ],
      "execution_count": 24,
      "outputs": [
        {
          "output_type": "execute_result",
          "data": {
            "text/plain": [
              "array([[4876, 3741],\n",
              "       [1979, 6638]])"
            ]
          },
          "metadata": {
            "tags": []
          },
          "execution_count": 24
        }
      ]
    },
    {
      "cell_type": "markdown",
      "metadata": {
        "id": "snX-qUQ-3f1d",
        "colab_type": "text"
      },
      "source": [
        ""
      ]
    },
    {
      "cell_type": "markdown",
      "metadata": {
        "id": "CCCMhblM3FzC",
        "colab_type": "text"
      },
      "source": [
        "### Extension Exercise\n",
        "\n",
        "If you completed this notebook then you have a model that can predict around 67% accuracy. There's certaintly room for improvement! What changes do you think you can make to the network architecture to imporve the result? What's the best accuracy you can find?"
      ]
    }
  ]
}