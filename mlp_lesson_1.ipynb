{
  "nbformat": 4,
  "nbformat_minor": 0,
  "metadata": {
    "kernelspec": {
      "display_name": "Python 3",
      "language": "python",
      "name": "python3"
    },
    "language_info": {
      "codemirror_mode": {
        "name": "ipython",
        "version": 3
      },
      "file_extension": ".py",
      "mimetype": "text/x-python",
      "name": "python",
      "nbconvert_exporter": "python",
      "pygments_lexer": "ipython3",
      "version": "3.7.5"
    },
    "colab": {
      "name": "Copy of mlp_lesson_1.ipynb",
      "provenance": [],
      "collapsed_sections": [],
      "toc_visible": true
    },
    "accelerator": "GPU"
  },
  "cells": [
    {
      "cell_type": "markdown",
      "metadata": {
        "id": "88wc41xeE4AS",
        "colab_type": "text"
      },
      "source": [
        "# MLP Lesson 1\n",
        "\n",
        "## Google Cloud Storage Boilerplate\n",
        "\n",
        "This first cell has some boilerplate to connect the Google Cloud Storage bucket containing the data used for this tutorial to the Google Colab environment. \n",
        "\n",
        "In order to access the data for this workshop you'll need to run this cell, follow the link when prompted and copy the Google SDK token into the prompt. If everything works correctly a new folder called `data` should appear in the file browser on the left."
      ]
    },
    {
      "cell_type": "code",
      "metadata": {
        "id": "qijZ3YAIW52C",
        "colab_type": "code",
        "outputId": "274dd29d-347d-4946-e988-53f606c5e8a2",
        "colab": {
          "base_uri": "https://localhost:8080/",
          "height": 374
        }
      },
      "source": [
        "%tensorflow_version 2.x\n",
        "from google.colab import auth\n",
        "auth.authenticate_user()\n",
        "\n",
        "project_id = 'sciml-workshop'\n",
        "bucket_name = 'sciml-workshop'\n",
        "\n",
        "!echo \"deb http://packages.cloud.google.com/apt gcsfuse-bionic main\" > /etc/apt/sources.list.d/gcsfuse.list\n",
        "!curl https://packages.cloud.google.com/apt/doc/apt-key.gpg | apt-key add -\n",
        "!apt -qq update\n",
        "!apt -qq install gcsfuse\n",
        "\n",
        "!gcloud config set project {project_id}\n",
        "\n",
        "!mkdir data\n",
        "!gcsfuse  --implicit-dirs --limit-bytes-per-sec -1 --limit-ops-per-sec -1 {bucket_name} /content/data"
      ],
      "execution_count": 1,
      "outputs": [
        {
          "output_type": "stream",
          "text": [
            "  % Total    % Received % Xferd  Average Speed   Time    Time     Time  Current\n",
            "                                 Dload  Upload   Total   Spent    Left  Speed\n",
            "\r  0     0    0     0    0     0      0      0 --:--:-- --:--:-- --:--:--     0\r100   653  100   653    0     0   8061      0 --:--:-- --:--:-- --:--:--  8061\n",
            "OK\n",
            "41 packages can be upgraded. Run 'apt list --upgradable' to see them.\n",
            "The following NEW packages will be installed:\n",
            "  gcsfuse\n",
            "0 upgraded, 1 newly installed, 0 to remove and 41 not upgraded.\n",
            "Need to get 4,274 kB of archives.\n",
            "After this operation, 12.8 MB of additional disk space will be used.\n",
            "Selecting previously unselected package gcsfuse.\n",
            "(Reading database ... 144439 files and directories currently installed.)\n",
            "Preparing to unpack .../gcsfuse_0.28.1_amd64.deb ...\n",
            "Unpacking gcsfuse (0.28.1) ...\n",
            "Setting up gcsfuse (0.28.1) ...\n",
            "Updated property [core/project].\n",
            "Using mount point: /content/data\n",
            "Opening GCS connection...\n",
            "Opening bucket...\n",
            "Mounting file system...\n",
            "File system has been successfully mounted.\n"
          ],
          "name": "stdout"
        }
      ]
    },
    {
      "cell_type": "code",
      "metadata": {
        "id": "g1ADsgamWdpj",
        "colab_type": "code",
        "colab": {}
      },
      "source": [
        "import pickle\n",
        "import pandas as pd\n",
        "import matplotlib.pyplot as plt\n",
        "import numpy as np\n",
        "from sklearn.metrics import accuracy_score\n",
        "from numpy.random import seed\n",
        "import tensorflow as tf\n",
        "seed(1)\n",
        "tf.random.set_seed(2)\n",
        "plt.style.use('ggplot')"
      ],
      "execution_count": 0,
      "outputs": []
    },
    {
      "cell_type": "markdown",
      "metadata": {
        "id": "bmqjHBR4Wdpn",
        "colab_type": "text"
      },
      "source": [
        "# Multi layer perceptron\n",
        "\n",
        "In this practical we fit our first deep neural network. We are starting with the simplest architecture - a multi-layer perceptron (MLP). \n",
        "\n",
        "## The task\n",
        "\n",
        "We have a set of spectra from Muon spectroscopy experiemnts, we would like to train a NN to be able to detect from a given spectrum wheter or not a certain element is present in the sample. In this case we are going to try to train a network to detect if there is `Ag` in a sample.\n",
        "\n",
        "## The data\n",
        "\n",
        "There is a dataset conveniently provided with spectra and labels saying wheter or not there is `Ag` in the data (`ag-muon-data.pkl`). It is in a `pickle` file, load it into a `pandas` dataframe and take a quick look."
      ]
    },
    {
      "cell_type": "code",
      "metadata": {
        "id": "GwnW1fp1Wdpo",
        "colab_type": "code",
        "colab": {}
      },
      "source": [
        "df = pd.read_pickle('/content/data/muon/ag-muon-data.pkl')"
      ],
      "execution_count": 0,
      "outputs": []
    },
    {
      "cell_type": "code",
      "metadata": {
        "id": "Mn6n3OgMWdpr",
        "colab_type": "code",
        "outputId": "f3e61666-fb79-4339-d859-5027fe5d82cd",
        "colab": {
          "base_uri": "https://localhost:8080/",
          "height": 204
        }
      },
      "source": [
        "df.head()"
      ],
      "execution_count": 4,
      "outputs": [
        {
          "output_type": "execute_result",
          "data": {
            "text/html": [
              "<div>\n",
              "<style scoped>\n",
              "    .dataframe tbody tr th:only-of-type {\n",
              "        vertical-align: middle;\n",
              "    }\n",
              "\n",
              "    .dataframe tbody tr th {\n",
              "        vertical-align: top;\n",
              "    }\n",
              "\n",
              "    .dataframe thead th {\n",
              "        text-align: right;\n",
              "    }\n",
              "</style>\n",
              "<table border=\"1\" class=\"dataframe\">\n",
              "  <thead>\n",
              "    <tr style=\"text-align: right;\">\n",
              "      <th></th>\n",
              "      <th>0</th>\n",
              "      <th>1</th>\n",
              "      <th>2</th>\n",
              "      <th>3</th>\n",
              "    </tr>\n",
              "  </thead>\n",
              "  <tbody>\n",
              "    <tr>\n",
              "      <th>0</th>\n",
              "      <td>[Zn]</td>\n",
              "      <td>0</td>\n",
              "      <td>[0, 20, 40, 60, 80, 100, 120, 140, 160, 180, 2...</td>\n",
              "      <td>[0.0, 0.0, 181.8778921374784, 488.349654519592...</td>\n",
              "    </tr>\n",
              "    <tr>\n",
              "      <th>1</th>\n",
              "      <td>[Sb, Zn, Si]</td>\n",
              "      <td>0</td>\n",
              "      <td>[0, 20, 40, 60, 80, 100, 120, 140, 160, 180, 2...</td>\n",
              "      <td>[0.0, 0.0, 202.97108056052195, 433.59971962403...</td>\n",
              "    </tr>\n",
              "    <tr>\n",
              "      <th>2</th>\n",
              "      <td>[Fe, Sb]</td>\n",
              "      <td>0</td>\n",
              "      <td>[0, 20, 40, 60, 80, 100, 120, 140, 160, 180, 2...</td>\n",
              "      <td>[0.0, 0.0, 212.7229415490735, 428.816091507503...</td>\n",
              "    </tr>\n",
              "    <tr>\n",
              "      <th>3</th>\n",
              "      <td>[Ag, Zn, Cu, Sb]</td>\n",
              "      <td>1</td>\n",
              "      <td>[0, 20, 40, 60, 80, 100, 120, 140, 160, 180, 2...</td>\n",
              "      <td>[0.0, 0.0, 192.36172506402616, 420.19496785125...</td>\n",
              "    </tr>\n",
              "    <tr>\n",
              "      <th>4</th>\n",
              "      <td>[Fe, Zn]</td>\n",
              "      <td>0</td>\n",
              "      <td>[0, 20, 40, 60, 80, 100, 120, 140, 160, 180, 2...</td>\n",
              "      <td>[0.0, 0.0, 206.91647977543502, 434.03768636007...</td>\n",
              "    </tr>\n",
              "  </tbody>\n",
              "</table>\n",
              "</div>"
            ],
            "text/plain": [
              "                  0  ...                                                  3\n",
              "0              [Zn]  ...  [0.0, 0.0, 181.8778921374784, 488.349654519592...\n",
              "1      [Sb, Zn, Si]  ...  [0.0, 0.0, 202.97108056052195, 433.59971962403...\n",
              "2          [Fe, Sb]  ...  [0.0, 0.0, 212.7229415490735, 428.816091507503...\n",
              "3  [Ag, Zn, Cu, Sb]  ...  [0.0, 0.0, 192.36172506402616, 420.19496785125...\n",
              "4          [Fe, Zn]  ...  [0.0, 0.0, 206.91647977543502, 434.03768636007...\n",
              "\n",
              "[5 rows x 4 columns]"
            ]
          },
          "metadata": {
            "tags": []
          },
          "execution_count": 4
        }
      ]
    },
    {
      "cell_type": "markdown",
      "metadata": {
        "id": "9CVyNT5iWdpu",
        "colab_type": "text"
      },
      "source": [
        "Notice that the third column of the dataframe contains either 1 or zero, conveniently the data has already been one-hot-encoded for you. 1 - there is `Ag` in the sample, 0 - there is no `Ag` in the sample. The fifth column of the dataframe contains the spectroscopic signal from the experiment. \n",
        "\n",
        "The sample number `23993` is pure `Ag` plot it out to see the kind of data we are looking at.\n",
        "\n",
        "*Note* To access this data in `pandas` use `sample = df.iloc[23993][3]`"
      ]
    },
    {
      "cell_type": "code",
      "metadata": {
        "id": "fZA4V6MFWdpv",
        "colab_type": "code",
        "colab": {}
      },
      "source": [
        "sample = df.iloc[23993][3]"
      ],
      "execution_count": 0,
      "outputs": []
    },
    {
      "cell_type": "code",
      "metadata": {
        "id": "XHTxPgN1Wdpy",
        "colab_type": "code",
        "outputId": "f3338eca-2f4f-485f-9aaf-30d9fafdb79a",
        "colab": {
          "base_uri": "https://localhost:8080/",
          "height": 282
        }
      },
      "source": [
        "plt.plot(sample)"
      ],
      "execution_count": 6,
      "outputs": [
        {
          "output_type": "execute_result",
          "data": {
            "text/plain": [
              "[<matplotlib.lines.Line2D at 0x7fc3a7501828>]"
            ]
          },
          "metadata": {
            "tags": []
          },
          "execution_count": 6
        },
        {
          "output_type": "display_data",
          "data": {
            "image/png": "[encoded data removed]",
            "text/plain": [
              "<Figure size 432x288 with 1 Axes>"
            ]
          },
          "metadata": {
            "tags": []
          }
        }
      ]
    },
    {
      "cell_type": "markdown",
      "metadata": {
        "id": "qOG1SbFqWdp1",
        "colab_type": "text"
      },
      "source": [
        "We can see some clear peaks associated with `Ag` - however, to get a feel for the complexity of picking out signals with `Ag` in multinary samples try plotting sample number `26`, which is an `Ag/Si` binary."
      ]
    },
    {
      "cell_type": "code",
      "metadata": {
        "id": "KmJrRvsQWdp1",
        "colab_type": "code",
        "outputId": "bb5c0800-263c-4dbf-e878-1746e2b31355",
        "colab": {
          "base_uri": "https://localhost:8080/",
          "height": 282
        }
      },
      "source": [
        "sample = df.iloc[26][3]\n",
        "plt.plot(sample)"
      ],
      "execution_count": 7,
      "outputs": [
        {
          "output_type": "execute_result",
          "data": {
            "text/plain": [
              "[<matplotlib.lines.Line2D at 0x7fc3a7250278>]"
            ]
          },
          "metadata": {
            "tags": []
          },
          "execution_count": 7
        },
        {
          "output_type": "display_data",
          "data": {
            "image/png": "[encoded data removed]",
            "text/plain": [
              "<Figure size 432x288 with 1 Axes>"
            ]
          },
          "metadata": {
            "tags": []
          }
        }
      ]
    },
    {
      "cell_type": "markdown",
      "metadata": {
        "id": "CwlM96N6Wdp4",
        "colab_type": "text"
      },
      "source": [
        "## The approach\n",
        "\n",
        "We are going to try and train a NN to classify spectra into those that contain `Ag` and those that do not.\n",
        "\n",
        "Get X - your input data as the fifth column of the dataset and y your objective as the third column. You can use the pandas function `to_list` to do this. Convert the resulting lists to `numpy` arrays for feeding to the NN."
      ]
    },
    {
      "cell_type": "code",
      "metadata": {
        "id": "oJmWbyHuWdp5",
        "colab_type": "code",
        "colab": {}
      },
      "source": [
        "X = np.array(df[3].to_list())\n",
        "y = np.array(df[1].to_list())"
      ],
      "execution_count": 0,
      "outputs": []
    },
    {
      "cell_type": "markdown",
      "metadata": {
        "id": "ckWlIsKhWdp7",
        "colab_type": "text"
      },
      "source": [
        "## Try out a network\n",
        "\n",
        "We can see that the data is given as a series of 300 points, each corresponding to an intensity. We can think about building a MLP that has 300 nodes in the input layer and then a single node in the output layer. The output should be 1 if there is `Ag` in the sample and 0 if there is no `Ag` in the sample.\n",
        "\n",
        "We will start by using `keras` `Sequential` model building - this allows you to simply add new layers to a model using the `model.add(<layer details>)` command. The model is instantiated with\n",
        "```\n",
        "model = Sequential()\n",
        "```\n",
        "Now we want to add layers to the netowrk - as we are building a MLP, all of our layers are fully connected or [`Dense`](https://keras.io/layers/core/) layers. The arguments that are passed to the dense layer are\n",
        "* Number of nodes\n",
        "* Number of inputs to the layer - this is only necessary for the first layer and must match the shape of the data\n",
        "* Activation function - this is the non-linear function used to calculate the activation of the layer \n",
        "* There are many other properties you can set, but these are all we need for now\n",
        "\n",
        "**Note** we are importing from `tensorflow.keras`, rather than `keras` this is to ensure consistency with models built in pure `tensorflow`."
      ]
    },
    {
      "cell_type": "code",
      "metadata": {
        "id": "FVcK-qakWdp8",
        "colab_type": "code",
        "colab": {}
      },
      "source": [
        "from tensorflow.keras import Sequential\n",
        "from tensorflow.keras.layers import Dense\n",
        "# define the keras model\n",
        "model = Sequential()\n",
        "model.add(Dense(12, input_dim=300, activation='relu'))\n",
        "model.add(Dense(8, activation='relu'))\n",
        "model.add(Dense(1, activation='sigmoid'))"
      ],
      "execution_count": 0,
      "outputs": []
    },
    {
      "cell_type": "markdown",
      "metadata": {
        "id": "C8E73mU4Wdp_",
        "colab_type": "text"
      },
      "source": [
        "We can now look at the properties of the model with `model.summary()`"
      ]
    },
    {
      "cell_type": "code",
      "metadata": {
        "id": "LUEQHuq0Wdp_",
        "colab_type": "code",
        "outputId": "b3d3cca5-40c7-4753-a8e7-87e479d7503c",
        "colab": {
          "base_uri": "https://localhost:8080/",
          "height": 255
        }
      },
      "source": [
        "model.summary()"
      ],
      "execution_count": 10,
      "outputs": [
        {
          "output_type": "stream",
          "text": [
            "Model: \"sequential\"\n",
            "_________________________________________________________________\n",
            "Layer (type)                 Output Shape              Param #   \n",
            "=================================================================\n",
            "dense (Dense)                (None, 12)                3612      \n",
            "_________________________________________________________________\n",
            "dense_1 (Dense)              (None, 8)                 104       \n",
            "_________________________________________________________________\n",
            "dense_2 (Dense)              (None, 1)                 9         \n",
            "=================================================================\n",
            "Total params: 3,725\n",
            "Trainable params: 3,725\n",
            "Non-trainable params: 0\n",
            "_________________________________________________________________\n"
          ],
          "name": "stdout"
        }
      ]
    },
    {
      "cell_type": "markdown",
      "metadata": {
        "id": "uxprsbAHWdqC",
        "colab_type": "text"
      },
      "source": [
        "Now you need to [compile](https://keras.io/models/model/) the model - this involves setting a `loss` to train against, an `optimizer` and optionally some `metrics` to evaluate during the training. For the `loss`, since we are fitting to a range between 0 and 1 `binary_crossentropy` is the obvious choice. For `optimizer` we use `adam` and we will have just one metric `accuracy` - note that metrics must be passed as a list. See the [`keras` documentation](https://keras.io/models/model/)"
      ]
    },
    {
      "cell_type": "code",
      "metadata": {
        "id": "cVn00v38WdqC",
        "colab_type": "code",
        "colab": {}
      },
      "source": [
        "model.compile(loss='binary_crossentropy', optimizer='adam', metrics=['accuracy'])"
      ],
      "execution_count": 0,
      "outputs": []
    },
    {
      "cell_type": "markdown",
      "metadata": {
        "id": "TQiTTzhtWdqF",
        "colab_type": "text"
      },
      "source": [
        "When the model is compied we can now start to fit it using the data. Again details of the `fit` function of `keras` models can be found in the [`keras` documentation](https://keras.io/models/model/). \n",
        "\n",
        "We need to specify the X and y data, we will run for 60 epochs and we will use a batch size of 32. We should also specify a validation split of 20% of the data using `validation_split=0.2` Run the model for `5` epochs with a `batch_size` of 64."
      ]
    },
    {
      "cell_type": "code",
      "metadata": {
        "scrolled": true,
        "id": "kScAfBwYWdqF",
        "colab_type": "code",
        "outputId": "05693191-e2b5-4a03-d824-f1f43802bf0e",
        "colab": {
          "base_uri": "https://localhost:8080/",
          "height": 204
        }
      },
      "source": [
        "model.fit(X, y, epochs=5, batch_size=64, validation_split=0.2)"
      ],
      "execution_count": 12,
      "outputs": [
        {
          "output_type": "stream",
          "text": [
            "Epoch 1/5\n",
            "2800/2800 [==============================] - 6s 2ms/step - loss: 0.2339 - accuracy: 0.9515 - val_loss: 0.0554 - val_accuracy: 1.0000\n",
            "Epoch 2/5\n",
            "2800/2800 [==============================] - 6s 2ms/step - loss: 0.1935 - accuracy: 0.9519 - val_loss: 0.0688 - val_accuracy: 1.0000\n",
            "Epoch 3/5\n",
            "2800/2800 [==============================] - 6s 2ms/step - loss: 0.1929 - accuracy: 0.9519 - val_loss: 0.0454 - val_accuracy: 1.0000\n",
            "Epoch 4/5\n",
            "2800/2800 [==============================] - 6s 2ms/step - loss: 0.1921 - accuracy: 0.9519 - val_loss: 0.0416 - val_accuracy: 1.0000\n",
            "Epoch 5/5\n",
            "2800/2800 [==============================] - 6s 2ms/step - loss: 0.1905 - accuracy: 0.9519 - val_loss: 0.0412 - val_accuracy: 1.0000\n"
          ],
          "name": "stdout"
        },
        {
          "output_type": "execute_result",
          "data": {
            "text/plain": [
              "<tensorflow.python.keras.callbacks.History at 0x7fc3a6fb2358>"
            ]
          },
          "metadata": {
            "tags": []
          },
          "execution_count": 12
        }
      ]
    },
    {
      "cell_type": "markdown",
      "metadata": {
        "id": "KR9jSDAZWdqI",
        "colab_type": "text"
      },
      "source": [
        "## Class imbalance\n",
        "\n",
        "Notice how the accuracy of the model very quickly achieves a certain value and then stops improving. This value could be well above 50%, which suggests that that model is actually learning something. However we may have fallen into a trap here. Take a look at the distribution of the target data, using `plt.hist(y)`. Also pay special attention to the validation data (the final 20% of the data)."
      ]
    },
    {
      "cell_type": "code",
      "metadata": {
        "id": "qf-hafCCWdqJ",
        "colab_type": "code",
        "outputId": "817248c3-5783-4746-dce1-da307d74052e",
        "colab": {
          "base_uri": "https://localhost:8080/",
          "height": 333
        }
      },
      "source": [
        "plt.hist(y[21000:])"
      ],
      "execution_count": 13,
      "outputs": [
        {
          "output_type": "execute_result",
          "data": {
            "text/plain": [
              "(array([201927.,      0.,      0.,      0.,      0.,      0.,      0.,\n",
              "             0.,      0.,   1073.]),\n",
              " array([0. , 0.1, 0.2, 0.3, 0.4, 0.5, 0.6, 0.7, 0.8, 0.9, 1. ]),\n",
              " <a list of 10 Patch objects>)"
            ]
          },
          "metadata": {
            "tags": []
          },
          "execution_count": 13
        },
        {
          "output_type": "display_data",
          "data": {
            "image/png": "[encoded data removed]",
            "text/plain": [
              "<Figure size 432x288 with 1 Axes>"
            ]
          },
          "metadata": {
            "tags": []
          }
        }
      ]
    },
    {
      "cell_type": "markdown",
      "metadata": {
        "id": "_DK95Vu2WdqL",
        "colab_type": "text"
      },
      "source": [
        "We can check how the model performs on a more balanced set of data, which has 50:50 `Ag`/`no Ag` split.\n",
        "* Load the test set data (`xtest`) and corresponding labels (`ytest`)\n",
        "* Create an array of predicted values by running the `model.predict()` on `xtest`\n",
        "* Use the function `accuracy_score(y_pred, ytest)` to see how well the model really does"
      ]
    },
    {
      "cell_type": "code",
      "metadata": {
        "id": "agqD44zuWdqL",
        "colab_type": "code",
        "outputId": "23696e5a-68ce-4fab-e1ff-70285e58b4ef",
        "colab": {
          "base_uri": "https://localhost:8080/",
          "height": 34
        }
      },
      "source": [
        "with open('data/muon/test_spectra.pkl', 'rb') as handle:\n",
        "  xtest = pickle.load(handle)\n",
        "\n",
        "with open('data/muon/test_labels.pkl', 'rb') as handle:\n",
        "  ytest = pickle.load(handle)\n",
        "\n",
        "y_pred = model.predict(xtest)\n",
        "accuracy_score(ytest, y_pred > .5)"
      ],
      "execution_count": 39,
      "outputs": [
        {
          "output_type": "execute_result",
          "data": {
            "text/plain": [
              "0.6668794243936405"
            ]
          },
          "metadata": {
            "tags": []
          },
          "execution_count": 39
        }
      ]
    },
    {
      "cell_type": "markdown",
      "metadata": {
        "id": "MJ8XcuKBWdqR",
        "colab_type": "text"
      },
      "source": [
        "You might notice something about the class numbers that closely resembls the accuracy achieved by the model. The data with no `Ag` accounts for around 95% of the data. So if the model simply learns to guess no `Ag` it can achieve 95% accuracy without learning anything useful. To avoid this we will rebalabace the classes.\n",
        "\n",
        "With class imbalance there are a number  of strategies that you can take to address the problem.\n",
        "\n",
        "* Up-sample the minority class\n",
        "* Down-sample the majority class\n",
        "* Change your performance metric\n",
        "\n",
        "In our case the best available option is to down-sample the majority class, so that `Ag` and no`Ag` have equal numbers in the datasets.\n",
        "\n",
        "You can split the dataframe into the `1` and `0` entries using something like `df[df[1]==0]`.\n",
        "\n",
        "Then use [`sklearn.utils.resample`](https://scikit-learn.org/stable/modules/generated/sklearn.utils.resample.html) to resample the majority dataframe.\n",
        "\n",
        "Then concatenate and shuffle the datasets - `pd.concat` followed by `pd.sample`\n",
        "\n",
        "A good online guide is available [here](https://elitedatascience.com/imbalanced-classes)."
      ]
    },
    {
      "cell_type": "code",
      "metadata": {
        "id": "kf92YzpNWdqS",
        "colab_type": "code",
        "colab": {}
      },
      "source": [
        "from sklearn.utils import resample\n",
        "\n",
        "num_ag = np.count_nonzero(y==0)\n",
        "num_no_ag = np.count_nonzero(y==1)\n",
        "\n",
        "df_majority = df[df[1]==0]\n",
        "df_minority = df[df[1]==1]\n",
        "\n",
        "# Downsample majority class\n",
        "df_majority_downsampled = resample(df_majority, \n",
        "                                 replace=False,    # sample without replacement\n",
        "                                 n_samples=num_no_ag,     # to match minority class\n",
        "                                 random_state=123) # reproducible results\n",
        "\n",
        "df_downsampled = pd.concat([df_majority_downsampled, df_minority])\n",
        "df_new = df_downsampled.sample(frac=1)\n",
        "\n",
        "X = np.array(df_new[3].to_list())\n",
        "y = np.array(df_new[1].to_list())"
      ],
      "execution_count": 0,
      "outputs": []
    },
    {
      "cell_type": "code",
      "metadata": {
        "id": "a4wURrs5WdqU",
        "colab_type": "code",
        "outputId": "b4dd5f9e-5faf-4232-d348-1730be741e0f",
        "colab": {
          "base_uri": "https://localhost:8080/",
          "height": 204
        }
      },
      "source": [
        "model.fit(X, y, epochs=5, batch_size=64, validation_split=0.2)"
      ],
      "execution_count": 41,
      "outputs": [
        {
          "output_type": "stream",
          "text": [
            "Epoch 1/5\n",
            "216/216 [==============================] - 1s 3ms/step - loss: 0.6260 - accuracy: 0.6582 - val_loss: 0.6051 - val_accuracy: 0.6635\n",
            "Epoch 2/5\n",
            "216/216 [==============================] - 1s 3ms/step - loss: 0.6244 - accuracy: 0.6624 - val_loss: 0.6052 - val_accuracy: 0.6603\n",
            "Epoch 3/5\n",
            "216/216 [==============================] - 1s 3ms/step - loss: 0.6223 - accuracy: 0.6613 - val_loss: 0.6036 - val_accuracy: 0.6754\n",
            "Epoch 4/5\n",
            "216/216 [==============================] - 1s 3ms/step - loss: 0.6225 - accuracy: 0.6629 - val_loss: 0.6032 - val_accuracy: 0.6733\n",
            "Epoch 5/5\n",
            "216/216 [==============================] - 1s 3ms/step - loss: 0.6246 - accuracy: 0.6595 - val_loss: 0.6058 - val_accuracy: 0.6710\n"
          ],
          "name": "stdout"
        },
        {
          "output_type": "execute_result",
          "data": {
            "text/plain": [
              "<tensorflow.python.keras.callbacks.History at 0x7fc3a34ffc88>"
            ]
          },
          "metadata": {
            "tags": []
          },
          "execution_count": 41
        }
      ]
    },
    {
      "cell_type": "markdown",
      "metadata": {
        "id": "MmKi4XcQWdqW",
        "colab_type": "text"
      },
      "source": [
        "**Note** In some instances the model now stops learning at around 50% - pretty disappointing. So what else could be holding us back? In some instances the model will actually train and achieve above 50% in this step - the explanation is below.\n",
        "\n",
        "## Optimizer hyperparameters\n",
        "\n",
        "Recall from the lecture that we talked about hyperparameters in optimizers. In this case we have used the `Adam` optimizer with a default learning rate. \n",
        "\n",
        "#### \"The learning rate is perhaps the most important hyperparameter. If you have time to tune only one hyperparameter, tune the learning rate.\" - Goodfellow, Deep Learning\n",
        "\n",
        "One thing that can happen if our learning rate is too high initially is that the optimizer can continually jump over optimal solutions and not actually find its way to a good answer. Whether or not the optimizer does find it's way to a minmum is down to a combination of the loss function space, the starting parameters and the optimizer settings. Since the initial parameters of the network are randomised there are some cases, as noted above where, the network will optimise at the standard learning rate. However, sometimes it will just keep skipping around and not learning. \n",
        "\n",
        "To overcome this problem we can lower the learning rate of the optimizer for an initial optimisation. Once the model has started to train and the loss has started to decrease we can dial the learning rate back up to speed up the training.\n",
        "\n",
        "On the other hand, lower the learning rate too much and training will take an eternity.\n",
        "\n",
        "### Grid search for learning rate\n",
        "\n",
        "For this part of the exercise we will do a serach over possible learning rates. Typically we would look over  range of 0.1 to 10$^{-5}$ on a $\\log$ scale.\n",
        "\n",
        "To edit the optimizer settings, we import the optimizer `Adam` from `tensorflow.keras.optimizers` and set the learning rate\n",
        "\n",
        "```\n",
        "ad = Adam(learning_rate=0.0001)\n",
        "model.compile(loss='binary_crossentropy', optimizer=ad, metrics=['accuracy'])\n",
        "```\n",
        "\n",
        "Construct a loop to go over the learning rate range described above. For each training cycle we will extract the best validation accuracy value.\n",
        "\n",
        "You can save the history of a training cycle as a dictionary simply by `history = model.fit(<params>)`, here the metrics and losses are saved to a dictionary `history.history`. Run the model for 40 epochs at each learning rate.\n",
        "\n",
        "Save this dictionary for each learning rate and then compare the results. Look at maximum value for `accuracy` from each of the learning rates."
      ]
    },
    {
      "cell_type": "code",
      "metadata": {
        "id": "aCrRhMONWdqX",
        "colab_type": "code",
        "outputId": "93a6bb29-d19c-4580-aef3-a33b8b34b7c9",
        "colab": {
          "base_uri": "https://localhost:8080/",
          "height": 1000
        }
      },
      "source": [
        "from tensorflow.keras.optimizers import Adam\n",
        "lr_histories = []\n",
        "for lr in [1e-1, 1e-2, 1e-3, 1e-4, 1e-5]:\n",
        "    model = Sequential()\n",
        "    model.add(Dense(12, input_dim=300, activation='relu'))\n",
        "    model.add(Dense(8, activation='relu'))\n",
        "    model.add(Dense(1, activation='sigmoid'))\n",
        "    ad = Adam(learning_rate=lr, beta_1=0.9, beta_2=0.999, amsgrad=False)\n",
        "    model.compile(loss='binary_crossentropy', optimizer=ad, metrics=['accuracy'])\n",
        "    history = model.fit(X, y, epochs=40, batch_size=64, validation_split=0.2)\n",
        "    lr_histories.append(history.history)"
      ],
      "execution_count": 42,
      "outputs": [
        {
          "output_type": "stream",
          "text": [
            "Epoch 1/40\n",
            "216/216 [==============================] - 1s 3ms/step - loss: 4.1079 - accuracy: 0.5061 - val_loss: 0.7247 - val_accuracy: 0.4949\n",
            "Epoch 2/40\n",
            "216/216 [==============================] - 1s 3ms/step - loss: 0.6951 - accuracy: 0.5034 - val_loss: 0.6942 - val_accuracy: 0.4949\n",
            "Epoch 3/40\n",
            "216/216 [==============================] - 1s 3ms/step - loss: 0.6947 - accuracy: 0.4978 - val_loss: 0.6953 - val_accuracy: 0.4949\n",
            "Epoch 4/40\n",
            "216/216 [==============================] - 1s 3ms/step - loss: 0.6941 - accuracy: 0.5000 - val_loss: 0.6935 - val_accuracy: 0.4949\n",
            "Epoch 5/40\n",
            "216/216 [==============================] - 1s 3ms/step - loss: 0.6962 - accuracy: 0.4984 - val_loss: 0.6943 - val_accuracy: 0.4949\n",
            "Epoch 6/40\n",
            "216/216 [==============================] - 1s 3ms/step - loss: 0.6948 - accuracy: 0.4984 - val_loss: 0.6950 - val_accuracy: 0.5051\n",
            "Epoch 7/40\n",
            "216/216 [==============================] - 1s 3ms/step - loss: 0.6940 - accuracy: 0.5054 - val_loss: 0.6954 - val_accuracy: 0.5051\n",
            "Epoch 8/40\n",
            "216/216 [==============================] - 1s 3ms/step - loss: 0.6953 - accuracy: 0.5038 - val_loss: 0.6931 - val_accuracy: 0.5051\n",
            "Epoch 9/40\n",
            "216/216 [==============================] - 1s 3ms/step - loss: 0.6950 - accuracy: 0.5009 - val_loss: 0.6934 - val_accuracy: 0.5051\n",
            "Epoch 10/40\n",
            "216/216 [==============================] - 1s 3ms/step - loss: 0.6948 - accuracy: 0.4984 - val_loss: 0.7013 - val_accuracy: 0.5051\n",
            "Epoch 11/40\n",
            "216/216 [==============================] - 1s 3ms/step - loss: 0.6961 - accuracy: 0.4997 - val_loss: 0.6931 - val_accuracy: 0.5051\n",
            "Epoch 12/40\n",
            "216/216 [==============================] - 1s 3ms/step - loss: 0.6943 - accuracy: 0.4995 - val_loss: 0.6938 - val_accuracy: 0.5051\n",
            "Epoch 13/40\n",
            "216/216 [==============================] - 1s 3ms/step - loss: 0.6942 - accuracy: 0.4966 - val_loss: 0.6934 - val_accuracy: 0.5051\n",
            "Epoch 14/40\n",
            "216/216 [==============================] - 1s 3ms/step - loss: 0.6949 - accuracy: 0.4950 - val_loss: 0.6931 - val_accuracy: 0.5051\n",
            "Epoch 15/40\n",
            "216/216 [==============================] - 1s 3ms/step - loss: 0.6939 - accuracy: 0.4974 - val_loss: 0.6943 - val_accuracy: 0.5051\n",
            "Epoch 16/40\n",
            "216/216 [==============================] - 1s 3ms/step - loss: 0.6948 - accuracy: 0.4938 - val_loss: 0.6931 - val_accuracy: 0.5051\n",
            "Epoch 17/40\n",
            "216/216 [==============================] - 1s 3ms/step - loss: 0.6945 - accuracy: 0.5020 - val_loss: 0.6932 - val_accuracy: 0.4949\n",
            "Epoch 18/40\n",
            "216/216 [==============================] - 1s 3ms/step - loss: 0.6941 - accuracy: 0.4966 - val_loss: 0.6932 - val_accuracy: 0.5051\n",
            "Epoch 19/40\n",
            "216/216 [==============================] - 1s 3ms/step - loss: 0.6948 - accuracy: 0.5032 - val_loss: 0.7011 - val_accuracy: 0.4949\n",
            "Epoch 20/40\n",
            "216/216 [==============================] - 1s 3ms/step - loss: 0.6942 - accuracy: 0.5084 - val_loss: 0.6937 - val_accuracy: 0.5051\n",
            "Epoch 21/40\n",
            "216/216 [==============================] - 1s 3ms/step - loss: 0.6942 - accuracy: 0.4989 - val_loss: 0.6963 - val_accuracy: 0.5051\n",
            "Epoch 22/40\n",
            "216/216 [==============================] - 1s 3ms/step - loss: 0.6944 - accuracy: 0.4945 - val_loss: 0.6939 - val_accuracy: 0.4949\n",
            "Epoch 23/40\n",
            "216/216 [==============================] - 1s 3ms/step - loss: 0.6944 - accuracy: 0.5015 - val_loss: 0.6977 - val_accuracy: 0.5051\n",
            "Epoch 24/40\n",
            "216/216 [==============================] - 1s 3ms/step - loss: 0.6948 - accuracy: 0.5013 - val_loss: 0.6932 - val_accuracy: 0.4949\n",
            "Epoch 25/40\n",
            "216/216 [==============================] - 1s 3ms/step - loss: 0.6939 - accuracy: 0.4975 - val_loss: 0.6933 - val_accuracy: 0.4949\n",
            "Epoch 26/40\n",
            "216/216 [==============================] - 1s 3ms/step - loss: 0.6952 - accuracy: 0.5022 - val_loss: 0.6934 - val_accuracy: 0.5051\n",
            "Epoch 27/40\n",
            "216/216 [==============================] - 1s 3ms/step - loss: 0.6947 - accuracy: 0.5026 - val_loss: 0.6940 - val_accuracy: 0.5051\n",
            "Epoch 28/40\n",
            "216/216 [==============================] - 1s 3ms/step - loss: 0.6945 - accuracy: 0.4974 - val_loss: 0.6931 - val_accuracy: 0.5051\n",
            "Epoch 29/40\n",
            "216/216 [==============================] - 1s 3ms/step - loss: 0.6944 - accuracy: 0.5056 - val_loss: 0.6953 - val_accuracy: 0.4949\n",
            "Epoch 30/40\n",
            "216/216 [==============================] - 1s 3ms/step - loss: 0.6944 - accuracy: 0.5023 - val_loss: 0.6935 - val_accuracy: 0.4949\n",
            "Epoch 31/40\n",
            "216/216 [==============================] - 1s 3ms/step - loss: 0.6942 - accuracy: 0.5021 - val_loss: 0.7008 - val_accuracy: 0.4949\n",
            "Epoch 32/40\n",
            "216/216 [==============================] - 1s 3ms/step - loss: 0.6944 - accuracy: 0.5032 - val_loss: 0.6954 - val_accuracy: 0.5051\n",
            "Epoch 33/40\n",
            "216/216 [==============================] - 1s 3ms/step - loss: 0.6943 - accuracy: 0.4997 - val_loss: 0.6981 - val_accuracy: 0.5051\n",
            "Epoch 34/40\n",
            "216/216 [==============================] - 1s 3ms/step - loss: 0.6950 - accuracy: 0.5021 - val_loss: 0.6932 - val_accuracy: 0.4949\n",
            "Epoch 35/40\n",
            "216/216 [==============================] - 1s 3ms/step - loss: 0.6952 - accuracy: 0.5039 - val_loss: 0.6971 - val_accuracy: 0.4949\n",
            "Epoch 36/40\n",
            "216/216 [==============================] - 1s 3ms/step - loss: 0.6945 - accuracy: 0.4982 - val_loss: 0.6932 - val_accuracy: 0.4949\n",
            "Epoch 37/40\n",
            "216/216 [==============================] - 1s 3ms/step - loss: 0.6943 - accuracy: 0.4972 - val_loss: 0.6976 - val_accuracy: 0.4949\n",
            "Epoch 38/40\n",
            "216/216 [==============================] - 1s 3ms/step - loss: 0.6946 - accuracy: 0.5022 - val_loss: 0.6938 - val_accuracy: 0.5051\n",
            "Epoch 39/40\n",
            "216/216 [==============================] - 1s 3ms/step - loss: 0.6947 - accuracy: 0.5024 - val_loss: 0.6942 - val_accuracy: 0.5051\n",
            "Epoch 40/40\n",
            "216/216 [==============================] - 1s 3ms/step - loss: 0.6946 - accuracy: 0.4929 - val_loss: 0.6952 - val_accuracy: 0.5051\n",
            "Epoch 1/40\n",
            "216/216 [==============================] - 1s 3ms/step - loss: 3.0809 - accuracy: 0.4961 - val_loss: 0.6932 - val_accuracy: 0.4949\n",
            "Epoch 2/40\n",
            "216/216 [==============================] - 1s 3ms/step - loss: 0.6932 - accuracy: 0.5027 - val_loss: 0.6934 - val_accuracy: 0.4949\n",
            "Epoch 3/40\n",
            "216/216 [==============================] - 1s 3ms/step - loss: 0.6933 - accuracy: 0.4950 - val_loss: 0.6931 - val_accuracy: 0.5051\n",
            "Epoch 4/40\n",
            "216/216 [==============================] - 1s 3ms/step - loss: 0.6932 - accuracy: 0.5012 - val_loss: 0.6931 - val_accuracy: 0.5051\n",
            "Epoch 5/40\n",
            "216/216 [==============================] - 1s 3ms/step - loss: 0.6934 - accuracy: 0.4948 - val_loss: 0.6932 - val_accuracy: 0.4949\n",
            "Epoch 6/40\n",
            "216/216 [==============================] - 1s 3ms/step - loss: 0.6933 - accuracy: 0.4987 - val_loss: 0.6931 - val_accuracy: 0.5051\n",
            "Epoch 7/40\n",
            "216/216 [==============================] - 1s 3ms/step - loss: 0.6933 - accuracy: 0.5004 - val_loss: 0.6932 - val_accuracy: 0.4949\n",
            "Epoch 8/40\n",
            "216/216 [==============================] - 1s 3ms/step - loss: 0.6934 - accuracy: 0.4985 - val_loss: 0.6934 - val_accuracy: 0.4949\n",
            "Epoch 9/40\n",
            "216/216 [==============================] - 1s 3ms/step - loss: 0.6934 - accuracy: 0.4937 - val_loss: 0.6933 - val_accuracy: 0.4949\n",
            "Epoch 10/40\n",
            "216/216 [==============================] - 1s 3ms/step - loss: 0.6934 - accuracy: 0.4943 - val_loss: 0.6932 - val_accuracy: 0.4949\n",
            "Epoch 11/40\n",
            "216/216 [==============================] - 1s 3ms/step - loss: 0.6933 - accuracy: 0.5046 - val_loss: 0.6934 - val_accuracy: 0.4949\n",
            "Epoch 12/40\n",
            "216/216 [==============================] - 1s 3ms/step - loss: 0.6933 - accuracy: 0.5025 - val_loss: 0.6931 - val_accuracy: 0.5051\n",
            "Epoch 13/40\n",
            "216/216 [==============================] - 1s 3ms/step - loss: 0.6932 - accuracy: 0.5039 - val_loss: 0.6932 - val_accuracy: 0.4949\n",
            "Epoch 14/40\n",
            "216/216 [==============================] - 1s 3ms/step - loss: 0.6933 - accuracy: 0.5016 - val_loss: 0.6931 - val_accuracy: 0.5051\n",
            "Epoch 15/40\n",
            "216/216 [==============================] - 1s 3ms/step - loss: 0.6933 - accuracy: 0.4931 - val_loss: 0.6933 - val_accuracy: 0.4949\n",
            "Epoch 16/40\n",
            "216/216 [==============================] - 1s 3ms/step - loss: 0.6933 - accuracy: 0.4919 - val_loss: 0.6931 - val_accuracy: 0.5051\n",
            "Epoch 17/40\n",
            "216/216 [==============================] - 1s 3ms/step - loss: 0.6933 - accuracy: 0.5017 - val_loss: 0.6936 - val_accuracy: 0.4949\n",
            "Epoch 18/40\n",
            "216/216 [==============================] - 1s 3ms/step - loss: 0.6934 - accuracy: 0.4976 - val_loss: 0.6938 - val_accuracy: 0.4949\n",
            "Epoch 19/40\n",
            "216/216 [==============================] - 1s 3ms/step - loss: 0.6934 - accuracy: 0.4969 - val_loss: 0.6933 - val_accuracy: 0.4949\n",
            "Epoch 20/40\n",
            "216/216 [==============================] - 1s 3ms/step - loss: 0.6932 - accuracy: 0.5013 - val_loss: 0.6937 - val_accuracy: 0.4949\n",
            "Epoch 21/40\n",
            "216/216 [==============================] - 1s 3ms/step - loss: 0.6934 - accuracy: 0.4978 - val_loss: 0.6935 - val_accuracy: 0.4949\n",
            "Epoch 22/40\n",
            "216/216 [==============================] - 1s 3ms/step - loss: 0.6933 - accuracy: 0.4972 - val_loss: 0.6934 - val_accuracy: 0.4949\n",
            "Epoch 23/40\n",
            "216/216 [==============================] - 1s 3ms/step - loss: 0.6933 - accuracy: 0.4936 - val_loss: 0.6932 - val_accuracy: 0.4949\n",
            "Epoch 24/40\n",
            "216/216 [==============================] - 1s 3ms/step - loss: 0.6934 - accuracy: 0.4949 - val_loss: 0.6932 - val_accuracy: 0.4949\n",
            "Epoch 25/40\n",
            "216/216 [==============================] - 1s 3ms/step - loss: 0.6933 - accuracy: 0.4971 - val_loss: 0.6931 - val_accuracy: 0.5051\n",
            "Epoch 26/40\n",
            "216/216 [==============================] - 1s 3ms/step - loss: 0.6933 - accuracy: 0.5070 - val_loss: 0.6931 - val_accuracy: 0.5051\n",
            "Epoch 27/40\n",
            "216/216 [==============================] - 1s 3ms/step - loss: 0.6933 - accuracy: 0.4998 - val_loss: 0.6938 - val_accuracy: 0.4949\n",
            "Epoch 28/40\n",
            "216/216 [==============================] - 1s 3ms/step - loss: 0.6933 - accuracy: 0.4943 - val_loss: 0.6932 - val_accuracy: 0.4949\n",
            "Epoch 29/40\n",
            "216/216 [==============================] - 1s 3ms/step - loss: 0.6934 - accuracy: 0.4929 - val_loss: 0.6931 - val_accuracy: 0.5051\n",
            "Epoch 30/40\n",
            "216/216 [==============================] - 1s 3ms/step - loss: 0.6933 - accuracy: 0.4974 - val_loss: 0.6933 - val_accuracy: 0.4949\n",
            "Epoch 31/40\n",
            "216/216 [==============================] - 1s 3ms/step - loss: 0.6934 - accuracy: 0.4985 - val_loss: 0.6933 - val_accuracy: 0.4949\n",
            "Epoch 32/40\n",
            "216/216 [==============================] - 1s 3ms/step - loss: 0.6933 - accuracy: 0.5009 - val_loss: 0.6931 - val_accuracy: 0.5051\n",
            "Epoch 33/40\n",
            "216/216 [==============================] - 1s 3ms/step - loss: 0.6933 - accuracy: 0.4984 - val_loss: 0.6931 - val_accuracy: 0.5051\n",
            "Epoch 34/40\n",
            "216/216 [==============================] - 1s 3ms/step - loss: 0.6936 - accuracy: 0.4966 - val_loss: 0.6931 - val_accuracy: 0.5051\n",
            "Epoch 35/40\n",
            "216/216 [==============================] - 1s 3ms/step - loss: 0.6934 - accuracy: 0.5024 - val_loss: 0.6935 - val_accuracy: 0.5051\n",
            "Epoch 36/40\n",
            "216/216 [==============================] - 1s 3ms/step - loss: 0.6933 - accuracy: 0.5021 - val_loss: 0.6934 - val_accuracy: 0.4949\n",
            "Epoch 37/40\n",
            "216/216 [==============================] - 1s 3ms/step - loss: 0.6933 - accuracy: 0.4975 - val_loss: 0.6933 - val_accuracy: 0.4949\n",
            "Epoch 38/40\n",
            "216/216 [==============================] - 1s 3ms/step - loss: 0.6934 - accuracy: 0.5018 - val_loss: 0.6932 - val_accuracy: 0.4949\n",
            "Epoch 39/40\n",
            "216/216 [==============================] - 1s 3ms/step - loss: 0.6934 - accuracy: 0.4998 - val_loss: 0.6932 - val_accuracy: 0.4949\n",
            "Epoch 40/40\n",
            "216/216 [==============================] - 1s 3ms/step - loss: 0.6934 - accuracy: 0.4946 - val_loss: 0.6932 - val_accuracy: 0.4949\n",
            "Epoch 1/40\n",
            "216/216 [==============================] - 1s 3ms/step - loss: 1.5114 - accuracy: 0.4992 - val_loss: 0.6931 - val_accuracy: 0.5051\n",
            "Epoch 2/40\n",
            "216/216 [==============================] - 1s 3ms/step - loss: 0.6932 - accuracy: 0.4987 - val_loss: 0.6931 - val_accuracy: 0.5051\n",
            "Epoch 3/40\n",
            "216/216 [==============================] - 1s 3ms/step - loss: 0.6932 - accuracy: 0.4974 - val_loss: 0.6932 - val_accuracy: 0.4949\n",
            "Epoch 4/40\n",
            "216/216 [==============================] - 1s 3ms/step - loss: 0.6932 - accuracy: 0.4975 - val_loss: 0.6932 - val_accuracy: 0.4949\n",
            "Epoch 5/40\n",
            "216/216 [==============================] - 1s 3ms/step - loss: 0.6932 - accuracy: 0.4969 - val_loss: 0.6932 - val_accuracy: 0.4949\n",
            "Epoch 6/40\n",
            "216/216 [==============================] - 1s 3ms/step - loss: 0.6932 - accuracy: 0.5013 - val_loss: 0.6932 - val_accuracy: 0.4949\n",
            "Epoch 7/40\n",
            "216/216 [==============================] - 1s 3ms/step - loss: 0.6932 - accuracy: 0.4978 - val_loss: 0.6932 - val_accuracy: 0.4949\n",
            "Epoch 8/40\n",
            "216/216 [==============================] - 1s 3ms/step - loss: 0.6932 - accuracy: 0.4972 - val_loss: 0.6932 - val_accuracy: 0.4949\n",
            "Epoch 9/40\n",
            "216/216 [==============================] - 1s 3ms/step - loss: 0.6932 - accuracy: 0.4992 - val_loss: 0.6932 - val_accuracy: 0.4949\n",
            "Epoch 10/40\n",
            "216/216 [==============================] - 1s 3ms/step - loss: 0.6932 - accuracy: 0.5013 - val_loss: 0.6932 - val_accuracy: 0.4949\n",
            "Epoch 11/40\n",
            "216/216 [==============================] - 1s 3ms/step - loss: 0.6932 - accuracy: 0.4963 - val_loss: 0.6932 - val_accuracy: 0.4949\n",
            "Epoch 12/40\n",
            "216/216 [==============================] - 1s 3ms/step - loss: 0.6932 - accuracy: 0.5013 - val_loss: 0.6932 - val_accuracy: 0.4949\n",
            "Epoch 13/40\n",
            "216/216 [==============================] - 1s 3ms/step - loss: 0.6932 - accuracy: 0.4984 - val_loss: 0.6932 - val_accuracy: 0.4949\n",
            "Epoch 14/40\n",
            "216/216 [==============================] - 1s 3ms/step - loss: 0.6932 - accuracy: 0.5013 - val_loss: 0.6932 - val_accuracy: 0.4949\n",
            "Epoch 15/40\n",
            "216/216 [==============================] - 1s 3ms/step - loss: 0.6932 - accuracy: 0.5013 - val_loss: 0.6932 - val_accuracy: 0.4949\n",
            "Epoch 16/40\n",
            "216/216 [==============================] - 1s 3ms/step - loss: 0.6932 - accuracy: 0.5013 - val_loss: 0.6932 - val_accuracy: 0.4949\n",
            "Epoch 17/40\n",
            "216/216 [==============================] - 1s 3ms/step - loss: 0.6932 - accuracy: 0.4985 - val_loss: 0.6932 - val_accuracy: 0.4949\n",
            "Epoch 18/40\n",
            "216/216 [==============================] - 1s 3ms/step - loss: 0.6932 - accuracy: 0.4995 - val_loss: 0.6932 - val_accuracy: 0.4949\n",
            "Epoch 19/40\n",
            "216/216 [==============================] - 1s 3ms/step - loss: 0.6932 - accuracy: 0.4958 - val_loss: 0.6932 - val_accuracy: 0.4949\n",
            "Epoch 20/40\n",
            "216/216 [==============================] - 1s 3ms/step - loss: 0.6932 - accuracy: 0.5001 - val_loss: 0.6932 - val_accuracy: 0.4949\n",
            "Epoch 21/40\n",
            "216/216 [==============================] - 1s 3ms/step - loss: 0.6932 - accuracy: 0.5013 - val_loss: 0.6932 - val_accuracy: 0.4949\n",
            "Epoch 22/40\n",
            "216/216 [==============================] - 1s 3ms/step - loss: 0.6932 - accuracy: 0.5013 - val_loss: 0.6932 - val_accuracy: 0.4949\n",
            "Epoch 23/40\n",
            "216/216 [==============================] - 1s 3ms/step - loss: 0.6932 - accuracy: 0.5013 - val_loss: 0.6932 - val_accuracy: 0.4949\n",
            "Epoch 24/40\n",
            "216/216 [==============================] - 1s 3ms/step - loss: 0.6932 - accuracy: 0.5013 - val_loss: 0.6932 - val_accuracy: 0.4949\n",
            "Epoch 25/40\n",
            "216/216 [==============================] - 1s 3ms/step - loss: 0.6932 - accuracy: 0.4971 - val_loss: 0.6932 - val_accuracy: 0.4949\n",
            "Epoch 26/40\n",
            "216/216 [==============================] - 1s 3ms/step - loss: 0.6932 - accuracy: 0.4979 - val_loss: 0.6932 - val_accuracy: 0.4949\n",
            "Epoch 27/40\n",
            "216/216 [==============================] - 1s 3ms/step - loss: 0.6932 - accuracy: 0.4943 - val_loss: 0.6932 - val_accuracy: 0.4949\n",
            "Epoch 28/40\n",
            "216/216 [==============================] - 1s 3ms/step - loss: 0.6932 - accuracy: 0.5013 - val_loss: 0.6932 - val_accuracy: 0.4949\n",
            "Epoch 29/40\n",
            "216/216 [==============================] - 1s 3ms/step - loss: 0.6932 - accuracy: 0.5013 - val_loss: 0.6932 - val_accuracy: 0.4949\n",
            "Epoch 30/40\n",
            "216/216 [==============================] - 1s 3ms/step - loss: 0.6932 - accuracy: 0.5013 - val_loss: 0.6932 - val_accuracy: 0.4949\n",
            "Epoch 31/40\n",
            "216/216 [==============================] - 1s 3ms/step - loss: 0.6932 - accuracy: 0.4946 - val_loss: 0.6932 - val_accuracy: 0.4949\n",
            "Epoch 32/40\n",
            "216/216 [==============================] - 1s 3ms/step - loss: 0.6932 - accuracy: 0.5013 - val_loss: 0.6932 - val_accuracy: 0.4949\n",
            "Epoch 33/40\n",
            "216/216 [==============================] - 1s 3ms/step - loss: 0.6932 - accuracy: 0.5013 - val_loss: 0.6932 - val_accuracy: 0.4949\n",
            "Epoch 34/40\n",
            "216/216 [==============================] - 1s 3ms/step - loss: 0.6932 - accuracy: 0.5004 - val_loss: 0.6932 - val_accuracy: 0.4949\n",
            "Epoch 35/40\n",
            "216/216 [==============================] - 1s 3ms/step - loss: 0.6932 - accuracy: 0.4999 - val_loss: 0.6931 - val_accuracy: 0.5051\n",
            "Epoch 36/40\n",
            "216/216 [==============================] - 1s 3ms/step - loss: 0.6932 - accuracy: 0.5020 - val_loss: 0.6932 - val_accuracy: 0.4949\n",
            "Epoch 37/40\n",
            "216/216 [==============================] - 1s 3ms/step - loss: 0.6932 - accuracy: 0.5013 - val_loss: 0.6932 - val_accuracy: 0.4949\n",
            "Epoch 38/40\n",
            "216/216 [==============================] - 1s 3ms/step - loss: 0.6932 - accuracy: 0.5013 - val_loss: 0.6932 - val_accuracy: 0.4949\n",
            "Epoch 39/40\n",
            "216/216 [==============================] - 1s 3ms/step - loss: 0.6932 - accuracy: 0.4979 - val_loss: 0.6932 - val_accuracy: 0.4949\n",
            "Epoch 40/40\n",
            "216/216 [==============================] - 1s 3ms/step - loss: 0.6932 - accuracy: 0.5013 - val_loss: 0.6932 - val_accuracy: 0.4949\n",
            "Epoch 1/40\n",
            "216/216 [==============================] - 1s 3ms/step - loss: 5.0125 - accuracy: 0.5074 - val_loss: 4.4136 - val_accuracy: 0.5231\n",
            "Epoch 2/40\n",
            "216/216 [==============================] - 1s 3ms/step - loss: 4.2238 - accuracy: 0.5143 - val_loss: 3.9402 - val_accuracy: 0.5228\n",
            "Epoch 3/40\n",
            "216/216 [==============================] - 1s 3ms/step - loss: 3.6914 - accuracy: 0.5146 - val_loss: 3.4264 - val_accuracy: 0.5286\n",
            "Epoch 4/40\n",
            "216/216 [==============================] - 1s 3ms/step - loss: 3.3067 - accuracy: 0.5189 - val_loss: 3.1287 - val_accuracy: 0.5289\n",
            "Epoch 5/40\n",
            "216/216 [==============================] - 1s 3ms/step - loss: 3.0125 - accuracy: 0.5154 - val_loss: 2.9223 - val_accuracy: 0.5387\n",
            "Epoch 6/40\n",
            "216/216 [==============================] - 1s 3ms/step - loss: 2.7706 - accuracy: 0.5214 - val_loss: 2.5641 - val_accuracy: 0.5373\n",
            "Epoch 7/40\n",
            "216/216 [==============================] - 1s 3ms/step - loss: 2.5156 - accuracy: 0.5248 - val_loss: 2.3896 - val_accuracy: 0.5381\n",
            "Epoch 8/40\n",
            "216/216 [==============================] - 1s 3ms/step - loss: 2.3191 - accuracy: 0.5278 - val_loss: 2.1801 - val_accuracy: 0.5384\n",
            "Epoch 9/40\n",
            "216/216 [==============================] - 1s 3ms/step - loss: 2.1435 - accuracy: 0.5305 - val_loss: 1.9948 - val_accuracy: 0.5460\n",
            "Epoch 10/40\n",
            "216/216 [==============================] - 1s 3ms/step - loss: 1.9791 - accuracy: 0.5352 - val_loss: 1.8383 - val_accuracy: 0.5460\n",
            "Epoch 11/40\n",
            "216/216 [==============================] - 1s 3ms/step - loss: 1.8310 - accuracy: 0.5393 - val_loss: 1.7201 - val_accuracy: 0.5454\n",
            "Epoch 12/40\n",
            "216/216 [==============================] - 1s 3ms/step - loss: 1.6941 - accuracy: 0.5445 - val_loss: 1.6925 - val_accuracy: 0.5416\n",
            "Epoch 13/40\n",
            "216/216 [==============================] - 1s 3ms/step - loss: 1.5960 - accuracy: 0.5440 - val_loss: 1.5531 - val_accuracy: 0.5428\n",
            "Epoch 14/40\n",
            "216/216 [==============================] - 1s 3ms/step - loss: 1.4997 - accuracy: 0.5528 - val_loss: 1.5137 - val_accuracy: 0.5460\n",
            "Epoch 15/40\n",
            "216/216 [==============================] - 1s 3ms/step - loss: 1.4243 - accuracy: 0.5533 - val_loss: 1.4440 - val_accuracy: 0.5477\n",
            "Epoch 16/40\n",
            "216/216 [==============================] - 1s 3ms/step - loss: 1.3551 - accuracy: 0.5568 - val_loss: 1.4365 - val_accuracy: 0.5527\n",
            "Epoch 17/40\n",
            "216/216 [==============================] - 1s 3ms/step - loss: 1.2931 - accuracy: 0.5639 - val_loss: 1.2585 - val_accuracy: 0.5614\n",
            "Epoch 18/40\n",
            "216/216 [==============================] - 1s 3ms/step - loss: 1.2551 - accuracy: 0.5614 - val_loss: 1.2749 - val_accuracy: 0.5564\n",
            "Epoch 19/40\n",
            "216/216 [==============================] - 1s 3ms/step - loss: 1.1873 - accuracy: 0.5662 - val_loss: 1.1863 - val_accuracy: 0.5648\n",
            "Epoch 20/40\n",
            "216/216 [==============================] - 1s 3ms/step - loss: 1.1376 - accuracy: 0.5675 - val_loss: 1.1482 - val_accuracy: 0.5701\n",
            "Epoch 21/40\n",
            "216/216 [==============================] - 1s 3ms/step - loss: 1.1120 - accuracy: 0.5691 - val_loss: 1.1262 - val_accuracy: 0.5663\n",
            "Epoch 22/40\n",
            "216/216 [==============================] - 1s 3ms/step - loss: 1.0685 - accuracy: 0.5765 - val_loss: 1.0607 - val_accuracy: 0.5753\n",
            "Epoch 23/40\n",
            "216/216 [==============================] - 1s 3ms/step - loss: 1.0461 - accuracy: 0.5775 - val_loss: 1.0173 - val_accuracy: 0.5793\n",
            "Epoch 24/40\n",
            "216/216 [==============================] - 1s 3ms/step - loss: 1.0178 - accuracy: 0.5792 - val_loss: 0.9891 - val_accuracy: 0.5820\n",
            "Epoch 25/40\n",
            "216/216 [==============================] - 1s 3ms/step - loss: 0.9772 - accuracy: 0.5839 - val_loss: 1.0137 - val_accuracy: 0.5817\n",
            "Epoch 26/40\n",
            "216/216 [==============================] - 1s 3ms/step - loss: 0.9561 - accuracy: 0.5845 - val_loss: 0.9845 - val_accuracy: 0.5837\n",
            "Epoch 27/40\n",
            "216/216 [==============================] - 1s 3ms/step - loss: 0.9334 - accuracy: 0.5860 - val_loss: 1.1366 - val_accuracy: 0.5730\n",
            "Epoch 28/40\n",
            "216/216 [==============================] - 1s 3ms/step - loss: 0.9271 - accuracy: 0.5872 - val_loss: 0.9188 - val_accuracy: 0.5918\n",
            "Epoch 29/40\n",
            "216/216 [==============================] - 1s 3ms/step - loss: 0.8940 - accuracy: 0.5900 - val_loss: 0.8811 - val_accuracy: 0.5944\n",
            "Epoch 30/40\n",
            "216/216 [==============================] - 1s 3ms/step - loss: 0.8927 - accuracy: 0.5951 - val_loss: 0.8648 - val_accuracy: 0.5953\n",
            "Epoch 31/40\n",
            "216/216 [==============================] - 1s 3ms/step - loss: 0.8609 - accuracy: 0.5974 - val_loss: 0.9019 - val_accuracy: 0.5889\n",
            "Epoch 32/40\n",
            "216/216 [==============================] - 1s 3ms/step - loss: 0.8384 - accuracy: 0.5996 - val_loss: 0.8352 - val_accuracy: 0.5956\n",
            "Epoch 33/40\n",
            "216/216 [==============================] - 1s 3ms/step - loss: 0.8454 - accuracy: 0.5967 - val_loss: 0.8857 - val_accuracy: 0.5950\n",
            "Epoch 34/40\n",
            "216/216 [==============================] - 1s 3ms/step - loss: 0.8439 - accuracy: 0.5990 - val_loss: 1.0341 - val_accuracy: 0.5727\n",
            "Epoch 35/40\n",
            "216/216 [==============================] - 1s 3ms/step - loss: 0.8111 - accuracy: 0.6060 - val_loss: 0.8281 - val_accuracy: 0.6020\n",
            "Epoch 36/40\n",
            "216/216 [==============================] - 1s 3ms/step - loss: 0.8047 - accuracy: 0.6051 - val_loss: 0.8117 - val_accuracy: 0.6060\n",
            "Epoch 37/40\n",
            "216/216 [==============================] - 1s 3ms/step - loss: 0.7872 - accuracy: 0.6087 - val_loss: 0.8020 - val_accuracy: 0.6069\n",
            "Epoch 38/40\n",
            "216/216 [==============================] - 1s 3ms/step - loss: 0.7847 - accuracy: 0.6056 - val_loss: 0.7707 - val_accuracy: 0.6081\n",
            "Epoch 39/40\n",
            "216/216 [==============================] - 1s 3ms/step - loss: 0.7684 - accuracy: 0.6163 - val_loss: 0.8002 - val_accuracy: 0.6037\n",
            "Epoch 40/40\n",
            "216/216 [==============================] - 1s 3ms/step - loss: 0.7625 - accuracy: 0.6118 - val_loss: 0.7855 - val_accuracy: 0.6101\n",
            "Epoch 1/40\n",
            "216/216 [==============================] - 1s 3ms/step - loss: 10.5307 - accuracy: 0.4876 - val_loss: 7.1986 - val_accuracy: 0.4830\n",
            "Epoch 2/40\n",
            "216/216 [==============================] - 1s 3ms/step - loss: 5.8196 - accuracy: 0.4715 - val_loss: 4.7783 - val_accuracy: 0.4784\n",
            "Epoch 3/40\n",
            "216/216 [==============================] - 1s 3ms/step - loss: 4.6086 - accuracy: 0.4709 - val_loss: 4.3553 - val_accuracy: 0.4810\n",
            "Epoch 4/40\n",
            "216/216 [==============================] - 1s 3ms/step - loss: 4.3837 - accuracy: 0.4688 - val_loss: 4.2114 - val_accuracy: 0.4798\n",
            "Epoch 5/40\n",
            "216/216 [==============================] - 1s 3ms/step - loss: 4.2568 - accuracy: 0.4674 - val_loss: 4.0915 - val_accuracy: 0.4793\n",
            "Epoch 6/40\n",
            "216/216 [==============================] - 1s 3ms/step - loss: 4.1357 - accuracy: 0.4703 - val_loss: 3.9748 - val_accuracy: 0.4807\n",
            "Epoch 7/40\n",
            "216/216 [==============================] - 1s 3ms/step - loss: 4.0169 - accuracy: 0.4713 - val_loss: 3.8594 - val_accuracy: 0.4822\n",
            "Epoch 8/40\n",
            "216/216 [==============================] - 1s 3ms/step - loss: 3.9001 - accuracy: 0.4724 - val_loss: 3.7435 - val_accuracy: 0.4810\n",
            "Epoch 9/40\n",
            "216/216 [==============================] - 1s 3ms/step - loss: 3.7720 - accuracy: 0.4720 - val_loss: 3.5745 - val_accuracy: 0.4824\n",
            "Epoch 10/40\n",
            "216/216 [==============================] - 1s 3ms/step - loss: 3.5212 - accuracy: 0.4704 - val_loss: 3.2940 - val_accuracy: 0.4813\n",
            "Epoch 11/40\n",
            "216/216 [==============================] - 1s 3ms/step - loss: 3.3338 - accuracy: 0.4734 - val_loss: 3.1525 - val_accuracy: 0.4827\n",
            "Epoch 12/40\n",
            "216/216 [==============================] - 1s 3ms/step - loss: 3.1860 - accuracy: 0.4747 - val_loss: 3.0148 - val_accuracy: 0.4833\n",
            "Epoch 13/40\n",
            "216/216 [==============================] - 1s 3ms/step - loss: 3.0443 - accuracy: 0.4746 - val_loss: 2.8794 - val_accuracy: 0.4856\n",
            "Epoch 14/40\n",
            "216/216 [==============================] - 1s 3ms/step - loss: 2.9068 - accuracy: 0.4768 - val_loss: 2.7450 - val_accuracy: 0.4827\n",
            "Epoch 15/40\n",
            "216/216 [==============================] - 1s 3ms/step - loss: 2.7688 - accuracy: 0.4800 - val_loss: 2.6143 - val_accuracy: 0.4810\n",
            "Epoch 16/40\n",
            "216/216 [==============================] - 1s 3ms/step - loss: 2.6332 - accuracy: 0.4809 - val_loss: 2.4834 - val_accuracy: 0.4819\n",
            "Epoch 17/40\n",
            "216/216 [==============================] - 1s 3ms/step - loss: 2.4918 - accuracy: 0.4805 - val_loss: 2.3573 - val_accuracy: 0.4845\n",
            "Epoch 18/40\n",
            "216/216 [==============================] - 1s 3ms/step - loss: 2.3604 - accuracy: 0.4832 - val_loss: 2.2344 - val_accuracy: 0.4842\n",
            "Epoch 19/40\n",
            "216/216 [==============================] - 1s 3ms/step - loss: 2.2360 - accuracy: 0.4860 - val_loss: 2.1287 - val_accuracy: 0.4871\n",
            "Epoch 20/40\n",
            "216/216 [==============================] - 1s 3ms/step - loss: 2.1263 - accuracy: 0.4880 - val_loss: 2.0283 - val_accuracy: 0.4932\n",
            "Epoch 21/40\n",
            "216/216 [==============================] - 1s 3ms/step - loss: 2.0285 - accuracy: 0.4888 - val_loss: 1.9574 - val_accuracy: 0.4885\n",
            "Epoch 22/40\n",
            "216/216 [==============================] - 1s 3ms/step - loss: 1.9465 - accuracy: 0.4913 - val_loss: 1.8753 - val_accuracy: 0.4897\n",
            "Epoch 23/40\n",
            "216/216 [==============================] - 1s 3ms/step - loss: 1.8750 - accuracy: 0.4940 - val_loss: 1.8147 - val_accuracy: 0.4920\n",
            "Epoch 24/40\n",
            "216/216 [==============================] - 1s 3ms/step - loss: 1.8131 - accuracy: 0.4974 - val_loss: 1.7612 - val_accuracy: 0.4900\n",
            "Epoch 25/40\n",
            "216/216 [==============================] - 1s 3ms/step - loss: 1.7539 - accuracy: 0.4964 - val_loss: 1.7098 - val_accuracy: 0.4856\n",
            "Epoch 26/40\n",
            "216/216 [==============================] - 1s 3ms/step - loss: 1.7005 - accuracy: 0.4977 - val_loss: 1.6585 - val_accuracy: 0.4883\n",
            "Epoch 27/40\n",
            "216/216 [==============================] - 1s 3ms/step - loss: 1.6444 - accuracy: 0.4974 - val_loss: 1.6029 - val_accuracy: 0.4845\n",
            "Epoch 28/40\n",
            "216/216 [==============================] - 1s 3ms/step - loss: 1.5808 - accuracy: 0.4964 - val_loss: 1.5305 - val_accuracy: 0.4880\n",
            "Epoch 29/40\n",
            "216/216 [==============================] - 1s 3ms/step - loss: 1.5128 - accuracy: 0.4924 - val_loss: 1.4558 - val_accuracy: 0.4891\n",
            "Epoch 30/40\n",
            "216/216 [==============================] - 1s 3ms/step - loss: 1.4509 - accuracy: 0.4924 - val_loss: 1.3963 - val_accuracy: 0.4885\n",
            "Epoch 31/40\n",
            "216/216 [==============================] - 1s 3ms/step - loss: 1.4043 - accuracy: 0.4902 - val_loss: 1.3575 - val_accuracy: 0.4888\n",
            "Epoch 32/40\n",
            "216/216 [==============================] - 1s 3ms/step - loss: 1.3694 - accuracy: 0.4910 - val_loss: 1.3238 - val_accuracy: 0.4897\n",
            "Epoch 33/40\n",
            "216/216 [==============================] - 1s 3ms/step - loss: 1.3407 - accuracy: 0.4915 - val_loss: 1.2985 - val_accuracy: 0.4938\n",
            "Epoch 34/40\n",
            "216/216 [==============================] - 1s 3ms/step - loss: 1.3179 - accuracy: 0.4916 - val_loss: 1.2774 - val_accuracy: 0.4932\n",
            "Epoch 35/40\n",
            "216/216 [==============================] - 1s 3ms/step - loss: 1.2954 - accuracy: 0.4931 - val_loss: 1.2593 - val_accuracy: 0.4970\n",
            "Epoch 36/40\n",
            "216/216 [==============================] - 1s 3ms/step - loss: 1.2764 - accuracy: 0.4933 - val_loss: 1.2405 - val_accuracy: 0.4996\n",
            "Epoch 37/40\n",
            "216/216 [==============================] - 1s 3ms/step - loss: 1.2591 - accuracy: 0.4952 - val_loss: 1.2253 - val_accuracy: 0.4964\n",
            "Epoch 38/40\n",
            "216/216 [==============================] - 1s 3ms/step - loss: 1.2425 - accuracy: 0.4926 - val_loss: 1.2084 - val_accuracy: 0.4978\n",
            "Epoch 39/40\n",
            "216/216 [==============================] - 1s 3ms/step - loss: 1.2262 - accuracy: 0.4924 - val_loss: 1.1937 - val_accuracy: 0.4987\n",
            "Epoch 40/40\n",
            "216/216 [==============================] - 1s 3ms/step - loss: 1.2124 - accuracy: 0.4938 - val_loss: 1.1799 - val_accuracy: 0.4999\n"
          ],
          "name": "stdout"
        }
      ]
    },
    {
      "cell_type": "code",
      "metadata": {
        "id": "ImKwyo6HWdqa",
        "colab_type": "code",
        "outputId": "78b3e9d4-4916-4767-f7f0-dd1dad1996c3",
        "colab": {
          "base_uri": "https://localhost:8080/",
          "height": 282
        }
      },
      "source": [
        "maxs = [max(h['val_accuracy']) for h in lr_histories]\n",
        "plt.plot(maxs)"
      ],
      "execution_count": 43,
      "outputs": [
        {
          "output_type": "execute_result",
          "data": {
            "text/plain": [
              "[<matplotlib.lines.Line2D at 0x7fc3a5d9bb00>]"
            ]
          },
          "metadata": {
            "tags": []
          },
          "execution_count": 43
        },
        {
          "output_type": "display_data",
          "data": {
            "image/png": "[encoded data removed]",
            "text/plain": [
              "<Figure size 432x288 with 1 Axes>"
            ]
          },
          "metadata": {
            "tags": []
          }
        }
      ]
    },
    {
      "cell_type": "markdown",
      "metadata": {
        "id": "IS4FOh1AWdqd",
        "colab_type": "text"
      },
      "source": [
        "### Now train the model at the identified learning rate for 100 epochs\n",
        "\n",
        "The `val_acc` tops out at learning rate $10^{-3}$ or $10^{-4}$. Remember there is some randomness in how the data is split and shuffled and in the initialisation of paremeters, hence it can be one of two values. Regardless, we will take the mean of these two as the learning rate for training the model for a longer time. 100 epochs.\n",
        "\n",
        "Then plot the training history of this run - again taken from the `history.history` dictionary."
      ]
    },
    {
      "cell_type": "code",
      "metadata": {
        "id": "yB8JzmY_Wdqd",
        "colab_type": "code",
        "outputId": "cc292fd3-7c25-4640-bb14-f248fa28de82",
        "colab": {
          "base_uri": "https://localhost:8080/",
          "height": 1000
        }
      },
      "source": [
        "# define the keras model\n",
        "from tensorflow.keras.optimizers import Adam\n",
        "model = Sequential()\n",
        "model.add(Dense(12, input_dim=300, activation='relu'))\n",
        "model.add(Dense(8, activation='relu'))\n",
        "model.add(Dense(1, activation='sigmoid'))\n",
        "ad = Adam(learning_rate=5e-4, beta_1=0.9, beta_2=0.999, amsgrad=False)\n",
        "model.compile(loss='binary_crossentropy', optimizer=ad, metrics=['accuracy'])\n",
        "history = model.fit(X, y, epochs=100, batch_size=64, validation_split=0.2)"
      ],
      "execution_count": 44,
      "outputs": [
        {
          "output_type": "stream",
          "text": [
            "Epoch 1/100\n",
            "216/216 [==============================] - 1s 3ms/step - loss: 2.3903 - accuracy: 0.4905 - val_loss: 1.8189 - val_accuracy: 0.5164\n",
            "Epoch 2/100\n",
            "216/216 [==============================] - 1s 3ms/step - loss: 1.6904 - accuracy: 0.5005 - val_loss: 1.6612 - val_accuracy: 0.5086\n",
            "Epoch 3/100\n",
            "216/216 [==============================] - 1s 3ms/step - loss: 1.3946 - accuracy: 0.5079 - val_loss: 1.2141 - val_accuracy: 0.5231\n",
            "Epoch 4/100\n",
            "216/216 [==============================] - 1s 3ms/step - loss: 1.1571 - accuracy: 0.5185 - val_loss: 1.1070 - val_accuracy: 0.5303\n",
            "Epoch 5/100\n",
            "216/216 [==============================] - 1s 3ms/step - loss: 1.0173 - accuracy: 0.5253 - val_loss: 0.9796 - val_accuracy: 0.5306\n",
            "Epoch 6/100\n",
            "216/216 [==============================] - 1s 3ms/step - loss: 0.9235 - accuracy: 0.5394 - val_loss: 0.9364 - val_accuracy: 0.5422\n",
            "Epoch 7/100\n",
            "216/216 [==============================] - 1s 3ms/step - loss: 0.8406 - accuracy: 0.5525 - val_loss: 0.7864 - val_accuracy: 0.5648\n",
            "Epoch 8/100\n",
            "216/216 [==============================] - 1s 3ms/step - loss: 0.7925 - accuracy: 0.5635 - val_loss: 1.0175 - val_accuracy: 0.5239\n",
            "Epoch 9/100\n",
            "216/216 [==============================] - 1s 3ms/step - loss: 0.7577 - accuracy: 0.5750 - val_loss: 0.7176 - val_accuracy: 0.5936\n",
            "Epoch 10/100\n",
            "216/216 [==============================] - 1s 3ms/step - loss: 0.7465 - accuracy: 0.5821 - val_loss: 0.7130 - val_accuracy: 0.5930\n",
            "Epoch 11/100\n",
            "216/216 [==============================] - 1s 3ms/step - loss: 0.7331 - accuracy: 0.5878 - val_loss: 0.7658 - val_accuracy: 0.5631\n",
            "Epoch 12/100\n",
            "216/216 [==============================] - 1s 3ms/step - loss: 0.7137 - accuracy: 0.5901 - val_loss: 0.6843 - val_accuracy: 0.5973\n",
            "Epoch 13/100\n",
            "216/216 [==============================] - 1s 3ms/step - loss: 0.6960 - accuracy: 0.5993 - val_loss: 0.6647 - val_accuracy: 0.6156\n",
            "Epoch 14/100\n",
            "216/216 [==============================] - 1s 3ms/step - loss: 0.6959 - accuracy: 0.6019 - val_loss: 0.6617 - val_accuracy: 0.6217\n",
            "Epoch 15/100\n",
            "216/216 [==============================] - 1s 3ms/step - loss: 0.6892 - accuracy: 0.6003 - val_loss: 0.6534 - val_accuracy: 0.6208\n",
            "Epoch 16/100\n",
            "216/216 [==============================] - 1s 3ms/step - loss: 0.6999 - accuracy: 0.6025 - val_loss: 0.6641 - val_accuracy: 0.6336\n",
            "Epoch 17/100\n",
            "216/216 [==============================] - 1s 3ms/step - loss: 0.6705 - accuracy: 0.6175 - val_loss: 0.7124 - val_accuracy: 0.5808\n",
            "Epoch 18/100\n",
            "216/216 [==============================] - 1s 3ms/step - loss: 0.6707 - accuracy: 0.6213 - val_loss: 0.6433 - val_accuracy: 0.6301\n",
            "Epoch 19/100\n",
            "216/216 [==============================] - 1s 3ms/step - loss: 0.6572 - accuracy: 0.6275 - val_loss: 0.6644 - val_accuracy: 0.6362\n",
            "Epoch 20/100\n",
            "216/216 [==============================] - 1s 3ms/step - loss: 0.6751 - accuracy: 0.6191 - val_loss: 0.6329 - val_accuracy: 0.6414\n",
            "Epoch 21/100\n",
            "216/216 [==============================] - 1s 3ms/step - loss: 0.6634 - accuracy: 0.6271 - val_loss: 0.6489 - val_accuracy: 0.6449\n",
            "Epoch 22/100\n",
            "216/216 [==============================] - 1s 3ms/step - loss: 0.6419 - accuracy: 0.6331 - val_loss: 0.7436 - val_accuracy: 0.5782\n",
            "Epoch 23/100\n",
            "216/216 [==============================] - 1s 3ms/step - loss: 0.6586 - accuracy: 0.6244 - val_loss: 0.6300 - val_accuracy: 0.6504\n",
            "Epoch 24/100\n",
            "216/216 [==============================] - 1s 3ms/step - loss: 0.6741 - accuracy: 0.6196 - val_loss: 0.7476 - val_accuracy: 0.5648\n",
            "Epoch 25/100\n",
            "216/216 [==============================] - 1s 3ms/step - loss: 0.6575 - accuracy: 0.6286 - val_loss: 0.6578 - val_accuracy: 0.6086\n",
            "Epoch 26/100\n",
            "216/216 [==============================] - 1s 3ms/step - loss: 0.6520 - accuracy: 0.6299 - val_loss: 0.6273 - val_accuracy: 0.6414\n",
            "Epoch 27/100\n",
            "216/216 [==============================] - 1s 3ms/step - loss: 0.6539 - accuracy: 0.6334 - val_loss: 0.6256 - val_accuracy: 0.6536\n",
            "Epoch 28/100\n",
            "216/216 [==============================] - 1s 3ms/step - loss: 0.6507 - accuracy: 0.6294 - val_loss: 0.6513 - val_accuracy: 0.6159\n",
            "Epoch 29/100\n",
            "216/216 [==============================] - 1s 3ms/step - loss: 0.6746 - accuracy: 0.6189 - val_loss: 0.7249 - val_accuracy: 0.5741\n",
            "Epoch 30/100\n",
            "216/216 [==============================] - 1s 3ms/step - loss: 0.6623 - accuracy: 0.6297 - val_loss: 0.7094 - val_accuracy: 0.6008\n",
            "Epoch 31/100\n",
            "216/216 [==============================] - 1s 3ms/step - loss: 0.6370 - accuracy: 0.6450 - val_loss: 0.6303 - val_accuracy: 0.6333\n",
            "Epoch 32/100\n",
            "216/216 [==============================] - 1s 3ms/step - loss: 0.6412 - accuracy: 0.6392 - val_loss: 0.6400 - val_accuracy: 0.6481\n",
            "Epoch 33/100\n",
            "216/216 [==============================] - 1s 3ms/step - loss: 0.6555 - accuracy: 0.6295 - val_loss: 0.6561 - val_accuracy: 0.6321\n",
            "Epoch 34/100\n",
            "216/216 [==============================] - 1s 3ms/step - loss: 0.6809 - accuracy: 0.6221 - val_loss: 0.6803 - val_accuracy: 0.6188\n",
            "Epoch 35/100\n",
            "216/216 [==============================] - 1s 3ms/step - loss: 0.6354 - accuracy: 0.6448 - val_loss: 0.6245 - val_accuracy: 0.6435\n",
            "Epoch 36/100\n",
            "216/216 [==============================] - 1s 3ms/step - loss: 0.6406 - accuracy: 0.6415 - val_loss: 0.6350 - val_accuracy: 0.6496\n",
            "Epoch 37/100\n",
            "216/216 [==============================] - 1s 3ms/step - loss: 0.6448 - accuracy: 0.6357 - val_loss: 0.6233 - val_accuracy: 0.6530\n",
            "Epoch 38/100\n",
            "216/216 [==============================] - 1s 3ms/step - loss: 0.6421 - accuracy: 0.6429 - val_loss: 0.7202 - val_accuracy: 0.5941\n",
            "Epoch 39/100\n",
            "216/216 [==============================] - 1s 3ms/step - loss: 0.6354 - accuracy: 0.6471 - val_loss: 0.7271 - val_accuracy: 0.5898\n",
            "Epoch 40/100\n",
            "216/216 [==============================] - 1s 3ms/step - loss: 0.6582 - accuracy: 0.6320 - val_loss: 0.6675 - val_accuracy: 0.6069\n",
            "Epoch 41/100\n",
            "216/216 [==============================] - 1s 3ms/step - loss: 0.6272 - accuracy: 0.6493 - val_loss: 0.6263 - val_accuracy: 0.6522\n",
            "Epoch 42/100\n",
            "216/216 [==============================] - 1s 3ms/step - loss: 0.6388 - accuracy: 0.6407 - val_loss: 0.6276 - val_accuracy: 0.6359\n",
            "Epoch 43/100\n",
            "216/216 [==============================] - 1s 3ms/step - loss: 0.6441 - accuracy: 0.6363 - val_loss: 0.6656 - val_accuracy: 0.6060\n",
            "Epoch 44/100\n",
            "216/216 [==============================] - 1s 3ms/step - loss: 0.6371 - accuracy: 0.6406 - val_loss: 0.7424 - val_accuracy: 0.5857\n",
            "Epoch 45/100\n",
            "216/216 [==============================] - 1s 3ms/step - loss: 0.6490 - accuracy: 0.6336 - val_loss: 0.6233 - val_accuracy: 0.6414\n",
            "Epoch 46/100\n",
            "216/216 [==============================] - 1s 3ms/step - loss: 0.6324 - accuracy: 0.6405 - val_loss: 0.7960 - val_accuracy: 0.5524\n",
            "Epoch 47/100\n",
            "216/216 [==============================] - 1s 3ms/step - loss: 0.6364 - accuracy: 0.6447 - val_loss: 0.6874 - val_accuracy: 0.6156\n",
            "Epoch 48/100\n",
            "216/216 [==============================] - 1s 3ms/step - loss: 0.6462 - accuracy: 0.6357 - val_loss: 0.6181 - val_accuracy: 0.6539\n",
            "Epoch 49/100\n",
            "216/216 [==============================] - 1s 3ms/step - loss: 0.6307 - accuracy: 0.6453 - val_loss: 0.6164 - val_accuracy: 0.6646\n",
            "Epoch 50/100\n",
            "216/216 [==============================] - 1s 3ms/step - loss: 0.6325 - accuracy: 0.6481 - val_loss: 0.6244 - val_accuracy: 0.6478\n",
            "Epoch 51/100\n",
            "216/216 [==============================] - 1s 3ms/step - loss: 0.6311 - accuracy: 0.6459 - val_loss: 0.6408 - val_accuracy: 0.6269\n",
            "Epoch 52/100\n",
            "216/216 [==============================] - 1s 3ms/step - loss: 0.6287 - accuracy: 0.6492 - val_loss: 0.6229 - val_accuracy: 0.6525\n",
            "Epoch 53/100\n",
            "216/216 [==============================] - 1s 3ms/step - loss: 0.6348 - accuracy: 0.6449 - val_loss: 0.6837 - val_accuracy: 0.6176\n",
            "Epoch 54/100\n",
            "216/216 [==============================] - 1s 3ms/step - loss: 0.6585 - accuracy: 0.6311 - val_loss: 0.6254 - val_accuracy: 0.6493\n",
            "Epoch 55/100\n",
            "216/216 [==============================] - 1s 3ms/step - loss: 0.6252 - accuracy: 0.6474 - val_loss: 0.6406 - val_accuracy: 0.6426\n",
            "Epoch 56/100\n",
            "216/216 [==============================] - 1s 3ms/step - loss: 0.6590 - accuracy: 0.6291 - val_loss: 0.6538 - val_accuracy: 0.6171\n",
            "Epoch 57/100\n",
            "216/216 [==============================] - 1s 3ms/step - loss: 0.6570 - accuracy: 0.6252 - val_loss: 0.6172 - val_accuracy: 0.6635\n",
            "Epoch 58/100\n",
            "216/216 [==============================] - 1s 3ms/step - loss: 0.6366 - accuracy: 0.6429 - val_loss: 0.7313 - val_accuracy: 0.5735\n",
            "Epoch 59/100\n",
            "216/216 [==============================] - 1s 3ms/step - loss: 0.6341 - accuracy: 0.6464 - val_loss: 0.6161 - val_accuracy: 0.6617\n",
            "Epoch 60/100\n",
            "216/216 [==============================] - 1s 3ms/step - loss: 0.6376 - accuracy: 0.6446 - val_loss: 0.6988 - val_accuracy: 0.5837\n",
            "Epoch 61/100\n",
            "216/216 [==============================] - 1s 3ms/step - loss: 0.6376 - accuracy: 0.6420 - val_loss: 0.6376 - val_accuracy: 0.6301\n",
            "Epoch 62/100\n",
            "216/216 [==============================] - 1s 3ms/step - loss: 0.6281 - accuracy: 0.6510 - val_loss: 0.6222 - val_accuracy: 0.6426\n",
            "Epoch 63/100\n",
            "216/216 [==============================] - 1s 3ms/step - loss: 0.6232 - accuracy: 0.6559 - val_loss: 0.6196 - val_accuracy: 0.6501\n",
            "Epoch 64/100\n",
            "216/216 [==============================] - 1s 3ms/step - loss: 0.6303 - accuracy: 0.6492 - val_loss: 0.6153 - val_accuracy: 0.6635\n",
            "Epoch 65/100\n",
            "216/216 [==============================] - 1s 3ms/step - loss: 0.6236 - accuracy: 0.6561 - val_loss: 0.6382 - val_accuracy: 0.6290\n",
            "Epoch 66/100\n",
            "216/216 [==============================] - 1s 3ms/step - loss: 0.6436 - accuracy: 0.6418 - val_loss: 0.6181 - val_accuracy: 0.6617\n",
            "Epoch 67/100\n",
            "216/216 [==============================] - 1s 3ms/step - loss: 0.6355 - accuracy: 0.6431 - val_loss: 0.6279 - val_accuracy: 0.6437\n",
            "Epoch 68/100\n",
            "216/216 [==============================] - 1s 3ms/step - loss: 0.6338 - accuracy: 0.6492 - val_loss: 0.7059 - val_accuracy: 0.5791\n",
            "Epoch 69/100\n",
            "216/216 [==============================] - 1s 3ms/step - loss: 0.6344 - accuracy: 0.6453 - val_loss: 0.6367 - val_accuracy: 0.6304\n",
            "Epoch 70/100\n",
            "216/216 [==============================] - 1s 3ms/step - loss: 0.6272 - accuracy: 0.6466 - val_loss: 0.6203 - val_accuracy: 0.6551\n",
            "Epoch 71/100\n",
            "216/216 [==============================] - 1s 3ms/step - loss: 0.6374 - accuracy: 0.6421 - val_loss: 0.6690 - val_accuracy: 0.6278\n",
            "Epoch 72/100\n",
            "216/216 [==============================] - 1s 3ms/step - loss: 0.6208 - accuracy: 0.6526 - val_loss: 0.6167 - val_accuracy: 0.6603\n",
            "Epoch 73/100\n",
            "216/216 [==============================] - 1s 3ms/step - loss: 0.6374 - accuracy: 0.6385 - val_loss: 0.6456 - val_accuracy: 0.6388\n",
            "Epoch 74/100\n",
            "216/216 [==============================] - 1s 3ms/step - loss: 0.6259 - accuracy: 0.6513 - val_loss: 0.6899 - val_accuracy: 0.5886\n",
            "Epoch 75/100\n",
            "216/216 [==============================] - 1s 3ms/step - loss: 0.6271 - accuracy: 0.6453 - val_loss: 0.6587 - val_accuracy: 0.6310\n",
            "Epoch 76/100\n",
            "216/216 [==============================] - 1s 3ms/step - loss: 0.6595 - accuracy: 0.6299 - val_loss: 0.6192 - val_accuracy: 0.6490\n",
            "Epoch 77/100\n",
            "216/216 [==============================] - 1s 3ms/step - loss: 0.6391 - accuracy: 0.6404 - val_loss: 0.6566 - val_accuracy: 0.6321\n",
            "Epoch 78/100\n",
            "216/216 [==============================] - 1s 3ms/step - loss: 0.6240 - accuracy: 0.6532 - val_loss: 0.6218 - val_accuracy: 0.6525\n",
            "Epoch 79/100\n",
            "216/216 [==============================] - 1s 3ms/step - loss: 0.6400 - accuracy: 0.6429 - val_loss: 0.6151 - val_accuracy: 0.6641\n",
            "Epoch 80/100\n",
            "216/216 [==============================] - 1s 3ms/step - loss: 0.6222 - accuracy: 0.6503 - val_loss: 0.6332 - val_accuracy: 0.6426\n",
            "Epoch 81/100\n",
            "216/216 [==============================] - 1s 3ms/step - loss: 0.6310 - accuracy: 0.6508 - val_loss: 0.6596 - val_accuracy: 0.6118\n",
            "Epoch 82/100\n",
            "216/216 [==============================] - 1s 3ms/step - loss: 0.6497 - accuracy: 0.6376 - val_loss: 0.6165 - val_accuracy: 0.6530\n",
            "Epoch 83/100\n",
            "216/216 [==============================] - 1s 3ms/step - loss: 0.6210 - accuracy: 0.6567 - val_loss: 0.6271 - val_accuracy: 0.6408\n",
            "Epoch 84/100\n",
            "216/216 [==============================] - 1s 3ms/step - loss: 0.6272 - accuracy: 0.6512 - val_loss: 0.6208 - val_accuracy: 0.6446\n",
            "Epoch 85/100\n",
            "216/216 [==============================] - 1s 3ms/step - loss: 0.6264 - accuracy: 0.6513 - val_loss: 0.6164 - val_accuracy: 0.6527\n",
            "Epoch 86/100\n",
            "216/216 [==============================] - 1s 3ms/step - loss: 0.6213 - accuracy: 0.6544 - val_loss: 0.6178 - val_accuracy: 0.6620\n",
            "Epoch 87/100\n",
            "216/216 [==============================] - 1s 3ms/step - loss: 0.6300 - accuracy: 0.6447 - val_loss: 0.6164 - val_accuracy: 0.6591\n",
            "Epoch 88/100\n",
            "216/216 [==============================] - 1s 3ms/step - loss: 0.6182 - accuracy: 0.6581 - val_loss: 0.6155 - val_accuracy: 0.6545\n",
            "Epoch 89/100\n",
            "216/216 [==============================] - 1s 3ms/step - loss: 0.6217 - accuracy: 0.6497 - val_loss: 0.6152 - val_accuracy: 0.6565\n",
            "Epoch 90/100\n",
            "216/216 [==============================] - 1s 3ms/step - loss: 0.6207 - accuracy: 0.6552 - val_loss: 0.6824 - val_accuracy: 0.6182\n",
            "Epoch 91/100\n",
            "216/216 [==============================] - 1s 3ms/step - loss: 0.6294 - accuracy: 0.6479 - val_loss: 0.6477 - val_accuracy: 0.6176\n",
            "Epoch 92/100\n",
            "216/216 [==============================] - 1s 3ms/step - loss: 0.6414 - accuracy: 0.6408 - val_loss: 0.6241 - val_accuracy: 0.6414\n",
            "Epoch 93/100\n",
            "216/216 [==============================] - 1s 3ms/step - loss: 0.6383 - accuracy: 0.6457 - val_loss: 0.6278 - val_accuracy: 0.6394\n",
            "Epoch 94/100\n",
            "216/216 [==============================] - 1s 3ms/step - loss: 0.6267 - accuracy: 0.6503 - val_loss: 0.6450 - val_accuracy: 0.6339\n",
            "Epoch 95/100\n",
            "216/216 [==============================] - 1s 3ms/step - loss: 0.6329 - accuracy: 0.6489 - val_loss: 0.6173 - val_accuracy: 0.6597\n",
            "Epoch 96/100\n",
            "216/216 [==============================] - 1s 3ms/step - loss: 0.6286 - accuracy: 0.6534 - val_loss: 0.7322 - val_accuracy: 0.5901\n",
            "Epoch 97/100\n",
            "216/216 [==============================] - 1s 3ms/step - loss: 0.6252 - accuracy: 0.6517 - val_loss: 0.6277 - val_accuracy: 0.6385\n",
            "Epoch 98/100\n",
            "216/216 [==============================] - 1s 3ms/step - loss: 0.6214 - accuracy: 0.6524 - val_loss: 0.6417 - val_accuracy: 0.6371\n",
            "Epoch 99/100\n",
            "216/216 [==============================] - 1s 3ms/step - loss: 0.6434 - accuracy: 0.6410 - val_loss: 0.6156 - val_accuracy: 0.6629\n",
            "Epoch 100/100\n",
            "216/216 [==============================] - 1s 3ms/step - loss: 0.6313 - accuracy: 0.6480 - val_loss: 0.6457 - val_accuracy: 0.6345\n"
          ],
          "name": "stdout"
        }
      ]
    },
    {
      "cell_type": "code",
      "metadata": {
        "id": "uDgjkiysWdqg",
        "colab_type": "code",
        "outputId": "4a8a7ec7-9b9a-4924-9b4a-23a0a1dc8a94",
        "colab": {
          "base_uri": "https://localhost:8080/",
          "height": 282
        }
      },
      "source": [
        "plt.plot(history.history['accuracy'])\n",
        "plt.plot(history.history['val_accuracy'])\n",
        "print(max(history.history['val_accuracy']))"
      ],
      "execution_count": 45,
      "outputs": [
        {
          "output_type": "stream",
          "text": [
            "0.6646358966827393\n"
          ],
          "name": "stdout"
        },
        {
          "output_type": "display_data",
          "data": {
            "image/png": "[encoded data removed]",
            "text/plain": [
              "<Figure size 432x288 with 1 Axes>"
            ]
          },
          "metadata": {
            "tags": []
          }
        }
      ]
    },
    {
      "cell_type": "markdown",
      "metadata": {
        "id": "trnGTKe8Wdqi",
        "colab_type": "text"
      },
      "source": [
        "## Speed up the learning\n",
        "\n",
        "Even when we are using a slower learning rate, it is possible to speed up the training process. `BatchNormalization` is covered in the lectures and involves normalising all values going into a layer before the forward pass. Although it introduces some small extra computational cost into the forward pass, the results for speeding up learning rate can be spectacular - particularly in the deeper networs that we will look at in the next part of this exercise.\n",
        "\n",
        "For now, import `BatchNormalization` from `tensorflow.keras.layers` and add a `BatchNormalization()` unit between each of your `Dense` layers.\n",
        "\n",
        "Retrain the model and look at the learning rates."
      ]
    },
    {
      "cell_type": "code",
      "metadata": {
        "id": "oTuTMdxJWdqi",
        "colab_type": "code",
        "colab": {}
      },
      "source": [
        "from tensorflow.keras.layers import BatchNormalization"
      ],
      "execution_count": 0,
      "outputs": []
    },
    {
      "cell_type": "code",
      "metadata": {
        "id": "cEbsvpWHWdqk",
        "colab_type": "code",
        "outputId": "17773cfb-4e93-45a7-a490-b9df3d9b2fff",
        "colab": {
          "base_uri": "https://localhost:8080/",
          "height": 1000
        }
      },
      "source": [
        "# define the keras model\n",
        "from tensorflow.keras.optimizers import Adam\n",
        "model = Sequential()\n",
        "model.add(Dense(12, input_dim=300, activation='relu'))\n",
        "model.add(BatchNormalization())\n",
        "model.add(Dense(8, activation='relu'))\n",
        "model.add(BatchNormalization())\n",
        "model.add(Dense(1, activation='sigmoid'))\n",
        "ad = Adam(learning_rate=1e-4, beta_1=0.9, beta_2=0.999, amsgrad=False)\n",
        "model.compile(loss='binary_crossentropy', optimizer=ad, metrics=['accuracy'])\n",
        "history_bn = model.fit(X, y, epochs=100, batch_size=64, validation_split=0.2)"
      ],
      "execution_count": 47,
      "outputs": [
        {
          "output_type": "stream",
          "text": [
            "Epoch 1/100\n",
            "216/216 [==============================] - 1s 4ms/step - loss: 0.9141 - accuracy: 0.4934 - val_loss: 0.8293 - val_accuracy: 0.4856\n",
            "Epoch 2/100\n",
            "216/216 [==============================] - 1s 4ms/step - loss: 0.8258 - accuracy: 0.4995 - val_loss: 0.8270 - val_accuracy: 0.4819\n",
            "Epoch 3/100\n",
            "216/216 [==============================] - 1s 4ms/step - loss: 0.7830 - accuracy: 0.5029 - val_loss: 0.8010 - val_accuracy: 0.4856\n",
            "Epoch 4/100\n",
            "216/216 [==============================] - 1s 4ms/step - loss: 0.7565 - accuracy: 0.5077 - val_loss: 0.7734 - val_accuracy: 0.4990\n",
            "Epoch 5/100\n",
            "216/216 [==============================] - 1s 4ms/step - loss: 0.7405 - accuracy: 0.5151 - val_loss: 0.7468 - val_accuracy: 0.5117\n",
            "Epoch 6/100\n",
            "216/216 [==============================] - 1s 4ms/step - loss: 0.7332 - accuracy: 0.5184 - val_loss: 0.7459 - val_accuracy: 0.5231\n",
            "Epoch 7/100\n",
            "216/216 [==============================] - 1s 4ms/step - loss: 0.7228 - accuracy: 0.5208 - val_loss: 0.7320 - val_accuracy: 0.5234\n",
            "Epoch 8/100\n",
            "216/216 [==============================] - 1s 4ms/step - loss: 0.7127 - accuracy: 0.5248 - val_loss: 0.7127 - val_accuracy: 0.5219\n",
            "Epoch 9/100\n",
            "216/216 [==============================] - 1s 4ms/step - loss: 0.7047 - accuracy: 0.5320 - val_loss: 0.7067 - val_accuracy: 0.5283\n",
            "Epoch 10/100\n",
            "216/216 [==============================] - 1s 4ms/step - loss: 0.7041 - accuracy: 0.5451 - val_loss: 0.6984 - val_accuracy: 0.5355\n",
            "Epoch 11/100\n",
            "216/216 [==============================] - 1s 4ms/step - loss: 0.7072 - accuracy: 0.5518 - val_loss: 0.6934 - val_accuracy: 0.5593\n",
            "Epoch 12/100\n",
            "216/216 [==============================] - 1s 4ms/step - loss: 0.6911 - accuracy: 0.5670 - val_loss: 0.6866 - val_accuracy: 0.5596\n",
            "Epoch 13/100\n",
            "216/216 [==============================] - 1s 4ms/step - loss: 0.6798 - accuracy: 0.5832 - val_loss: 0.6903 - val_accuracy: 0.5527\n",
            "Epoch 14/100\n",
            "216/216 [==============================] - 1s 4ms/step - loss: 0.6697 - accuracy: 0.5938 - val_loss: 0.6910 - val_accuracy: 0.5512\n",
            "Epoch 15/100\n",
            "216/216 [==============================] - 1s 4ms/step - loss: 0.6605 - accuracy: 0.6088 - val_loss: 0.6668 - val_accuracy: 0.5930\n",
            "Epoch 16/100\n",
            "216/216 [==============================] - 1s 4ms/step - loss: 0.6528 - accuracy: 0.6210 - val_loss: 0.6565 - val_accuracy: 0.6075\n",
            "Epoch 17/100\n",
            "216/216 [==============================] - 1s 4ms/step - loss: 0.6462 - accuracy: 0.6291 - val_loss: 0.6508 - val_accuracy: 0.6159\n",
            "Epoch 18/100\n",
            "216/216 [==============================] - 1s 4ms/step - loss: 0.6403 - accuracy: 0.6392 - val_loss: 0.6437 - val_accuracy: 0.6284\n",
            "Epoch 19/100\n",
            "216/216 [==============================] - 1s 4ms/step - loss: 0.6328 - accuracy: 0.6484 - val_loss: 0.6441 - val_accuracy: 0.6307\n",
            "Epoch 20/100\n",
            "216/216 [==============================] - 1s 4ms/step - loss: 0.6302 - accuracy: 0.6487 - val_loss: 0.6356 - val_accuracy: 0.6400\n",
            "Epoch 21/100\n",
            "216/216 [==============================] - 1s 4ms/step - loss: 0.6259 - accuracy: 0.6555 - val_loss: 0.6383 - val_accuracy: 0.6414\n",
            "Epoch 22/100\n",
            "216/216 [==============================] - 1s 4ms/step - loss: 0.6231 - accuracy: 0.6582 - val_loss: 0.6390 - val_accuracy: 0.6368\n",
            "Epoch 23/100\n",
            "216/216 [==============================] - 1s 4ms/step - loss: 0.6221 - accuracy: 0.6571 - val_loss: 0.6321 - val_accuracy: 0.6443\n",
            "Epoch 24/100\n",
            "216/216 [==============================] - 1s 4ms/step - loss: 0.6199 - accuracy: 0.6608 - val_loss: 0.6325 - val_accuracy: 0.6440\n",
            "Epoch 25/100\n",
            "216/216 [==============================] - 1s 4ms/step - loss: 0.6192 - accuracy: 0.6588 - val_loss: 0.6266 - val_accuracy: 0.6527\n",
            "Epoch 26/100\n",
            "216/216 [==============================] - 1s 4ms/step - loss: 0.6163 - accuracy: 0.6639 - val_loss: 0.6283 - val_accuracy: 0.6452\n",
            "Epoch 27/100\n",
            "216/216 [==============================] - 1s 4ms/step - loss: 0.6170 - accuracy: 0.6629 - val_loss: 0.6313 - val_accuracy: 0.6408\n",
            "Epoch 28/100\n",
            "216/216 [==============================] - 1s 4ms/step - loss: 0.6140 - accuracy: 0.6662 - val_loss: 0.6239 - val_accuracy: 0.6580\n",
            "Epoch 29/100\n",
            "216/216 [==============================] - 1s 4ms/step - loss: 0.6153 - accuracy: 0.6654 - val_loss: 0.6449 - val_accuracy: 0.6229\n",
            "Epoch 30/100\n",
            "216/216 [==============================] - 1s 4ms/step - loss: 0.6172 - accuracy: 0.6636 - val_loss: 0.6517 - val_accuracy: 0.6426\n",
            "Epoch 31/100\n",
            "216/216 [==============================] - 1s 4ms/step - loss: 0.6205 - accuracy: 0.6566 - val_loss: 0.6213 - val_accuracy: 0.6513\n",
            "Epoch 32/100\n",
            "216/216 [==============================] - 1s 4ms/step - loss: 0.6197 - accuracy: 0.6540 - val_loss: 0.6224 - val_accuracy: 0.6475\n",
            "Epoch 33/100\n",
            "216/216 [==============================] - 1s 4ms/step - loss: 0.6163 - accuracy: 0.6615 - val_loss: 0.6219 - val_accuracy: 0.6530\n",
            "Epoch 34/100\n",
            "216/216 [==============================] - 1s 4ms/step - loss: 0.6144 - accuracy: 0.6640 - val_loss: 0.6213 - val_accuracy: 0.6493\n",
            "Epoch 35/100\n",
            "216/216 [==============================] - 1s 4ms/step - loss: 0.6154 - accuracy: 0.6627 - val_loss: 0.6192 - val_accuracy: 0.6571\n",
            "Epoch 36/100\n",
            "216/216 [==============================] - 1s 4ms/step - loss: 0.6134 - accuracy: 0.6674 - val_loss: 0.6334 - val_accuracy: 0.6461\n",
            "Epoch 37/100\n",
            "216/216 [==============================] - 1s 4ms/step - loss: 0.6134 - accuracy: 0.6656 - val_loss: 0.6183 - val_accuracy: 0.6565\n",
            "Epoch 38/100\n",
            "216/216 [==============================] - 1s 4ms/step - loss: 0.6129 - accuracy: 0.6666 - val_loss: 0.6189 - val_accuracy: 0.6548\n",
            "Epoch 39/100\n",
            "216/216 [==============================] - 1s 4ms/step - loss: 0.6119 - accuracy: 0.6627 - val_loss: 0.6180 - val_accuracy: 0.6556\n",
            "Epoch 40/100\n",
            "216/216 [==============================] - 1s 4ms/step - loss: 0.6124 - accuracy: 0.6647 - val_loss: 0.6177 - val_accuracy: 0.6580\n",
            "Epoch 41/100\n",
            "216/216 [==============================] - 1s 4ms/step - loss: 0.6124 - accuracy: 0.6665 - val_loss: 0.6307 - val_accuracy: 0.6519\n",
            "Epoch 42/100\n",
            "216/216 [==============================] - 1s 4ms/step - loss: 0.6117 - accuracy: 0.6666 - val_loss: 0.6164 - val_accuracy: 0.6559\n",
            "Epoch 43/100\n",
            "216/216 [==============================] - 1s 4ms/step - loss: 0.6107 - accuracy: 0.6672 - val_loss: 0.6201 - val_accuracy: 0.6577\n",
            "Epoch 44/100\n",
            "216/216 [==============================] - 1s 4ms/step - loss: 0.6105 - accuracy: 0.6684 - val_loss: 0.6208 - val_accuracy: 0.6548\n",
            "Epoch 45/100\n",
            "216/216 [==============================] - 1s 4ms/step - loss: 0.6095 - accuracy: 0.6679 - val_loss: 0.6168 - val_accuracy: 0.6585\n",
            "Epoch 46/100\n",
            "216/216 [==============================] - 1s 4ms/step - loss: 0.6102 - accuracy: 0.6685 - val_loss: 0.6164 - val_accuracy: 0.6603\n",
            "Epoch 47/100\n",
            "216/216 [==============================] - 1s 4ms/step - loss: 0.6100 - accuracy: 0.6653 - val_loss: 0.6162 - val_accuracy: 0.6626\n",
            "Epoch 48/100\n",
            "216/216 [==============================] - 1s 4ms/step - loss: 0.6098 - accuracy: 0.6690 - val_loss: 0.6494 - val_accuracy: 0.6188\n",
            "Epoch 49/100\n",
            "216/216 [==============================] - 1s 4ms/step - loss: 0.6104 - accuracy: 0.6682 - val_loss: 0.6188 - val_accuracy: 0.6565\n",
            "Epoch 50/100\n",
            "216/216 [==============================] - 1s 4ms/step - loss: 0.6096 - accuracy: 0.6676 - val_loss: 0.6161 - val_accuracy: 0.6606\n",
            "Epoch 51/100\n",
            "216/216 [==============================] - 1s 4ms/step - loss: 0.6067 - accuracy: 0.6730 - val_loss: 0.6158 - val_accuracy: 0.6606\n",
            "Epoch 52/100\n",
            "216/216 [==============================] - 1s 4ms/step - loss: 0.6070 - accuracy: 0.6671 - val_loss: 0.6254 - val_accuracy: 0.6516\n",
            "Epoch 53/100\n",
            "216/216 [==============================] - 1s 4ms/step - loss: 0.6073 - accuracy: 0.6700 - val_loss: 0.6156 - val_accuracy: 0.6617\n",
            "Epoch 54/100\n",
            "216/216 [==============================] - 1s 4ms/step - loss: 0.6075 - accuracy: 0.6672 - val_loss: 0.6325 - val_accuracy: 0.6487\n",
            "Epoch 55/100\n",
            "216/216 [==============================] - 1s 4ms/step - loss: 0.6094 - accuracy: 0.6670 - val_loss: 0.6163 - val_accuracy: 0.6568\n",
            "Epoch 56/100\n",
            "216/216 [==============================] - 1s 4ms/step - loss: 0.6085 - accuracy: 0.6628 - val_loss: 0.6257 - val_accuracy: 0.6440\n",
            "Epoch 57/100\n",
            "216/216 [==============================] - 1s 4ms/step - loss: 0.6063 - accuracy: 0.6714 - val_loss: 0.6157 - val_accuracy: 0.6606\n",
            "Epoch 58/100\n",
            "216/216 [==============================] - 1s 4ms/step - loss: 0.6076 - accuracy: 0.6667 - val_loss: 0.6153 - val_accuracy: 0.6655\n",
            "Epoch 59/100\n",
            "216/216 [==============================] - 1s 4ms/step - loss: 0.6076 - accuracy: 0.6691 - val_loss: 0.6234 - val_accuracy: 0.6542\n",
            "Epoch 60/100\n",
            "216/216 [==============================] - 1s 4ms/step - loss: 0.6068 - accuracy: 0.6691 - val_loss: 0.6181 - val_accuracy: 0.6565\n",
            "Epoch 61/100\n",
            "216/216 [==============================] - 1s 4ms/step - loss: 0.6064 - accuracy: 0.6691 - val_loss: 0.6158 - val_accuracy: 0.6591\n",
            "Epoch 62/100\n",
            "216/216 [==============================] - 1s 4ms/step - loss: 0.6075 - accuracy: 0.6718 - val_loss: 0.6213 - val_accuracy: 0.6533\n",
            "Epoch 63/100\n",
            "216/216 [==============================] - 1s 4ms/step - loss: 0.6071 - accuracy: 0.6680 - val_loss: 0.6148 - val_accuracy: 0.6603\n",
            "Epoch 64/100\n",
            "216/216 [==============================] - 1s 4ms/step - loss: 0.6063 - accuracy: 0.6711 - val_loss: 0.6158 - val_accuracy: 0.6597\n",
            "Epoch 65/100\n",
            "216/216 [==============================] - 1s 4ms/step - loss: 0.6061 - accuracy: 0.6692 - val_loss: 0.6173 - val_accuracy: 0.6577\n",
            "Epoch 66/100\n",
            "216/216 [==============================] - 1s 4ms/step - loss: 0.6058 - accuracy: 0.6708 - val_loss: 0.6166 - val_accuracy: 0.6591\n",
            "Epoch 67/100\n",
            "216/216 [==============================] - 1s 4ms/step - loss: 0.6064 - accuracy: 0.6699 - val_loss: 0.6196 - val_accuracy: 0.6554\n",
            "Epoch 68/100\n",
            "216/216 [==============================] - 1s 4ms/step - loss: 0.6063 - accuracy: 0.6681 - val_loss: 0.6151 - val_accuracy: 0.6614\n",
            "Epoch 69/100\n",
            "216/216 [==============================] - 1s 4ms/step - loss: 0.6070 - accuracy: 0.6685 - val_loss: 0.6174 - val_accuracy: 0.6577\n",
            "Epoch 70/100\n",
            "216/216 [==============================] - 1s 4ms/step - loss: 0.6043 - accuracy: 0.6712 - val_loss: 0.6195 - val_accuracy: 0.6516\n",
            "Epoch 71/100\n",
            "216/216 [==============================] - 1s 4ms/step - loss: 0.6053 - accuracy: 0.6682 - val_loss: 0.6167 - val_accuracy: 0.6603\n",
            "Epoch 72/100\n",
            "216/216 [==============================] - 1s 4ms/step - loss: 0.6059 - accuracy: 0.6696 - val_loss: 0.6188 - val_accuracy: 0.6554\n",
            "Epoch 73/100\n",
            "216/216 [==============================] - 1s 4ms/step - loss: 0.6065 - accuracy: 0.6705 - val_loss: 0.6211 - val_accuracy: 0.6551\n",
            "Epoch 74/100\n",
            "216/216 [==============================] - 1s 4ms/step - loss: 0.6047 - accuracy: 0.6724 - val_loss: 0.6172 - val_accuracy: 0.6565\n",
            "Epoch 75/100\n",
            "216/216 [==============================] - 1s 4ms/step - loss: 0.6060 - accuracy: 0.6712 - val_loss: 0.6152 - val_accuracy: 0.6614\n",
            "Epoch 76/100\n",
            "216/216 [==============================] - 1s 4ms/step - loss: 0.6060 - accuracy: 0.6708 - val_loss: 0.6155 - val_accuracy: 0.6643\n",
            "Epoch 77/100\n",
            "216/216 [==============================] - 1s 4ms/step - loss: 0.6053 - accuracy: 0.6709 - val_loss: 0.6358 - val_accuracy: 0.6437\n",
            "Epoch 78/100\n",
            "216/216 [==============================] - 1s 4ms/step - loss: 0.6064 - accuracy: 0.6676 - val_loss: 0.6189 - val_accuracy: 0.6562\n",
            "Epoch 79/100\n",
            "216/216 [==============================] - 1s 4ms/step - loss: 0.6047 - accuracy: 0.6685 - val_loss: 0.6190 - val_accuracy: 0.6545\n",
            "Epoch 80/100\n",
            "216/216 [==============================] - 1s 4ms/step - loss: 0.6045 - accuracy: 0.6706 - val_loss: 0.6151 - val_accuracy: 0.6638\n",
            "Epoch 81/100\n",
            "216/216 [==============================] - 1s 4ms/step - loss: 0.6047 - accuracy: 0.6724 - val_loss: 0.6261 - val_accuracy: 0.6504\n",
            "Epoch 82/100\n",
            "216/216 [==============================] - 1s 4ms/step - loss: 0.6044 - accuracy: 0.6704 - val_loss: 0.6201 - val_accuracy: 0.6551\n",
            "Epoch 83/100\n",
            "216/216 [==============================] - 1s 4ms/step - loss: 0.6037 - accuracy: 0.6730 - val_loss: 0.6153 - val_accuracy: 0.6632\n",
            "Epoch 84/100\n",
            "216/216 [==============================] - 1s 4ms/step - loss: 0.6057 - accuracy: 0.6699 - val_loss: 0.6166 - val_accuracy: 0.6641\n",
            "Epoch 85/100\n",
            "216/216 [==============================] - 1s 4ms/step - loss: 0.6028 - accuracy: 0.6711 - val_loss: 0.6352 - val_accuracy: 0.6377\n",
            "Epoch 86/100\n",
            "216/216 [==============================] - 1s 4ms/step - loss: 0.6035 - accuracy: 0.6694 - val_loss: 0.6189 - val_accuracy: 0.6571\n",
            "Epoch 87/100\n",
            "216/216 [==============================] - 1s 4ms/step - loss: 0.6034 - accuracy: 0.6741 - val_loss: 0.6149 - val_accuracy: 0.6614\n",
            "Epoch 88/100\n",
            "216/216 [==============================] - 1s 4ms/step - loss: 0.6049 - accuracy: 0.6717 - val_loss: 0.6164 - val_accuracy: 0.6635\n",
            "Epoch 89/100\n",
            "216/216 [==============================] - 1s 4ms/step - loss: 0.6034 - accuracy: 0.6687 - val_loss: 0.6169 - val_accuracy: 0.6617\n",
            "Epoch 90/100\n",
            "216/216 [==============================] - 1s 4ms/step - loss: 0.6049 - accuracy: 0.6737 - val_loss: 0.6155 - val_accuracy: 0.6661\n",
            "Epoch 91/100\n",
            "216/216 [==============================] - 1s 4ms/step - loss: 0.6046 - accuracy: 0.6719 - val_loss: 0.6154 - val_accuracy: 0.6664\n",
            "Epoch 92/100\n",
            "216/216 [==============================] - 1s 4ms/step - loss: 0.6040 - accuracy: 0.6736 - val_loss: 0.6168 - val_accuracy: 0.6643\n",
            "Epoch 93/100\n",
            "216/216 [==============================] - 1s 4ms/step - loss: 0.6040 - accuracy: 0.6725 - val_loss: 0.6205 - val_accuracy: 0.6507\n",
            "Epoch 94/100\n",
            "216/216 [==============================] - 1s 4ms/step - loss: 0.6029 - accuracy: 0.6733 - val_loss: 0.6328 - val_accuracy: 0.6469\n",
            "Epoch 95/100\n",
            "216/216 [==============================] - 1s 4ms/step - loss: 0.6027 - accuracy: 0.6685 - val_loss: 0.6264 - val_accuracy: 0.6417\n",
            "Epoch 96/100\n",
            "216/216 [==============================] - 1s 4ms/step - loss: 0.6032 - accuracy: 0.6722 - val_loss: 0.6174 - val_accuracy: 0.6626\n",
            "Epoch 97/100\n",
            "216/216 [==============================] - 1s 4ms/step - loss: 0.6043 - accuracy: 0.6695 - val_loss: 0.6156 - val_accuracy: 0.6623\n",
            "Epoch 98/100\n",
            "216/216 [==============================] - 1s 4ms/step - loss: 0.6028 - accuracy: 0.6727 - val_loss: 0.6156 - val_accuracy: 0.6597\n",
            "Epoch 99/100\n",
            "216/216 [==============================] - 1s 4ms/step - loss: 0.6032 - accuracy: 0.6740 - val_loss: 0.6289 - val_accuracy: 0.6388\n",
            "Epoch 100/100\n",
            "216/216 [==============================] - 1s 4ms/step - loss: 0.6033 - accuracy: 0.6714 - val_loss: 0.6156 - val_accuracy: 0.6638\n"
          ],
          "name": "stdout"
        }
      ]
    },
    {
      "cell_type": "code",
      "metadata": {
        "id": "y3TTCsVrWdqo",
        "colab_type": "code",
        "outputId": "0129d347-23ff-4cf9-ebaf-d4e4571b752c",
        "colab": {
          "base_uri": "https://localhost:8080/",
          "height": 282
        }
      },
      "source": [
        "plt.plot(history_bn.history['accuracy'])\n",
        "plt.plot(history_bn.history['val_accuracy'])\n",
        "print(max(history_bn.history['val_accuracy']))"
      ],
      "execution_count": 48,
      "outputs": [
        {
          "output_type": "stream",
          "text": [
            "0.666376531124115\n"
          ],
          "name": "stdout"
        },
        {
          "output_type": "display_data",
          "data": {
            "image/png": "[encoded data removed]",
            "text/plain": [
              "<Figure size 432x288 with 1 Axes>"
            ]
          },
          "metadata": {
            "tags": []
          }
        }
      ]
    },
    {
      "cell_type": "code",
      "metadata": {
        "id": "DvDSacNVWdqq",
        "colab_type": "code",
        "outputId": "76b190fa-2ca2-4ac4-fe72-5b0dd87f65b7",
        "colab": {
          "base_uri": "https://localhost:8080/",
          "height": 1000
        }
      },
      "source": [
        "# define the keras model\n",
        "from tensorflow.keras.layers import Dropout\n",
        "model = Sequential()\n",
        "model.add(Dense(12, input_dim=300, activation='relu'))\n",
        "model.add(BatchNormalization())\n",
        "model.add(Dense(8, activation='relu'))\n",
        "model.add(Dropout(0.5))\n",
        "model.add(Dense(1, activation='sigmoid'))\n",
        "ad = Adam(learning_rate=1e-4, beta_1=0.9, beta_2=0.999, amsgrad=False)\n",
        "model.compile(loss='binary_crossentropy', optimizer=ad, metrics=['accuracy'])\n",
        "history_bn = model.fit(X, y, epochs=100, batch_size=64, validation_split=0.2)"
      ],
      "execution_count": 49,
      "outputs": [
        {
          "output_type": "stream",
          "text": [
            "Epoch 1/100\n",
            "216/216 [==============================] - 1s 4ms/step - loss: 0.8069 - accuracy: 0.4882 - val_loss: 0.8043 - val_accuracy: 0.5051\n",
            "Epoch 2/100\n",
            "216/216 [==============================] - 1s 3ms/step - loss: 0.7636 - accuracy: 0.4963 - val_loss: 0.7180 - val_accuracy: 0.4975\n",
            "Epoch 3/100\n",
            "216/216 [==============================] - 1s 3ms/step - loss: 0.7415 - accuracy: 0.4986 - val_loss: 0.7072 - val_accuracy: 0.5007\n",
            "Epoch 4/100\n",
            "216/216 [==============================] - 1s 3ms/step - loss: 0.7267 - accuracy: 0.4989 - val_loss: 0.7015 - val_accuracy: 0.4978\n",
            "Epoch 5/100\n",
            "216/216 [==============================] - 1s 5ms/step - loss: 0.7182 - accuracy: 0.5040 - val_loss: 0.7081 - val_accuracy: 0.5010\n",
            "Epoch 6/100\n",
            "216/216 [==============================] - 1s 3ms/step - loss: 0.7126 - accuracy: 0.5054 - val_loss: 0.6952 - val_accuracy: 0.5022\n",
            "Epoch 7/100\n",
            "216/216 [==============================] - 1s 3ms/step - loss: 0.7072 - accuracy: 0.5140 - val_loss: 0.6963 - val_accuracy: 0.5071\n",
            "Epoch 8/100\n",
            "216/216 [==============================] - 1s 3ms/step - loss: 0.7054 - accuracy: 0.5070 - val_loss: 0.6929 - val_accuracy: 0.5088\n",
            "Epoch 9/100\n",
            "216/216 [==============================] - 1s 3ms/step - loss: 0.7013 - accuracy: 0.5198 - val_loss: 0.6926 - val_accuracy: 0.5097\n",
            "Epoch 10/100\n",
            "216/216 [==============================] - 1s 3ms/step - loss: 0.6996 - accuracy: 0.5143 - val_loss: 0.6923 - val_accuracy: 0.5190\n",
            "Epoch 11/100\n",
            "216/216 [==============================] - 1s 3ms/step - loss: 0.6987 - accuracy: 0.5110 - val_loss: 0.6927 - val_accuracy: 0.5042\n",
            "Epoch 12/100\n",
            "216/216 [==============================] - 1s 3ms/step - loss: 0.6965 - accuracy: 0.5182 - val_loss: 0.6912 - val_accuracy: 0.5213\n",
            "Epoch 13/100\n",
            "216/216 [==============================] - 1s 3ms/step - loss: 0.6943 - accuracy: 0.5213 - val_loss: 0.6904 - val_accuracy: 0.5222\n",
            "Epoch 14/100\n",
            "216/216 [==============================] - 1s 3ms/step - loss: 0.6954 - accuracy: 0.5171 - val_loss: 0.6904 - val_accuracy: 0.5344\n",
            "Epoch 15/100\n",
            "216/216 [==============================] - 1s 3ms/step - loss: 0.6926 - accuracy: 0.5255 - val_loss: 0.6914 - val_accuracy: 0.5086\n",
            "Epoch 16/100\n",
            "216/216 [==============================] - 1s 3ms/step - loss: 0.6922 - accuracy: 0.5187 - val_loss: 0.6903 - val_accuracy: 0.5176\n",
            "Epoch 17/100\n",
            "216/216 [==============================] - 1s 3ms/step - loss: 0.6911 - accuracy: 0.5261 - val_loss: 0.6889 - val_accuracy: 0.5318\n",
            "Epoch 18/100\n",
            "216/216 [==============================] - 1s 3ms/step - loss: 0.6910 - accuracy: 0.5302 - val_loss: 0.6878 - val_accuracy: 0.5338\n",
            "Epoch 19/100\n",
            "216/216 [==============================] - 1s 3ms/step - loss: 0.6893 - accuracy: 0.5306 - val_loss: 0.6886 - val_accuracy: 0.5323\n",
            "Epoch 20/100\n",
            "216/216 [==============================] - 1s 3ms/step - loss: 0.6890 - accuracy: 0.5341 - val_loss: 0.6873 - val_accuracy: 0.5329\n",
            "Epoch 21/100\n",
            "216/216 [==============================] - 1s 3ms/step - loss: 0.6868 - accuracy: 0.5335 - val_loss: 0.6896 - val_accuracy: 0.5222\n",
            "Epoch 22/100\n",
            "216/216 [==============================] - 1s 3ms/step - loss: 0.6885 - accuracy: 0.5327 - val_loss: 0.6851 - val_accuracy: 0.5445\n",
            "Epoch 23/100\n",
            "216/216 [==============================] - 1s 3ms/step - loss: 0.6856 - accuracy: 0.5373 - val_loss: 0.6828 - val_accuracy: 0.5605\n",
            "Epoch 24/100\n",
            "216/216 [==============================] - 1s 3ms/step - loss: 0.6837 - accuracy: 0.5462 - val_loss: 0.6824 - val_accuracy: 0.5590\n",
            "Epoch 25/100\n",
            "216/216 [==============================] - 1s 3ms/step - loss: 0.6804 - accuracy: 0.5547 - val_loss: 0.6803 - val_accuracy: 0.5599\n",
            "Epoch 26/100\n",
            "216/216 [==============================] - 1s 3ms/step - loss: 0.6805 - accuracy: 0.5523 - val_loss: 0.6820 - val_accuracy: 0.5553\n",
            "Epoch 27/100\n",
            "216/216 [==============================] - 1s 3ms/step - loss: 0.6790 - accuracy: 0.5612 - val_loss: 0.6798 - val_accuracy: 0.5669\n",
            "Epoch 28/100\n",
            "216/216 [==============================] - 1s 3ms/step - loss: 0.6790 - accuracy: 0.5560 - val_loss: 0.6803 - val_accuracy: 0.5466\n",
            "Epoch 29/100\n",
            "216/216 [==============================] - 1s 3ms/step - loss: 0.6769 - accuracy: 0.5670 - val_loss: 0.6679 - val_accuracy: 0.5970\n",
            "Epoch 30/100\n",
            "216/216 [==============================] - 1s 3ms/step - loss: 0.6757 - accuracy: 0.5678 - val_loss: 0.6734 - val_accuracy: 0.5866\n",
            "Epoch 31/100\n",
            "216/216 [==============================] - 1s 3ms/step - loss: 0.6719 - accuracy: 0.5684 - val_loss: 0.6688 - val_accuracy: 0.6026\n",
            "Epoch 32/100\n",
            "216/216 [==============================] - 1s 3ms/step - loss: 0.6701 - accuracy: 0.5739 - val_loss: 0.6639 - val_accuracy: 0.6052\n",
            "Epoch 33/100\n",
            "216/216 [==============================] - 1s 3ms/step - loss: 0.6681 - accuracy: 0.5785 - val_loss: 0.6648 - val_accuracy: 0.6075\n",
            "Epoch 34/100\n",
            "216/216 [==============================] - 1s 3ms/step - loss: 0.6658 - accuracy: 0.5887 - val_loss: 0.6743 - val_accuracy: 0.5715\n",
            "Epoch 35/100\n",
            "216/216 [==============================] - 1s 3ms/step - loss: 0.6621 - accuracy: 0.5925 - val_loss: 0.6625 - val_accuracy: 0.6147\n",
            "Epoch 36/100\n",
            "216/216 [==============================] - 1s 3ms/step - loss: 0.6622 - accuracy: 0.5913 - val_loss: 0.6608 - val_accuracy: 0.6020\n",
            "Epoch 37/100\n",
            "216/216 [==============================] - 1s 3ms/step - loss: 0.6577 - accuracy: 0.6054 - val_loss: 0.6537 - val_accuracy: 0.6258\n",
            "Epoch 38/100\n",
            "216/216 [==============================] - 1s 3ms/step - loss: 0.6578 - accuracy: 0.6032 - val_loss: 0.6531 - val_accuracy: 0.6272\n",
            "Epoch 39/100\n",
            "216/216 [==============================] - 1s 3ms/step - loss: 0.6555 - accuracy: 0.6085 - val_loss: 0.6494 - val_accuracy: 0.6307\n",
            "Epoch 40/100\n",
            "216/216 [==============================] - 1s 3ms/step - loss: 0.6530 - accuracy: 0.6101 - val_loss: 0.6482 - val_accuracy: 0.6272\n",
            "Epoch 41/100\n",
            "216/216 [==============================] - 1s 3ms/step - loss: 0.6506 - accuracy: 0.6172 - val_loss: 0.6462 - val_accuracy: 0.6255\n",
            "Epoch 42/100\n",
            "216/216 [==============================] - 1s 3ms/step - loss: 0.6482 - accuracy: 0.6154 - val_loss: 0.6466 - val_accuracy: 0.6371\n",
            "Epoch 43/100\n",
            "216/216 [==============================] - 1s 3ms/step - loss: 0.6482 - accuracy: 0.6228 - val_loss: 0.6478 - val_accuracy: 0.6266\n",
            "Epoch 44/100\n",
            "216/216 [==============================] - 1s 3ms/step - loss: 0.6459 - accuracy: 0.6231 - val_loss: 0.6341 - val_accuracy: 0.6423\n",
            "Epoch 45/100\n",
            "216/216 [==============================] - 1s 3ms/step - loss: 0.6449 - accuracy: 0.6265 - val_loss: 0.6288 - val_accuracy: 0.6478\n",
            "Epoch 46/100\n",
            "216/216 [==============================] - 1s 3ms/step - loss: 0.6421 - accuracy: 0.6325 - val_loss: 0.6311 - val_accuracy: 0.6435\n",
            "Epoch 47/100\n",
            "216/216 [==============================] - 1s 3ms/step - loss: 0.6454 - accuracy: 0.6341 - val_loss: 0.6347 - val_accuracy: 0.6423\n",
            "Epoch 48/100\n",
            "216/216 [==============================] - 1s 3ms/step - loss: 0.6377 - accuracy: 0.6401 - val_loss: 0.6351 - val_accuracy: 0.6377\n",
            "Epoch 49/100\n",
            "216/216 [==============================] - 1s 3ms/step - loss: 0.6382 - accuracy: 0.6373 - val_loss: 0.6310 - val_accuracy: 0.6435\n",
            "Epoch 50/100\n",
            "216/216 [==============================] - 1s 3ms/step - loss: 0.6377 - accuracy: 0.6418 - val_loss: 0.6301 - val_accuracy: 0.6498\n",
            "Epoch 51/100\n",
            "216/216 [==============================] - 1s 3ms/step - loss: 0.6392 - accuracy: 0.6377 - val_loss: 0.6255 - val_accuracy: 0.6472\n",
            "Epoch 52/100\n",
            "216/216 [==============================] - 1s 3ms/step - loss: 0.6386 - accuracy: 0.6402 - val_loss: 0.6248 - val_accuracy: 0.6571\n",
            "Epoch 53/100\n",
            "216/216 [==============================] - 1s 3ms/step - loss: 0.6368 - accuracy: 0.6384 - val_loss: 0.6215 - val_accuracy: 0.6542\n",
            "Epoch 54/100\n",
            "216/216 [==============================] - 1s 3ms/step - loss: 0.6351 - accuracy: 0.6460 - val_loss: 0.6314 - val_accuracy: 0.6388\n",
            "Epoch 55/100\n",
            "216/216 [==============================] - 1s 3ms/step - loss: 0.6355 - accuracy: 0.6424 - val_loss: 0.6263 - val_accuracy: 0.6461\n",
            "Epoch 56/100\n",
            "216/216 [==============================] - 1s 3ms/step - loss: 0.6310 - accuracy: 0.6459 - val_loss: 0.6236 - val_accuracy: 0.6490\n",
            "Epoch 57/100\n",
            "216/216 [==============================] - 1s 3ms/step - loss: 0.6286 - accuracy: 0.6485 - val_loss: 0.6221 - val_accuracy: 0.6484\n",
            "Epoch 58/100\n",
            "216/216 [==============================] - 1s 3ms/step - loss: 0.6337 - accuracy: 0.6492 - val_loss: 0.6200 - val_accuracy: 0.6577\n",
            "Epoch 59/100\n",
            "216/216 [==============================] - 1s 3ms/step - loss: 0.6317 - accuracy: 0.6483 - val_loss: 0.6205 - val_accuracy: 0.6545\n",
            "Epoch 60/100\n",
            "216/216 [==============================] - 1s 3ms/step - loss: 0.6296 - accuracy: 0.6474 - val_loss: 0.6223 - val_accuracy: 0.6490\n",
            "Epoch 61/100\n",
            "216/216 [==============================] - 1s 3ms/step - loss: 0.6296 - accuracy: 0.6553 - val_loss: 0.6163 - val_accuracy: 0.6551\n",
            "Epoch 62/100\n",
            "216/216 [==============================] - 1s 4ms/step - loss: 0.6313 - accuracy: 0.6534 - val_loss: 0.6194 - val_accuracy: 0.6583\n",
            "Epoch 63/100\n",
            "216/216 [==============================] - 1s 3ms/step - loss: 0.6324 - accuracy: 0.6518 - val_loss: 0.6166 - val_accuracy: 0.6588\n",
            "Epoch 64/100\n",
            "216/216 [==============================] - 1s 3ms/step - loss: 0.6290 - accuracy: 0.6521 - val_loss: 0.6276 - val_accuracy: 0.6437\n",
            "Epoch 65/100\n",
            "216/216 [==============================] - 1s 3ms/step - loss: 0.6261 - accuracy: 0.6552 - val_loss: 0.6175 - val_accuracy: 0.6568\n",
            "Epoch 66/100\n",
            "216/216 [==============================] - 1s 3ms/step - loss: 0.6312 - accuracy: 0.6502 - val_loss: 0.6167 - val_accuracy: 0.6594\n",
            "Epoch 67/100\n",
            "216/216 [==============================] - 1s 3ms/step - loss: 0.6282 - accuracy: 0.6542 - val_loss: 0.6157 - val_accuracy: 0.6577\n",
            "Epoch 68/100\n",
            "216/216 [==============================] - 1s 3ms/step - loss: 0.6261 - accuracy: 0.6565 - val_loss: 0.6147 - val_accuracy: 0.6588\n",
            "Epoch 69/100\n",
            "216/216 [==============================] - 1s 3ms/step - loss: 0.6257 - accuracy: 0.6553 - val_loss: 0.6172 - val_accuracy: 0.6536\n",
            "Epoch 70/100\n",
            "216/216 [==============================] - 1s 3ms/step - loss: 0.6292 - accuracy: 0.6537 - val_loss: 0.6154 - val_accuracy: 0.6583\n",
            "Epoch 71/100\n",
            "216/216 [==============================] - 1s 3ms/step - loss: 0.6247 - accuracy: 0.6590 - val_loss: 0.6140 - val_accuracy: 0.6574\n",
            "Epoch 72/100\n",
            "216/216 [==============================] - 1s 3ms/step - loss: 0.6250 - accuracy: 0.6591 - val_loss: 0.6145 - val_accuracy: 0.6585\n",
            "Epoch 73/100\n",
            "216/216 [==============================] - 1s 3ms/step - loss: 0.6260 - accuracy: 0.6555 - val_loss: 0.6141 - val_accuracy: 0.6583\n",
            "Epoch 74/100\n",
            "216/216 [==============================] - 1s 3ms/step - loss: 0.6260 - accuracy: 0.6603 - val_loss: 0.6150 - val_accuracy: 0.6574\n",
            "Epoch 75/100\n",
            "216/216 [==============================] - 1s 3ms/step - loss: 0.6245 - accuracy: 0.6601 - val_loss: 0.6150 - val_accuracy: 0.6606\n",
            "Epoch 76/100\n",
            "216/216 [==============================] - 1s 3ms/step - loss: 0.6252 - accuracy: 0.6568 - val_loss: 0.6153 - val_accuracy: 0.6580\n",
            "Epoch 77/100\n",
            "216/216 [==============================] - 1s 3ms/step - loss: 0.6269 - accuracy: 0.6527 - val_loss: 0.6343 - val_accuracy: 0.6310\n",
            "Epoch 78/100\n",
            "216/216 [==============================] - 1s 3ms/step - loss: 0.6258 - accuracy: 0.6584 - val_loss: 0.6147 - val_accuracy: 0.6571\n",
            "Epoch 79/100\n",
            "216/216 [==============================] - 1s 4ms/step - loss: 0.6259 - accuracy: 0.6595 - val_loss: 0.6136 - val_accuracy: 0.6597\n",
            "Epoch 80/100\n",
            "216/216 [==============================] - 1s 3ms/step - loss: 0.6264 - accuracy: 0.6571 - val_loss: 0.6130 - val_accuracy: 0.6597\n",
            "Epoch 81/100\n",
            "216/216 [==============================] - 1s 3ms/step - loss: 0.6272 - accuracy: 0.6555 - val_loss: 0.6160 - val_accuracy: 0.6556\n",
            "Epoch 82/100\n",
            "216/216 [==============================] - 1s 3ms/step - loss: 0.6277 - accuracy: 0.6579 - val_loss: 0.6174 - val_accuracy: 0.6597\n",
            "Epoch 83/100\n",
            "216/216 [==============================] - 1s 3ms/step - loss: 0.6234 - accuracy: 0.6611 - val_loss: 0.6176 - val_accuracy: 0.6542\n",
            "Epoch 84/100\n",
            "216/216 [==============================] - 1s 3ms/step - loss: 0.6256 - accuracy: 0.6585 - val_loss: 0.6125 - val_accuracy: 0.6583\n",
            "Epoch 85/100\n",
            "216/216 [==============================] - 1s 3ms/step - loss: 0.6254 - accuracy: 0.6563 - val_loss: 0.6169 - val_accuracy: 0.6568\n",
            "Epoch 86/100\n",
            "216/216 [==============================] - 1s 3ms/step - loss: 0.6217 - accuracy: 0.6624 - val_loss: 0.6137 - val_accuracy: 0.6574\n",
            "Epoch 87/100\n",
            "216/216 [==============================] - 1s 3ms/step - loss: 0.6237 - accuracy: 0.6588 - val_loss: 0.6138 - val_accuracy: 0.6565\n",
            "Epoch 88/100\n",
            "216/216 [==============================] - 1s 3ms/step - loss: 0.6242 - accuracy: 0.6628 - val_loss: 0.6174 - val_accuracy: 0.6574\n",
            "Epoch 89/100\n",
            "216/216 [==============================] - 1s 3ms/step - loss: 0.6210 - accuracy: 0.6631 - val_loss: 0.6138 - val_accuracy: 0.6571\n",
            "Epoch 90/100\n",
            "216/216 [==============================] - 1s 3ms/step - loss: 0.6231 - accuracy: 0.6630 - val_loss: 0.6191 - val_accuracy: 0.6449\n",
            "Epoch 91/100\n",
            "216/216 [==============================] - 1s 3ms/step - loss: 0.6218 - accuracy: 0.6644 - val_loss: 0.6209 - val_accuracy: 0.6394\n",
            "Epoch 92/100\n",
            "216/216 [==============================] - 1s 3ms/step - loss: 0.6239 - accuracy: 0.6594 - val_loss: 0.6182 - val_accuracy: 0.6574\n",
            "Epoch 93/100\n",
            "216/216 [==============================] - 1s 3ms/step - loss: 0.6240 - accuracy: 0.6634 - val_loss: 0.6143 - val_accuracy: 0.6580\n",
            "Epoch 94/100\n",
            "216/216 [==============================] - 1s 3ms/step - loss: 0.6208 - accuracy: 0.6666 - val_loss: 0.6121 - val_accuracy: 0.6588\n",
            "Epoch 95/100\n",
            "216/216 [==============================] - 1s 3ms/step - loss: 0.6229 - accuracy: 0.6613 - val_loss: 0.6134 - val_accuracy: 0.6559\n",
            "Epoch 96/100\n",
            "216/216 [==============================] - 1s 3ms/step - loss: 0.6250 - accuracy: 0.6595 - val_loss: 0.6124 - val_accuracy: 0.6556\n",
            "Epoch 97/100\n",
            "216/216 [==============================] - 1s 3ms/step - loss: 0.6241 - accuracy: 0.6608 - val_loss: 0.6200 - val_accuracy: 0.6562\n",
            "Epoch 98/100\n",
            "216/216 [==============================] - 1s 3ms/step - loss: 0.6235 - accuracy: 0.6582 - val_loss: 0.6125 - val_accuracy: 0.6565\n",
            "Epoch 99/100\n",
            "216/216 [==============================] - 1s 3ms/step - loss: 0.6253 - accuracy: 0.6601 - val_loss: 0.6248 - val_accuracy: 0.6551\n",
            "Epoch 100/100\n",
            "216/216 [==============================] - 1s 3ms/step - loss: 0.6237 - accuracy: 0.6640 - val_loss: 0.6161 - val_accuracy: 0.6612\n"
          ],
          "name": "stdout"
        }
      ]
    },
    {
      "cell_type": "code",
      "metadata": {
        "id": "fjSGPzsmWdqt",
        "colab_type": "code",
        "outputId": "8772e709-17f8-4148-e5d3-1fc9b0fb9ca8",
        "colab": {
          "base_uri": "https://localhost:8080/",
          "height": 286
        }
      },
      "source": [
        "plt.plot(history_bn.history['accuracy'])\n",
        "plt.plot(history_bn.history['val_accuracy'])\n",
        "print(max(history_bn.history['val_accuracy']))"
      ],
      "execution_count": 50,
      "outputs": [
        {
          "output_type": "stream",
          "text": [
            "0.6611546277999878\n"
          ],
          "name": "stdout"
        },
        {
          "output_type": "display_data",
          "data": {
            "image/png": "[encoded data removed]",
            "text/plain": [
              "<Figure size 432x288 with 1 Axes>"
            ]
          },
          "metadata": {
            "tags": []
          }
        }
      ]
    },
    {
      "cell_type": "markdown",
      "metadata": {
        "id": "3dym8spyWdqw",
        "colab_type": "text"
      },
      "source": [
        "## Look at some other metrics\n",
        "\n",
        "Lets look at some other metrics of model performance. Let's try a confusion matrix. Start getting your true and predicted y values, then use `sklearn.metrics.confusion_matrix` to build the confusion matrix."
      ]
    },
    {
      "cell_type": "code",
      "metadata": {
        "id": "buo62iQfWdqw",
        "colab_type": "code",
        "colab": {}
      },
      "source": [
        "y_true = y\n",
        "y_pred = model.predict(X)"
      ],
      "execution_count": 0,
      "outputs": []
    },
    {
      "cell_type": "code",
      "metadata": {
        "id": "Nz564pDyWdqz",
        "colab_type": "code",
        "outputId": "98c019f4-3197-4980-fb33-8919a45d4ff1",
        "colab": {
          "base_uri": "https://localhost:8080/",
          "height": 51
        }
      },
      "source": [
        "from sklearn.metrics import confusion_matrix, plot_confusion_matrix\n",
        "\n",
        "y_pred = np.rint(y_pred)\n",
        "confusion_matrix(y_true, y_pred)"
      ],
      "execution_count": 52,
      "outputs": [
        {
          "output_type": "execute_result",
          "data": {
            "text/plain": [
              "array([[6209, 2408],\n",
              "       [3253, 5364]])"
            ]
          },
          "metadata": {
            "tags": []
          },
          "execution_count": 52
        }
      ]
    }
  ]
}