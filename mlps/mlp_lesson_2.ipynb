{
 "cells": [
  {
   "cell_type": "code",
   "execution_count": 1,
   "metadata": {},
   "outputs": [
    {
     "name": "stderr",
     "output_type": "stream",
     "text": [
      "/home/mts87985/src/anaconda3/envs/tensorflow-gpu/lib/python3.7/site-packages/tensorflow/python/framework/dtypes.py:516: FutureWarning: Passing (type, 1) or '1type' as a synonym of type is deprecated; in a future version of numpy, it will be understood as (type, (1,)) / '(1,)type'.\n",
      "  _np_qint8 = np.dtype([(\"qint8\", np.int8, 1)])\n",
      "/home/mts87985/src/anaconda3/envs/tensorflow-gpu/lib/python3.7/site-packages/tensorflow/python/framework/dtypes.py:517: FutureWarning: Passing (type, 1) or '1type' as a synonym of type is deprecated; in a future version of numpy, it will be understood as (type, (1,)) / '(1,)type'.\n",
      "  _np_quint8 = np.dtype([(\"quint8\", np.uint8, 1)])\n",
      "/home/mts87985/src/anaconda3/envs/tensorflow-gpu/lib/python3.7/site-packages/tensorflow/python/framework/dtypes.py:518: FutureWarning: Passing (type, 1) or '1type' as a synonym of type is deprecated; in a future version of numpy, it will be understood as (type, (1,)) / '(1,)type'.\n",
      "  _np_qint16 = np.dtype([(\"qint16\", np.int16, 1)])\n",
      "/home/mts87985/src/anaconda3/envs/tensorflow-gpu/lib/python3.7/site-packages/tensorflow/python/framework/dtypes.py:519: FutureWarning: Passing (type, 1) or '1type' as a synonym of type is deprecated; in a future version of numpy, it will be understood as (type, (1,)) / '(1,)type'.\n",
      "  _np_quint16 = np.dtype([(\"quint16\", np.uint16, 1)])\n",
      "/home/mts87985/src/anaconda3/envs/tensorflow-gpu/lib/python3.7/site-packages/tensorflow/python/framework/dtypes.py:520: FutureWarning: Passing (type, 1) or '1type' as a synonym of type is deprecated; in a future version of numpy, it will be understood as (type, (1,)) / '(1,)type'.\n",
      "  _np_qint32 = np.dtype([(\"qint32\", np.int32, 1)])\n",
      "/home/mts87985/src/anaconda3/envs/tensorflow-gpu/lib/python3.7/site-packages/tensorflow/python/framework/dtypes.py:525: FutureWarning: Passing (type, 1) or '1type' as a synonym of type is deprecated; in a future version of numpy, it will be understood as (type, (1,)) / '(1,)type'.\n",
      "  np_resource = np.dtype([(\"resource\", np.ubyte, 1)])\n",
      "/home/mts87985/src/anaconda3/envs/tensorflow-gpu/lib/python3.7/site-packages/tensorboard/compat/tensorflow_stub/dtypes.py:541: FutureWarning: Passing (type, 1) or '1type' as a synonym of type is deprecated; in a future version of numpy, it will be understood as (type, (1,)) / '(1,)type'.\n",
      "  _np_qint8 = np.dtype([(\"qint8\", np.int8, 1)])\n",
      "/home/mts87985/src/anaconda3/envs/tensorflow-gpu/lib/python3.7/site-packages/tensorboard/compat/tensorflow_stub/dtypes.py:542: FutureWarning: Passing (type, 1) or '1type' as a synonym of type is deprecated; in a future version of numpy, it will be understood as (type, (1,)) / '(1,)type'.\n",
      "  _np_quint8 = np.dtype([(\"quint8\", np.uint8, 1)])\n",
      "/home/mts87985/src/anaconda3/envs/tensorflow-gpu/lib/python3.7/site-packages/tensorboard/compat/tensorflow_stub/dtypes.py:543: FutureWarning: Passing (type, 1) or '1type' as a synonym of type is deprecated; in a future version of numpy, it will be understood as (type, (1,)) / '(1,)type'.\n",
      "  _np_qint16 = np.dtype([(\"qint16\", np.int16, 1)])\n",
      "/home/mts87985/src/anaconda3/envs/tensorflow-gpu/lib/python3.7/site-packages/tensorboard/compat/tensorflow_stub/dtypes.py:544: FutureWarning: Passing (type, 1) or '1type' as a synonym of type is deprecated; in a future version of numpy, it will be understood as (type, (1,)) / '(1,)type'.\n",
      "  _np_quint16 = np.dtype([(\"quint16\", np.uint16, 1)])\n",
      "/home/mts87985/src/anaconda3/envs/tensorflow-gpu/lib/python3.7/site-packages/tensorboard/compat/tensorflow_stub/dtypes.py:545: FutureWarning: Passing (type, 1) or '1type' as a synonym of type is deprecated; in a future version of numpy, it will be understood as (type, (1,)) / '(1,)type'.\n",
      "  _np_qint32 = np.dtype([(\"qint32\", np.int32, 1)])\n",
      "/home/mts87985/src/anaconda3/envs/tensorflow-gpu/lib/python3.7/site-packages/tensorboard/compat/tensorflow_stub/dtypes.py:550: FutureWarning: Passing (type, 1) or '1type' as a synonym of type is deprecated; in a future version of numpy, it will be understood as (type, (1,)) / '(1,)type'.\n",
      "  np_resource = np.dtype([(\"resource\", np.ubyte, 1)])\n"
     ]
    }
   ],
   "source": [
    "import pandas as pd\n",
    "import matplotlib.pyplot as plt\n",
    "import numpy as np\n",
    "#plt.style.available\n",
    "plt.style.use('ggplot')\n",
    "from sklearn.utils import resample\n",
    "from tensorflow.keras import Sequential\n",
    "from tensorflow.keras.layers import Dense\n",
    "from tensorflow.keras.optimizers import Adam"
   ]
  },
  {
   "cell_type": "markdown",
   "metadata": {},
   "source": [
    "## Bigger data - deeper networks\n",
    "\n",
    "The last exercise gave us an intro into how to build and tune some of the parameters of a neural network. Now we move to an example where we have more data. Generally as we increase the amount of training data we can make use of deeper networks, with more layers to give more accurate predictions.\n",
    "\n",
    "This time around we load up the data from `ag-muon-data-tight.pkl`\n",
    "\n",
    "Don't forget to take care of class balance in your dataset."
   ]
  },
  {
   "cell_type": "code",
   "execution_count": 2,
   "metadata": {},
   "outputs": [
    {
     "name": "stdout",
     "output_type": "stream",
     "text": [
      "1142192000\n"
     ]
    },
    {
     "data": {
      "image/png": "[encoded data removed]",
      "text/plain": [
       "<Figure size 432x288 with 1 Axes>"
      ]
     },
     "metadata": {
      "needs_background": "light"
     },
     "output_type": "display_data"
    }
   ],
   "source": [
    "df = pd.read_pickle('ag-muon-data-tight.pkl')\n",
    "X = np.array(df[3].to_list())\n",
    "y = np.array(df[1].to_list())\n",
    "\n",
    "\n",
    "num_ag = np.count_nonzero(y==0)\n",
    "num_no_ag = np.count_nonzero(y==1)\n",
    "\n",
    "df_majority = df[df[1]==0]\n",
    "df_minority = df[df[1]==1]\n",
    "\n",
    "# Downsample majority class\n",
    "df_majority_downsampled = resample(df_majority, \n",
    "                                 replace=False,    # sample without replacement\n",
    "                                 n_samples=num_no_ag,     # to match minority class\n",
    "                                 random_state=123) # reproducible results\n",
    "\n",
    "df_downsampled = pd.concat([df_majority_downsampled, df_minority])\n",
    "df_new = df_downsampled.sample(frac=1)\n",
    "\n",
    "X = np.array(df_new[3].to_list())\n",
    "y = np.array(df_new[1].to_list())\n",
    "plt.hist(y)"
   ]
  },
  {
   "cell_type": "markdown",
   "metadata": {},
   "source": [
    "### Initial network\n",
    "\n",
    "Try re-running your NN from the previous exercise on this new data. **Note** the input vector now has length 1000, rather than 300. See how the network performs. Use the learning rate that you established in the last study."
   ]
  },
  {
   "cell_type": "code",
   "execution_count": 3,
   "metadata": {},
   "outputs": [
    {
     "name": "stdout",
     "output_type": "stream",
     "text": [
      "WARNING:tensorflow:From /home/mts87985/src/anaconda3/envs/tensorflow-gpu/lib/python3.7/site-packages/tensorflow/python/ops/init_ops.py:1251: calling VarianceScaling.__init__ (from tensorflow.python.ops.init_ops) with dtype is deprecated and will be removed in a future version.\n",
      "Instructions for updating:\n",
      "Call initializer instance with the dtype argument instead of passing it to the constructor\n",
      "WARNING:tensorflow:From /home/mts87985/src/anaconda3/envs/tensorflow-gpu/lib/python3.7/site-packages/tensorflow/python/ops/nn_impl.py:180: add_dispatch_support.<locals>.wrapper (from tensorflow.python.ops.array_ops) is deprecated and will be removed in a future version.\n",
      "Instructions for updating:\n",
      "Use tf.where in 2.0, which has the same broadcast rule as np.where\n",
      "Train on 114219 samples, validate on 28555 samples\n",
      "Epoch 1/30\n",
      "114219/114219 [==============================] - 20s 174us/sample - loss: 0.2411 - acc: 0.8870 - val_loss: 3.4892 - val_acc: 0.5017\n",
      "Epoch 2/30\n",
      "114219/114219 [==============================] - 18s 156us/sample - loss: 0.1013 - acc: 0.9610 - val_loss: 0.7435 - val_acc: 0.7476\n",
      "Epoch 3/30\n",
      "114219/114219 [==============================] - 17s 145us/sample - loss: 0.0855 - acc: 0.9679 - val_loss: 1.8285 - val_acc: 0.6305\n",
      "Epoch 4/30\n",
      "114219/114219 [==============================] - 17s 146us/sample - loss: 0.0766 - acc: 0.9715 - val_loss: 0.6311 - val_acc: 0.7674\n",
      "Epoch 5/30\n",
      "114219/114219 [==============================] - 15s 135us/sample - loss: 0.0693 - acc: 0.9743 - val_loss: 0.1517 - val_acc: 0.9396\n",
      "Epoch 6/30\n",
      "114219/114219 [==============================] - 17s 145us/sample - loss: 0.0634 - acc: 0.9776 - val_loss: 1.3994 - val_acc: 0.6673\n",
      "Epoch 7/30\n",
      "114219/114219 [==============================] - 17s 149us/sample - loss: 0.0586 - acc: 0.9788 - val_loss: 0.5634 - val_acc: 0.8013\n",
      "Epoch 8/30\n",
      "114219/114219 [==============================] - 16s 142us/sample - loss: 0.0560 - acc: 0.9798 - val_loss: 0.0701 - val_acc: 0.9739\n",
      "Epoch 9/30\n",
      "114219/114219 [==============================] - 17s 145us/sample - loss: 0.0526 - acc: 0.9811 - val_loss: 0.7030 - val_acc: 0.7959\n",
      "Epoch 10/30\n",
      "114219/114219 [==============================] - 16s 143us/sample - loss: 0.0501 - acc: 0.9818 - val_loss: 0.5666 - val_acc: 0.8327\n",
      "Epoch 11/30\n",
      "114219/114219 [==============================] - 16s 144us/sample - loss: 0.0461 - acc: 0.9837 - val_loss: 0.0604 - val_acc: 0.9783\n",
      "Epoch 12/30\n",
      "114219/114219 [==============================] - 16s 138us/sample - loss: 0.0437 - acc: 0.9842 - val_loss: 0.0981 - val_acc: 0.9653\n",
      "Epoch 13/30\n",
      "114219/114219 [==============================] - 16s 142us/sample - loss: 0.0422 - acc: 0.9846 - val_loss: 0.1585 - val_acc: 0.9407\n",
      "Epoch 14/30\n",
      "114219/114219 [==============================] - 16s 139us/sample - loss: 0.0387 - acc: 0.9861 - val_loss: 0.0899 - val_acc: 0.9737\n",
      "Epoch 15/30\n",
      "114219/114219 [==============================] - 17s 145us/sample - loss: 0.0361 - acc: 0.9869 - val_loss: 0.3016 - val_acc: 0.9059\n",
      "Epoch 16/30\n",
      "114219/114219 [==============================] - 17s 146us/sample - loss: 0.0349 - acc: 0.9872 - val_loss: 0.1537 - val_acc: 0.9555\n",
      "Epoch 17/30\n",
      "114219/114219 [==============================] - 16s 139us/sample - loss: 0.0328 - acc: 0.9876 - val_loss: 1.4622 - val_acc: 0.6639\n",
      "Epoch 18/30\n",
      "114219/114219 [==============================] - 17s 145us/sample - loss: 0.0307 - acc: 0.9887 - val_loss: 0.6845 - val_acc: 0.8659\n",
      "Epoch 19/30\n",
      "114219/114219 [==============================] - 17s 145us/sample - loss: 0.0284 - acc: 0.9897 - val_loss: 0.1828 - val_acc: 0.9544\n",
      "Epoch 20/30\n",
      "114219/114219 [==============================] - 17s 145us/sample - loss: 0.0267 - acc: 0.9901 - val_loss: 0.5698 - val_acc: 0.8889\n",
      "Epoch 21/30\n",
      "114219/114219 [==============================] - 16s 143us/sample - loss: 0.0256 - acc: 0.9902 - val_loss: 0.0900 - val_acc: 0.9709\n",
      "Epoch 22/30\n",
      "114219/114219 [==============================] - 16s 142us/sample - loss: 0.0231 - acc: 0.9914 - val_loss: 0.8419 - val_acc: 0.8478\n",
      "Epoch 23/30\n",
      "114219/114219 [==============================] - 17s 146us/sample - loss: 0.0217 - acc: 0.9919 - val_loss: 0.2998 - val_acc: 0.9198\n",
      "Epoch 24/30\n",
      "114219/114219 [==============================] - 16s 144us/sample - loss: 0.0205 - acc: 0.9923 - val_loss: 0.2537 - val_acc: 0.9492\n",
      "Epoch 25/30\n",
      "114219/114219 [==============================] - 16s 142us/sample - loss: 0.0197 - acc: 0.9925 - val_loss: 0.0931 - val_acc: 0.9726\n",
      "Epoch 26/30\n",
      "114219/114219 [==============================] - 16s 142us/sample - loss: 0.0186 - acc: 0.9932 - val_loss: 0.1293 - val_acc: 0.9670\n",
      "Epoch 27/30\n",
      "114219/114219 [==============================] - 16s 140us/sample - loss: 0.0170 - acc: 0.9936 - val_loss: 0.3195 - val_acc: 0.9197\n",
      "Epoch 28/30\n",
      "114219/114219 [==============================] - 16s 144us/sample - loss: 0.0168 - acc: 0.9938 - val_loss: 0.2717 - val_acc: 0.9211\n",
      "Epoch 29/30\n",
      "114219/114219 [==============================] - 16s 144us/sample - loss: 0.0156 - acc: 0.9942 - val_loss: 1.1347 - val_acc: 0.8181\n",
      "Epoch 30/30\n",
      "114219/114219 [==============================] - 16s 143us/sample - loss: 0.0146 - acc: 0.9946 - val_loss: 0.1100 - val_acc: 0.9726\n"
     ]
    }
   ],
   "source": [
    "from tensorflow.keras.optimizers import Adam\n",
    "from tensorflow.keras.layers import Dropout, BatchNormalization\n",
    "histories = []\n",
    "#for lr in [1e-1, 1e-2, 1e-3, 1e-4, 1e-5, 1e-6]:\n",
    "for lr in [1e-3]:\n",
    "    model5 = Sequential()\n",
    "    model5.add(Dense(1000, input_dim=1000, activation='relu')) \n",
    "    model5.add(BatchNormalization())\n",
    "    model5.add(Dense(1000, activation='relu'))\n",
    "    model5.add(BatchNormalization())\n",
    "    model5.add(Dense(128, activation='relu'))\n",
    "    model5.add(BatchNormalization())\n",
    "    model5.add(Dense(16, activation='relu'))\n",
    "    model5.add(BatchNormalization())\n",
    "    model5.add(Dense(1, activation='sigmoid'))\n",
    "    ad = Adam(learning_rate=lr, beta_1=0.9, beta_2=0.999, amsgrad=False)\n",
    "    model5.compile(loss='binary_crossentropy', optimizer=ad, metrics=['accuracy'])\n",
    "    history = model5.fit(X, y, epochs=30, batch_size=64, validation_split=0.2)\n",
    "    histories.append(history)"
   ]
  },
  {
   "cell_type": "code",
   "execution_count": 5,
   "metadata": {},
   "outputs": [
    {
     "data": {
      "image/png": "[encoded data removed]",
      "text/plain": [
       "<Figure size 432x288 with 1 Axes>"
      ]
     },
     "metadata": {
      "needs_background": "light"
     },
     "output_type": "display_data"
    }
   ],
   "source": [
    "maxs = []\n",
    "for h in histories:\n",
    "    plt.plot(h.history['acc'])\n",
    "    plt.plot(h.history['val_acc'])\n",
    "    maxs.append(max(h.history['val_acc']))"
   ]
  },
  {
   "cell_type": "markdown",
   "metadata": {},
   "source": [
    "### We're going to need a deeper network!\n",
    "\n",
    "That looks pretty good! However, since we have so much more data now, we might be tempted to use deeper network with more paramters. Try a network with architecture\n",
    "\n",
    "    INPUT - 1000 - 1000 - 128 - 16 - OUTPUT\n",
    "    \n",
    "For this architecture do the same test for learning rate effects, training for 30 epochs at each learning rate."
   ]
  },
  {
   "cell_type": "code",
   "execution_count": 6,
   "metadata": {},
   "outputs": [
    {
     "name": "stdout",
     "output_type": "stream",
     "text": [
      "Train on 114219 samples, validate on 28555 samples\n",
      "Epoch 1/30\n",
      "114219/114219 [==============================] - 16s 143us/sample - loss: 0.2437 - acc: 0.8849 - val_loss: 0.1026 - val_acc: 0.9612\n",
      "Epoch 2/30\n",
      "114219/114219 [==============================] - 16s 136us/sample - loss: 0.1016 - acc: 0.9616 - val_loss: 0.1024 - val_acc: 0.9608\n",
      "Epoch 3/30\n",
      "114219/114219 [==============================] - 16s 141us/sample - loss: 0.0845 - acc: 0.9685 - val_loss: 0.4408 - val_acc: 0.8441\n",
      "Epoch 4/30\n",
      "114219/114219 [==============================] - 16s 139us/sample - loss: 0.0768 - acc: 0.9717 - val_loss: 0.3699 - val_acc: 0.8717\n",
      "Epoch 5/30\n",
      "114219/114219 [==============================] - 16s 138us/sample - loss: 0.0710 - acc: 0.9737 - val_loss: 1.7851 - val_acc: 0.6278\n",
      "Epoch 6/30\n",
      "114219/114219 [==============================] - 16s 138us/sample - loss: 0.0647 - acc: 0.9768 - val_loss: 0.2820 - val_acc: 0.9057\n",
      "Epoch 7/30\n",
      "114219/114219 [==============================] - 16s 138us/sample - loss: 0.0605 - acc: 0.9780 - val_loss: 1.5324 - val_acc: 0.6365\n",
      "Epoch 8/30\n",
      "114219/114219 [==============================] - 16s 138us/sample - loss: 0.0559 - acc: 0.9795 - val_loss: 0.0682 - val_acc: 0.9759\n",
      "Epoch 9/30\n",
      "114219/114219 [==============================] - 15s 135us/sample - loss: 0.0509 - acc: 0.9814 - val_loss: 0.0620 - val_acc: 0.9784\n",
      "Epoch 10/30\n",
      "114219/114219 [==============================] - 16s 141us/sample - loss: 0.0485 - acc: 0.9823 - val_loss: 0.0818 - val_acc: 0.9699\n",
      "Epoch 11/30\n",
      "114219/114219 [==============================] - 16s 137us/sample - loss: 0.0461 - acc: 0.9833 - val_loss: 0.1160 - val_acc: 0.9592\n",
      "Epoch 12/30\n",
      "114219/114219 [==============================] - 15s 133us/sample - loss: 0.0423 - acc: 0.9846 - val_loss: 1.1913 - val_acc: 0.7092\n",
      "Epoch 13/30\n",
      "114219/114219 [==============================] - 16s 137us/sample - loss: 0.0404 - acc: 0.9852 - val_loss: 0.5023 - val_acc: 0.8782\n",
      "Epoch 14/30\n",
      "114219/114219 [==============================] - 16s 139us/sample - loss: 0.0384 - acc: 0.9857 - val_loss: 0.0993 - val_acc: 0.9677\n",
      "Epoch 15/30\n",
      "114219/114219 [==============================] - 16s 141us/sample - loss: 0.0367 - acc: 0.9863 - val_loss: 0.6853 - val_acc: 0.8482\n",
      "Epoch 16/30\n",
      "114219/114219 [==============================] - 15s 134us/sample - loss: 0.0341 - acc: 0.9871 - val_loss: 0.6991 - val_acc: 0.8011\n",
      "Epoch 17/30\n",
      "114219/114219 [==============================] - 16s 140us/sample - loss: 0.0314 - acc: 0.9884 - val_loss: 0.7034 - val_acc: 0.8465\n",
      "Epoch 18/30\n",
      "114219/114219 [==============================] - 16s 138us/sample - loss: 0.0313 - acc: 0.9881 - val_loss: 0.1680 - val_acc: 0.9600\n",
      "Epoch 19/30\n",
      "114219/114219 [==============================] - 16s 140us/sample - loss: 0.0276 - acc: 0.9896 - val_loss: 0.6661 - val_acc: 0.8392\n",
      "Epoch 20/30\n",
      "114219/114219 [==============================] - 16s 138us/sample - loss: 0.0262 - acc: 0.9900 - val_loss: 0.2679 - val_acc: 0.9083\n",
      "Epoch 21/30\n",
      "114219/114219 [==============================] - 16s 138us/sample - loss: 0.0242 - acc: 0.9906 - val_loss: 1.1008 - val_acc: 0.7598\n",
      "Epoch 22/30\n",
      "114219/114219 [==============================] - 15s 133us/sample - loss: 0.0228 - acc: 0.9915 - val_loss: 0.0912 - val_acc: 0.9732\n",
      "Epoch 23/30\n",
      "114219/114219 [==============================] - 16s 141us/sample - loss: 0.0224 - acc: 0.9917 - val_loss: 0.6614 - val_acc: 0.8925\n",
      "Epoch 24/30\n",
      "114219/114219 [==============================] - 16s 141us/sample - loss: 0.0209 - acc: 0.9920 - val_loss: 0.2901 - val_acc: 0.9168\n",
      "Epoch 25/30\n",
      "114219/114219 [==============================] - 16s 143us/sample - loss: 0.0192 - acc: 0.9929 - val_loss: 0.3031 - val_acc: 0.9430\n",
      "Epoch 26/30\n",
      "114219/114219 [==============================] - 16s 141us/sample - loss: 0.0183 - acc: 0.9931 - val_loss: 0.1213 - val_acc: 0.9662\n",
      "Epoch 27/30\n",
      "114219/114219 [==============================] - 15s 129us/sample - loss: 0.0166 - acc: 0.9938 - val_loss: 0.5713 - val_acc: 0.9104\n",
      "Epoch 28/30\n",
      "114219/114219 [==============================] - 16s 137us/sample - loss: 0.0170 - acc: 0.9937 - val_loss: 0.5240 - val_acc: 0.8733\n",
      "Epoch 29/30\n",
      "114219/114219 [==============================] - 15s 130us/sample - loss: 0.0157 - acc: 0.9942 - val_loss: 1.4462 - val_acc: 0.7334\n",
      "Epoch 30/30\n",
      "114219/114219 [==============================] - 15s 133us/sample - loss: 0.0142 - acc: 0.9949 - val_loss: 0.1901 - val_acc: 0.9522\n"
     ]
    }
   ],
   "source": [
    "histories = []\n",
    "for lr in [1e-3]:\n",
    "    model5 = Sequential()\n",
    "    model5.add(Dense(1000, input_dim=1000, activation='relu'))\n",
    "    model5.add(BatchNormalization())\n",
    "    model5.add(Dense(1000, activation='relu'))\n",
    "    model5.add(BatchNormalization())\n",
    "    model5.add(Dense(128, activation='relu'))\n",
    "    model5.add(BatchNormalization())\n",
    "    model5.add(Dense(16, activation='relu'))\n",
    "    model5.add(BatchNormalization())\n",
    "    model5.add(Dense(1, activation='sigmoid'))\n",
    "    ad = Adam(learning_rate=lr, beta_1=0.9, beta_2=0.999, amsgrad=False)\n",
    "    model5.compile(loss='binary_crossentropy', optimizer=ad, metrics=['accuracy'])\n",
    "    history = model5.fit(X, y, epochs=30, batch_size=64, validation_split=0.2)\n",
    "    histories.append(history)"
   ]
  },
  {
   "cell_type": "code",
   "execution_count": 9,
   "metadata": {},
   "outputs": [
    {
     "data": {
      "image/png": "[encoded data removed]",
      "text/plain": [
       "<Figure size 432x288 with 1 Axes>"
      ]
     },
     "metadata": {
      "needs_background": "light"
     },
     "output_type": "display_data"
    }
   ],
   "source": [
    "maxs = []\n",
    "for h in histories:\n",
    "    plt.plot(h.history['acc'])\n",
    "    plt.plot(h.history['val_acc'])\n",
    "    maxs.append(max(h.history['val_acc']))"
   ]
  },
  {
   "cell_type": "code",
   "execution_count": 12,
   "metadata": {},
   "outputs": [
    {
     "data": {
      "text/plain": [
       "[0.9611977,\n",
       " 0.96081245,\n",
       " 0.8441254,\n",
       " 0.8716512,\n",
       " 0.627806,\n",
       " 0.9056908,\n",
       " 0.63645595,\n",
       " 0.9759412,\n",
       " 0.9784276,\n",
       " 0.9699177,\n",
       " 0.9592015,\n",
       " 0.70915776,\n",
       " 0.8782,\n",
       " 0.96771145,\n",
       " 0.8481877,\n",
       " 0.8010506,\n",
       " 0.8465067,\n",
       " 0.960042,\n",
       " 0.83922255,\n",
       " 0.9082823,\n",
       " 0.75976187,\n",
       " 0.9732096,\n",
       " 0.8925232,\n",
       " 0.9167571,\n",
       " 0.94302225,\n",
       " 0.96617055,\n",
       " 0.91038346,\n",
       " 0.8732621,\n",
       " 0.73335665,\n",
       " 0.95223254]"
      ]
     },
     "execution_count": 12,
     "metadata": {},
     "output_type": "execute_result"
    }
   ],
   "source": [
    "histories[0].history['val_acc']"
   ]
  }
 ],
 "metadata": {
  "kernelspec": {
   "display_name": "Python 3",
   "language": "python",
   "name": "python3"
  },
  "language_info": {
   "codemirror_mode": {
    "name": "ipython",
    "version": 3
   },
   "file_extension": ".py",
   "mimetype": "text/x-python",
   "name": "python",
   "nbconvert_exporter": "python",
   "pygments_lexer": "ipython3",
   "version": "3.7.5"
  }
 },
 "nbformat": 4,
 "nbformat_minor": 4
}
