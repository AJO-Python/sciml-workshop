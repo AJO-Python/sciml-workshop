{
  "nbformat": 4,
  "nbformat_minor": 0,
  "metadata": {
    "kernelspec": {
      "display_name": "Python 3",
      "language": "python",
      "name": "python3"
    },
    "language_info": {
      "codemirror_mode": {
        "name": "ipython",
        "version": 3
      },
      "file_extension": ".py",
      "mimetype": "text/x-python",
      "name": "python",
      "nbconvert_exporter": "python",
      "pygments_lexer": "ipython3",
      "version": "3.7.6"
    },
    "colab": {
      "name": "Copy of mlp-2-empty.ipynb",
      "provenance": [],
      "collapsed_sections": []
    }
  },
  "cells": [
    {
      "cell_type": "markdown",
      "metadata": {
        "id": "cSbpEgBn_Ngy",
        "colab_type": "text"
      },
      "source": [
        "# MLP Lesson 2\n",
        "\n",
        "## Google Cloud Storage Boilerplate\n",
        "\n",
        "This first cell has some boilerplate to connect the Google Cloud Storage bucket containing the data used for this tutorial to the Google Colab environment. \n",
        "\n",
        "In order to access the data for this workshop you'll need to run this cell, follow the link when prompted and copy the Google SDK token into the prompt. If everything works correctly a new folder called `data` should appear in the file browser on the left."
      ]
    },
    {
      "cell_type": "code",
      "metadata": {
        "id": "8Wt9lr60_M4u",
        "colab_type": "code",
        "colab": {}
      },
      "source": [
        "%tensorflow_version 2.x\n",
        "from google.colab import auth\n",
        "auth.authenticate_user()\n",
        "\n",
        "project_id = 'sciml-workshop'\n",
        "bucket_name = 'sciml-workshop'\n",
        "\n",
        "!echo \"deb http://packages.cloud.google.com/apt gcsfuse-bionic main\" > /etc/apt/sources.list.d/gcsfuse.list\n",
        "!curl https://packages.cloud.google.com/apt/doc/apt-key.gpg | apt-key add -\n",
        "!apt -qq update\n",
        "!apt -qq install gcsfuse\n",
        "\n",
        "!gcloud config set project {project_id}\n",
        "\n",
        "!mkdir data\n",
        "!gcsfuse  --implicit-dirs --limit-bytes-per-sec -1 --limit-ops-per-sec -1 {bucket_name} /content/data"
      ],
      "execution_count": 0,
      "outputs": []
    },
    {
      "cell_type": "code",
      "metadata": {
        "id": "bdXcHdHE_Avz",
        "colab_type": "code",
        "colab": {}
      },
      "source": [
        "import pandas as pd\n",
        "import matplotlib.pyplot as plt\n",
        "import numpy as np\n",
        "#plt.style.available\n",
        "plt.style.use('ggplot')\n",
        "from sklearn.utils import resample\n",
        "from tensorflow.keras import Sequential\n",
        "from tensorflow.keras.layers import Dense\n",
        "from tensorflow.keras.optimizers import Adam\n",
        "from tensorflow.keras.layers import Dropout, BatchNormalization"
      ],
      "execution_count": 0,
      "outputs": []
    },
    {
      "cell_type": "markdown",
      "metadata": {
        "id": "w-fjc-Tl_Av3",
        "colab_type": "text"
      },
      "source": [
        "## Bigger data - deeper networks\n",
        "\n",
        "The last exercise gave us an intro into how to build and tune some of the parameters of a neural network. Now we move to an example where we have more data. Generally as we increase the amount of training data we can make use of deeper networks, with more layers to give more accurate predictions.\n",
        "\n",
        "This time around we load up the data from `ag-muon-data-tight.pkl`\n",
        "\n",
        "You can load this up in the same way as in the previous notebook. We just take the first 90k examples to speed up training."
      ]
    },
    {
      "cell_type": "code",
      "metadata": {
        "id": "Pq3W_D9v_Av4",
        "colab_type": "code",
        "colab": {}
      },
      "source": [
        "df = pd.read_pickle('/content/data/muon/ag-muon-data-tight.pkl').iloc[:90000]\n",
        "X = np.array(df[3].to_list())\n",
        "y = np.array(df[1].to_list())"
      ],
      "execution_count": 0,
      "outputs": []
    },
    {
      "cell_type": "markdown",
      "metadata": {
        "id": "9pKygtXE_Av7",
        "colab_type": "text"
      },
      "source": [
        "## Class imbalance \n",
        "Don't forget to take care of class balance in your dataset. Do the same checks and use the `resample` function as you did in the previous notebook. Plot a historgram of the class balance."
      ]
    },
    {
      "cell_type": "code",
      "metadata": {
        "id": "OpDt7p3P_Av8",
        "colab_type": "code",
        "colab": {}
      },
      "source": [
        ""
      ],
      "execution_count": 0,
      "outputs": []
    },
    {
      "cell_type": "markdown",
      "metadata": {
        "id": "GkpxOZQF_AwB",
        "colab_type": "text"
      },
      "source": [
        "### Initial network\n",
        "\n",
        "We now have more data, so we could think about making a deeper network. Try out the architecture below. **Note** this needs to run for more epochs as the network takes some time to equilibrate, so a little bit of patience is needed. If you like you can try stopping it earlier (running fewer epochs), then plot the training and validation loss to see how it is doing."
      ]
    },
    {
      "cell_type": "code",
      "metadata": {
        "id": "ihA2a-x5_AwB",
        "colab_type": "code",
        "colab": {}
      },
      "source": [
        "model = Sequential()\n",
        "model.add(Dense(64, input_dim=1000, activation='relu'))\n",
        "model.add(BatchNormalization())\n",
        "model.add(Dense(32, activation='relu'))\n",
        "model.add(Dense(16, activation='relu'))\n",
        "model.add(Dense(8, activation='relu'))\n",
        "model.add(Dense(1, activation='sigmoid'))\n",
        "ad = Adam(learning_rate=1e-4, beta_1=0.9, beta_2=0.999, amsgrad=False)\n",
        "model.compile(loss='binary_crossentropy', optimizer=ad, metrics=['accuracy'])\n",
        "history_bn = model.fit(X, y, epochs=200, batch_size=64, validation_split=0.2)"
      ],
      "execution_count": 0,
      "outputs": []
    },
    {
      "cell_type": "markdown",
      "metadata": {
        "id": "R21Z8dWT_AwT",
        "colab_type": "text"
      },
      "source": [
        "## Plot your training results"
      ]
    },
    {
      "cell_type": "code",
      "metadata": {
        "id": "owDvx6Kb_AwU",
        "colab_type": "code",
        "colab": {}
      },
      "source": [
        ""
      ],
      "execution_count": 0,
      "outputs": []
    }
  ]
}