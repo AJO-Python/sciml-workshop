{
 "cells": [
  {
   "cell_type": "code",
   "execution_count": 1,
   "metadata": {},
   "outputs": [],
   "source": [
    "import pandas as pd\n",
    "import matplotlib.pyplot as plt\n",
    "import numpy as np\n",
    "#plt.style.available\n",
    "plt.style.use('ggplot')"
   ]
  },
  {
   "cell_type": "markdown",
   "metadata": {},
   "source": [
    "# Multi layer perceptron\n",
    "\n",
    "In this practical we fit our first deep neural network. We are starting with the simplest architecture - a multi-layer perceptron (MLP). \n",
    "\n",
    "## The task\n",
    "\n",
    "We have a set of spectra from Muon spectroscopy experiemnts, we would like to train a NN to be able to detect from a given spectrum wheter or not a certain element is present in the sample. In this case we are going to try to train a network to detect if there is `Ag` in a sample.\n",
    "\n",
    "## The data\n",
    "\n",
    "There is a dataset conveniently provided with spectra and labels saying wheter or not there is `Ag` in the data (`ag-muon-data.pkl`). It is in a `pickle` file, load it into a `pandas` dataframe and take a quick look."
   ]
  },
  {
   "cell_type": "code",
   "execution_count": 2,
   "metadata": {},
   "outputs": [],
   "source": [
    "df = pd.read_pickle('ag-muon-data.pkl')"
   ]
  },
  {
   "cell_type": "code",
   "execution_count": 3,
   "metadata": {},
   "outputs": [
    {
     "data": {
      "text/html": [
       "<div>\n",
       "<style scoped>\n",
       "    .dataframe tbody tr th:only-of-type {\n",
       "        vertical-align: middle;\n",
       "    }\n",
       "\n",
       "    .dataframe tbody tr th {\n",
       "        vertical-align: top;\n",
       "    }\n",
       "\n",
       "    .dataframe thead th {\n",
       "        text-align: right;\n",
       "    }\n",
       "</style>\n",
       "<table border=\"1\" class=\"dataframe\">\n",
       "  <thead>\n",
       "    <tr style=\"text-align: right;\">\n",
       "      <th></th>\n",
       "      <th>0</th>\n",
       "      <th>1</th>\n",
       "      <th>2</th>\n",
       "      <th>3</th>\n",
       "    </tr>\n",
       "  </thead>\n",
       "  <tbody>\n",
       "    <tr>\n",
       "      <th>0</th>\n",
       "      <td>[Zn]</td>\n",
       "      <td>0</td>\n",
       "      <td>[0, 20, 40, 60, 80, 100, 120, 140, 160, 180, 2...</td>\n",
       "      <td>[0.0, 0.0, 181.8778921374784, 488.349654519592...</td>\n",
       "    </tr>\n",
       "    <tr>\n",
       "      <th>1</th>\n",
       "      <td>[Sb, Zn, Si]</td>\n",
       "      <td>0</td>\n",
       "      <td>[0, 20, 40, 60, 80, 100, 120, 140, 160, 180, 2...</td>\n",
       "      <td>[0.0, 0.0, 202.97108056052195, 433.59971962403...</td>\n",
       "    </tr>\n",
       "    <tr>\n",
       "      <th>2</th>\n",
       "      <td>[Fe, Sb]</td>\n",
       "      <td>0</td>\n",
       "      <td>[0, 20, 40, 60, 80, 100, 120, 140, 160, 180, 2...</td>\n",
       "      <td>[0.0, 0.0, 212.7229415490735, 428.816091507503...</td>\n",
       "    </tr>\n",
       "    <tr>\n",
       "      <th>3</th>\n",
       "      <td>[Ag, Zn, Cu, Sb]</td>\n",
       "      <td>1</td>\n",
       "      <td>[0, 20, 40, 60, 80, 100, 120, 140, 160, 180, 2...</td>\n",
       "      <td>[0.0, 0.0, 192.36172506402616, 420.19496785125...</td>\n",
       "    </tr>\n",
       "    <tr>\n",
       "      <th>4</th>\n",
       "      <td>[Fe, Zn]</td>\n",
       "      <td>0</td>\n",
       "      <td>[0, 20, 40, 60, 80, 100, 120, 140, 160, 180, 2...</td>\n",
       "      <td>[0.0, 0.0, 206.91647977543502, 434.03768636007...</td>\n",
       "    </tr>\n",
       "  </tbody>\n",
       "</table>\n",
       "</div>"
      ],
      "text/plain": [
       "                  0  1                                                  2  \\\n",
       "0              [Zn]  0  [0, 20, 40, 60, 80, 100, 120, 140, 160, 180, 2...   \n",
       "1      [Sb, Zn, Si]  0  [0, 20, 40, 60, 80, 100, 120, 140, 160, 180, 2...   \n",
       "2          [Fe, Sb]  0  [0, 20, 40, 60, 80, 100, 120, 140, 160, 180, 2...   \n",
       "3  [Ag, Zn, Cu, Sb]  1  [0, 20, 40, 60, 80, 100, 120, 140, 160, 180, 2...   \n",
       "4          [Fe, Zn]  0  [0, 20, 40, 60, 80, 100, 120, 140, 160, 180, 2...   \n",
       "\n",
       "                                                   3  \n",
       "0  [0.0, 0.0, 181.8778921374784, 488.349654519592...  \n",
       "1  [0.0, 0.0, 202.97108056052195, 433.59971962403...  \n",
       "2  [0.0, 0.0, 212.7229415490735, 428.816091507503...  \n",
       "3  [0.0, 0.0, 192.36172506402616, 420.19496785125...  \n",
       "4  [0.0, 0.0, 206.91647977543502, 434.03768636007...  "
      ]
     },
     "execution_count": 3,
     "metadata": {},
     "output_type": "execute_result"
    }
   ],
   "source": [
    "df.head()"
   ]
  },
  {
   "cell_type": "markdown",
   "metadata": {},
   "source": [
    "Notice that the third column of the dataframe contains either 1 or zero, conveniently the data has already been one-hot-encoded for you. 1 - there is `Ag` in the sample, 0 - there is no `Ag` in the sample. The fifth column of the dataframe contains the spectroscopic signal from the experiment. \n",
    "\n",
    "The sample number `23993` is pure `Ag` plot it out to see the kind of data we are looking at.\n",
    "\n",
    "*Note* To access this data in `pandas` use `sample = df.iloc[23993][3]`"
   ]
  },
  {
   "cell_type": "code",
   "execution_count": 4,
   "metadata": {},
   "outputs": [],
   "source": [
    "sample = df.iloc[23993][3]"
   ]
  },
  {
   "cell_type": "code",
   "execution_count": 5,
   "metadata": {},
   "outputs": [
    {
     "data": {
      "text/plain": [
       "[<matplotlib.lines.Line2D at 0x7f6fd12c6d10>]"
      ]
     },
     "execution_count": 5,
     "metadata": {},
     "output_type": "execute_result"
    },
    {
     "data": {
      "image/png": "[encoded data removed]",
      "text/plain": [
       "<Figure size 432x288 with 1 Axes>"
      ]
     },
     "metadata": {},
     "output_type": "display_data"
    }
   ],
   "source": [
    "plt.plot(sample)"
   ]
  },
  {
   "cell_type": "markdown",
   "metadata": {},
   "source": [
    "We can see some clear peaks associated with `Ag` - however, to get a feel for the complexity of picking out signals with `Ag` in multinary samples try plotting sample number `26`, which is an `Ag/Si` binary."
   ]
  },
  {
   "cell_type": "code",
   "execution_count": 6,
   "metadata": {},
   "outputs": [
    {
     "data": {
      "text/plain": [
       "[<matplotlib.lines.Line2D at 0x7f6fccd1ed90>]"
      ]
     },
     "execution_count": 6,
     "metadata": {},
     "output_type": "execute_result"
    },
    {
     "data": {
      "image/png": "[encoded data removed]",
      "text/plain": [
       "<Figure size 432x288 with 1 Axes>"
      ]
     },
     "metadata": {},
     "output_type": "display_data"
    }
   ],
   "source": [
    "sample = df.iloc[26][3]\n",
    "plt.plot(sample)"
   ]
  },
  {
   "cell_type": "markdown",
   "metadata": {},
   "source": [
    "## The approach\n",
    "\n",
    "We are going to try and train a NN to classify spectra into those that contain `Ag` and those that do not.\n",
    "\n",
    "Get X - your input data as the fifth column of the dataset and y your objective as the third column. You can use the pandas function `to_list` to do this. Convert the resulting lists to `numpy` arrays for feeding to the NN."
   ]
  },
  {
   "cell_type": "code",
   "execution_count": 7,
   "metadata": {},
   "outputs": [],
   "source": [
    "X = np.array(df[3].to_list())\n",
    "y = np.array(df[1].to_list())"
   ]
  },
  {
   "cell_type": "markdown",
   "metadata": {},
   "source": [
    "## Try out a network\n",
    "\n",
    "We can see that the data is given as a series of 300 points, each corresponding to an intensity. We can think about building a MLP that has 300 nodes in the input layer and then a single node in the output layer. The output should be 1 if there is `Ag` in the sample and 0 if there is no `Ag` in the sample.\n",
    "\n",
    "We will start by using `keras` `Sequential` model building - this allows you to simply add new layers to a model using the `model.add(<layer details>)` command. The model is instantiated with\n",
    "```\n",
    "model = Sequential()\n",
    "```\n",
    "Now we want to add layers to the netowrk - as we are building a MLP, all of our layers are fully connected or [`Dense`](https://keras.io/layers/core/) layers. The arguments that are passed to the dense layer are\n",
    "* Number of nodes\n",
    "* Number of inputs to the layer - this is only necessary for the first layer and must match the shape of the data\n",
    "* Activation function - this is the non-linear function used to calculate the activation of the layer \n",
    "* There are many other properties you can set, but these are all we need for now\n",
    "\n",
    "**Note** we are importing from `tensorflow.keras`, rather than `keras` this is to ensure consistency with models built in pure `tensorflow`."
   ]
  },
  {
   "cell_type": "code",
   "execution_count": 8,
   "metadata": {},
   "outputs": [],
   "source": [
    "from tensorflow.keras import Sequential\n",
    "from tensorflow.keras.layers import Dense\n",
    "# define the keras model\n",
    "model = Sequential()\n",
    "model.add(Dense(12, input_dim=300, activation='relu'))\n",
    "model.add(Dense(8, activation='relu'))\n",
    "model.add(Dense(1, activation='sigmoid'))"
   ]
  },
  {
   "cell_type": "markdown",
   "metadata": {},
   "source": [
    "We can now look at the properties of the model with `model.summary()`"
   ]
  },
  {
   "cell_type": "code",
   "execution_count": 9,
   "metadata": {},
   "outputs": [
    {
     "name": "stdout",
     "output_type": "stream",
     "text": [
      "Model: \"sequential\"\n",
      "_________________________________________________________________\n",
      "Layer (type)                 Output Shape              Param #   \n",
      "=================================================================\n",
      "dense (Dense)                (None, 12)                3612      \n",
      "_________________________________________________________________\n",
      "dense_1 (Dense)              (None, 8)                 104       \n",
      "_________________________________________________________________\n",
      "dense_2 (Dense)              (None, 1)                 9         \n",
      "=================================================================\n",
      "Total params: 3,725\n",
      "Trainable params: 3,725\n",
      "Non-trainable params: 0\n",
      "_________________________________________________________________\n"
     ]
    }
   ],
   "source": [
    "model.summary()"
   ]
  },
  {
   "cell_type": "markdown",
   "metadata": {},
   "source": [
    "Now you need to [compile](https://keras.io/models/model/) the model - this involves setting a `loss` to train against, an `optimizer` and optionally some `metrics` to evaluate during the training. For the `loss`, since we are fitting to a range between 0 and 1 `binary_crossentropy` is the obvious choice. For `optimizer` we use `adam` and we will have just one metric `accuracy` - note that metrics must be passed as a list. See the [`keras` documentation](https://keras.io/models/model/)"
   ]
  },
  {
   "cell_type": "code",
   "execution_count": 13,
   "metadata": {},
   "outputs": [],
   "source": [
    "model.compile(loss='binary_crossentropy', optimizer='adam', metrics=['accuracy'])"
   ]
  },
  {
   "cell_type": "markdown",
   "metadata": {},
   "source": [
    "When the model is compied we can now start to fit it using the data. Again details of the `fit` function of `keras` models can be found in the [`keras` documentation](https://keras.io/models/model/). \n",
    "\n",
    "We need to specify the X and y data, we will run for 60 epochs and we will use a batch size of 32. We should also specify a validation split of 20% of the data using `validation_split=0.2` Run the model for `20` epochs with a `batch_size` of 64."
   ]
  },
  {
   "cell_type": "code",
   "execution_count": null,
   "metadata": {},
   "outputs": [],
   "source": [
    "model.fit(X, y, epochs=20, batch_size=64, validation_split=0.2)"
   ]
  },
  {
   "cell_type": "markdown",
   "metadata": {},
   "source": [
    "## Class imbalance\n",
    "\n",
    "Notice how the accuracy of the model very quickly achieves a certain value and then stops improving. This value could be well above 50%, which suggests that that model is actually learning something. However we may have fallen into a trap here. Take a look at the distribution of the target data, using `plt.hist(y)`. Also pay special attention to the validation data (the final 20% of the data)."
   ]
  },
  {
   "cell_type": "code",
   "execution_count": 10,
   "metadata": {},
   "outputs": [
    {
     "data": {
      "text/plain": [
       "(array([201927.,      0.,      0.,      0.,      0.,      0.,      0.,\n",
       "             0.,      0.,   1073.]),\n",
       " array([0. , 0.1, 0.2, 0.3, 0.4, 0.5, 0.6, 0.7, 0.8, 0.9, 1. ]),\n",
       " <a list of 10 Patch objects>)"
      ]
     },
     "execution_count": 10,
     "metadata": {},
     "output_type": "execute_result"
    },
    {
     "data": {
      "image/png": "[encoded data removed]",
      "text/plain": [
       "<Figure size 432x288 with 1 Axes>"
      ]
     },
     "metadata": {},
     "output_type": "display_data"
    }
   ],
   "source": [
    "plt.hist(y[21000:])"
   ]
  },
  {
   "cell_type": "markdown",
   "metadata": {},
   "source": [
    "You might notice something about the class numbers that closely resembls the accuracy achieved by the model. The data with no `Ag` accounts for around 95% of the data. So if the model simply learns to guess no `Ag` it can achieve 95% accuracy without learning anything useful. To avoid this we will rebalabace the classes.\n",
    "\n",
    "With class imbalance there are a number  of strategies that you can take to address the problem.\n",
    "\n",
    "* Up-sample the minority class\n",
    "* Down-sample the majority class\n",
    "* Change your performance metric\n",
    "\n",
    "In our case the best available option is to down-sample the majority class, so that `Ag` and no`Ag` have equal numbers in the datasets.\n",
    "\n",
    "You can split the dataframe into the `1` and `0` entries using something like `df[df[1]==0]`.\n",
    "\n",
    "Then use [`sklearn.utils.resample`](https://scikit-learn.org/stable/modules/generated/sklearn.utils.resample.html) to resample the majority dataframe.\n",
    "\n",
    "Then concatenate and shuffle the datasets - `pd.concat` followed by `pd.sample`\n",
    "\n",
    "A good online guide is available [here](https://elitedatascience.com/imbalanced-classes)."
   ]
  },
  {
   "cell_type": "code",
   "execution_count": 11,
   "metadata": {},
   "outputs": [],
   "source": [
    "from sklearn.utils import resample\n",
    "\n",
    "num_ag = np.count_nonzero(y==0)\n",
    "num_no_ag = np.count_nonzero(y==1)\n",
    "\n",
    "df_majority = df[df[1]==0]\n",
    "df_minority = df[df[1]==1]\n",
    "\n",
    "# Downsample majority class\n",
    "df_majority_downsampled = resample(df_majority, \n",
    "                                 replace=False,    # sample without replacement\n",
    "                                 n_samples=num_no_ag,     # to match minority class\n",
    "                                 random_state=123) # reproducible results\n",
    "\n",
    "df_downsampled = pd.concat([df_majority_downsampled, df_minority])\n",
    "df_new = df_downsampled.sample(frac=1)\n",
    "\n",
    "X = np.array(df_new[3].to_list())\n",
    "y = np.array(df_new[1].to_list())"
   ]
  },
  {
   "cell_type": "code",
   "execution_count": 14,
   "metadata": {},
   "outputs": [
    {
     "name": "stdout",
     "output_type": "stream",
     "text": [
      "Train on 13787 samples, validate on 3447 samples\n",
      "Epoch 1/20\n",
      "13787/13787 [==============================] - 2s 130us/sample - loss: 4.2201 - accuracy: 0.4979 - val_loss: 2.1372 - val_accuracy: 0.4993\n",
      "Epoch 2/20\n",
      "13787/13787 [==============================] - 1s 64us/sample - loss: 1.1588 - accuracy: 0.5066 - val_loss: 0.8606 - val_accuracy: 0.5155\n",
      "Epoch 3/20\n",
      "13787/13787 [==============================] - 1s 66us/sample - loss: 0.8239 - accuracy: 0.5098 - val_loss: 0.7642 - val_accuracy: 0.5199\n",
      "Epoch 4/20\n",
      "13787/13787 [==============================] - 1s 63us/sample - loss: 0.7577 - accuracy: 0.5126 - val_loss: 0.7262 - val_accuracy: 0.5231\n",
      "Epoch 5/20\n",
      "13787/13787 [==============================] - 1s 65us/sample - loss: 0.7276 - accuracy: 0.5177 - val_loss: 0.7176 - val_accuracy: 0.5260\n",
      "Epoch 6/20\n",
      "13787/13787 [==============================] - 1s 65us/sample - loss: 0.7105 - accuracy: 0.5271 - val_loss: 0.6994 - val_accuracy: 0.5338\n",
      "Epoch 7/20\n",
      "13787/13787 [==============================] - 1s 64us/sample - loss: 0.7022 - accuracy: 0.5283 - val_loss: 0.7006 - val_accuracy: 0.5318\n",
      "Epoch 8/20\n",
      "13787/13787 [==============================] - 1s 65us/sample - loss: 0.6966 - accuracy: 0.5417 - val_loss: 0.7063 - val_accuracy: 0.5242\n",
      "Epoch 9/20\n",
      "13787/13787 [==============================] - 1s 66us/sample - loss: 0.6937 - accuracy: 0.5364 - val_loss: 0.6931 - val_accuracy: 0.5338\n",
      "Epoch 10/20\n",
      "13787/13787 [==============================] - 1s 66us/sample - loss: 0.6899 - accuracy: 0.5466 - val_loss: 0.6844 - val_accuracy: 0.5503\n",
      "Epoch 11/20\n",
      "13787/13787 [==============================] - 1s 66us/sample - loss: 0.6857 - accuracy: 0.5513 - val_loss: 0.6822 - val_accuracy: 0.5625\n",
      "Epoch 12/20\n",
      "13787/13787 [==============================] - 1s 65us/sample - loss: 0.6850 - accuracy: 0.5522 - val_loss: 0.6837 - val_accuracy: 0.5634\n",
      "Epoch 13/20\n",
      "13787/13787 [==============================] - 1s 69us/sample - loss: 0.6862 - accuracy: 0.5547 - val_loss: 0.6759 - val_accuracy: 0.5741\n",
      "Epoch 14/20\n",
      "13787/13787 [==============================] - 1s 65us/sample - loss: 0.6825 - accuracy: 0.5630 - val_loss: 0.6748 - val_accuracy: 0.5791\n",
      "Epoch 15/20\n",
      "13787/13787 [==============================] - 1s 69us/sample - loss: 0.6835 - accuracy: 0.5548 - val_loss: 0.6804 - val_accuracy: 0.5550\n",
      "Epoch 16/20\n",
      "13787/13787 [==============================] - 1s 68us/sample - loss: 0.6817 - accuracy: 0.5676 - val_loss: 0.6893 - val_accuracy: 0.5396\n",
      "Epoch 17/20\n",
      "13787/13787 [==============================] - 1s 67us/sample - loss: 0.6772 - accuracy: 0.5752 - val_loss: 0.6725 - val_accuracy: 0.5756\n",
      "Epoch 18/20\n",
      "13787/13787 [==============================] - 1s 67us/sample - loss: 0.6698 - accuracy: 0.5932 - val_loss: 0.6647 - val_accuracy: 0.6008\n",
      "Epoch 19/20\n",
      "13787/13787 [==============================] - 1s 67us/sample - loss: 0.6689 - accuracy: 0.5929 - val_loss: 0.6905 - val_accuracy: 0.5396\n",
      "Epoch 20/20\n",
      "13787/13787 [==============================] - 1s 65us/sample - loss: 0.6648 - accuracy: 0.5955 - val_loss: 0.7194 - val_accuracy: 0.5178\n"
     ]
    },
    {
     "data": {
      "text/plain": [
       "<tensorflow.python.keras.callbacks.History at 0x7f6fc7399f10>"
      ]
     },
     "execution_count": 14,
     "metadata": {},
     "output_type": "execute_result"
    }
   ],
   "source": [
    "model.fit(X, y, epochs=20, batch_size=64, validation_split=0.2)"
   ]
  },
  {
   "cell_type": "markdown",
   "metadata": {},
   "source": [
    "**Note** In some instances the model now stops learning at around 50% - pretty disappointing. So what else could be holding us back? In some instances the model will actually train and achieve above 50% in this step - the explanation is below.\n",
    "\n",
    "## Optimizer hyperparameters\n",
    "\n",
    "Recall from the lecture that we talked about hyperparameters in optimizers. In this case we have used the `Adam` optimizer with a default learning rate. \n",
    "\n",
    "#### \"The learning rate is perhaps the most important hyperparameter. If you have time to tune only one hyperparameter, tune the learning rate.\" - Goodfellow, Deep Learning\n",
    "\n",
    "One thing that can happen if our learning rate is too high initially is that the optimizer can continually jump over optimal solutions and not actually find its way to a good answer. Whether or not the optimizer does find it's way to a minmum is down to a combination of the loss function space, the starting parameters and the optimizer settings. Since the initial parameters of the network are randomised there are some cases, as noted above where, the network will optimise at the standard learning rate. However, sometimes it will just keep skipping around and not learning. \n",
    "\n",
    "To overcome this problem we can lower the learning rate of the optimizer for an initial optimisation. Once the model has started to train and the loss has started to decrease we can dial the learning rate back up to speed up the training.\n",
    "\n",
    "On the other hand, lower the learning rate too much and training will take an eternity.\n",
    "\n",
    "### Grid search for learning rate\n",
    "\n",
    "For this part of the exercise we will do a serach over possible learning rates. Typically we would look over  range of 0.1 to 10$^{-5}$ on a $\\log$ scale.\n",
    "\n",
    "To edit the optimizer settings, we import the optimizer `Adam` from `tensorflow.keras.optimizers` and set the learning rate\n",
    "\n",
    "```\n",
    "ad = Adam(learning_rate=0.0001)\n",
    "model.compile(loss='binary_crossentropy', optimizer=ad, metrics=['accuracy'])\n",
    "```\n",
    "\n",
    "Construct a loop to go over the learning rate range described above. For each training cycle we will extract the best validation accuracy value.\n",
    "\n",
    "You can save the history of a training cycle as a dictionary simply by `history = model.fit(<params>)`, here the metrics and losses are saved to a dictionary `history.history`. Run the model for 40 epochs at each learning rate.\n",
    "\n",
    "Save this dictionary for each learning rate and then compare the results. Look at maximum value for `accuracy` from each of the learning rates."
   ]
  },
  {
   "cell_type": "code",
   "execution_count": 15,
   "metadata": {},
   "outputs": [
    {
     "name": "stdout",
     "output_type": "stream",
     "text": [
      "Train on 13787 samples, validate on 3447 samples\n",
      "Epoch 1/40\n",
      "13787/13787 [==============================] - 1s 98us/sample - loss: 8.3080 - accuracy: 0.4954 - val_loss: 0.6931 - val_accuracy: 0.4996\n",
      "Epoch 2/40\n",
      "13787/13787 [==============================] - 1s 68us/sample - loss: 0.6944 - accuracy: 0.4947 - val_loss: 0.6934 - val_accuracy: 0.4996\n",
      "Epoch 3/40\n",
      "13787/13787 [==============================] - 1s 67us/sample - loss: 0.6945 - accuracy: 0.4976 - val_loss: 0.6938 - val_accuracy: 0.5004\n",
      "Epoch 4/40\n",
      "13787/13787 [==============================] - 1s 66us/sample - loss: 0.6945 - accuracy: 0.5011 - val_loss: 0.6931 - val_accuracy: 0.5004\n",
      "Epoch 5/40\n",
      "13787/13787 [==============================] - 1s 65us/sample - loss: 0.6944 - accuracy: 0.4954 - val_loss: 0.6960 - val_accuracy: 0.5004\n",
      "Epoch 6/40\n",
      "13787/13787 [==============================] - 1s 65us/sample - loss: 0.6939 - accuracy: 0.4940 - val_loss: 0.6932 - val_accuracy: 0.4996\n",
      "Epoch 7/40\n",
      "13787/13787 [==============================] - 1s 66us/sample - loss: 0.6946 - accuracy: 0.4966 - val_loss: 0.6932 - val_accuracy: 0.4996\n",
      "Epoch 8/40\n",
      "13787/13787 [==============================] - 1s 67us/sample - loss: 0.6947 - accuracy: 0.4936 - val_loss: 0.6932 - val_accuracy: 0.4996\n",
      "Epoch 9/40\n",
      "13787/13787 [==============================] - 1s 66us/sample - loss: 0.6947 - accuracy: 0.5024 - val_loss: 0.6991 - val_accuracy: 0.4996\n",
      "Epoch 10/40\n",
      "13787/13787 [==============================] - 1s 66us/sample - loss: 0.6953 - accuracy: 0.4965 - val_loss: 0.6946 - val_accuracy: 0.4996\n",
      "Epoch 11/40\n",
      "13787/13787 [==============================] - 1s 68us/sample - loss: 0.6955 - accuracy: 0.4970 - val_loss: 0.7008 - val_accuracy: 0.5004\n",
      "Epoch 12/40\n",
      "13787/13787 [==============================] - 1s 64us/sample - loss: 0.6945 - accuracy: 0.5031 - val_loss: 0.6935 - val_accuracy: 0.5004\n",
      "Epoch 13/40\n",
      "13787/13787 [==============================] - 1s 67us/sample - loss: 0.6938 - accuracy: 0.5016 - val_loss: 0.6962 - val_accuracy: 0.4996\n",
      "Epoch 14/40\n",
      "13787/13787 [==============================] - 1s 66us/sample - loss: 0.6948 - accuracy: 0.4995 - val_loss: 0.6932 - val_accuracy: 0.5004\n",
      "Epoch 15/40\n",
      "13787/13787 [==============================] - 1s 67us/sample - loss: 0.6941 - accuracy: 0.5005 - val_loss: 0.6942 - val_accuracy: 0.4996\n",
      "Epoch 16/40\n",
      "13787/13787 [==============================] - 1s 64us/sample - loss: 0.6945 - accuracy: 0.5009 - val_loss: 0.6970 - val_accuracy: 0.5004\n",
      "Epoch 17/40\n",
      "13787/13787 [==============================] - 1s 61us/sample - loss: 0.6961 - accuracy: 0.4998 - val_loss: 0.7032 - val_accuracy: 0.4996\n",
      "Epoch 18/40\n",
      "13787/13787 [==============================] - 1s 62us/sample - loss: 0.6965 - accuracy: 0.4928 - val_loss: 0.6974 - val_accuracy: 0.5004\n",
      "Epoch 19/40\n",
      "13787/13787 [==============================] - 1s 63us/sample - loss: 0.6950 - accuracy: 0.4998 - val_loss: 0.6933 - val_accuracy: 0.4996\n",
      "Epoch 20/40\n",
      "13787/13787 [==============================] - 1s 67us/sample - loss: 0.6944 - accuracy: 0.5055 - val_loss: 0.6940 - val_accuracy: 0.4996\n",
      "Epoch 21/40\n",
      "13787/13787 [==============================] - 1s 67us/sample - loss: 0.6942 - accuracy: 0.4993 - val_loss: 0.6953 - val_accuracy: 0.5004\n",
      "Epoch 22/40\n",
      "13787/13787 [==============================] - 1s 63us/sample - loss: 0.6940 - accuracy: 0.4992 - val_loss: 0.6934 - val_accuracy: 0.5004\n",
      "Epoch 23/40\n",
      "13787/13787 [==============================] - 1s 66us/sample - loss: 0.6952 - accuracy: 0.4992 - val_loss: 0.6936 - val_accuracy: 0.4996\n",
      "Epoch 24/40\n",
      "13787/13787 [==============================] - 1s 65us/sample - loss: 0.6946 - accuracy: 0.4932 - val_loss: 0.6939 - val_accuracy: 0.5004\n",
      "Epoch 25/40\n",
      "13787/13787 [==============================] - 1s 66us/sample - loss: 0.6951 - accuracy: 0.4882 - val_loss: 0.6950 - val_accuracy: 0.4996\n",
      "Epoch 26/40\n",
      "13787/13787 [==============================] - 1s 68us/sample - loss: 0.6943 - accuracy: 0.5093 - val_loss: 0.6968 - val_accuracy: 0.5004\n",
      "Epoch 27/40\n",
      "13787/13787 [==============================] - 1s 68us/sample - loss: 0.6944 - accuracy: 0.4961 - val_loss: 0.6942 - val_accuracy: 0.5004\n",
      "Epoch 28/40\n",
      "13787/13787 [==============================] - 1s 69us/sample - loss: 0.6940 - accuracy: 0.5045 - val_loss: 0.7008 - val_accuracy: 0.5004\n",
      "Epoch 29/40\n",
      "13787/13787 [==============================] - 1s 68us/sample - loss: 0.6946 - accuracy: 0.4976 - val_loss: 0.6932 - val_accuracy: 0.5004\n",
      "Epoch 30/40\n",
      "13787/13787 [==============================] - 1s 68us/sample - loss: 0.6940 - accuracy: 0.4926 - val_loss: 0.6937 - val_accuracy: 0.4996\n",
      "Epoch 31/40\n",
      "13787/13787 [==============================] - 1s 65us/sample - loss: 0.6952 - accuracy: 0.5001 - val_loss: 0.6938 - val_accuracy: 0.4996\n",
      "Epoch 32/40\n",
      "13787/13787 [==============================] - 1s 65us/sample - loss: 0.6936 - accuracy: 0.5132 - val_loss: 0.6934 - val_accuracy: 0.4996\n",
      "Epoch 33/40\n",
      "13787/13787 [==============================] - 1s 66us/sample - loss: 0.6944 - accuracy: 0.5139 - val_loss: 0.6935 - val_accuracy: 0.4996\n",
      "Epoch 34/40\n",
      "13787/13787 [==============================] - 1s 67us/sample - loss: 0.6948 - accuracy: 0.4962 - val_loss: 0.6948 - val_accuracy: 0.4996\n",
      "Epoch 35/40\n",
      "13787/13787 [==============================] - 1s 66us/sample - loss: 0.6946 - accuracy: 0.4957 - val_loss: 0.6936 - val_accuracy: 0.5004\n",
      "Epoch 36/40\n",
      "13787/13787 [==============================] - 1s 67us/sample - loss: 0.6945 - accuracy: 0.5021 - val_loss: 0.6932 - val_accuracy: 0.4996\n",
      "Epoch 37/40\n",
      "13787/13787 [==============================] - 1s 65us/sample - loss: 0.6937 - accuracy: 0.5048 - val_loss: 0.6931 - val_accuracy: 0.4996\n",
      "Epoch 38/40\n",
      "13787/13787 [==============================] - 1s 66us/sample - loss: 0.6941 - accuracy: 0.5058 - val_loss: 0.6940 - val_accuracy: 0.4996\n",
      "Epoch 39/40\n",
      "13787/13787 [==============================] - 1s 67us/sample - loss: 0.6942 - accuracy: 0.4971 - val_loss: 0.6940 - val_accuracy: 0.5004\n",
      "Epoch 40/40\n",
      "13787/13787 [==============================] - 1s 64us/sample - loss: 0.6954 - accuracy: 0.4966 - val_loss: 0.6971 - val_accuracy: 0.5004\n",
      "Train on 13787 samples, validate on 3447 samples\n",
      "Epoch 1/40\n",
      "13787/13787 [==============================] - 1s 93us/sample - loss: 1.7746 - accuracy: 0.5118 - val_loss: 0.7041 - val_accuracy: 0.5086\n",
      "Epoch 2/40\n",
      "13787/13787 [==============================] - 1s 62us/sample - loss: 0.7202 - accuracy: 0.5098 - val_loss: 0.7506 - val_accuracy: 0.5004\n",
      "Epoch 3/40\n",
      "13787/13787 [==============================] - 1s 64us/sample - loss: 0.7104 - accuracy: 0.5052 - val_loss: 0.7444 - val_accuracy: 0.5065\n",
      "Epoch 4/40\n",
      "13787/13787 [==============================] - 1s 64us/sample - loss: 0.7229 - accuracy: 0.5018 - val_loss: 0.7216 - val_accuracy: 0.4996\n",
      "Epoch 5/40\n",
      "13787/13787 [==============================] - 1s 61us/sample - loss: 0.7148 - accuracy: 0.5037 - val_loss: 0.7264 - val_accuracy: 0.5025\n",
      "Epoch 6/40\n",
      "13787/13787 [==============================] - 1s 64us/sample - loss: 0.7461 - accuracy: 0.5129 - val_loss: 0.6967 - val_accuracy: 0.5013\n",
      "Epoch 7/40\n",
      "13787/13787 [==============================] - 1s 63us/sample - loss: 0.7169 - accuracy: 0.5155 - val_loss: 0.9230 - val_accuracy: 0.5004\n",
      "Epoch 8/40\n",
      "13787/13787 [==============================] - 1s 64us/sample - loss: 0.7056 - accuracy: 0.5024 - val_loss: 0.6933 - val_accuracy: 0.4996\n",
      "Epoch 9/40\n",
      "13787/13787 [==============================] - 1s 64us/sample - loss: 0.6932 - accuracy: 0.5008 - val_loss: 0.6935 - val_accuracy: 0.4996\n",
      "Epoch 10/40\n",
      "13787/13787 [==============================] - 1s 63us/sample - loss: 0.6932 - accuracy: 0.5050 - val_loss: 0.6933 - val_accuracy: 0.4996\n",
      "Epoch 11/40\n",
      "13787/13787 [==============================] - 1s 63us/sample - loss: 0.6932 - accuracy: 0.5016 - val_loss: 0.6932 - val_accuracy: 0.5004\n",
      "Epoch 12/40\n",
      "13787/13787 [==============================] - 1s 65us/sample - loss: 0.6934 - accuracy: 0.5032 - val_loss: 0.6937 - val_accuracy: 0.4996\n",
      "Epoch 13/40\n",
      "13787/13787 [==============================] - 1s 66us/sample - loss: 0.6935 - accuracy: 0.4990 - val_loss: 0.6932 - val_accuracy: 0.5004\n",
      "Epoch 14/40\n",
      "13787/13787 [==============================] - 1s 65us/sample - loss: 0.6934 - accuracy: 0.4951 - val_loss: 0.6932 - val_accuracy: 0.5004\n",
      "Epoch 15/40\n",
      "13787/13787 [==============================] - 1s 66us/sample - loss: 0.6934 - accuracy: 0.4930 - val_loss: 0.6934 - val_accuracy: 0.4996\n",
      "Epoch 16/40\n",
      "13787/13787 [==============================] - 1s 64us/sample - loss: 0.6933 - accuracy: 0.5012 - val_loss: 0.6933 - val_accuracy: 0.5004\n",
      "Epoch 17/40\n",
      "13787/13787 [==============================] - 1s 67us/sample - loss: 0.6934 - accuracy: 0.4945 - val_loss: 0.6932 - val_accuracy: 0.5004\n",
      "Epoch 18/40\n",
      "13787/13787 [==============================] - 1s 66us/sample - loss: 0.6934 - accuracy: 0.4969 - val_loss: 0.6931 - val_accuracy: 0.4996\n",
      "Epoch 19/40\n",
      "13787/13787 [==============================] - 1s 65us/sample - loss: 0.6934 - accuracy: 0.4972 - val_loss: 0.6933 - val_accuracy: 0.4996\n",
      "Epoch 20/40\n",
      "13787/13787 [==============================] - 1s 65us/sample - loss: 0.6933 - accuracy: 0.4939 - val_loss: 0.6935 - val_accuracy: 0.5004\n",
      "Epoch 21/40\n",
      "13787/13787 [==============================] - 1s 67us/sample - loss: 0.6933 - accuracy: 0.4982 - val_loss: 0.6934 - val_accuracy: 0.5004\n",
      "Epoch 22/40\n",
      "13787/13787 [==============================] - 1s 68us/sample - loss: 0.6933 - accuracy: 0.5048 - val_loss: 0.6942 - val_accuracy: 0.5004\n",
      "Epoch 23/40\n",
      "13787/13787 [==============================] - 1s 67us/sample - loss: 0.6935 - accuracy: 0.4934 - val_loss: 0.6932 - val_accuracy: 0.4996\n",
      "Epoch 24/40\n",
      "13787/13787 [==============================] - 1s 68us/sample - loss: 0.6934 - accuracy: 0.4972 - val_loss: 0.6933 - val_accuracy: 0.4996\n",
      "Epoch 25/40\n",
      "13787/13787 [==============================] - 1s 68us/sample - loss: 0.6933 - accuracy: 0.5035 - val_loss: 0.6946 - val_accuracy: 0.5004\n",
      "Epoch 26/40\n",
      "13787/13787 [==============================] - 1s 65us/sample - loss: 0.6935 - accuracy: 0.5003 - val_loss: 0.6931 - val_accuracy: 0.5004\n",
      "Epoch 27/40\n",
      "13787/13787 [==============================] - 1s 64us/sample - loss: 0.6936 - accuracy: 0.4942 - val_loss: 0.6932 - val_accuracy: 0.5004\n",
      "Epoch 28/40\n",
      "13787/13787 [==============================] - 1s 66us/sample - loss: 0.6934 - accuracy: 0.4959 - val_loss: 0.6934 - val_accuracy: 0.4996\n",
      "Epoch 29/40\n",
      "13787/13787 [==============================] - 1s 66us/sample - loss: 0.6934 - accuracy: 0.5028 - val_loss: 0.6945 - val_accuracy: 0.5004\n",
      "Epoch 30/40\n",
      "13787/13787 [==============================] - 1s 64us/sample - loss: 0.6935 - accuracy: 0.4983 - val_loss: 0.6932 - val_accuracy: 0.5004\n",
      "Epoch 31/40\n",
      "13787/13787 [==============================] - 1s 65us/sample - loss: 0.6937 - accuracy: 0.4979 - val_loss: 0.6933 - val_accuracy: 0.5004\n",
      "Epoch 32/40\n",
      "13787/13787 [==============================] - 1s 66us/sample - loss: 0.6934 - accuracy: 0.4986 - val_loss: 0.6938 - val_accuracy: 0.5004\n",
      "Epoch 33/40\n",
      "13787/13787 [==============================] - 1s 66us/sample - loss: 0.6935 - accuracy: 0.4996 - val_loss: 0.6932 - val_accuracy: 0.5004\n",
      "Epoch 34/40\n",
      "13787/13787 [==============================] - 1s 66us/sample - loss: 0.6936 - accuracy: 0.4921 - val_loss: 0.6932 - val_accuracy: 0.4996\n",
      "Epoch 35/40\n",
      "13787/13787 [==============================] - 1s 65us/sample - loss: 0.6935 - accuracy: 0.4979 - val_loss: 0.6934 - val_accuracy: 0.5004\n",
      "Epoch 36/40\n",
      "13787/13787 [==============================] - 1s 65us/sample - loss: 0.6935 - accuracy: 0.4963 - val_loss: 0.6932 - val_accuracy: 0.5004\n",
      "Epoch 37/40\n",
      "13787/13787 [==============================] - 1s 66us/sample - loss: 0.6934 - accuracy: 0.4894 - val_loss: 0.6933 - val_accuracy: 0.5004\n",
      "Epoch 38/40\n",
      "13787/13787 [==============================] - 1s 63us/sample - loss: 0.6934 - accuracy: 0.5007 - val_loss: 0.6933 - val_accuracy: 0.4996\n",
      "Epoch 39/40\n",
      "13787/13787 [==============================] - 1s 66us/sample - loss: 0.6934 - accuracy: 0.4928 - val_loss: 0.6932 - val_accuracy: 0.5004\n",
      "Epoch 40/40\n",
      "13787/13787 [==============================] - 1s 68us/sample - loss: 0.6935 - accuracy: 0.4974 - val_loss: 0.6932 - val_accuracy: 0.4996\n",
      "Train on 13787 samples, validate on 3447 samples\n",
      "Epoch 1/40\n",
      "13787/13787 [==============================] - 1s 94us/sample - loss: 5.0265 - accuracy: 0.5081 - val_loss: 2.0126 - val_accuracy: 0.5173\n",
      "Epoch 2/40\n",
      "13787/13787 [==============================] - 1s 65us/sample - loss: 1.6191 - accuracy: 0.5234 - val_loss: 1.3280 - val_accuracy: 0.5234\n",
      "Epoch 3/40\n",
      "13787/13787 [==============================] - 1s 65us/sample - loss: 1.1748 - accuracy: 0.5310 - val_loss: 1.0484 - val_accuracy: 0.5297\n",
      "Epoch 4/40\n",
      "13787/13787 [==============================] - 1s 66us/sample - loss: 0.9472 - accuracy: 0.5349 - val_loss: 0.9628 - val_accuracy: 0.5315\n",
      "Epoch 5/40\n",
      "13787/13787 [==============================] - 1s 66us/sample - loss: 0.8224 - accuracy: 0.5469 - val_loss: 0.7718 - val_accuracy: 0.5471\n",
      "Epoch 6/40\n",
      "13787/13787 [==============================] - 1s 67us/sample - loss: 0.7533 - accuracy: 0.5537 - val_loss: 0.7937 - val_accuracy: 0.5393\n",
      "Epoch 7/40\n",
      "13787/13787 [==============================] - 1s 64us/sample - loss: 0.7188 - accuracy: 0.5614 - val_loss: 0.6959 - val_accuracy: 0.5698\n",
      "Epoch 8/40\n",
      "13787/13787 [==============================] - 1s 65us/sample - loss: 0.6981 - accuracy: 0.5744 - val_loss: 0.7433 - val_accuracy: 0.5527\n",
      "Epoch 9/40\n",
      "13787/13787 [==============================] - 1s 65us/sample - loss: 0.6936 - accuracy: 0.5715 - val_loss: 0.6692 - val_accuracy: 0.5953\n",
      "Epoch 10/40\n",
      "13787/13787 [==============================] - 1s 63us/sample - loss: 0.6859 - accuracy: 0.5815 - val_loss: 0.6684 - val_accuracy: 0.5866\n",
      "Epoch 11/40\n",
      "13787/13787 [==============================] - 1s 65us/sample - loss: 0.6704 - accuracy: 0.5926 - val_loss: 0.6837 - val_accuracy: 0.5825\n",
      "Epoch 12/40\n",
      "13787/13787 [==============================] - 1s 65us/sample - loss: 0.6640 - accuracy: 0.5977 - val_loss: 0.7316 - val_accuracy: 0.5332\n",
      "Epoch 13/40\n",
      "13787/13787 [==============================] - 1s 63us/sample - loss: 0.6688 - accuracy: 0.5911 - val_loss: 0.6639 - val_accuracy: 0.6049\n",
      "Epoch 14/40\n",
      "13787/13787 [==============================] - 1s 66us/sample - loss: 0.6588 - accuracy: 0.6017 - val_loss: 0.6480 - val_accuracy: 0.6287\n",
      "Epoch 15/40\n",
      "13787/13787 [==============================] - 1s 64us/sample - loss: 0.6542 - accuracy: 0.6121 - val_loss: 0.6460 - val_accuracy: 0.6324\n",
      "Epoch 16/40\n",
      "13787/13787 [==============================] - 1s 63us/sample - loss: 0.6673 - accuracy: 0.6005 - val_loss: 0.7129 - val_accuracy: 0.5300\n",
      "Epoch 17/40\n",
      "13787/13787 [==============================] - 1s 65us/sample - loss: 0.6545 - accuracy: 0.6175 - val_loss: 0.6421 - val_accuracy: 0.6368\n",
      "Epoch 18/40\n",
      "13787/13787 [==============================] - 1s 66us/sample - loss: 0.6603 - accuracy: 0.6064 - val_loss: 0.6435 - val_accuracy: 0.6429\n",
      "Epoch 19/40\n",
      "13787/13787 [==============================] - 1s 65us/sample - loss: 0.6450 - accuracy: 0.6223 - val_loss: 0.6444 - val_accuracy: 0.6156\n",
      "Epoch 20/40\n",
      "13787/13787 [==============================] - 1s 66us/sample - loss: 0.6418 - accuracy: 0.6310 - val_loss: 0.6481 - val_accuracy: 0.6313\n",
      "Epoch 21/40\n",
      "13787/13787 [==============================] - 1s 66us/sample - loss: 0.6415 - accuracy: 0.6318 - val_loss: 0.6464 - val_accuracy: 0.6084\n",
      "Epoch 22/40\n",
      "13787/13787 [==============================] - 1s 66us/sample - loss: 0.6400 - accuracy: 0.6256 - val_loss: 0.6322 - val_accuracy: 0.6440\n",
      "Epoch 23/40\n",
      "13787/13787 [==============================] - 1s 66us/sample - loss: 0.6374 - accuracy: 0.6384 - val_loss: 0.6820 - val_accuracy: 0.5822\n",
      "Epoch 24/40\n",
      "13787/13787 [==============================] - 1s 67us/sample - loss: 0.6376 - accuracy: 0.6363 - val_loss: 0.6582 - val_accuracy: 0.6127\n",
      "Epoch 25/40\n",
      "13787/13787 [==============================] - 1s 69us/sample - loss: 0.6449 - accuracy: 0.6194 - val_loss: 0.6433 - val_accuracy: 0.6084\n",
      "Epoch 26/40\n",
      "13787/13787 [==============================] - 1s 68us/sample - loss: 0.6390 - accuracy: 0.6381 - val_loss: 0.6453 - val_accuracy: 0.6043\n",
      "Epoch 27/40\n",
      "13787/13787 [==============================] - 1s 64us/sample - loss: 0.6281 - accuracy: 0.6427 - val_loss: 0.6524 - val_accuracy: 0.6214\n",
      "Epoch 28/40\n",
      "13787/13787 [==============================] - 1s 65us/sample - loss: 0.6367 - accuracy: 0.6364 - val_loss: 0.7125 - val_accuracy: 0.5663\n",
      "Epoch 29/40\n"
     ]
    },
    {
     "name": "stdout",
     "output_type": "stream",
     "text": [
      "13787/13787 [==============================] - 1s 65us/sample - loss: 0.6325 - accuracy: 0.6384 - val_loss: 0.6311 - val_accuracy: 0.6330\n",
      "Epoch 30/40\n",
      "13787/13787 [==============================] - 1s 67us/sample - loss: 0.6334 - accuracy: 0.6413 - val_loss: 0.6478 - val_accuracy: 0.6040\n",
      "Epoch 31/40\n",
      "13787/13787 [==============================] - 1s 67us/sample - loss: 0.6274 - accuracy: 0.6455 - val_loss: 0.6348 - val_accuracy: 0.6403\n",
      "Epoch 32/40\n",
      "13787/13787 [==============================] - 1s 68us/sample - loss: 0.6256 - accuracy: 0.6458 - val_loss: 0.6247 - val_accuracy: 0.6446\n",
      "Epoch 33/40\n",
      "13787/13787 [==============================] - 1s 67us/sample - loss: 0.6290 - accuracy: 0.6465 - val_loss: 0.6225 - val_accuracy: 0.6562\n",
      "Epoch 34/40\n",
      "13787/13787 [==============================] - 1s 66us/sample - loss: 0.6313 - accuracy: 0.6414 - val_loss: 0.6242 - val_accuracy: 0.6542\n",
      "Epoch 35/40\n",
      "13787/13787 [==============================] - 1s 65us/sample - loss: 0.6262 - accuracy: 0.6439 - val_loss: 0.6227 - val_accuracy: 0.6545\n",
      "Epoch 36/40\n",
      "13787/13787 [==============================] - 1s 66us/sample - loss: 0.6274 - accuracy: 0.6446 - val_loss: 0.6564 - val_accuracy: 0.6173\n",
      "Epoch 37/40\n",
      "13787/13787 [==============================] - 1s 68us/sample - loss: 0.6236 - accuracy: 0.6487 - val_loss: 0.6388 - val_accuracy: 0.6388\n",
      "Epoch 38/40\n",
      "13787/13787 [==============================] - 1s 67us/sample - loss: 0.6317 - accuracy: 0.6415 - val_loss: 0.6470 - val_accuracy: 0.6304\n",
      "Epoch 39/40\n",
      "13787/13787 [==============================] - 1s 66us/sample - loss: 0.6243 - accuracy: 0.6532 - val_loss: 0.6264 - val_accuracy: 0.6385\n",
      "Epoch 40/40\n",
      "13787/13787 [==============================] - 1s 68us/sample - loss: 0.6226 - accuracy: 0.6513 - val_loss: 0.7168 - val_accuracy: 0.5767\n",
      "Train on 13787 samples, validate on 3447 samples\n",
      "Epoch 1/40\n",
      "13787/13787 [==============================] - 1s 99us/sample - loss: 47.3406 - accuracy: 0.4999 - val_loss: 14.9912 - val_accuracy: 0.5004\n",
      "Epoch 2/40\n",
      "13787/13787 [==============================] - 1s 65us/sample - loss: 6.8287 - accuracy: 0.5005 - val_loss: 1.0709 - val_accuracy: 0.5080\n",
      "Epoch 3/40\n",
      "13787/13787 [==============================] - 1s 65us/sample - loss: 0.7640 - accuracy: 0.5061 - val_loss: 0.7121 - val_accuracy: 0.5091\n",
      "Epoch 4/40\n",
      "13787/13787 [==============================] - 1s 65us/sample - loss: 0.7020 - accuracy: 0.5025 - val_loss: 0.7031 - val_accuracy: 0.5013\n",
      "Epoch 5/40\n",
      "13787/13787 [==============================] - 1s 65us/sample - loss: 0.6965 - accuracy: 0.5032 - val_loss: 0.6997 - val_accuracy: 0.5007\n",
      "Epoch 6/40\n",
      "13787/13787 [==============================] - 1s 67us/sample - loss: 0.6949 - accuracy: 0.5040 - val_loss: 0.6982 - val_accuracy: 0.4996\n",
      "Epoch 7/40\n",
      "13787/13787 [==============================] - 1s 68us/sample - loss: 0.6940 - accuracy: 0.5037 - val_loss: 0.6974 - val_accuracy: 0.4993\n",
      "Epoch 8/40\n",
      "13787/13787 [==============================] - 1s 68us/sample - loss: 0.6937 - accuracy: 0.5039 - val_loss: 0.6969 - val_accuracy: 0.5001\n",
      "Epoch 9/40\n",
      "13787/13787 [==============================] - 1s 67us/sample - loss: 0.6935 - accuracy: 0.5026 - val_loss: 0.6966 - val_accuracy: 0.4993\n",
      "Epoch 10/40\n",
      "13787/13787 [==============================] - 1s 67us/sample - loss: 0.6934 - accuracy: 0.5024 - val_loss: 0.6961 - val_accuracy: 0.4981\n",
      "Epoch 11/40\n",
      "13787/13787 [==============================] - 1s 65us/sample - loss: 0.6932 - accuracy: 0.5026 - val_loss: 0.6959 - val_accuracy: 0.4978\n",
      "Epoch 12/40\n",
      "13787/13787 [==============================] - 1s 66us/sample - loss: 0.6932 - accuracy: 0.5028 - val_loss: 0.6957 - val_accuracy: 0.4975\n",
      "Epoch 13/40\n",
      "13787/13787 [==============================] - 1s 67us/sample - loss: 0.6931 - accuracy: 0.5015 - val_loss: 0.6953 - val_accuracy: 0.4981\n",
      "Epoch 14/40\n",
      "13787/13787 [==============================] - 1s 69us/sample - loss: 0.6931 - accuracy: 0.5020 - val_loss: 0.6951 - val_accuracy: 0.4984\n",
      "Epoch 15/40\n",
      "13787/13787 [==============================] - 1s 68us/sample - loss: 0.6931 - accuracy: 0.5019 - val_loss: 0.6950 - val_accuracy: 0.4993\n",
      "Epoch 16/40\n",
      "13787/13787 [==============================] - 1s 69us/sample - loss: 0.6930 - accuracy: 0.5021 - val_loss: 0.6950 - val_accuracy: 0.4996\n",
      "Epoch 17/40\n",
      "13787/13787 [==============================] - 1s 65us/sample - loss: 0.6930 - accuracy: 0.5023 - val_loss: 0.6950 - val_accuracy: 0.4993\n",
      "Epoch 18/40\n",
      "13787/13787 [==============================] - 1s 66us/sample - loss: 0.6931 - accuracy: 0.5021 - val_loss: 0.6949 - val_accuracy: 0.4993\n",
      "Epoch 19/40\n",
      "13787/13787 [==============================] - 1s 64us/sample - loss: 0.6930 - accuracy: 0.5020 - val_loss: 0.6948 - val_accuracy: 0.5001\n",
      "Epoch 20/40\n",
      "13787/13787 [==============================] - 1s 68us/sample - loss: 0.6930 - accuracy: 0.5017 - val_loss: 0.6948 - val_accuracy: 0.4999\n",
      "Epoch 21/40\n",
      "13787/13787 [==============================] - 1s 66us/sample - loss: 0.6930 - accuracy: 0.5018 - val_loss: 0.6948 - val_accuracy: 0.4993\n",
      "Epoch 22/40\n",
      "13787/13787 [==============================] - 1s 63us/sample - loss: 0.6930 - accuracy: 0.5024 - val_loss: 0.6949 - val_accuracy: 0.4996\n",
      "Epoch 23/40\n",
      "13787/13787 [==============================] - 1s 67us/sample - loss: 0.6931 - accuracy: 0.5026 - val_loss: 0.6952 - val_accuracy: 0.4990\n",
      "Epoch 24/40\n",
      "13787/13787 [==============================] - 1s 65us/sample - loss: 0.6930 - accuracy: 0.5020 - val_loss: 0.6950 - val_accuracy: 0.4993\n",
      "Epoch 25/40\n",
      "13787/13787 [==============================] - 1s 65us/sample - loss: 0.6931 - accuracy: 0.5030 - val_loss: 0.6948 - val_accuracy: 0.4990\n",
      "Epoch 26/40\n",
      "13787/13787 [==============================] - 1s 65us/sample - loss: 0.6931 - accuracy: 0.5021 - val_loss: 0.6948 - val_accuracy: 0.4990\n",
      "Epoch 27/40\n",
      "13787/13787 [==============================] - 1s 65us/sample - loss: 0.6929 - accuracy: 0.5025 - val_loss: 0.6949 - val_accuracy: 0.5028\n",
      "Epoch 28/40\n",
      "13787/13787 [==============================] - 1s 65us/sample - loss: 0.6930 - accuracy: 0.5024 - val_loss: 0.6952 - val_accuracy: 0.4990\n",
      "Epoch 29/40\n",
      "13787/13787 [==============================] - 1s 66us/sample - loss: 0.6930 - accuracy: 0.5008 - val_loss: 0.6946 - val_accuracy: 0.4999\n",
      "Epoch 30/40\n",
      "13787/13787 [==============================] - 1s 65us/sample - loss: 0.6930 - accuracy: 0.5009 - val_loss: 0.6942 - val_accuracy: 0.5013\n",
      "Epoch 31/40\n",
      "13787/13787 [==============================] - 1s 67us/sample - loss: 0.6930 - accuracy: 0.5007 - val_loss: 0.6943 - val_accuracy: 0.4996\n",
      "Epoch 32/40\n",
      "13787/13787 [==============================] - 1s 66us/sample - loss: 0.6930 - accuracy: 0.5013 - val_loss: 0.6945 - val_accuracy: 0.4996\n",
      "Epoch 33/40\n",
      "13787/13787 [==============================] - 1s 67us/sample - loss: 0.6931 - accuracy: 0.5009 - val_loss: 0.6942 - val_accuracy: 0.4996\n",
      "Epoch 34/40\n",
      "13787/13787 [==============================] - 1s 65us/sample - loss: 0.6930 - accuracy: 0.5011 - val_loss: 0.6943 - val_accuracy: 0.5001\n",
      "Epoch 35/40\n",
      "13787/13787 [==============================] - 1s 65us/sample - loss: 0.6930 - accuracy: 0.5011 - val_loss: 0.6944 - val_accuracy: 0.5001\n",
      "Epoch 36/40\n",
      "13787/13787 [==============================] - 1s 66us/sample - loss: 0.6932 - accuracy: 0.5014 - val_loss: 0.6941 - val_accuracy: 0.5007\n",
      "Epoch 37/40\n",
      "13787/13787 [==============================] - 1s 67us/sample - loss: 0.6930 - accuracy: 0.5011 - val_loss: 0.6939 - val_accuracy: 0.4993\n",
      "Epoch 38/40\n",
      "13787/13787 [==============================] - 1s 66us/sample - loss: 0.6931 - accuracy: 0.5007 - val_loss: 0.6941 - val_accuracy: 0.4999\n",
      "Epoch 39/40\n",
      "13787/13787 [==============================] - 1s 67us/sample - loss: 0.6931 - accuracy: 0.5008 - val_loss: 0.6942 - val_accuracy: 0.4996\n",
      "Epoch 40/40\n",
      "13787/13787 [==============================] - 1s 69us/sample - loss: 0.6930 - accuracy: 0.5024 - val_loss: 0.6938 - val_accuracy: 0.4999\n",
      "Train on 13787 samples, validate on 3447 samples\n",
      "Epoch 1/40\n",
      "13787/13787 [==============================] - 2s 113us/sample - loss: 4.7692 - accuracy: 0.5095 - val_loss: 4.6531 - val_accuracy: 0.4958\n",
      "Epoch 2/40\n",
      "13787/13787 [==============================] - 1s 66us/sample - loss: 4.4165 - accuracy: 0.5100 - val_loss: 4.5725 - val_accuracy: 0.4961\n",
      "Epoch 3/40\n",
      "13787/13787 [==============================] - 1s 65us/sample - loss: 4.3439 - accuracy: 0.5102 - val_loss: 4.4938 - val_accuracy: 0.4949\n",
      "Epoch 4/40\n",
      "13787/13787 [==============================] - 1s 67us/sample - loss: 4.2700 - accuracy: 0.5104 - val_loss: 4.4280 - val_accuracy: 0.4929\n",
      "Epoch 5/40\n",
      "13787/13787 [==============================] - 1s 66us/sample - loss: 4.2036 - accuracy: 0.5093 - val_loss: 4.3487 - val_accuracy: 0.4952\n",
      "Epoch 6/40\n",
      "13787/13787 [==============================] - 1s 67us/sample - loss: 4.1364 - accuracy: 0.5094 - val_loss: 4.2821 - val_accuracy: 0.4949\n",
      "Epoch 7/40\n",
      "13787/13787 [==============================] - 1s 66us/sample - loss: 4.0693 - accuracy: 0.5094 - val_loss: 4.2316 - val_accuracy: 0.4949\n",
      "Epoch 8/40\n",
      "13787/13787 [==============================] - 1s 66us/sample - loss: 4.0072 - accuracy: 0.5129 - val_loss: 4.1651 - val_accuracy: 0.4990\n",
      "Epoch 9/40\n",
      "13787/13787 [==============================] - 1s 64us/sample - loss: 3.9461 - accuracy: 0.5123 - val_loss: 4.0910 - val_accuracy: 0.5025\n",
      "Epoch 10/40\n",
      "13787/13787 [==============================] - 1s 63us/sample - loss: 3.8869 - accuracy: 0.5126 - val_loss: 4.0478 - val_accuracy: 0.4955\n",
      "Epoch 11/40\n",
      "13787/13787 [==============================] - 1s 65us/sample - loss: 3.8307 - accuracy: 0.5119 - val_loss: 3.9871 - val_accuracy: 0.5022\n",
      "Epoch 12/40\n",
      "13787/13787 [==============================] - 1s 67us/sample - loss: 3.7719 - accuracy: 0.5141 - val_loss: 3.9184 - val_accuracy: 0.5016\n",
      "Epoch 13/40\n",
      "13787/13787 [==============================] - 1s 66us/sample - loss: 3.7197 - accuracy: 0.5135 - val_loss: 3.8638 - val_accuracy: 0.5036\n",
      "Epoch 14/40\n",
      "13787/13787 [==============================] - 1s 67us/sample - loss: 3.6644 - accuracy: 0.5133 - val_loss: 3.8278 - val_accuracy: 0.5025\n",
      "Epoch 15/40\n",
      "13787/13787 [==============================] - 1s 66us/sample - loss: 3.6127 - accuracy: 0.5134 - val_loss: 3.7585 - val_accuracy: 0.5042\n",
      "Epoch 16/40\n",
      "13787/13787 [==============================] - 1s 66us/sample - loss: 3.5618 - accuracy: 0.5155 - val_loss: 3.7150 - val_accuracy: 0.5039\n",
      "Epoch 17/40\n",
      "13787/13787 [==============================] - 1s 67us/sample - loss: 3.5124 - accuracy: 0.5154 - val_loss: 3.6564 - val_accuracy: 0.5059\n",
      "Epoch 18/40\n",
      "13787/13787 [==============================] - 1s 64us/sample - loss: 3.4631 - accuracy: 0.5168 - val_loss: 3.6094 - val_accuracy: 0.5057\n",
      "Epoch 19/40\n",
      "13787/13787 [==============================] - 1s 65us/sample - loss: 3.4153 - accuracy: 0.5172 - val_loss: 3.5609 - val_accuracy: 0.5068\n",
      "Epoch 20/40\n",
      "13787/13787 [==============================] - 1s 67us/sample - loss: 3.3685 - accuracy: 0.5163 - val_loss: 3.5137 - val_accuracy: 0.5059\n",
      "Epoch 21/40\n",
      "13787/13787 [==============================] - 1s 66us/sample - loss: 3.3248 - accuracy: 0.5190 - val_loss: 3.4702 - val_accuracy: 0.5094\n",
      "Epoch 22/40\n",
      "13787/13787 [==============================] - 1s 68us/sample - loss: 3.2794 - accuracy: 0.5185 - val_loss: 3.4213 - val_accuracy: 0.5083\n",
      "Epoch 23/40\n",
      "13787/13787 [==============================] - 1s 67us/sample - loss: 3.2355 - accuracy: 0.5187 - val_loss: 3.3807 - val_accuracy: 0.5065\n",
      "Epoch 24/40\n",
      "13787/13787 [==============================] - 1s 66us/sample - loss: 3.1936 - accuracy: 0.5190 - val_loss: 3.3335 - val_accuracy: 0.5088\n",
      "Epoch 25/40\n",
      "13787/13787 [==============================] - 1s 66us/sample - loss: 3.1510 - accuracy: 0.5202 - val_loss: 3.2952 - val_accuracy: 0.5117\n",
      "Epoch 26/40\n",
      "13787/13787 [==============================] - 1s 66us/sample - loss: 3.1113 - accuracy: 0.5198 - val_loss: 3.2542 - val_accuracy: 0.5129\n",
      "Epoch 27/40\n",
      "13787/13787 [==============================] - 1s 66us/sample - loss: 3.0725 - accuracy: 0.5199 - val_loss: 3.2115 - val_accuracy: 0.5117\n",
      "Epoch 28/40\n",
      "13787/13787 [==============================] - 1s 68us/sample - loss: 3.0331 - accuracy: 0.5219 - val_loss: 3.1699 - val_accuracy: 0.5141\n",
      "Epoch 29/40\n",
      "13787/13787 [==============================] - 1s 69us/sample - loss: 2.9925 - accuracy: 0.5217 - val_loss: 3.1297 - val_accuracy: 0.5141\n",
      "Epoch 30/40\n",
      "13787/13787 [==============================] - 1s 69us/sample - loss: 2.9556 - accuracy: 0.5232 - val_loss: 3.0923 - val_accuracy: 0.5147\n",
      "Epoch 31/40\n",
      "13787/13787 [==============================] - 1s 67us/sample - loss: 2.9186 - accuracy: 0.5218 - val_loss: 3.0529 - val_accuracy: 0.5161\n",
      "Epoch 32/40\n",
      "13787/13787 [==============================] - 1s 67us/sample - loss: 2.8802 - accuracy: 0.5238 - val_loss: 3.0245 - val_accuracy: 0.5135\n",
      "Epoch 33/40\n",
      "13787/13787 [==============================] - 1s 68us/sample - loss: 2.8449 - accuracy: 0.5226 - val_loss: 2.9807 - val_accuracy: 0.5164\n",
      "Epoch 34/40\n",
      "13787/13787 [==============================] - 1s 68us/sample - loss: 2.8072 - accuracy: 0.5255 - val_loss: 2.9394 - val_accuracy: 0.5196\n",
      "Epoch 35/40\n",
      "13787/13787 [==============================] - 1s 69us/sample - loss: 2.7724 - accuracy: 0.5261 - val_loss: 2.9030 - val_accuracy: 0.5190\n",
      "Epoch 36/40\n",
      "13787/13787 [==============================] - 1s 66us/sample - loss: 2.7372 - accuracy: 0.5280 - val_loss: 2.8653 - val_accuracy: 0.5190\n",
      "Epoch 37/40\n",
      "13787/13787 [==============================] - 1s 67us/sample - loss: 2.7028 - accuracy: 0.5274 - val_loss: 2.8293 - val_accuracy: 0.5216\n",
      "Epoch 38/40\n",
      "13787/13787 [==============================] - 1s 70us/sample - loss: 2.6639 - accuracy: 0.5283 - val_loss: 2.7894 - val_accuracy: 0.5207\n",
      "Epoch 39/40\n",
      "13787/13787 [==============================] - 1s 66us/sample - loss: 2.6249 - accuracy: 0.5294 - val_loss: 2.7485 - val_accuracy: 0.5228\n",
      "Epoch 40/40\n",
      "13787/13787 [==============================] - 1s 65us/sample - loss: 2.5858 - accuracy: 0.5309 - val_loss: 2.6996 - val_accuracy: 0.5222\n"
     ]
    }
   ],
   "source": [
    "from tensorflow.keras.optimizers import Adam\n",
    "lr_histories = []\n",
    "for lr in [1e-1, 1e-2, 1e-3, 1e-4, 1e-5]:\n",
    "    model = Sequential()\n",
    "    model.add(Dense(12, input_dim=300, activation='relu'))\n",
    "    model.add(Dense(8, activation='relu'))\n",
    "    model.add(Dense(1, activation='sigmoid'))\n",
    "    ad = Adam(learning_rate=lr, beta_1=0.9, beta_2=0.999, amsgrad=False)\n",
    "    model.compile(loss='binary_crossentropy', optimizer=ad, metrics=['accuracy'])\n",
    "    history = model.fit(X, y, epochs=40, batch_size=64, validation_split=0.2)\n",
    "    lr_histories.append(history.history)"
   ]
  },
  {
   "cell_type": "code",
   "execution_count": 17,
   "metadata": {},
   "outputs": [
    {
     "data": {
      "text/plain": [
       "[<matplotlib.lines.Line2D at 0x7f6fc5a601d0>]"
      ]
     },
     "execution_count": 17,
     "metadata": {},
     "output_type": "execute_result"
    },
    {
     "data": {
      "image/png": "[encoded data removed]",
      "text/plain": [
       "<Figure size 432x288 with 1 Axes>"
      ]
     },
     "metadata": {},
     "output_type": "display_data"
    }
   ],
   "source": [
    "maxs = [max(h['accuracy']) for h in lr_histories]\n",
    "plt.plot(maxs)"
   ]
  },
  {
   "cell_type": "markdown",
   "metadata": {},
   "source": [
    "### Now train the model at the identified learning rate for 100 epochs\n",
    "\n",
    "Then plot the training history of this run - again taken from the `history.history` dictionary."
   ]
  },
  {
   "cell_type": "code",
   "execution_count": 19,
   "metadata": {},
   "outputs": [
    {
     "name": "stdout",
     "output_type": "stream",
     "text": [
      "Train on 13787 samples, validate on 3447 samples\n",
      "Epoch 1/100\n",
      "13787/13787 [==============================] - 1s 97us/sample - loss: 1.5020 - accuracy: 0.5015 - val_loss: 0.6952 - val_accuracy: 0.5004\n",
      "Epoch 2/100\n",
      "13787/13787 [==============================] - 1s 66us/sample - loss: 0.6945 - accuracy: 0.5076 - val_loss: 0.6954 - val_accuracy: 0.5004\n",
      "Epoch 3/100\n",
      "13787/13787 [==============================] - 1s 68us/sample - loss: 0.6940 - accuracy: 0.5120 - val_loss: 0.6951 - val_accuracy: 0.4990\n",
      "Epoch 4/100\n",
      "13787/13787 [==============================] - 1s 65us/sample - loss: 0.6949 - accuracy: 0.5019 - val_loss: 0.6949 - val_accuracy: 0.4990\n",
      "Epoch 5/100\n",
      "13787/13787 [==============================] - 1s 65us/sample - loss: 0.6944 - accuracy: 0.5027 - val_loss: 0.6943 - val_accuracy: 0.4990\n",
      "Epoch 6/100\n",
      "13787/13787 [==============================] - 1s 64us/sample - loss: 0.6944 - accuracy: 0.4936 - val_loss: 0.7044 - val_accuracy: 0.5004\n",
      "Epoch 7/100\n",
      "13787/13787 [==============================] - 1s 65us/sample - loss: 0.6944 - accuracy: 0.5026 - val_loss: 0.6943 - val_accuracy: 0.5004\n",
      "Epoch 8/100\n",
      "13787/13787 [==============================] - 1s 68us/sample - loss: 0.6941 - accuracy: 0.4987 - val_loss: 0.6952 - val_accuracy: 0.5004\n",
      "Epoch 9/100\n",
      "13787/13787 [==============================] - 1s 68us/sample - loss: 0.6949 - accuracy: 0.4919 - val_loss: 0.6938 - val_accuracy: 0.4993\n",
      "Epoch 10/100\n",
      "13787/13787 [==============================] - 1s 67us/sample - loss: 0.6941 - accuracy: 0.4979 - val_loss: 0.6952 - val_accuracy: 0.5004\n",
      "Epoch 11/100\n",
      "13787/13787 [==============================] - 1s 67us/sample - loss: 0.6941 - accuracy: 0.4915 - val_loss: 0.6957 - val_accuracy: 0.5004\n",
      "Epoch 12/100\n",
      "13787/13787 [==============================] - 1s 66us/sample - loss: 0.6938 - accuracy: 0.5016 - val_loss: 0.6943 - val_accuracy: 0.5004\n",
      "Epoch 13/100\n",
      "13787/13787 [==============================] - 1s 66us/sample - loss: 0.6936 - accuracy: 0.4997 - val_loss: 0.6951 - val_accuracy: 0.4996\n",
      "Epoch 14/100\n",
      "13787/13787 [==============================] - 1s 65us/sample - loss: 0.6933 - accuracy: 0.4979 - val_loss: 0.6931 - val_accuracy: 0.5007\n",
      "Epoch 15/100\n",
      "13787/13787 [==============================] - 1s 65us/sample - loss: 0.6931 - accuracy: 0.5079 - val_loss: 0.6929 - val_accuracy: 0.5025\n",
      "Epoch 16/100\n",
      "13787/13787 [==============================] - 1s 65us/sample - loss: 0.6928 - accuracy: 0.5119 - val_loss: 0.6930 - val_accuracy: 0.4984\n",
      "Epoch 17/100\n",
      "13787/13787 [==============================] - 1s 66us/sample - loss: 0.6926 - accuracy: 0.5162 - val_loss: 0.6932 - val_accuracy: 0.5033\n",
      "Epoch 18/100\n",
      "13787/13787 [==============================] - 1s 66us/sample - loss: 0.6923 - accuracy: 0.5184 - val_loss: 0.6933 - val_accuracy: 0.5074\n",
      "Epoch 19/100\n",
      "13787/13787 [==============================] - 1s 65us/sample - loss: 0.6922 - accuracy: 0.5216 - val_loss: 0.6939 - val_accuracy: 0.5178\n",
      "Epoch 20/100\n",
      "13787/13787 [==============================] - 1s 68us/sample - loss: 0.6927 - accuracy: 0.5184 - val_loss: 0.6920 - val_accuracy: 0.5222\n",
      "Epoch 21/100\n",
      "13787/13787 [==============================] - 1s 65us/sample - loss: 0.6922 - accuracy: 0.5182 - val_loss: 0.6940 - val_accuracy: 0.5028\n",
      "Epoch 22/100\n",
      "13787/13787 [==============================] - 1s 66us/sample - loss: 0.6916 - accuracy: 0.5227 - val_loss: 0.6927 - val_accuracy: 0.5051\n",
      "Epoch 23/100\n",
      "13787/13787 [==============================] - 1s 69us/sample - loss: 0.6917 - accuracy: 0.5232 - val_loss: 0.6916 - val_accuracy: 0.5219\n",
      "Epoch 24/100\n",
      "13787/13787 [==============================] - 1s 65us/sample - loss: 0.6912 - accuracy: 0.5304 - val_loss: 0.6917 - val_accuracy: 0.5141\n",
      "Epoch 25/100\n",
      "13787/13787 [==============================] - 1s 66us/sample - loss: 0.6903 - accuracy: 0.5350 - val_loss: 0.6913 - val_accuracy: 0.5257\n",
      "Epoch 26/100\n",
      "13787/13787 [==============================] - 1s 67us/sample - loss: 0.6903 - accuracy: 0.5331 - val_loss: 0.6899 - val_accuracy: 0.5413\n",
      "Epoch 27/100\n",
      "13787/13787 [==============================] - 1s 69us/sample - loss: 0.6901 - accuracy: 0.5308 - val_loss: 0.6908 - val_accuracy: 0.5207\n",
      "Epoch 28/100\n",
      "13787/13787 [==============================] - 1s 68us/sample - loss: 0.6886 - accuracy: 0.5399 - val_loss: 0.6887 - val_accuracy: 0.5448\n",
      "Epoch 29/100\n",
      "13787/13787 [==============================] - 1s 66us/sample - loss: 0.6904 - accuracy: 0.5304 - val_loss: 0.6881 - val_accuracy: 0.5509\n",
      "Epoch 30/100\n",
      "13787/13787 [==============================] - 1s 66us/sample - loss: 0.6888 - accuracy: 0.5441 - val_loss: 0.6920 - val_accuracy: 0.5257\n",
      "Epoch 31/100\n",
      "13787/13787 [==============================] - 1s 70us/sample - loss: 0.6883 - accuracy: 0.5473 - val_loss: 0.6877 - val_accuracy: 0.5463\n",
      "Epoch 32/100\n",
      "13787/13787 [==============================] - 1s 69us/sample - loss: 0.6861 - accuracy: 0.5484 - val_loss: 0.6878 - val_accuracy: 0.5442\n",
      "Epoch 33/100\n",
      "13787/13787 [==============================] - 1s 66us/sample - loss: 0.6878 - accuracy: 0.5450 - val_loss: 0.6861 - val_accuracy: 0.5538\n",
      "Epoch 34/100\n",
      "13787/13787 [==============================] - 1s 64us/sample - loss: 0.6845 - accuracy: 0.5549 - val_loss: 0.6850 - val_accuracy: 0.5538\n",
      "Epoch 35/100\n",
      "13787/13787 [==============================] - 1s 67us/sample - loss: 0.6837 - accuracy: 0.5576 - val_loss: 0.6824 - val_accuracy: 0.5625\n",
      "Epoch 36/100\n",
      "13787/13787 [==============================] - 1s 66us/sample - loss: 0.6834 - accuracy: 0.5615 - val_loss: 0.6796 - val_accuracy: 0.5689\n",
      "Epoch 37/100\n",
      "13787/13787 [==============================] - 1s 66us/sample - loss: 0.6789 - accuracy: 0.5739 - val_loss: 0.6780 - val_accuracy: 0.5686\n",
      "Epoch 38/100\n",
      "13787/13787 [==============================] - 1s 66us/sample - loss: 0.6766 - accuracy: 0.5749 - val_loss: 0.6747 - val_accuracy: 0.5753\n",
      "Epoch 39/100\n",
      "13787/13787 [==============================] - 1s 67us/sample - loss: 0.6713 - accuracy: 0.5846 - val_loss: 0.6774 - val_accuracy: 0.5718\n",
      "Epoch 40/100\n",
      "13787/13787 [==============================] - 1s 65us/sample - loss: 0.6757 - accuracy: 0.5768 - val_loss: 0.6678 - val_accuracy: 0.6023\n",
      "Epoch 41/100\n",
      "13787/13787 [==============================] - 1s 67us/sample - loss: 0.6721 - accuracy: 0.5843 - val_loss: 0.6639 - val_accuracy: 0.6002\n",
      "Epoch 42/100\n",
      "13787/13787 [==============================] - 1s 65us/sample - loss: 0.6601 - accuracy: 0.6094 - val_loss: 0.6785 - val_accuracy: 0.5715\n",
      "Epoch 43/100\n",
      "13787/13787 [==============================] - 1s 65us/sample - loss: 0.6610 - accuracy: 0.6068 - val_loss: 0.6539 - val_accuracy: 0.6110\n",
      "Epoch 44/100\n",
      "13787/13787 [==============================] - 1s 62us/sample - loss: 0.6467 - accuracy: 0.6298 - val_loss: 0.6758 - val_accuracy: 0.5762\n",
      "Epoch 45/100\n",
      "13787/13787 [==============================] - 1s 63us/sample - loss: 0.6438 - accuracy: 0.6306 - val_loss: 0.6429 - val_accuracy: 0.6313\n",
      "Epoch 46/100\n",
      "13787/13787 [==============================] - 1s 63us/sample - loss: 0.6491 - accuracy: 0.6227 - val_loss: 0.6389 - val_accuracy: 0.6342\n",
      "Epoch 47/100\n",
      "13787/13787 [==============================] - 1s 64us/sample - loss: 0.6409 - accuracy: 0.6311 - val_loss: 0.6609 - val_accuracy: 0.5921\n",
      "Epoch 48/100\n",
      "13787/13787 [==============================] - 1s 64us/sample - loss: 0.6374 - accuracy: 0.6439 - val_loss: 0.6685 - val_accuracy: 0.5936\n",
      "Epoch 49/100\n",
      "13787/13787 [==============================] - 1s 65us/sample - loss: 0.6309 - accuracy: 0.6471 - val_loss: 0.6652 - val_accuracy: 0.5956\n",
      "Epoch 50/100\n",
      "13787/13787 [==============================] - 1s 70us/sample - loss: 0.6261 - accuracy: 0.6543 - val_loss: 0.6714 - val_accuracy: 0.5944\n",
      "Epoch 51/100\n",
      "13787/13787 [==============================] - 1s 68us/sample - loss: 0.6302 - accuracy: 0.6475 - val_loss: 0.6339 - val_accuracy: 0.6420\n",
      "Epoch 52/100\n",
      "13787/13787 [==============================] - 1s 65us/sample - loss: 0.6284 - accuracy: 0.6501 - val_loss: 0.6485 - val_accuracy: 0.6150\n",
      "Epoch 53/100\n",
      "13787/13787 [==============================] - 1s 65us/sample - loss: 0.6266 - accuracy: 0.6540 - val_loss: 0.6257 - val_accuracy: 0.6452\n",
      "Epoch 54/100\n",
      "13787/13787 [==============================] - 1s 67us/sample - loss: 0.6310 - accuracy: 0.6473 - val_loss: 0.6247 - val_accuracy: 0.6504\n"
     ]
    },
    {
     "name": "stdout",
     "output_type": "stream",
     "text": [
      "Epoch 55/100\n",
      "13787/13787 [==============================] - 1s 67us/sample - loss: 0.6267 - accuracy: 0.6468 - val_loss: 0.6241 - val_accuracy: 0.6487\n",
      "Epoch 56/100\n",
      "13787/13787 [==============================] - 1s 65us/sample - loss: 0.6219 - accuracy: 0.6564 - val_loss: 0.6243 - val_accuracy: 0.6490\n",
      "Epoch 57/100\n",
      "13787/13787 [==============================] - 1s 64us/sample - loss: 0.6254 - accuracy: 0.6488 - val_loss: 0.6260 - val_accuracy: 0.6435\n",
      "Epoch 58/100\n",
      "13787/13787 [==============================] - 1s 65us/sample - loss: 0.6210 - accuracy: 0.6576 - val_loss: 0.6371 - val_accuracy: 0.6394\n",
      "Epoch 59/100\n",
      "13787/13787 [==============================] - 1s 61us/sample - loss: 0.6220 - accuracy: 0.6532 - val_loss: 0.6252 - val_accuracy: 0.6437\n",
      "Epoch 60/100\n",
      "13787/13787 [==============================] - 1s 64us/sample - loss: 0.6179 - accuracy: 0.6555 - val_loss: 0.6222 - val_accuracy: 0.6455\n",
      "Epoch 61/100\n",
      "13787/13787 [==============================] - 1s 67us/sample - loss: 0.6202 - accuracy: 0.6570 - val_loss: 0.6213 - val_accuracy: 0.6527\n",
      "Epoch 62/100\n",
      "13787/13787 [==============================] - 1s 65us/sample - loss: 0.6231 - accuracy: 0.6553 - val_loss: 0.6267 - val_accuracy: 0.6478\n",
      "Epoch 63/100\n",
      "13787/13787 [==============================] - 1s 66us/sample - loss: 0.6173 - accuracy: 0.6611 - val_loss: 0.6376 - val_accuracy: 0.6417\n",
      "Epoch 64/100\n",
      "13787/13787 [==============================] - 1s 67us/sample - loss: 0.6166 - accuracy: 0.6629 - val_loss: 0.6210 - val_accuracy: 0.6542\n",
      "Epoch 65/100\n",
      "13787/13787 [==============================] - 1s 66us/sample - loss: 0.6165 - accuracy: 0.6555 - val_loss: 0.6376 - val_accuracy: 0.6408\n",
      "Epoch 66/100\n",
      "13787/13787 [==============================] - 1s 68us/sample - loss: 0.6211 - accuracy: 0.6562 - val_loss: 0.6221 - val_accuracy: 0.6472\n",
      "Epoch 67/100\n",
      "13787/13787 [==============================] - 1s 65us/sample - loss: 0.6174 - accuracy: 0.6574 - val_loss: 0.6198 - val_accuracy: 0.6490\n",
      "Epoch 68/100\n",
      "13787/13787 [==============================] - 1s 64us/sample - loss: 0.6616 - accuracy: 0.6455 - val_loss: 0.6275 - val_accuracy: 0.6313\n",
      "Epoch 69/100\n",
      "13787/13787 [==============================] - 1s 68us/sample - loss: 0.6154 - accuracy: 0.6581 - val_loss: 0.6191 - val_accuracy: 0.6522\n",
      "Epoch 70/100\n",
      "13787/13787 [==============================] - 1s 65us/sample - loss: 0.6171 - accuracy: 0.6602 - val_loss: 0.6269 - val_accuracy: 0.6496\n",
      "Epoch 71/100\n",
      "13787/13787 [==============================] - 1s 63us/sample - loss: 0.6223 - accuracy: 0.6547 - val_loss: 0.6271 - val_accuracy: 0.6496\n",
      "Epoch 72/100\n",
      "13787/13787 [==============================] - 1s 65us/sample - loss: 0.6224 - accuracy: 0.6540 - val_loss: 0.6398 - val_accuracy: 0.6208\n",
      "Epoch 73/100\n",
      "13787/13787 [==============================] - 1s 64us/sample - loss: 0.6179 - accuracy: 0.6582 - val_loss: 0.6242 - val_accuracy: 0.6501\n",
      "Epoch 74/100\n",
      "13787/13787 [==============================] - 1s 65us/sample - loss: 0.6171 - accuracy: 0.6582 - val_loss: 0.6540 - val_accuracy: 0.6124\n",
      "Epoch 75/100\n",
      "13787/13787 [==============================] - 1s 63us/sample - loss: 0.6146 - accuracy: 0.6627 - val_loss: 0.6290 - val_accuracy: 0.6304\n",
      "Epoch 76/100\n",
      "13787/13787 [==============================] - 1s 65us/sample - loss: 0.6146 - accuracy: 0.6650 - val_loss: 0.6191 - val_accuracy: 0.6574\n",
      "Epoch 77/100\n",
      "13787/13787 [==============================] - 1s 67us/sample - loss: 0.6130 - accuracy: 0.6627 - val_loss: 0.6207 - val_accuracy: 0.6461\n",
      "Epoch 78/100\n",
      "13787/13787 [==============================] - 1s 65us/sample - loss: 0.6172 - accuracy: 0.6575 - val_loss: 0.6184 - val_accuracy: 0.6554\n",
      "Epoch 79/100\n",
      "13787/13787 [==============================] - 1s 67us/sample - loss: 0.6126 - accuracy: 0.6635 - val_loss: 0.6235 - val_accuracy: 0.6507\n",
      "Epoch 80/100\n",
      "13787/13787 [==============================] - 1s 65us/sample - loss: 0.6161 - accuracy: 0.6569 - val_loss: 0.6995 - val_accuracy: 0.5764\n",
      "Epoch 81/100\n",
      "13787/13787 [==============================] - 1s 67us/sample - loss: 0.6141 - accuracy: 0.6605 - val_loss: 0.6251 - val_accuracy: 0.6478\n",
      "Epoch 82/100\n",
      "13787/13787 [==============================] - 1s 66us/sample - loss: 0.6175 - accuracy: 0.6590 - val_loss: 0.6223 - val_accuracy: 0.6394\n",
      "Epoch 83/100\n",
      "13787/13787 [==============================] - 1s 64us/sample - loss: 0.6116 - accuracy: 0.6663 - val_loss: 0.6220 - val_accuracy: 0.6417\n",
      "Epoch 84/100\n",
      "13787/13787 [==============================] - 1s 66us/sample - loss: 0.6179 - accuracy: 0.6605 - val_loss: 0.6189 - val_accuracy: 0.6490\n",
      "Epoch 85/100\n",
      "13787/13787 [==============================] - 1s 67us/sample - loss: 0.6145 - accuracy: 0.6635 - val_loss: 0.6279 - val_accuracy: 0.6290\n",
      "Epoch 86/100\n",
      "13787/13787 [==============================] - 1s 68us/sample - loss: 0.6104 - accuracy: 0.6651 - val_loss: 0.6189 - val_accuracy: 0.6603\n",
      "Epoch 87/100\n",
      "13787/13787 [==============================] - 1s 68us/sample - loss: 0.6142 - accuracy: 0.6605 - val_loss: 0.6211 - val_accuracy: 0.6432\n",
      "Epoch 88/100\n",
      "13787/13787 [==============================] - 1s 65us/sample - loss: 0.6152 - accuracy: 0.6598 - val_loss: 0.6187 - val_accuracy: 0.6490\n",
      "Epoch 89/100\n",
      "13787/13787 [==============================] - 1s 66us/sample - loss: 0.6228 - accuracy: 0.6486 - val_loss: 0.6196 - val_accuracy: 0.6574\n",
      "Epoch 90/100\n",
      "13787/13787 [==============================] - 1s 66us/sample - loss: 0.6206 - accuracy: 0.6576 - val_loss: 0.6269 - val_accuracy: 0.6321\n",
      "Epoch 91/100\n",
      "13787/13787 [==============================] - 1s 63us/sample - loss: 0.6154 - accuracy: 0.6586 - val_loss: 0.6223 - val_accuracy: 0.6539\n",
      "Epoch 92/100\n",
      "13787/13787 [==============================] - 1s 67us/sample - loss: 0.6139 - accuracy: 0.6645 - val_loss: 0.6206 - val_accuracy: 0.6533\n",
      "Epoch 93/100\n",
      "13787/13787 [==============================] - 1s 65us/sample - loss: 0.6122 - accuracy: 0.6631 - val_loss: 0.6181 - val_accuracy: 0.6562\n",
      "Epoch 94/100\n",
      "13787/13787 [==============================] - 1s 64us/sample - loss: 0.6174 - accuracy: 0.6576 - val_loss: 0.6364 - val_accuracy: 0.6234\n",
      "Epoch 95/100\n",
      "13787/13787 [==============================] - 1s 67us/sample - loss: 0.6178 - accuracy: 0.6595 - val_loss: 0.6178 - val_accuracy: 0.6551\n",
      "Epoch 96/100\n",
      "13787/13787 [==============================] - 1s 67us/sample - loss: 0.6229 - accuracy: 0.6500 - val_loss: 0.6215 - val_accuracy: 0.6527\n",
      "Epoch 97/100\n",
      "13787/13787 [==============================] - 1s 67us/sample - loss: 0.6156 - accuracy: 0.6642 - val_loss: 0.6197 - val_accuracy: 0.6472\n",
      "Epoch 98/100\n",
      "13787/13787 [==============================] - 1s 67us/sample - loss: 0.6114 - accuracy: 0.6640 - val_loss: 0.6269 - val_accuracy: 0.6330\n",
      "Epoch 99/100\n",
      "13787/13787 [==============================] - 1s 64us/sample - loss: 0.6126 - accuracy: 0.6646 - val_loss: 0.6182 - val_accuracy: 0.6493\n",
      "Epoch 100/100\n",
      "13787/13787 [==============================] - 1s 65us/sample - loss: 0.6115 - accuracy: 0.6674 - val_loss: 0.6177 - val_accuracy: 0.6571\n"
     ]
    }
   ],
   "source": [
    "# define the keras model\n",
    "from tensorflow.keras.optimizers import Adam\n",
    "model = Sequential()\n",
    "model.add(Dense(12, input_dim=300, activation='relu'))\n",
    "model.add(Dense(8, activation='relu'))\n",
    "model.add(Dense(1, activation='sigmoid'))\n",
    "ad = Adam(learning_rate=1e-3, beta_1=0.9, beta_2=0.999, amsgrad=False)\n",
    "model.compile(loss='binary_crossentropy', optimizer=ad, metrics=['accuracy'])\n",
    "history = model.fit(X, y, epochs=100, batch_size=64, validation_split=0.2)"
   ]
  },
  {
   "cell_type": "code",
   "execution_count": 21,
   "metadata": {},
   "outputs": [
    {
     "name": "stdout",
     "output_type": "stream",
     "text": [
      "0.6602843\n"
     ]
    },
    {
     "data": {
      "image/png": "[encoded data removed]",
      "text/plain": [
       "<Figure size 432x288 with 1 Axes>"
      ]
     },
     "metadata": {},
     "output_type": "display_data"
    }
   ],
   "source": [
    "plt.plot(history.history['accuracy'])\n",
    "plt.plot(history.history['val_accuracy'])\n",
    "print(max(history.history['val_accuracy']))"
   ]
  },
  {
   "cell_type": "markdown",
   "metadata": {},
   "source": [
    "## Speed up the learning\n",
    "\n",
    "Even when we are using a slower learning rate, it is possible to speed up the training process. `BatchNormalization` is covered in the lectures and involves normalising all values going into a layer before the forward pass. Although it introduces some small extra computational cost into the forward pass, the results for speeding up learning rate can be spectacular - particularly in the deeper networs that we will look at in the next part of this exercise.\n",
    "\n",
    "For now, import `BatchNormalization` from `tensorflow.keras.layers` and add a `BatchNormalization()` unit between each of your `Dense` layers.\n",
    "\n",
    "Retrain the model and look at the learning rates."
   ]
  },
  {
   "cell_type": "code",
   "execution_count": null,
   "metadata": {},
   "outputs": [],
   "source": [
    "from tensorflow.keras.layers import BatchNormalization"
   ]
  },
  {
   "cell_type": "code",
   "execution_count": null,
   "metadata": {},
   "outputs": [],
   "source": [
    "# define the keras model\n",
    "from tensorflow.keras.optimizers import Adam\n",
    "model = Sequential()\n",
    "model.add(Dense(12, input_dim=300, activation='relu'))\n",
    "model.add(BatchNormalization())\n",
    "model.add(Dense(8, activation='relu'))\n",
    "model.add(BatchNormalization())\n",
    "model.add(Dense(1, activation='sigmoid'))\n",
    "ad = Adam(learning_rate=1e-4, beta_1=0.9, beta_2=0.999, amsgrad=False)\n",
    "model.compile(loss='binary_crossentropy', optimizer=ad, metrics=['accuracy'])\n",
    "history_bn = model.fit(X, y, epochs=100, batch_size=64, validation_split=0.2)"
   ]
  },
  {
   "cell_type": "code",
   "execution_count": null,
   "metadata": {},
   "outputs": [],
   "source": [
    "plt.plot(history_bn.history['accuracy'])\n",
    "plt.plot(history_bn.history['val_accuracy'])\n",
    "print(max(history_bn.history['val_accuracy']))"
   ]
  },
  {
   "cell_type": "markdown",
   "metadata": {},
   "source": [
    "## Look at some other metrics\n",
    "\n",
    "Lets look at some other metrics of model performance"
   ]
  },
  {
   "cell_type": "code",
   "execution_count": 46,
   "metadata": {},
   "outputs": [],
   "source": [
    "y_true = y\n",
    "y_pred = model.predict(X)"
   ]
  },
  {
   "cell_type": "code",
   "execution_count": 51,
   "metadata": {},
   "outputs": [
    {
     "data": {
      "text/plain": [
       "array([[6050, 2567],\n",
       "       [3125, 5492]])"
      ]
     },
     "execution_count": 51,
     "metadata": {},
     "output_type": "execute_result"
    }
   ],
   "source": [
    "from sklearn.metrics import confusion_matrix, plot_confusion_matrix\n",
    "\n",
    "y_pred = np.rint(y_pred)\n",
    "confusion_matrix(y_true, y_pred)"
   ]
  },
  {
   "cell_type": "code",
   "execution_count": 53,
   "metadata": {},
   "outputs": [
    {
     "ename": "ValueError",
     "evalue": "plot_confusion_matrix only supports classifiers",
     "output_type": "error",
     "traceback": [
      "\u001b[0;31m---------------------------------------------------------------------------\u001b[0m",
      "\u001b[0;31mValueError\u001b[0m                                Traceback (most recent call last)",
      "\u001b[0;32m<ipython-input-53-4b41a0894797>\u001b[0m in \u001b[0;36m<module>\u001b[0;34m\u001b[0m\n\u001b[1;32m      2\u001b[0m                         \u001b[0mdisplay_labels\u001b[0m\u001b[0;34m=\u001b[0m\u001b[0;34m[\u001b[0m\u001b[0;34m'No Ag'\u001b[0m\u001b[0;34m,\u001b[0m \u001b[0;34m'Ag'\u001b[0m\u001b[0;34m]\u001b[0m\u001b[0;34m,\u001b[0m\u001b[0;34m\u001b[0m\u001b[0;34m\u001b[0m\u001b[0m\n\u001b[1;32m      3\u001b[0m                                  \u001b[0mcmap\u001b[0m\u001b[0;34m=\u001b[0m\u001b[0mplt\u001b[0m\u001b[0;34m.\u001b[0m\u001b[0mcm\u001b[0m\u001b[0;34m.\u001b[0m\u001b[0mBlues\u001b[0m\u001b[0;34m,\u001b[0m\u001b[0;34m\u001b[0m\u001b[0;34m\u001b[0m\u001b[0m\n\u001b[0;32m----> 4\u001b[0;31m                                  normalize=True)\n\u001b[0m",
      "\u001b[0;32m~/src/anaconda3/envs/tf2/lib/python3.7/site-packages/sklearn/metrics/_plot/confusion_matrix.py\u001b[0m in \u001b[0;36mplot_confusion_matrix\u001b[0;34m(estimator, X, y_true, labels, sample_weight, normalize, display_labels, include_values, xticks_rotation, values_format, cmap, ax)\u001b[0m\n\u001b[1;32m    181\u001b[0m \u001b[0;34m\u001b[0m\u001b[0m\n\u001b[1;32m    182\u001b[0m     \u001b[0;32mif\u001b[0m \u001b[0;32mnot\u001b[0m \u001b[0mis_classifier\u001b[0m\u001b[0;34m(\u001b[0m\u001b[0mestimator\u001b[0m\u001b[0;34m)\u001b[0m\u001b[0;34m:\u001b[0m\u001b[0;34m\u001b[0m\u001b[0;34m\u001b[0m\u001b[0m\n\u001b[0;32m--> 183\u001b[0;31m         \u001b[0;32mraise\u001b[0m \u001b[0mValueError\u001b[0m\u001b[0;34m(\u001b[0m\u001b[0;34m\"plot_confusion_matrix only supports classifiers\"\u001b[0m\u001b[0;34m)\u001b[0m\u001b[0;34m\u001b[0m\u001b[0;34m\u001b[0m\u001b[0m\n\u001b[0m\u001b[1;32m    184\u001b[0m \u001b[0;34m\u001b[0m\u001b[0m\n\u001b[1;32m    185\u001b[0m     \u001b[0my_pred\u001b[0m \u001b[0;34m=\u001b[0m \u001b[0mestimator\u001b[0m\u001b[0;34m.\u001b[0m\u001b[0mpredict\u001b[0m\u001b[0;34m(\u001b[0m\u001b[0mX\u001b[0m\u001b[0;34m)\u001b[0m\u001b[0;34m\u001b[0m\u001b[0;34m\u001b[0m\u001b[0m\n",
      "\u001b[0;31mValueError\u001b[0m: plot_confusion_matrix only supports classifiers"
     ]
    }
   ],
   "source": [
    "plot_confusion_matrix(model, X, y,\n",
    "                        display_labels=['No Ag', 'Ag'],\n",
    "                        cmap=plt.cm.Blues,\n",
    "                                 normalize=True)"
   ]
  },
  {
   "cell_type": "code",
   "execution_count": 47,
   "metadata": {},
   "outputs": [
    {
     "data": {
      "text/plain": [
       "array([[0.22322643],\n",
       "       [0.22322643],\n",
       "       [0.22322643],\n",
       "       ...,\n",
       "       [0.4224499 ],\n",
       "       [0.31535098],\n",
       "       [0.67752963]], dtype=float32)"
      ]
     },
     "execution_count": 47,
     "metadata": {},
     "output_type": "execute_result"
    }
   ],
   "source": [
    "y_pred"
   ]
  },
  {
   "cell_type": "code",
   "execution_count": null,
   "metadata": {},
   "outputs": [],
   "source": []
  }
 ],
 "metadata": {
  "kernelspec": {
   "display_name": "Python 3",
   "language": "python",
   "name": "python3"
  },
  "language_info": {
   "codemirror_mode": {
    "name": "ipython",
    "version": 3
   },
   "file_extension": ".py",
   "mimetype": "text/x-python",
   "name": "python",
   "nbconvert_exporter": "python",
   "pygments_lexer": "ipython3",
   "version": "3.7.6"
  }
 },
 "nbformat": 4,
 "nbformat_minor": 4
}
