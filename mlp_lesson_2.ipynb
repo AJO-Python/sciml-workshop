{
  "nbformat": 4,
  "nbformat_minor": 0,
  "metadata": {
    "kernelspec": {
      "display_name": "Python 3",
      "language": "python",
      "name": "python3"
    },
    "language_info": {
      "codemirror_mode": {
        "name": "ipython",
        "version": 3
      },
      "file_extension": ".py",
      "mimetype": "text/x-python",
      "name": "python",
      "nbconvert_exporter": "python",
      "pygments_lexer": "ipython3",
      "version": "3.7.5"
    },
    "colab": {
      "name": "Copy of Copy of mlp_lesson_2.ipynb",
      "provenance": [],
      "collapsed_sections": [],
      "toc_visible": true
    },
    "accelerator": "GPU"
  },
  "cells": [
    {
      "cell_type": "markdown",
      "metadata": {
        "id": "xxsElBzxDXEl",
        "colab_type": "text"
      },
      "source": [
        "# MLP Lesson 2\n",
        "\n",
        "## Google Cloud Storage Boilerplate\n",
        "\n",
        "This first cell has some boilerplate to connect the Google Cloud Storage bucket containing the data used for this tutorial to the Google Colab environment. \n",
        "\n",
        "In order to access the data for this workshop you'll need to run this cell, follow the link when prompted and copy the Google SDK token into the prompt. If everything works correctly a new folder called `data` should appear in the file browser on the left."
      ]
    },
    {
      "cell_type": "code",
      "metadata": {
        "id": "34XQ13kaB9-Y",
        "colab_type": "code",
        "outputId": "57406f53-3cea-43e4-b9d2-fde641602f42",
        "colab": {
          "base_uri": "https://localhost:8080/",
          "height": 374
        }
      },
      "source": [
        "%tensorflow_version 2.x\n",
        "from google.colab import auth\n",
        "auth.authenticate_user()\n",
        "\n",
        "project_id = 'sciml-workshop'\n",
        "bucket_name = 'sciml-workshop'\n",
        "\n",
        "!echo \"deb http://packages.cloud.google.com/apt gcsfuse-bionic main\" > /etc/apt/sources.list.d/gcsfuse.list\n",
        "!curl https://packages.cloud.google.com/apt/doc/apt-key.gpg | apt-key add -\n",
        "!apt -qq update\n",
        "!apt -qq install gcsfuse\n",
        "\n",
        "!gcloud config set project {project_id}\n",
        "\n",
        "!mkdir data\n",
        "!gcsfuse  --implicit-dirs --limit-bytes-per-sec -1 --limit-ops-per-sec -1 {bucket_name} /content/data"
      ],
      "execution_count": 1,
      "outputs": [
        {
          "output_type": "stream",
          "text": [
            "  % Total    % Received % Xferd  Average Speed   Time    Time     Time  Current\n",
            "                                 Dload  Upload   Total   Spent    Left  Speed\n",
            "\r  0     0    0     0    0     0      0      0 --:--:-- --:--:-- --:--:--     0\r100   653  100   653    0     0  17184      0 --:--:-- --:--:-- --:--:-- 17184\n",
            "OK\n",
            "58 packages can be upgraded. Run 'apt list --upgradable' to see them.\n",
            "The following NEW packages will be installed:\n",
            "  gcsfuse\n",
            "0 upgraded, 1 newly installed, 0 to remove and 58 not upgraded.\n",
            "Need to get 4,274 kB of archives.\n",
            "After this operation, 12.8 MB of additional disk space will be used.\n",
            "Selecting previously unselected package gcsfuse.\n",
            "(Reading database ... 144467 files and directories currently installed.)\n",
            "Preparing to unpack .../gcsfuse_0.28.1_amd64.deb ...\n",
            "Unpacking gcsfuse (0.28.1) ...\n",
            "Setting up gcsfuse (0.28.1) ...\n",
            "Updated property [core/project].\n",
            "Using mount point: /content/data\n",
            "Opening GCS connection...\n",
            "Opening bucket...\n",
            "Mounting file system...\n",
            "File system has been successfully mounted.\n"
          ],
          "name": "stdout"
        }
      ]
    },
    {
      "cell_type": "code",
      "metadata": {
        "id": "-Q3FLKx9B8Zm",
        "colab_type": "code",
        "colab": {}
      },
      "source": [
        "import pandas as pd\n",
        "import matplotlib.pyplot as plt\n",
        "import numpy as np\n",
        "\n",
        "from sklearn.utils import resample\n",
        "from tensorflow.keras import Sequential\n",
        "from tensorflow.keras.layers import Dense\n",
        "from tensorflow.keras.optimizers import Adam\n",
        "plt.style.use('ggplot')"
      ],
      "execution_count": 0,
      "outputs": []
    },
    {
      "cell_type": "markdown",
      "metadata": {
        "id": "BCM6NOU-B8Zr",
        "colab_type": "text"
      },
      "source": [
        "## Bigger data - deeper networks\n",
        "\n",
        "The last exercise gave us an intro into how to build and tune some of the parameters of a neural network. Now we move to an example where we have more data. Generally as we increase the amount of training data we can make use of deeper networks, with more layers to give more accurate predictions.\n",
        "\n",
        "This time around we load up the data from `ag-muon-data-tight.pkl`\n",
        "\n",
        "Don't forget to take care of class balance in your dataset."
      ]
    },
    {
      "cell_type": "code",
      "metadata": {
        "id": "CDQEJBEXB8Zs",
        "colab_type": "code",
        "outputId": "4fc3eea6-dd45-4918-b79a-735bc5db8c68",
        "colab": {
          "base_uri": "https://localhost:8080/",
          "height": 333
        }
      },
      "source": [
        "df = pd.read_pickle('/content/data/muon/ag-muon-data-tight.pkl')\n",
        "X = np.array(df[3].to_list())\n",
        "y = np.array(df[1].to_list())\n",
        "\n",
        "\n",
        "num_ag = np.count_nonzero(y==0)\n",
        "num_no_ag = np.count_nonzero(y==1)\n",
        "\n",
        "df_majority = df[df[1]==0]\n",
        "df_minority = df[df[1]==1]\n",
        "\n",
        "# Downsample majority class\n",
        "df_majority_downsampled = resample(df_majority, \n",
        "                                 replace=False,    # sample without replacement\n",
        "                                 n_samples=num_no_ag,     # to match minority class\n",
        "                                 random_state=123) # reproducible results\n",
        "\n",
        "df_downsampled = pd.concat([df_majority_downsampled, df_minority])\n",
        "df_new = df_downsampled.sample(frac=1)\n",
        "\n",
        "X = np.array(df_new[3].to_list())\n",
        "y = np.array(df_new[1].to_list())\n",
        "plt.hist(y)"
      ],
      "execution_count": 3,
      "outputs": [
        {
          "output_type": "execute_result",
          "data": {
            "text/plain": [
              "(array([71387.,     0.,     0.,     0.,     0.,     0.,     0.,     0.,\n",
              "            0., 71387.]),\n",
              " array([0. , 0.1, 0.2, 0.3, 0.4, 0.5, 0.6, 0.7, 0.8, 0.9, 1. ]),\n",
              " <a list of 10 Patch objects>)"
            ]
          },
          "metadata": {
            "tags": []
          },
          "execution_count": 3
        },
        {
          "output_type": "display_data",
          "data": {
            "image/png": "[encoded data removed]",
            "text/plain": [
              "<Figure size 432x288 with 1 Axes>"
            ]
          },
          "metadata": {
            "tags": []
          }
        }
      ]
    },
    {
      "cell_type": "markdown",
      "metadata": {
        "id": "FbFaERy9B8Zv",
        "colab_type": "text"
      },
      "source": [
        "### Initial network\n",
        "\n",
        "Try re-running your NN from the previous exercise on this new data. **Note** the input vector now has length 1000, rather than 300. See how the network performs. Use the learning rate that you established in the last study."
      ]
    },
    {
      "cell_type": "code",
      "metadata": {
        "id": "dYAHC6aoB8Zv",
        "colab_type": "code",
        "outputId": "2cd1b933-350e-4b75-b998-ba0461d05cea",
        "colab": {
          "base_uri": "https://localhost:8080/",
          "height": 1000
        }
      },
      "source": [
        "from tensorflow.keras.optimizers import Adam\n",
        "from tensorflow.keras.layers import Dropout, BatchNormalization\n",
        "\n",
        "model1 = Sequential()\n",
        "model1.add(Dense(1000, input_dim=1000, activation='relu')) \n",
        "model1.add(BatchNormalization())\n",
        "model1.add(Dense(1000, activation='relu'))\n",
        "model1.add(BatchNormalization())\n",
        "model1.add(Dense(128, activation='relu'))\n",
        "model1.add(BatchNormalization())\n",
        "model1.add(Dense(16, activation='relu'))\n",
        "model1.add(BatchNormalization())\n",
        "model1.add(Dense(1, activation='sigmoid'))\n",
        "ad = Adam(learning_rate=1e-3, beta_1=0.9, beta_2=0.999, amsgrad=False)\n",
        "model1.compile(loss='binary_crossentropy', optimizer=ad, metrics=['accuracy'])\n",
        "history = model1.fit(X, y, epochs=30, batch_size=64, validation_split=0.2)"
      ],
      "execution_count": 6,
      "outputs": [
        {
          "output_type": "stream",
          "text": [
            "Epoch 1/30\n",
            "1785/1785 [==============================] - 16s 9ms/step - loss: 0.2448 - accuracy: 0.8845 - val_loss: 3.1471 - val_accuracy: 0.4983\n",
            "Epoch 2/30\n",
            "1785/1785 [==============================] - 16s 9ms/step - loss: 0.1032 - accuracy: 0.9611 - val_loss: 5.1882 - val_accuracy: 0.5017\n",
            "Epoch 3/30\n",
            "1785/1785 [==============================] - 17s 9ms/step - loss: 0.0864 - accuracy: 0.9680 - val_loss: 0.7361 - val_accuracy: 0.7689\n",
            "Epoch 4/30\n",
            "1785/1785 [==============================] - 17s 9ms/step - loss: 0.0766 - accuracy: 0.9716 - val_loss: 0.6989 - val_accuracy: 0.7980\n",
            "Epoch 5/30\n",
            "1785/1785 [==============================] - 17s 10ms/step - loss: 0.0709 - accuracy: 0.9741 - val_loss: 0.0588 - val_accuracy: 0.9792\n",
            "Epoch 6/30\n",
            "1785/1785 [==============================] - 17s 9ms/step - loss: 0.0649 - accuracy: 0.9767 - val_loss: 2.0247 - val_accuracy: 0.5823\n",
            "Epoch 7/30\n",
            "1785/1785 [==============================] - 16s 9ms/step - loss: 0.0606 - accuracy: 0.9784 - val_loss: 0.0713 - val_accuracy: 0.9748\n",
            "Epoch 8/30\n",
            "1785/1785 [==============================] - 17s 9ms/step - loss: 0.0553 - accuracy: 0.9801 - val_loss: 0.0632 - val_accuracy: 0.9776\n",
            "Epoch 9/30\n",
            "1785/1785 [==============================] - 16s 9ms/step - loss: 0.0525 - accuracy: 0.9816 - val_loss: 0.0695 - val_accuracy: 0.9766\n",
            "Epoch 10/30\n",
            "1785/1785 [==============================] - 16s 9ms/step - loss: 0.0493 - accuracy: 0.9822 - val_loss: 0.2476 - val_accuracy: 0.9075\n",
            "Epoch 11/30\n",
            "1785/1785 [==============================] - 16s 9ms/step - loss: 0.0462 - accuracy: 0.9831 - val_loss: 1.3740 - val_accuracy: 0.7152\n",
            "Epoch 12/30\n",
            "1785/1785 [==============================] - 17s 9ms/step - loss: 0.0442 - accuracy: 0.9840 - val_loss: 0.3668 - val_accuracy: 0.8756\n",
            "Epoch 13/30\n",
            "1785/1785 [==============================] - 17s 9ms/step - loss: 0.0412 - accuracy: 0.9846 - val_loss: 0.5426 - val_accuracy: 0.8662\n",
            "Epoch 14/30\n",
            "1785/1785 [==============================] - 16s 9ms/step - loss: 0.0397 - accuracy: 0.9852 - val_loss: 0.1085 - val_accuracy: 0.9653\n",
            "Epoch 15/30\n",
            "1785/1785 [==============================] - 17s 9ms/step - loss: 0.0371 - accuracy: 0.9861 - val_loss: 0.0712 - val_accuracy: 0.9776\n",
            "Epoch 16/30\n",
            "1785/1785 [==============================] - 17s 9ms/step - loss: 0.0347 - accuracy: 0.9874 - val_loss: 0.1377 - val_accuracy: 0.9535\n",
            "Epoch 17/30\n",
            "1785/1785 [==============================] - 16s 9ms/step - loss: 0.0330 - accuracy: 0.9875 - val_loss: 0.8241 - val_accuracy: 0.7999\n",
            "Epoch 18/30\n",
            "1785/1785 [==============================] - 16s 9ms/step - loss: 0.0301 - accuracy: 0.9890 - val_loss: 0.0821 - val_accuracy: 0.9770\n",
            "Epoch 19/30\n",
            "1785/1785 [==============================] - 16s 9ms/step - loss: 0.0284 - accuracy: 0.9895 - val_loss: 0.1673 - val_accuracy: 0.9640\n",
            "Epoch 20/30\n",
            "1785/1785 [==============================] - 16s 9ms/step - loss: 0.0276 - accuracy: 0.9897 - val_loss: 0.1385 - val_accuracy: 0.9599\n",
            "Epoch 21/30\n",
            "1785/1785 [==============================] - 16s 9ms/step - loss: 0.0251 - accuracy: 0.9911 - val_loss: 0.8789 - val_accuracy: 0.8384\n",
            "Epoch 22/30\n",
            "1785/1785 [==============================] - 16s 9ms/step - loss: 0.0242 - accuracy: 0.9906 - val_loss: 0.1305 - val_accuracy: 0.9705\n",
            "Epoch 23/30\n",
            "1785/1785 [==============================] - 16s 9ms/step - loss: 0.0216 - accuracy: 0.9921 - val_loss: 0.3430 - val_accuracy: 0.9139\n",
            "Epoch 24/30\n",
            "1785/1785 [==============================] - 16s 9ms/step - loss: 0.0214 - accuracy: 0.9920 - val_loss: 0.3383 - val_accuracy: 0.9152\n",
            "Epoch 25/30\n",
            "1785/1785 [==============================] - 16s 9ms/step - loss: 0.0206 - accuracy: 0.9922 - val_loss: 0.1543 - val_accuracy: 0.9551\n",
            "Epoch 26/30\n",
            "1785/1785 [==============================] - 16s 9ms/step - loss: 0.0189 - accuracy: 0.9929 - val_loss: 0.1044 - val_accuracy: 0.9727\n",
            "Epoch 27/30\n",
            "1785/1785 [==============================] - 16s 9ms/step - loss: 0.0179 - accuracy: 0.9932 - val_loss: 0.0947 - val_accuracy: 0.9741\n",
            "Epoch 28/30\n",
            "1785/1785 [==============================] - 16s 9ms/step - loss: 0.0174 - accuracy: 0.9938 - val_loss: 0.2220 - val_accuracy: 0.9403\n",
            "Epoch 29/30\n",
            "1785/1785 [==============================] - 16s 9ms/step - loss: 0.0161 - accuracy: 0.9940 - val_loss: 0.5818 - val_accuracy: 0.8551\n",
            "Epoch 30/30\n",
            "1785/1785 [==============================] - 16s 9ms/step - loss: 0.0165 - accuracy: 0.9940 - val_loss: 0.1383 - val_accuracy: 0.9562\n"
          ],
          "name": "stdout"
        }
      ]
    },
    {
      "cell_type": "code",
      "metadata": {
        "id": "HSeKCVAAB8Zz",
        "colab_type": "code",
        "outputId": "b90da2b9-f9f0-4d39-d933-d23e7e3e7101",
        "colab": {
          "base_uri": "https://localhost:8080/",
          "height": 282
        }
      },
      "source": [
        "plt.plot(history.history['accuracy'])\n",
        "plt.plot(history.history['val_accuracy'])"
      ],
      "execution_count": 7,
      "outputs": [
        {
          "output_type": "execute_result",
          "data": {
            "text/plain": [
              "[<matplotlib.lines.Line2D at 0x7f2046991860>]"
            ]
          },
          "metadata": {
            "tags": []
          },
          "execution_count": 7
        },
        {
          "output_type": "display_data",
          "data": {
            "image/png": "[encoded data removed]",
            "text/plain": [
              "<Figure size 432x288 with 1 Axes>"
            ]
          },
          "metadata": {
            "tags": []
          }
        }
      ]
    },
    {
      "cell_type": "markdown",
      "metadata": {
        "id": "C3XvRiGjB8Z2",
        "colab_type": "text"
      },
      "source": [
        "### We're going to need a deeper network!\n",
        "\n",
        "That looks pretty good! However, since we have so much more data now, we might be tempted to use deeper network with more paramters. Try a network with architecture\n",
        "\n",
        "    INPUT - 1000 - 1000 - 128 - 16 - OUTPUT\n",
        "    \n",
        "For this architecture do the same test for learning rate effects, training for 30 epochs at each learning rate."
      ]
    },
    {
      "cell_type": "code",
      "metadata": {
        "id": "gN_R_HWKB8Z2",
        "colab_type": "code",
        "outputId": "7d6fb9c4-5b75-48f5-9103-585b372afd8e",
        "colab": {
          "base_uri": "https://localhost:8080/",
          "height": 1000
        }
      },
      "source": [
        "model2 = Sequential()\n",
        "model2.add(Dense(1000, input_dim=1000, activation='relu'))\n",
        "model2.add(BatchNormalization())\n",
        "model2.add(Dense(1000, activation='relu'))\n",
        "model2.add(BatchNormalization())\n",
        "model2.add(Dense(128, activation='relu'))\n",
        "model2.add(BatchNormalization())\n",
        "model2.add(Dense(16, activation='relu'))\n",
        "model2.add(BatchNormalization())\n",
        "model2.add(Dense(1, activation='sigmoid'))\n",
        "ad = Adam(learning_rate=1e-3)\n",
        "model2.compile(loss='binary_crossentropy', optimizer=ad, metrics=['accuracy'])\n",
        "history = model2.fit(X, y, epochs=30, batch_size=64, validation_split=0.2)"
      ],
      "execution_count": 9,
      "outputs": [
        {
          "output_type": "stream",
          "text": [
            "Epoch 1/30\n",
            "1785/1785 [==============================] - 16s 9ms/step - loss: 0.2429 - accuracy: 0.8862 - val_loss: 5.3948 - val_accuracy: 0.5017\n",
            "Epoch 2/30\n",
            "1785/1785 [==============================] - 16s 9ms/step - loss: 0.1017 - accuracy: 0.9614 - val_loss: 0.8017 - val_accuracy: 0.7222\n",
            "Epoch 3/30\n",
            "1785/1785 [==============================] - 17s 10ms/step - loss: 0.0873 - accuracy: 0.9671 - val_loss: 4.9831 - val_accuracy: 0.4983\n",
            "Epoch 4/30\n",
            "1785/1785 [==============================] - 17s 10ms/step - loss: 0.0769 - accuracy: 0.9717 - val_loss: 4.2498 - val_accuracy: 0.5072\n",
            "Epoch 5/30\n",
            "1785/1785 [==============================] - 17s 9ms/step - loss: 0.0713 - accuracy: 0.9736 - val_loss: 0.2719 - val_accuracy: 0.9076\n",
            "Epoch 6/30\n",
            "1785/1785 [==============================] - 17s 9ms/step - loss: 0.0669 - accuracy: 0.9757 - val_loss: 0.0735 - val_accuracy: 0.9738\n",
            "Epoch 7/30\n",
            "1785/1785 [==============================] - 16s 9ms/step - loss: 0.0591 - accuracy: 0.9782 - val_loss: 0.0617 - val_accuracy: 0.9791\n",
            "Epoch 8/30\n",
            "1785/1785 [==============================] - 16s 9ms/step - loss: 0.0552 - accuracy: 0.9797 - val_loss: 1.9942 - val_accuracy: 0.5748\n",
            "Epoch 9/30\n",
            "1785/1785 [==============================] - 17s 9ms/step - loss: 0.0505 - accuracy: 0.9820 - val_loss: 0.2212 - val_accuracy: 0.9178\n",
            "Epoch 10/30\n",
            "1785/1785 [==============================] - 16s 9ms/step - loss: 0.0480 - accuracy: 0.9826 - val_loss: 0.0702 - val_accuracy: 0.9743\n",
            "Epoch 11/30\n",
            "1785/1785 [==============================] - 16s 9ms/step - loss: 0.0459 - accuracy: 0.9831 - val_loss: 1.1051 - val_accuracy: 0.6804\n",
            "Epoch 12/30\n",
            "1785/1785 [==============================] - 16s 9ms/step - loss: 0.0426 - accuracy: 0.9843 - val_loss: 2.4540 - val_accuracy: 0.6542\n",
            "Epoch 13/30\n",
            "1785/1785 [==============================] - 16s 9ms/step - loss: 0.0405 - accuracy: 0.9850 - val_loss: 0.1258 - val_accuracy: 0.9601\n",
            "Epoch 14/30\n",
            "1785/1785 [==============================] - 16s 9ms/step - loss: 0.0374 - accuracy: 0.9860 - val_loss: 0.3412 - val_accuracy: 0.8855\n",
            "Epoch 15/30\n",
            "1785/1785 [==============================] - 16s 9ms/step - loss: 0.0355 - accuracy: 0.9864 - val_loss: 0.2514 - val_accuracy: 0.9338\n",
            "Epoch 16/30\n",
            "1785/1785 [==============================] - 17s 9ms/step - loss: 0.0320 - accuracy: 0.9877 - val_loss: 0.0706 - val_accuracy: 0.9778\n",
            "Epoch 17/30\n",
            "1785/1785 [==============================] - 17s 9ms/step - loss: 0.0306 - accuracy: 0.9888 - val_loss: 0.0953 - val_accuracy: 0.9746\n",
            "Epoch 18/30\n",
            "1785/1785 [==============================] - 17s 9ms/step - loss: 0.0270 - accuracy: 0.9896 - val_loss: 0.4366 - val_accuracy: 0.8698\n",
            "Epoch 19/30\n",
            "1785/1785 [==============================] - 17s 9ms/step - loss: 0.0264 - accuracy: 0.9902 - val_loss: 0.1344 - val_accuracy: 0.9677\n",
            "Epoch 20/30\n",
            "1785/1785 [==============================] - 17s 9ms/step - loss: 0.0241 - accuracy: 0.9908 - val_loss: 0.0955 - val_accuracy: 0.9741\n",
            "Epoch 21/30\n",
            "1785/1785 [==============================] - 16s 9ms/step - loss: 0.0227 - accuracy: 0.9915 - val_loss: 0.0960 - val_accuracy: 0.9698\n",
            "Epoch 22/30\n",
            "1785/1785 [==============================] - 16s 9ms/step - loss: 0.0211 - accuracy: 0.9920 - val_loss: 0.1049 - val_accuracy: 0.9751\n",
            "Epoch 23/30\n",
            "1785/1785 [==============================] - 16s 9ms/step - loss: 0.0194 - accuracy: 0.9925 - val_loss: 0.2811 - val_accuracy: 0.9425\n",
            "Epoch 24/30\n",
            "1785/1785 [==============================] - 17s 9ms/step - loss: 0.0192 - accuracy: 0.9925 - val_loss: 0.1371 - val_accuracy: 0.9632\n",
            "Epoch 25/30\n",
            "1785/1785 [==============================] - 16s 9ms/step - loss: 0.0181 - accuracy: 0.9932 - val_loss: 0.0852 - val_accuracy: 0.9754\n",
            "Epoch 26/30\n",
            "1785/1785 [==============================] - 16s 9ms/step - loss: 0.0157 - accuracy: 0.9940 - val_loss: 0.1711 - val_accuracy: 0.9668\n",
            "Epoch 27/30\n",
            "1785/1785 [==============================] - 16s 9ms/step - loss: 0.0161 - accuracy: 0.9942 - val_loss: 0.1500 - val_accuracy: 0.9587\n",
            "Epoch 28/30\n",
            "1785/1785 [==============================] - 16s 9ms/step - loss: 0.0146 - accuracy: 0.9946 - val_loss: 0.9090 - val_accuracy: 0.8862\n",
            "Epoch 29/30\n",
            "1785/1785 [==============================] - 16s 9ms/step - loss: 0.0136 - accuracy: 0.9948 - val_loss: 0.1160 - val_accuracy: 0.9740\n",
            "Epoch 30/30\n",
            "1785/1785 [==============================] - 16s 9ms/step - loss: 0.0142 - accuracy: 0.9948 - val_loss: 0.2160 - val_accuracy: 0.9602\n"
          ],
          "name": "stdout"
        }
      ]
    },
    {
      "cell_type": "code",
      "metadata": {
        "id": "MH9LmdYNB8Z5",
        "colab_type": "code",
        "outputId": "027ead6d-8de5-454f-b26a-778785ea4ca8",
        "colab": {
          "base_uri": "https://localhost:8080/",
          "height": 282
        }
      },
      "source": [
        "plt.plot(history.history['accuracy'])\n",
        "plt.plot(history.history['val_accuracy'])"
      ],
      "execution_count": 10,
      "outputs": [
        {
          "output_type": "execute_result",
          "data": {
            "text/plain": [
              "[<matplotlib.lines.Line2D at 0x7f2045720320>]"
            ]
          },
          "metadata": {
            "tags": []
          },
          "execution_count": 10
        },
        {
          "output_type": "display_data",
          "data": {
            "image/png": "[encoded data removed]",
            "text/plain": [
              "<Figure size 432x288 with 1 Axes>"
            ]
          },
          "metadata": {
            "tags": []
          }
        }
      ]
    }
  ]
}