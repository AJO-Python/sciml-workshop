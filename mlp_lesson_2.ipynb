{
  "nbformat": 4,
  "nbformat_minor": 0,
  "metadata": {
    "kernelspec": {
      "display_name": "Python 3",
      "language": "python",
      "name": "python3"
    },
    "language_info": {
      "codemirror_mode": {
        "name": "ipython",
        "version": 3
      },
      "file_extension": ".py",
      "mimetype": "text/x-python",
      "name": "python",
      "nbconvert_exporter": "python",
      "pygments_lexer": "ipython3",
      "version": "3.7.5"
    },
    "colab": {
      "name": "Copy of mlp_lesson_2.ipynb",
      "provenance": [],
      "collapsed_sections": [],
      "toc_visible": true
    },
    "accelerator": "GPU"
  },
  "cells": [
    {
      "cell_type": "markdown",
      "metadata": {
        "id": "xxsElBzxDXEl",
        "colab_type": "text"
      },
      "source": [
        "# MLP Lesson 2\n",
        "\n",
        "## Google Cloud Storage Boilerplate\n",
        "\n",
        "This first cell has some boilerplate to connect the Google Cloud Storage bucket containing the data used for this tutorial to the Google Colab environment. \n",
        "\n",
        "In order to access the data for this workshop you'll need to run this cell, follow the link when prompted and copy the Google SDK token into the prompt. If everything works correctly a new folder called `data` should appear in the file browser on the left."
      ]
    },
    {
      "cell_type": "code",
      "metadata": {
        "id": "34XQ13kaB9-Y",
        "colab_type": "code",
        "outputId": "3a724cea-145f-4b55-bf76-7bdc9e91f734",
        "colab": {
          "base_uri": "https://localhost:8080/",
          "height": 374
        }
      },
      "source": [
        "%tensorflow_version 2.x\n",
        "from google.colab import auth\n",
        "auth.authenticate_user()\n",
        "\n",
        "project_id = 'sciml-workshop'\n",
        "bucket_name = 'sciml-workshop'\n",
        "\n",
        "!echo \"deb http://packages.cloud.google.com/apt gcsfuse-bionic main\" > /etc/apt/sources.list.d/gcsfuse.list\n",
        "!curl https://packages.cloud.google.com/apt/doc/apt-key.gpg | apt-key add -\n",
        "!apt -qq update\n",
        "!apt -qq install gcsfuse\n",
        "\n",
        "!gcloud config set project {project_id}\n",
        "\n",
        "!mkdir data\n",
        "!gcsfuse  --implicit-dirs --limit-bytes-per-sec -1 --limit-ops-per-sec -1 {bucket_name} /content/data"
      ],
      "execution_count": 1,
      "outputs": [
        {
          "output_type": "stream",
          "text": [
            "  % Total    % Received % Xferd  Average Speed   Time    Time     Time  Current\n",
            "                                 Dload  Upload   Total   Spent    Left  Speed\n",
            "\r  0     0    0     0    0     0      0      0 --:--:-- --:--:-- --:--:--     0\r100   653  100   653    0     0   7867      0 --:--:-- --:--:-- --:--:--  7867\n",
            "OK\n",
            "41 packages can be upgraded. Run 'apt list --upgradable' to see them.\n",
            "The following NEW packages will be installed:\n",
            "  gcsfuse\n",
            "0 upgraded, 1 newly installed, 0 to remove and 41 not upgraded.\n",
            "Need to get 4,274 kB of archives.\n",
            "After this operation, 12.8 MB of additional disk space will be used.\n",
            "Selecting previously unselected package gcsfuse.\n",
            "(Reading database ... 144439 files and directories currently installed.)\n",
            "Preparing to unpack .../gcsfuse_0.28.1_amd64.deb ...\n",
            "Unpacking gcsfuse (0.28.1) ...\n",
            "Setting up gcsfuse (0.28.1) ...\n",
            "Updated property [core/project].\n",
            "Using mount point: /content/data\n",
            "Opening GCS connection...\n",
            "Opening bucket...\n",
            "Mounting file system...\n",
            "File system has been successfully mounted.\n"
          ],
          "name": "stdout"
        }
      ]
    },
    {
      "cell_type": "code",
      "metadata": {
        "id": "-Q3FLKx9B8Zm",
        "colab_type": "code",
        "colab": {}
      },
      "source": [
        "import pandas as pd\n",
        "import matplotlib.pyplot as plt\n",
        "import numpy as np\n",
        "\n",
        "from sklearn.utils import resample\n",
        "from tensorflow.keras import Sequential\n",
        "from tensorflow.keras.layers import Dense\n",
        "from tensorflow.keras.optimizers import Adam\n",
        "plt.style.use('ggplot')"
      ],
      "execution_count": 0,
      "outputs": []
    },
    {
      "cell_type": "markdown",
      "metadata": {
        "id": "BCM6NOU-B8Zr",
        "colab_type": "text"
      },
      "source": [
        "## Bigger data - deeper networks\n",
        "\n",
        "The last exercise gave us an intro into how to build and tune some of the parameters of a neural network. Now we move to an example where we have more data. Generally as we increase the amount of training data we can make use of deeper networks, with more layers to give more accurate predictions.\n",
        "\n",
        "This time around we load up the data from `ag-muon-data-tight.pkl`\n",
        "\n",
        "Don't forget to take care of class balance in your dataset."
      ]
    },
    {
      "cell_type": "code",
      "metadata": {
        "id": "CDQEJBEXB8Zs",
        "colab_type": "code",
        "outputId": "acf6b3c1-f9f4-4da6-e2fd-7a84f6c254d7",
        "colab": {
          "base_uri": "https://localhost:8080/",
          "height": 333
        }
      },
      "source": [
        "df = pd.read_pickle('/content/data/muon/ag-muon-data-tight.pkl')\n",
        "X = np.array(df[3].to_list())\n",
        "y = np.array(df[1].to_list())\n",
        "\n",
        "\n",
        "num_ag = np.count_nonzero(y==0)\n",
        "num_no_ag = np.count_nonzero(y==1)\n",
        "\n",
        "df_majority = df[df[1]==0]\n",
        "df_minority = df[df[1]==1]\n",
        "\n",
        "# Downsample majority class\n",
        "df_majority_downsampled = resample(df_majority, \n",
        "                                 replace=False,    # sample without replacement\n",
        "                                 n_samples=num_no_ag,     # to match minority class\n",
        "                                 random_state=123) # reproducible results\n",
        "\n",
        "df_downsampled = pd.concat([df_majority_downsampled, df_minority])\n",
        "df_new = df_downsampled.sample(frac=1)\n",
        "\n",
        "X = np.array(df_new[3].to_list())\n",
        "y = np.array(df_new[1].to_list())\n",
        "plt.hist(y)"
      ],
      "execution_count": 3,
      "outputs": [
        {
          "output_type": "execute_result",
          "data": {
            "text/plain": [
              "(array([71387.,     0.,     0.,     0.,     0.,     0.,     0.,     0.,\n",
              "            0., 71387.]),\n",
              " array([0. , 0.1, 0.2, 0.3, 0.4, 0.5, 0.6, 0.7, 0.8, 0.9, 1. ]),\n",
              " <a list of 10 Patch objects>)"
            ]
          },
          "metadata": {
            "tags": []
          },
          "execution_count": 3
        },
        {
          "output_type": "display_data",
          "data": {
            "image/png": "[encoded data removed]",
            "text/plain": [
              "<Figure size 432x288 with 1 Axes>"
            ]
          },
          "metadata": {
            "tags": []
          }
        }
      ]
    },
    {
      "cell_type": "markdown",
      "metadata": {
        "id": "FbFaERy9B8Zv",
        "colab_type": "text"
      },
      "source": [
        "### Initial network\n",
        "\n",
        "Try re-running your NN from the previous exercise on this new data. **Note** the input vector now has length 1000, rather than 300. See how the network performs. Use the learning rate that you established in the last study."
      ]
    },
    {
      "cell_type": "code",
      "metadata": {
        "id": "dYAHC6aoB8Zv",
        "colab_type": "code",
        "outputId": "0df088c7-b6e6-40b6-a3bf-b58623f16300",
        "colab": {
          "base_uri": "https://localhost:8080/",
          "height": 1000
        }
      },
      "source": [
        "from tensorflow.keras.optimizers import Adam\n",
        "from tensorflow.keras.layers import Dropout, BatchNormalization\n",
        "histories = []\n",
        "#for lr in [1e-1, 1e-2, 1e-3, 1e-4, 1e-5, 1e-6]:\n",
        "for lr in [1e-3]:\n",
        "    model5 = Sequential()\n",
        "    model5.add(Dense(1000, input_dim=1000, activation='relu')) \n",
        "    model5.add(BatchNormalization())\n",
        "    model5.add(Dense(1000, activation='relu'))\n",
        "    model5.add(BatchNormalization())\n",
        "    model5.add(Dense(128, activation='relu'))\n",
        "    model5.add(BatchNormalization())\n",
        "    model5.add(Dense(16, activation='relu'))\n",
        "    model5.add(BatchNormalization())\n",
        "    model5.add(Dense(1, activation='sigmoid'))\n",
        "    ad = Adam(learning_rate=lr, beta_1=0.9, beta_2=0.999, amsgrad=False)\n",
        "    model5.compile(loss='binary_crossentropy', optimizer=ad, metrics=['accuracy'])\n",
        "    history = model5.fit(X, y, epochs=30, batch_size=64, validation_split=0.2)\n",
        "    histories.append(history)"
      ],
      "execution_count": 4,
      "outputs": [
        {
          "output_type": "stream",
          "text": [
            "Epoch 1/30\n",
            "1785/1785 [==============================] - 10s 6ms/step - loss: 0.2431 - accuracy: 0.8852 - val_loss: 0.3016 - val_accuracy: 0.8852\n",
            "Epoch 2/30\n",
            "1785/1785 [==============================] - 10s 5ms/step - loss: 0.1013 - accuracy: 0.9614 - val_loss: 0.0832 - val_accuracy: 0.9708\n",
            "Epoch 3/30\n",
            "1785/1785 [==============================] - 9s 5ms/step - loss: 0.0852 - accuracy: 0.9683 - val_loss: 4.4780 - val_accuracy: 0.5049\n",
            "Epoch 4/30\n",
            "1785/1785 [==============================] - 10s 5ms/step - loss: 0.0762 - accuracy: 0.9720 - val_loss: 0.2063 - val_accuracy: 0.9177\n",
            "Epoch 5/30\n",
            "1785/1785 [==============================] - 10s 5ms/step - loss: 0.0688 - accuracy: 0.9751 - val_loss: 0.2070 - val_accuracy: 0.9231\n",
            "Epoch 6/30\n",
            "1785/1785 [==============================] - 10s 5ms/step - loss: 0.0651 - accuracy: 0.9762 - val_loss: 2.9919 - val_accuracy: 0.5351\n",
            "Epoch 7/30\n",
            "1785/1785 [==============================] - 10s 5ms/step - loss: 0.0589 - accuracy: 0.9793 - val_loss: 0.5985 - val_accuracy: 0.8190\n",
            "Epoch 8/30\n",
            "1785/1785 [==============================] - 10s 5ms/step - loss: 0.0559 - accuracy: 0.9798 - val_loss: 1.1556 - val_accuracy: 0.6797\n",
            "Epoch 9/30\n",
            "1785/1785 [==============================] - 10s 5ms/step - loss: 0.0526 - accuracy: 0.9809 - val_loss: 0.6089 - val_accuracy: 0.7811\n",
            "Epoch 10/30\n",
            "1785/1785 [==============================] - 10s 5ms/step - loss: 0.0493 - accuracy: 0.9826 - val_loss: 0.0610 - val_accuracy: 0.9777\n",
            "Epoch 11/30\n",
            "1785/1785 [==============================] - 10s 5ms/step - loss: 0.0472 - accuracy: 0.9830 - val_loss: 0.0727 - val_accuracy: 0.9740\n",
            "Epoch 12/30\n",
            "1785/1785 [==============================] - 10s 6ms/step - loss: 0.0451 - accuracy: 0.9837 - val_loss: 0.0642 - val_accuracy: 0.9781\n",
            "Epoch 13/30\n",
            "1785/1785 [==============================] - 10s 6ms/step - loss: 0.0416 - accuracy: 0.9852 - val_loss: 0.0666 - val_accuracy: 0.9764\n",
            "Epoch 14/30\n",
            "1785/1785 [==============================] - 10s 5ms/step - loss: 0.0396 - accuracy: 0.9855 - val_loss: 0.2369 - val_accuracy: 0.9413\n",
            "Epoch 15/30\n",
            "1785/1785 [==============================] - 10s 5ms/step - loss: 0.0371 - accuracy: 0.9864 - val_loss: 0.2405 - val_accuracy: 0.9401\n",
            "Epoch 16/30\n",
            "1785/1785 [==============================] - 10s 5ms/step - loss: 0.0350 - accuracy: 0.9873 - val_loss: 0.3407 - val_accuracy: 0.8973\n",
            "Epoch 17/30\n",
            "1785/1785 [==============================] - 10s 5ms/step - loss: 0.0324 - accuracy: 0.9879 - val_loss: 0.2092 - val_accuracy: 0.9436\n",
            "Epoch 18/30\n",
            "1785/1785 [==============================] - 10s 5ms/step - loss: 0.0306 - accuracy: 0.9888 - val_loss: 1.0052 - val_accuracy: 0.7595\n",
            "Epoch 19/30\n",
            "1785/1785 [==============================] - 10s 5ms/step - loss: 0.0295 - accuracy: 0.9891 - val_loss: 0.1076 - val_accuracy: 0.9613\n",
            "Epoch 20/30\n",
            "1785/1785 [==============================] - 10s 5ms/step - loss: 0.0280 - accuracy: 0.9893 - val_loss: 0.8581 - val_accuracy: 0.8366\n",
            "Epoch 21/30\n",
            "1785/1785 [==============================] - 10s 5ms/step - loss: 0.0257 - accuracy: 0.9906 - val_loss: 0.3901 - val_accuracy: 0.8849\n",
            "Epoch 22/30\n",
            "1785/1785 [==============================] - 10s 6ms/step - loss: 0.0241 - accuracy: 0.9909 - val_loss: 0.0896 - val_accuracy: 0.9743\n",
            "Epoch 23/30\n",
            "1785/1785 [==============================] - 10s 5ms/step - loss: 0.0233 - accuracy: 0.9915 - val_loss: 0.1041 - val_accuracy: 0.9723\n",
            "Epoch 24/30\n",
            "1785/1785 [==============================] - 10s 5ms/step - loss: 0.0211 - accuracy: 0.9918 - val_loss: 0.1227 - val_accuracy: 0.9691\n",
            "Epoch 25/30\n",
            "1785/1785 [==============================] - 10s 5ms/step - loss: 0.0204 - accuracy: 0.9924 - val_loss: 0.1244 - val_accuracy: 0.9673\n",
            "Epoch 26/30\n",
            "1785/1785 [==============================] - 10s 5ms/step - loss: 0.0197 - accuracy: 0.9925 - val_loss: 0.1477 - val_accuracy: 0.9653\n",
            "Epoch 27/30\n",
            "1785/1785 [==============================] - 10s 5ms/step - loss: 0.0189 - accuracy: 0.9931 - val_loss: 0.5217 - val_accuracy: 0.9045\n",
            "Epoch 28/30\n",
            "1785/1785 [==============================] - 10s 5ms/step - loss: 0.0172 - accuracy: 0.9935 - val_loss: 0.3712 - val_accuracy: 0.9264\n",
            "Epoch 29/30\n",
            "1785/1785 [==============================] - 10s 5ms/step - loss: 0.0168 - accuracy: 0.9940 - val_loss: 0.1107 - val_accuracy: 0.9729\n",
            "Epoch 30/30\n",
            "1785/1785 [==============================] - 10s 5ms/step - loss: 0.0152 - accuracy: 0.9944 - val_loss: 0.2298 - val_accuracy: 0.9393\n"
          ],
          "name": "stdout"
        }
      ]
    },
    {
      "cell_type": "code",
      "metadata": {
        "id": "HSeKCVAAB8Zz",
        "colab_type": "code",
        "outputId": "2b96417e-e2d9-4b2b-9594-82396d3e5677",
        "colab": {
          "base_uri": "https://localhost:8080/",
          "height": 265
        }
      },
      "source": [
        "maxs = []\n",
        "for h in histories:\n",
        "    plt.plot(h.history['accuracy'])\n",
        "    plt.plot(h.history['val_accuracy'])\n",
        "    maxs.append(max(h.history['val_accuracy']))"
      ],
      "execution_count": 5,
      "outputs": [
        {
          "output_type": "display_data",
          "data": {
            "image/png": "[encoded data removed]",
            "text/plain": [
              "<Figure size 432x288 with 1 Axes>"
            ]
          },
          "metadata": {
            "tags": []
          }
        }
      ]
    },
    {
      "cell_type": "markdown",
      "metadata": {
        "id": "C3XvRiGjB8Z2",
        "colab_type": "text"
      },
      "source": [
        "### We're going to need a deeper network!\n",
        "\n",
        "That looks pretty good! However, since we have so much more data now, we might be tempted to use deeper network with more paramters. Try a network with architecture\n",
        "\n",
        "    INPUT - 1000 - 1000 - 128 - 16 - OUTPUT\n",
        "    \n",
        "For this architecture do the same test for learning rate effects, training for 30 epochs at each learning rate."
      ]
    },
    {
      "cell_type": "code",
      "metadata": {
        "id": "gN_R_HWKB8Z2",
        "colab_type": "code",
        "outputId": "e2559cd0-9308-442f-eada-707c44e5250b",
        "colab": {
          "base_uri": "https://localhost:8080/",
          "height": 1000
        }
      },
      "source": [
        "histories = []\n",
        "for lr in [1e-3]:\n",
        "    model5 = Sequential()\n",
        "    model5.add(Dense(1000, input_dim=1000, activation='relu'))\n",
        "    model5.add(BatchNormalization())\n",
        "    model5.add(Dense(1000, activation='relu'))\n",
        "    model5.add(BatchNormalization())\n",
        "    model5.add(Dense(128, activation='relu'))\n",
        "    model5.add(BatchNormalization())\n",
        "    model5.add(Dense(16, activation='relu'))\n",
        "    model5.add(BatchNormalization())\n",
        "    model5.add(Dense(1, activation='sigmoid'))\n",
        "    ad = Adam(learning_rate=lr, beta_1=0.9, beta_2=0.999, amsgrad=False)\n",
        "    model5.compile(loss='binary_crossentropy', optimizer=ad, metrics=['accuracy'])\n",
        "    history = model5.fit(X, y, epochs=30, batch_size=64, validation_split=0.2)\n",
        "    histories.append(history)"
      ],
      "execution_count": 6,
      "outputs": [
        {
          "output_type": "stream",
          "text": [
            "Epoch 1/30\n",
            "1785/1785 [==============================] - 10s 6ms/step - loss: 0.2452 - accuracy: 0.8849 - val_loss: 0.3143 - val_accuracy: 0.8679\n",
            "Epoch 2/30\n",
            "1785/1785 [==============================] - 10s 6ms/step - loss: 0.1007 - accuracy: 0.9618 - val_loss: 0.0912 - val_accuracy: 0.9672\n",
            "Epoch 3/30\n",
            "1785/1785 [==============================] - 10s 5ms/step - loss: 0.0844 - accuracy: 0.9688 - val_loss: 2.1761 - val_accuracy: 0.5386\n",
            "Epoch 4/30\n",
            "1785/1785 [==============================] - 10s 6ms/step - loss: 0.0749 - accuracy: 0.9728 - val_loss: 2.9780 - val_accuracy: 0.5230\n",
            "Epoch 5/30\n",
            "1785/1785 [==============================] - 10s 6ms/step - loss: 0.0681 - accuracy: 0.9753 - val_loss: 1.4578 - val_accuracy: 0.6134\n",
            "Epoch 6/30\n",
            "1785/1785 [==============================] - 10s 6ms/step - loss: 0.0622 - accuracy: 0.9776 - val_loss: 1.6753 - val_accuracy: 0.5833\n",
            "Epoch 7/30\n",
            "1785/1785 [==============================] - 10s 6ms/step - loss: 0.0584 - accuracy: 0.9781 - val_loss: 0.3110 - val_accuracy: 0.8895\n",
            "Epoch 8/30\n",
            "1785/1785 [==============================] - 10s 6ms/step - loss: 0.0549 - accuracy: 0.9804 - val_loss: 0.0580 - val_accuracy: 0.9795\n",
            "Epoch 9/30\n",
            "1785/1785 [==============================] - 10s 5ms/step - loss: 0.0517 - accuracy: 0.9809 - val_loss: 1.9983 - val_accuracy: 0.6285\n",
            "Epoch 10/30\n",
            "1785/1785 [==============================] - 10s 6ms/step - loss: 0.0486 - accuracy: 0.9821 - val_loss: 0.6669 - val_accuracy: 0.7857\n",
            "Epoch 11/30\n",
            "1785/1785 [==============================] - 10s 6ms/step - loss: 0.0456 - accuracy: 0.9836 - val_loss: 4.9318 - val_accuracy: 0.5002\n",
            "Epoch 12/30\n",
            "1785/1785 [==============================] - 10s 6ms/step - loss: 0.0440 - accuracy: 0.9835 - val_loss: 0.7642 - val_accuracy: 0.7906\n",
            "Epoch 13/30\n",
            "1785/1785 [==============================] - 10s 6ms/step - loss: 0.0417 - accuracy: 0.9847 - val_loss: 0.1458 - val_accuracy: 0.9525\n",
            "Epoch 14/30\n",
            "1785/1785 [==============================] - 10s 6ms/step - loss: 0.0387 - accuracy: 0.9858 - val_loss: 0.0807 - val_accuracy: 0.9739\n",
            "Epoch 15/30\n",
            "1785/1785 [==============================] - 10s 5ms/step - loss: 0.0363 - accuracy: 0.9868 - val_loss: 0.8848 - val_accuracy: 0.7584\n",
            "Epoch 16/30\n",
            "1785/1785 [==============================] - 10s 5ms/step - loss: 0.0347 - accuracy: 0.9873 - val_loss: 0.1799 - val_accuracy: 0.9481\n",
            "Epoch 17/30\n",
            "1785/1785 [==============================] - 10s 6ms/step - loss: 0.0319 - accuracy: 0.9882 - val_loss: 0.1163 - val_accuracy: 0.9683\n",
            "Epoch 18/30\n",
            "1785/1785 [==============================] - 10s 6ms/step - loss: 0.0311 - accuracy: 0.9884 - val_loss: 0.2585 - val_accuracy: 0.9554\n",
            "Epoch 19/30\n",
            "1785/1785 [==============================] - 10s 6ms/step - loss: 0.0285 - accuracy: 0.9897 - val_loss: 0.4108 - val_accuracy: 0.8965\n",
            "Epoch 20/30\n",
            "1785/1785 [==============================] - 10s 6ms/step - loss: 0.0266 - accuracy: 0.9902 - val_loss: 0.0911 - val_accuracy: 0.9694\n",
            "Epoch 21/30\n",
            "1785/1785 [==============================] - 10s 6ms/step - loss: 0.0259 - accuracy: 0.9904 - val_loss: 0.0906 - val_accuracy: 0.9767\n",
            "Epoch 22/30\n",
            "1785/1785 [==============================] - 10s 6ms/step - loss: 0.0234 - accuracy: 0.9912 - val_loss: 0.3381 - val_accuracy: 0.9776\n",
            "Epoch 23/30\n",
            "1785/1785 [==============================] - 10s 6ms/step - loss: 0.0220 - accuracy: 0.9920 - val_loss: 0.1974 - val_accuracy: 0.9697\n",
            "Epoch 24/30\n",
            "1785/1785 [==============================] - 10s 5ms/step - loss: 0.0213 - accuracy: 0.9919 - val_loss: 0.3153 - val_accuracy: 0.9757\n",
            "Epoch 25/30\n",
            "1785/1785 [==============================] - 10s 5ms/step - loss: 0.0205 - accuracy: 0.9921 - val_loss: 0.6197 - val_accuracy: 0.9462\n",
            "Epoch 26/30\n",
            "1785/1785 [==============================] - 10s 6ms/step - loss: 0.0192 - accuracy: 0.9929 - val_loss: 0.7849 - val_accuracy: 0.9233\n",
            "Epoch 27/30\n",
            "1785/1785 [==============================] - 10s 5ms/step - loss: 0.0171 - accuracy: 0.9936 - val_loss: 0.9412 - val_accuracy: 0.9738\n",
            "Epoch 28/30\n",
            "1785/1785 [==============================] - 10s 5ms/step - loss: 0.0173 - accuracy: 0.9935 - val_loss: 1.9462 - val_accuracy: 0.9141\n",
            "Epoch 29/30\n",
            "1785/1785 [==============================] - 10s 6ms/step - loss: 0.0166 - accuracy: 0.9940 - val_loss: 3.2844 - val_accuracy: 0.9705\n",
            "Epoch 30/30\n",
            "1785/1785 [==============================] - 10s 5ms/step - loss: 0.0152 - accuracy: 0.9943 - val_loss: 3.6858 - val_accuracy: 0.9582\n"
          ],
          "name": "stdout"
        }
      ]
    },
    {
      "cell_type": "code",
      "metadata": {
        "id": "MH9LmdYNB8Z5",
        "colab_type": "code",
        "outputId": "da4337b4-c75d-4cd5-9fd0-e720943792a4",
        "colab": {
          "base_uri": "https://localhost:8080/",
          "height": 265
        }
      },
      "source": [
        "maxs = []\n",
        "for h in histories:\n",
        "    plt.plot(h.history['accuracy'])\n",
        "    plt.plot(h.history['val_accuracy'])\n",
        "    maxs.append(max(h.history['val_accuracy']))"
      ],
      "execution_count": 8,
      "outputs": [
        {
          "output_type": "display_data",
          "data": {
            "image/png": "[encoded data removed]",
            "text/plain": [
              "<Figure size 432x288 with 1 Axes>"
            ]
          },
          "metadata": {
            "tags": []
          }
        }
      ]
    },
    {
      "cell_type": "code",
      "metadata": {
        "id": "nUTwmzOWB8Z8",
        "colab_type": "code",
        "outputId": "477ba7e1-3c0a-4cc1-8790-f6397b576004",
        "colab": {
          "base_uri": "https://localhost:8080/",
          "height": 527
        }
      },
      "source": [
        "histories[0].history['val_accuracy']"
      ],
      "execution_count": 9,
      "outputs": [
        {
          "output_type": "execute_result",
          "data": {
            "text/plain": [
              "[0.8679040670394897,\n",
              " 0.9671511054039001,\n",
              " 0.5385746955871582,\n",
              " 0.5229907035827637,\n",
              " 0.6134477257728577,\n",
              " 0.5833303928375244,\n",
              " 0.8895114660263062,\n",
              " 0.9794781804084778,\n",
              " 0.6285063624382019,\n",
              " 0.7856767773628235,\n",
              " 0.5001575946807861,\n",
              " 0.7906146049499512,\n",
              " 0.9525477290153503,\n",
              " 0.9739450216293335,\n",
              " 0.7583610415458679,\n",
              " 0.9481351971626282,\n",
              " 0.9682717323303223,\n",
              " 0.9554193615913391,\n",
              " 0.8964805006980896,\n",
              " 0.9694274067878723,\n",
              " 0.9766765832901001,\n",
              " 0.9776221513748169,\n",
              " 0.9697076082229614,\n",
              " 0.9757310748100281,\n",
              " 0.9462090730667114,\n",
              " 0.9232708811759949,\n",
              " 0.9738049507141113,\n",
              " 0.9141306281089783,\n",
              " 0.9705130457878113,\n",
              " 0.9582209587097168]"
            ]
          },
          "metadata": {
            "tags": []
          },
          "execution_count": 9
        }
      ]
    }
  ]
}