{
  "nbformat": 4,
  "nbformat_minor": 0,
  "metadata": {
    "kernelspec": {
      "display_name": "Python 3",
      "language": "python",
      "name": "python3"
    },
    "language_info": {
      "codemirror_mode": {
        "name": "ipython",
        "version": 3
      },
      "file_extension": ".py",
      "mimetype": "text/x-python",
      "name": "python",
      "nbconvert_exporter": "python",
      "pygments_lexer": "ipython3",
      "version": "3.7.6"
    },
    "colab": {
      "name": "Copy of mlp-1-solutions.ipynb",
      "provenance": [],
      "toc_visible": true
    },
    "accelerator": "GPU"
  },
  "cells": [
    {
      "cell_type": "markdown",
      "metadata": {
        "id": "laSk-bZZ5jTW",
        "colab_type": "text"
      },
      "source": [
        "# MLP Lesson 1\n",
        "\n",
        "## Google Cloud Storage Boilerplate\n",
        "\n",
        "This first cell has some boilerplate to connect the Google Cloud Storage bucket containing the data used for this tutorial to the Google Colab environment. \n",
        "\n",
        "In order to access the data for this workshop you'll need to run this cell, follow the link when prompted and copy the Google SDK token into the prompt. If everything works correctly a new folder called `data` should appear in the file browser on the left."
      ]
    },
    {
      "cell_type": "code",
      "metadata": {
        "id": "xLAyh2U65g3B",
        "colab_type": "code",
        "colab": {
          "base_uri": "https://localhost:8080/",
          "height": 374
        },
        "outputId": "753a6fa8-7d6c-4784-fdcf-5ee868369024"
      },
      "source": [
        "%tensorflow_version 2.x\n",
        "from google.colab import auth\n",
        "auth.authenticate_user()\n",
        "\n",
        "project_id = 'sciml-workshop'\n",
        "bucket_name = 'sciml-workshop'\n",
        "\n",
        "!echo \"deb http://packages.cloud.google.com/apt gcsfuse-bionic main\" > /etc/apt/sources.list.d/gcsfuse.list\n",
        "!curl https://packages.cloud.google.com/apt/doc/apt-key.gpg | apt-key add -\n",
        "!apt -qq update\n",
        "!apt -qq install gcsfuse\n",
        "\n",
        "!gcloud config set project {project_id}\n",
        "\n",
        "!mkdir data\n",
        "!gcsfuse  --implicit-dirs --limit-bytes-per-sec -1 --limit-ops-per-sec -1 {bucket_name} /content/data"
      ],
      "execution_count": 1,
      "outputs": [
        {
          "output_type": "stream",
          "text": [
            "  % Total    % Received % Xferd  Average Speed   Time    Time     Time  Current\n",
            "                                 Dload  Upload   Total   Spent    Left  Speed\n",
            "\r  0     0    0     0    0     0      0      0 --:--:-- --:--:-- --:--:--     0\r100   653  100   653    0     0  23321      0 --:--:-- --:--:-- --:--:-- 23321\n",
            "OK\n",
            "64 packages can be upgraded. Run 'apt list --upgradable' to see them.\n",
            "The following NEW packages will be installed:\n",
            "  gcsfuse\n",
            "0 upgraded, 1 newly installed, 0 to remove and 64 not upgraded.\n",
            "Need to get 4,274 kB of archives.\n",
            "After this operation, 12.8 MB of additional disk space will be used.\n",
            "Selecting previously unselected package gcsfuse.\n",
            "(Reading database ... 144467 files and directories currently installed.)\n",
            "Preparing to unpack .../gcsfuse_0.28.1_amd64.deb ...\n",
            "Unpacking gcsfuse (0.28.1) ...\n",
            "Setting up gcsfuse (0.28.1) ...\n",
            "Updated property [core/project].\n",
            "Using mount point: /content/data\n",
            "Opening GCS connection...\n",
            "Opening bucket...\n",
            "Mounting file system...\n",
            "File system has been successfully mounted.\n"
          ],
          "name": "stdout"
        }
      ]
    },
    {
      "cell_type": "code",
      "metadata": {
        "id": "WDAq1DDk5Ny5",
        "colab_type": "code",
        "colab": {}
      },
      "source": [
        "import pandas as pd\n",
        "import matplotlib.pyplot as plt\n",
        "import numpy as np\n",
        "\n",
        "plt.style.use('ggplot')"
      ],
      "execution_count": 0,
      "outputs": []
    },
    {
      "cell_type": "markdown",
      "metadata": {
        "id": "7B9D3n_R5NzB",
        "colab_type": "text"
      },
      "source": [
        "# Multi layer perceptron\n",
        "\n",
        "In this practical we fit our first deep neural network. We are starting with the simplest architecture - a multi-layer perceptron (MLP). \n",
        "\n",
        "## The task\n",
        "\n",
        "We have a set of spectra from Muon spectroscopy experiemnts, we would like to train a NN to be able to detect from a given spectrum wheter or not a certain element is present in the sample. In this case we are going to try to train a network to detect if there is `Ag` in a sample.\n",
        "\n",
        "## The data\n",
        "\n",
        "There is a dataset conveniently provided with spectra and labels saying wheter or not there is `Ag` in the data (`ag-muon-data.pkl`). It is in a `pickle` file, load it into a `pandas` dataframe and take a quick look."
      ]
    },
    {
      "cell_type": "code",
      "metadata": {
        "id": "xy8NJczK5NzB",
        "colab_type": "code",
        "colab": {}
      },
      "source": [
        "df = pd.read_pickle('/content/data/muon/ag-muon-data.pkl')"
      ],
      "execution_count": 0,
      "outputs": []
    },
    {
      "cell_type": "code",
      "metadata": {
        "id": "NvxdBvuT5NzF",
        "colab_type": "code",
        "outputId": "9637f4fe-8c8d-4e84-ca3e-3105ba074c33",
        "colab": {
          "base_uri": "https://localhost:8080/",
          "height": 204
        }
      },
      "source": [
        "df.head()"
      ],
      "execution_count": 7,
      "outputs": [
        {
          "output_type": "execute_result",
          "data": {
            "text/html": [
              "<div>\n",
              "<style scoped>\n",
              "    .dataframe tbody tr th:only-of-type {\n",
              "        vertical-align: middle;\n",
              "    }\n",
              "\n",
              "    .dataframe tbody tr th {\n",
              "        vertical-align: top;\n",
              "    }\n",
              "\n",
              "    .dataframe thead th {\n",
              "        text-align: right;\n",
              "    }\n",
              "</style>\n",
              "<table border=\"1\" class=\"dataframe\">\n",
              "  <thead>\n",
              "    <tr style=\"text-align: right;\">\n",
              "      <th></th>\n",
              "      <th>0</th>\n",
              "      <th>1</th>\n",
              "      <th>2</th>\n",
              "      <th>3</th>\n",
              "    </tr>\n",
              "  </thead>\n",
              "  <tbody>\n",
              "    <tr>\n",
              "      <th>0</th>\n",
              "      <td>[Zn]</td>\n",
              "      <td>0</td>\n",
              "      <td>[0, 20, 40, 60, 80, 100, 120, 140, 160, 180, 2...</td>\n",
              "      <td>[0.0, 0.0, 181.8778921374784, 488.349654519592...</td>\n",
              "    </tr>\n",
              "    <tr>\n",
              "      <th>1</th>\n",
              "      <td>[Sb, Zn, Si]</td>\n",
              "      <td>0</td>\n",
              "      <td>[0, 20, 40, 60, 80, 100, 120, 140, 160, 180, 2...</td>\n",
              "      <td>[0.0, 0.0, 202.97108056052195, 433.59971962403...</td>\n",
              "    </tr>\n",
              "    <tr>\n",
              "      <th>2</th>\n",
              "      <td>[Fe, Sb]</td>\n",
              "      <td>0</td>\n",
              "      <td>[0, 20, 40, 60, 80, 100, 120, 140, 160, 180, 2...</td>\n",
              "      <td>[0.0, 0.0, 212.7229415490735, 428.816091507503...</td>\n",
              "    </tr>\n",
              "    <tr>\n",
              "      <th>3</th>\n",
              "      <td>[Ag, Zn, Cu, Sb]</td>\n",
              "      <td>1</td>\n",
              "      <td>[0, 20, 40, 60, 80, 100, 120, 140, 160, 180, 2...</td>\n",
              "      <td>[0.0, 0.0, 192.36172506402616, 420.19496785125...</td>\n",
              "    </tr>\n",
              "    <tr>\n",
              "      <th>4</th>\n",
              "      <td>[Fe, Zn]</td>\n",
              "      <td>0</td>\n",
              "      <td>[0, 20, 40, 60, 80, 100, 120, 140, 160, 180, 2...</td>\n",
              "      <td>[0.0, 0.0, 206.91647977543502, 434.03768636007...</td>\n",
              "    </tr>\n",
              "  </tbody>\n",
              "</table>\n",
              "</div>"
            ],
            "text/plain": [
              "                  0  ...                                                  3\n",
              "0              [Zn]  ...  [0.0, 0.0, 181.8778921374784, 488.349654519592...\n",
              "1      [Sb, Zn, Si]  ...  [0.0, 0.0, 202.97108056052195, 433.59971962403...\n",
              "2          [Fe, Sb]  ...  [0.0, 0.0, 212.7229415490735, 428.816091507503...\n",
              "3  [Ag, Zn, Cu, Sb]  ...  [0.0, 0.0, 192.36172506402616, 420.19496785125...\n",
              "4          [Fe, Zn]  ...  [0.0, 0.0, 206.91647977543502, 434.03768636007...\n",
              "\n",
              "[5 rows x 4 columns]"
            ]
          },
          "metadata": {
            "tags": []
          },
          "execution_count": 7
        }
      ]
    },
    {
      "cell_type": "markdown",
      "metadata": {
        "id": "QGCUlFP05NzI",
        "colab_type": "text"
      },
      "source": [
        "Notice that the third column of the dataframe contains either 1 or zero, conveniently the data has already been one-hot-encoded for you. 1 - there is `Ag` in the sample, 0 - there is no `Ag` in the sample. The fifth column of the dataframe contains the spectroscopic signal from the experiment. \n",
        "\n",
        "The sample number `23993` is pure `Ag` plot it out to see the kind of data we are looking at.\n",
        "\n",
        "*Note* To access this data in `pandas` use `sample = df.iloc[23993][3]`"
      ]
    },
    {
      "cell_type": "code",
      "metadata": {
        "id": "u4aaF2vD5NzJ",
        "colab_type": "code",
        "colab": {}
      },
      "source": [
        "sample = df.iloc[23993][3]"
      ],
      "execution_count": 0,
      "outputs": []
    },
    {
      "cell_type": "code",
      "metadata": {
        "id": "cD3djGdr5NzM",
        "colab_type": "code",
        "outputId": "49a33f7f-7679-4c96-8c68-00b55d635648",
        "colab": {
          "base_uri": "https://localhost:8080/",
          "height": 282
        }
      },
      "source": [
        "plt.plot(sample)"
      ],
      "execution_count": 9,
      "outputs": [
        {
          "output_type": "execute_result",
          "data": {
            "text/plain": [
              "[<matplotlib.lines.Line2D at 0x7faff25c5cc0>]"
            ]
          },
          "metadata": {
            "tags": []
          },
          "execution_count": 9
        },
        {
          "output_type": "display_data",
          "data": {
            "image/png": "[encoded data removed]",
            "text/plain": [
              "<Figure size 432x288 with 1 Axes>"
            ]
          },
          "metadata": {
            "tags": []
          }
        }
      ]
    },
    {
      "cell_type": "markdown",
      "metadata": {
        "id": "pRRX5FeF5NzP",
        "colab_type": "text"
      },
      "source": [
        "We can see some clear peaks associated with `Ag` - however, to get a feel for the complexity of picking out signals with `Ag` in multinary samples try plotting sample number `26`, which is an `Ag/Si` binary."
      ]
    },
    {
      "cell_type": "code",
      "metadata": {
        "id": "brhlY6or5NzQ",
        "colab_type": "code",
        "outputId": "e6e9720c-3aa6-4b1d-d279-7f20e3dea1e3",
        "colab": {
          "base_uri": "https://localhost:8080/",
          "height": 282
        }
      },
      "source": [
        "sample = df.iloc[26][3]\n",
        "plt.plot(sample)"
      ],
      "execution_count": 10,
      "outputs": [
        {
          "output_type": "execute_result",
          "data": {
            "text/plain": [
              "[<matplotlib.lines.Line2D at 0x7faff2c0c710>]"
            ]
          },
          "metadata": {
            "tags": []
          },
          "execution_count": 10
        },
        {
          "output_type": "display_data",
          "data": {
            "image/png": "[encoded data removed]",
            "text/plain": [
              "<Figure size 432x288 with 1 Axes>"
            ]
          },
          "metadata": {
            "tags": []
          }
        }
      ]
    },
    {
      "cell_type": "markdown",
      "metadata": {
        "id": "3rJbCnFJ5NzS",
        "colab_type": "text"
      },
      "source": [
        "## The approach\n",
        "\n",
        "We are going to try and train a NN to classify spectra into those that contain `Ag` and those that do not.\n",
        "\n",
        "Get X - your input data as the fifth column of the dataset and y your objective as the third column. You can use the pandas function `to_list` to do this. Convert the resulting lists to `numpy` arrays for feeding to the NN."
      ]
    },
    {
      "cell_type": "code",
      "metadata": {
        "id": "Hf9OqD6X5NzU",
        "colab_type": "code",
        "colab": {}
      },
      "source": [
        "X = np.array(df[3].to_list())\n",
        "y = np.array(df[1].to_list())"
      ],
      "execution_count": 0,
      "outputs": []
    },
    {
      "cell_type": "markdown",
      "metadata": {
        "id": "ZZxM-J9z5NzW",
        "colab_type": "text"
      },
      "source": [
        "## Try out a network\n",
        "\n",
        "We can see that the data is given as a series of 300 points, each corresponding to an intensity. We can think about building a MLP that has 300 nodes in the input layer and then a single node in the output layer. The output should be 1 if there is `Ag` in the sample and 0 if there is no `Ag` in the sample.\n",
        "\n",
        "We will start by using `keras` `Sequential` model building - this allows you to simply add new layers to a model using the `model.add(<layer details>)` command. The model is instantiated with\n",
        "```\n",
        "model = Sequential()\n",
        "```\n",
        "Now we want to add layers to the netowrk - as we are building a MLP, all of our layers are fully connected or [`Dense`](https://keras.io/layers/core/) layers. The arguments that are passed to the dense layer are\n",
        "* Number of nodes\n",
        "* Number of inputs to the layer - this is only necessary for the first layer and must match the shape of the data\n",
        "* Activation function - this is the non-linear function used to calculate the activation of the layer \n",
        "* There are many other properties you can set, but these are all we need for now\n",
        "\n",
        "**Note** we are importing from `tensorflow.keras`, rather than `keras` this is to ensure consistency with models built in pure `tensorflow`."
      ]
    },
    {
      "cell_type": "code",
      "metadata": {
        "id": "_6zI70Gv5NzX",
        "colab_type": "code",
        "colab": {}
      },
      "source": [
        "from tensorflow.keras import Sequential\n",
        "from tensorflow.keras.layers import Dense\n",
        "# define the keras model\n",
        "model = Sequential()\n",
        "model.add(Dense(12, input_dim=300, activation='relu'))\n",
        "model.add(Dense(8, activation='relu'))\n",
        "model.add(Dense(1, activation='sigmoid'))"
      ],
      "execution_count": 0,
      "outputs": []
    },
    {
      "cell_type": "markdown",
      "metadata": {
        "id": "705SmG2N5NzZ",
        "colab_type": "text"
      },
      "source": [
        "We can now look at the properties of the model with `model.summary()`"
      ]
    },
    {
      "cell_type": "code",
      "metadata": {
        "id": "B2WllVYI5Nza",
        "colab_type": "code",
        "outputId": "0c9f387c-3e86-4c96-a76f-eae39dcdb708",
        "colab": {
          "base_uri": "https://localhost:8080/",
          "height": 255
        }
      },
      "source": [
        "model.summary()"
      ],
      "execution_count": 13,
      "outputs": [
        {
          "output_type": "stream",
          "text": [
            "Model: \"sequential\"\n",
            "_________________________________________________________________\n",
            "Layer (type)                 Output Shape              Param #   \n",
            "=================================================================\n",
            "dense (Dense)                (None, 12)                3612      \n",
            "_________________________________________________________________\n",
            "dense_1 (Dense)              (None, 8)                 104       \n",
            "_________________________________________________________________\n",
            "dense_2 (Dense)              (None, 1)                 9         \n",
            "=================================================================\n",
            "Total params: 3,725\n",
            "Trainable params: 3,725\n",
            "Non-trainable params: 0\n",
            "_________________________________________________________________\n"
          ],
          "name": "stdout"
        }
      ]
    },
    {
      "cell_type": "markdown",
      "metadata": {
        "id": "l2MkX2Se5Nzf",
        "colab_type": "text"
      },
      "source": [
        "Now you need to [compile](https://keras.io/models/model/) the model - this involves setting a `loss` to train against, an `optimizer` and optionally some `metrics` to evaluate during the training. For the `loss`, since we are fitting to a range between 0 and 1 `binary_crossentropy` is the obvious choice. For `optimizer` we use `adam` and we will have just one metric `accuracy` - note that metrics must be passed as a list. See the [`keras` documentation](https://keras.io/models/model/)"
      ]
    },
    {
      "cell_type": "code",
      "metadata": {
        "id": "OC4tGTG25Nzf",
        "colab_type": "code",
        "colab": {}
      },
      "source": [
        "model.compile(loss='binary_crossentropy', optimizer='adam', metrics=['accuracy'])"
      ],
      "execution_count": 0,
      "outputs": []
    },
    {
      "cell_type": "markdown",
      "metadata": {
        "id": "k2H2UO155Nzi",
        "colab_type": "text"
      },
      "source": [
        "When the model is compied we can now start to fit it using the data. Again details of the `fit` function of `keras` models can be found in the [`keras` documentation](https://keras.io/models/model/). \n",
        "\n",
        "We need to specify the X and y data, we will run for 60 epochs and we will use a batch size of 32. We should also specify a validation split of 20% of the data using `validation_split=0.2` Run the model for `20` epochs with a `batch_size` of 64."
      ]
    },
    {
      "cell_type": "code",
      "metadata": {
        "id": "aEseyny15Nzj",
        "colab_type": "code",
        "colab": {
          "base_uri": "https://localhost:8080/",
          "height": 714
        },
        "outputId": "1404fccc-8fc6-4981-f5c5-bfa48c46ed15"
      },
      "source": [
        "model.fit(X, y, epochs=20, batch_size=64, validation_split=0.2)"
      ],
      "execution_count": 15,
      "outputs": [
        {
          "output_type": "stream",
          "text": [
            "Epoch 1/20\n",
            "2800/2800 [==============================] - 9s 3ms/step - loss: 0.5256 - accuracy: 0.9453 - val_loss: 0.0596 - val_accuracy: 1.0000\n",
            "Epoch 2/20\n",
            "2800/2800 [==============================] - 9s 3ms/step - loss: 0.1960 - accuracy: 0.9519 - val_loss: 0.0789 - val_accuracy: 1.0000\n",
            "Epoch 3/20\n",
            "2800/2800 [==============================] - 8s 3ms/step - loss: 0.1948 - accuracy: 0.9519 - val_loss: 0.0695 - val_accuracy: 1.0000\n",
            "Epoch 4/20\n",
            "2800/2800 [==============================] - 8s 3ms/step - loss: 0.1931 - accuracy: 0.9519 - val_loss: 0.0815 - val_accuracy: 1.0000\n",
            "Epoch 5/20\n",
            "2800/2800 [==============================] - 8s 3ms/step - loss: 0.1901 - accuracy: 0.9519 - val_loss: 0.0492 - val_accuracy: 1.0000\n",
            "Epoch 6/20\n",
            "2800/2800 [==============================] - 9s 3ms/step - loss: 0.1869 - accuracy: 0.9519 - val_loss: 0.0415 - val_accuracy: 1.0000\n",
            "Epoch 7/20\n",
            "2800/2800 [==============================] - 9s 3ms/step - loss: 0.1842 - accuracy: 0.9519 - val_loss: 0.0533 - val_accuracy: 1.0000\n",
            "Epoch 8/20\n",
            "2800/2800 [==============================] - 8s 3ms/step - loss: 0.1825 - accuracy: 0.9519 - val_loss: 0.0298 - val_accuracy: 1.0000\n",
            "Epoch 9/20\n",
            "2800/2800 [==============================] - 8s 3ms/step - loss: 0.1828 - accuracy: 0.9519 - val_loss: 0.0236 - val_accuracy: 1.0000\n",
            "Epoch 10/20\n",
            "2800/2800 [==============================] - 9s 3ms/step - loss: 0.1814 - accuracy: 0.9519 - val_loss: 0.0309 - val_accuracy: 1.0000\n",
            "Epoch 11/20\n",
            "2800/2800 [==============================] - 8s 3ms/step - loss: 0.1811 - accuracy: 0.9519 - val_loss: 0.0372 - val_accuracy: 1.0000\n",
            "Epoch 12/20\n",
            "2800/2800 [==============================] - 8s 3ms/step - loss: 0.1818 - accuracy: 0.9519 - val_loss: 0.0715 - val_accuracy: 1.0000\n",
            "Epoch 13/20\n",
            "2800/2800 [==============================] - 9s 3ms/step - loss: 0.1813 - accuracy: 0.9519 - val_loss: 0.0432 - val_accuracy: 1.0000\n",
            "Epoch 14/20\n",
            "2800/2800 [==============================] - 8s 3ms/step - loss: 0.1807 - accuracy: 0.9519 - val_loss: 0.0836 - val_accuracy: 1.0000\n",
            "Epoch 15/20\n",
            "2800/2800 [==============================] - 8s 3ms/step - loss: 0.1811 - accuracy: 0.9519 - val_loss: 0.0374 - val_accuracy: 1.0000\n",
            "Epoch 16/20\n",
            "2800/2800 [==============================] - 8s 3ms/step - loss: 0.1805 - accuracy: 0.9519 - val_loss: 0.0450 - val_accuracy: 1.0000\n",
            "Epoch 17/20\n",
            "2800/2800 [==============================] - 9s 3ms/step - loss: 0.1809 - accuracy: 0.9519 - val_loss: 0.0853 - val_accuracy: 1.0000\n",
            "Epoch 18/20\n",
            "2800/2800 [==============================] - 8s 3ms/step - loss: 0.1804 - accuracy: 0.9519 - val_loss: 0.0309 - val_accuracy: 1.0000\n",
            "Epoch 19/20\n",
            "2800/2800 [==============================] - 8s 3ms/step - loss: 0.1805 - accuracy: 0.9519 - val_loss: 0.0285 - val_accuracy: 1.0000\n",
            "Epoch 20/20\n",
            "2800/2800 [==============================] - 9s 3ms/step - loss: 0.1803 - accuracy: 0.9519 - val_loss: 0.0602 - val_accuracy: 1.0000\n"
          ],
          "name": "stdout"
        },
        {
          "output_type": "execute_result",
          "data": {
            "text/plain": [
              "<tensorflow.python.keras.callbacks.History at 0x7fafe99f2be0>"
            ]
          },
          "metadata": {
            "tags": []
          },
          "execution_count": 15
        }
      ]
    },
    {
      "cell_type": "markdown",
      "metadata": {
        "id": "ClCaBS_x5Nzm",
        "colab_type": "text"
      },
      "source": [
        "## Class imbalance\n",
        "\n",
        "Notice how the accuracy of the model very quickly achieves a certain value and then stops improving. This value could be well above 50%, which suggests that that model is actually learning something. However we may have fallen into a trap here. Take a look at the distribution of the target data, using `plt.hist(y)`. Also pay special attention to the validation data (the final 20% of the data)."
      ]
    },
    {
      "cell_type": "code",
      "metadata": {
        "id": "a2Kg_sXe5Nzm",
        "colab_type": "code",
        "outputId": "d82c343b-4811-4047-8012-fcb05e148c40",
        "colab": {
          "base_uri": "https://localhost:8080/",
          "height": 333
        }
      },
      "source": [
        "plt.hist(y[21000:])"
      ],
      "execution_count": 16,
      "outputs": [
        {
          "output_type": "execute_result",
          "data": {
            "text/plain": [
              "(array([201927.,      0.,      0.,      0.,      0.,      0.,      0.,\n",
              "             0.,      0.,   1073.]),\n",
              " array([0. , 0.1, 0.2, 0.3, 0.4, 0.5, 0.6, 0.7, 0.8, 0.9, 1. ]),\n",
              " <a list of 10 Patch objects>)"
            ]
          },
          "metadata": {
            "tags": []
          },
          "execution_count": 16
        },
        {
          "output_type": "display_data",
          "data": {
            "image/png": "[encoded data removed]",
            "text/plain": [
              "<Figure size 432x288 with 1 Axes>"
            ]
          },
          "metadata": {
            "tags": []
          }
        }
      ]
    },
    {
      "cell_type": "markdown",
      "metadata": {
        "id": "RGlSK_uS5Nzo",
        "colab_type": "text"
      },
      "source": [
        "You might notice something about the class numbers that closely resembls the accuracy achieved by the model. The data with no `Ag` accounts for around 95% of the data. So if the model simply learns to guess no `Ag` it can achieve 95% accuracy without learning anything useful. To avoid this we will rebalabace the classes.\n",
        "\n",
        "With class imbalance there are a number  of strategies that you can take to address the problem.\n",
        "\n",
        "* Up-sample the minority class\n",
        "* Down-sample the majority class\n",
        "* Change your performance metric\n",
        "\n",
        "In our case the best available option is to down-sample the majority class, so that `Ag` and no`Ag` have equal numbers in the datasets.\n",
        "\n",
        "You can split the dataframe into the `1` and `0` entries using something like `df[df[1]==0]`.\n",
        "\n",
        "Then use [`sklearn.utils.resample`](https://scikit-learn.org/stable/modules/generated/sklearn.utils.resample.html) to resample the majority dataframe.\n",
        "\n",
        "Then concatenate and shuffle the datasets - `pd.concat` followed by `pd.sample`\n",
        "\n",
        "A good online guide is available [here](https://elitedatascience.com/imbalanced-classes)."
      ]
    },
    {
      "cell_type": "code",
      "metadata": {
        "id": "nZEJP3zY5Nzp",
        "colab_type": "code",
        "colab": {}
      },
      "source": [
        "from sklearn.utils import resample\n",
        "\n",
        "num_ag = np.count_nonzero(y==0)\n",
        "num_no_ag = np.count_nonzero(y==1)\n",
        "\n",
        "df_majority = df[df[1]==0]\n",
        "df_minority = df[df[1]==1]\n",
        "\n",
        "# Downsample majority class\n",
        "df_majority_downsampled = resample(df_majority, \n",
        "                                 replace=False,    # sample without replacement\n",
        "                                 n_samples=num_no_ag,     # to match minority class\n",
        "                                 random_state=123) # reproducible results\n",
        "\n",
        "df_downsampled = pd.concat([df_majority_downsampled, df_minority])\n",
        "df_new = df_downsampled.sample(frac=1)\n",
        "\n",
        "X = np.array(df_new[3].to_list())\n",
        "y = np.array(df_new[1].to_list())"
      ],
      "execution_count": 0,
      "outputs": []
    },
    {
      "cell_type": "code",
      "metadata": {
        "id": "ZX6ZfhyY5Nzs",
        "colab_type": "code",
        "outputId": "8ae61a8a-2f51-47bb-ac0d-8fb2c8d3430a",
        "colab": {
          "base_uri": "https://localhost:8080/",
          "height": 714
        }
      },
      "source": [
        "model.fit(X, y, epochs=20, batch_size=64, validation_split=0.2)"
      ],
      "execution_count": 18,
      "outputs": [
        {
          "output_type": "stream",
          "text": [
            "Epoch 1/20\n",
            "216/216 [==============================] - 1s 5ms/step - loss: 0.7427 - accuracy: 0.5009 - val_loss: 0.7026 - val_accuracy: 0.4964\n",
            "Epoch 2/20\n",
            "216/216 [==============================] - 1s 4ms/step - loss: 0.6961 - accuracy: 0.5009 - val_loss: 0.6941 - val_accuracy: 0.4964\n",
            "Epoch 3/20\n",
            "216/216 [==============================] - 1s 4ms/step - loss: 0.6934 - accuracy: 0.5009 - val_loss: 0.6933 - val_accuracy: 0.4964\n",
            "Epoch 4/20\n",
            "216/216 [==============================] - 1s 4ms/step - loss: 0.6932 - accuracy: 0.5009 - val_loss: 0.6932 - val_accuracy: 0.4964\n",
            "Epoch 5/20\n",
            "216/216 [==============================] - 1s 4ms/step - loss: 0.6932 - accuracy: 0.4937 - val_loss: 0.6932 - val_accuracy: 0.4964\n",
            "Epoch 6/20\n",
            "216/216 [==============================] - 1s 4ms/step - loss: 0.6932 - accuracy: 0.4995 - val_loss: 0.6932 - val_accuracy: 0.4964\n",
            "Epoch 7/20\n",
            "216/216 [==============================] - 1s 4ms/step - loss: 0.6932 - accuracy: 0.5009 - val_loss: 0.6932 - val_accuracy: 0.4964\n",
            "Epoch 8/20\n",
            "216/216 [==============================] - 1s 4ms/step - loss: 0.6932 - accuracy: 0.4979 - val_loss: 0.6932 - val_accuracy: 0.4964\n",
            "Epoch 9/20\n",
            "216/216 [==============================] - 1s 4ms/step - loss: 0.6932 - accuracy: 0.4954 - val_loss: 0.6932 - val_accuracy: 0.4964\n",
            "Epoch 10/20\n",
            "216/216 [==============================] - 1s 4ms/step - loss: 0.6932 - accuracy: 0.4930 - val_loss: 0.6931 - val_accuracy: 0.5036\n",
            "Epoch 11/20\n",
            "216/216 [==============================] - 1s 4ms/step - loss: 0.6932 - accuracy: 0.5011 - val_loss: 0.6932 - val_accuracy: 0.4964\n",
            "Epoch 12/20\n",
            "216/216 [==============================] - 1s 4ms/step - loss: 0.6932 - accuracy: 0.4934 - val_loss: 0.6932 - val_accuracy: 0.4964\n",
            "Epoch 13/20\n",
            "216/216 [==============================] - 1s 4ms/step - loss: 0.6932 - accuracy: 0.4977 - val_loss: 0.6932 - val_accuracy: 0.4964\n",
            "Epoch 14/20\n",
            "216/216 [==============================] - 1s 4ms/step - loss: 0.6932 - accuracy: 0.5009 - val_loss: 0.6932 - val_accuracy: 0.4964\n",
            "Epoch 15/20\n",
            "216/216 [==============================] - 1s 4ms/step - loss: 0.6932 - accuracy: 0.5009 - val_loss: 0.6932 - val_accuracy: 0.4964\n",
            "Epoch 16/20\n",
            "216/216 [==============================] - 1s 4ms/step - loss: 0.6932 - accuracy: 0.4984 - val_loss: 0.6932 - val_accuracy: 0.4964\n",
            "Epoch 17/20\n",
            "216/216 [==============================] - 1s 4ms/step - loss: 0.6932 - accuracy: 0.4987 - val_loss: 0.6931 - val_accuracy: 0.5036\n",
            "Epoch 18/20\n",
            "216/216 [==============================] - 1s 4ms/step - loss: 0.6932 - accuracy: 0.4987 - val_loss: 0.6932 - val_accuracy: 0.4964\n",
            "Epoch 19/20\n",
            "216/216 [==============================] - 1s 4ms/step - loss: 0.6932 - accuracy: 0.4963 - val_loss: 0.6931 - val_accuracy: 0.4964\n",
            "Epoch 20/20\n",
            "216/216 [==============================] - 1s 4ms/step - loss: 0.6932 - accuracy: 0.4974 - val_loss: 0.6932 - val_accuracy: 0.4964\n"
          ],
          "name": "stdout"
        },
        {
          "output_type": "execute_result",
          "data": {
            "text/plain": [
              "<tensorflow.python.keras.callbacks.History at 0x7fafec132400>"
            ]
          },
          "metadata": {
            "tags": []
          },
          "execution_count": 18
        }
      ]
    },
    {
      "cell_type": "markdown",
      "metadata": {
        "id": "sf22hIPe5Nzu",
        "colab_type": "text"
      },
      "source": [
        "**Note** In some instances the model now stops learning at around 50% - pretty disappointing. So what else could be holding us back? In some instances the model will actually train and achieve above 50% in this step - the explanation is below.\n",
        "\n",
        "## Optimizer hyperparameters\n",
        "\n",
        "Recall from the lecture that we talked about hyperparameters in optimizers. In this case we have used the `Adam` optimizer with a default learning rate. \n",
        "\n",
        "> \"The learning rate is perhaps the most important hyperparameter. If you have time to tune only one hyperparameter, tune the learning rate.\" - Goodfellow, Deep Learning\n",
        "\n",
        "One thing that can happen if our learning rate is too high initially is that the optimizer can continually jump over optimal solutions and not actually find its way to a good answer. Whether or not the optimizer does find it's way to a minmum is down to a combination of the loss function space, the starting parameters and the optimizer settings. Since the initial parameters of the network are randomised there are some cases, as noted above where, the network will optimise at the standard learning rate. However, sometimes it will just keep skipping around and not learning. \n",
        "\n",
        "To overcome this problem we can lower the learning rate of the optimizer for an initial optimisation. Once the model has started to train and the loss has started to decrease we can dial the learning rate back up to speed up the training.\n",
        "\n",
        "On the other hand, lower the learning rate too much and training will take an eternity.\n",
        "\n",
        "### Grid search for learning rate\n",
        "\n",
        "For this part of the exercise we will do a serach over possible learning rates. Typically we would look over  range of 0.1 to 10$^{-5}$ on a $\\log$ scale.\n",
        "\n",
        "To edit the optimizer settings, we import the optimizer `Adam` from `tensorflow.keras.optimizers` and set the learning rate\n",
        "\n",
        "```\n",
        "ad = Adam(learning_rate=0.0001)\n",
        "model.compile(loss='binary_crossentropy', optimizer=ad, metrics=['accuracy'])\n",
        "```\n",
        "\n",
        "Construct a loop to go over the learning rate range described above. For each training cycle we will extract the best validation accuracy value.\n",
        "\n",
        "You can save the history of a training cycle as a dictionary simply by `history = model.fit(<params>)`, here the metrics and losses are saved to a dictionary `history.history`. Run the model for 40 epochs at each learning rate.\n",
        "\n",
        "Save this dictionary for each learning rate and then compare the results. Look at maximum value for `accuracy` from each of the learning rates."
      ]
    },
    {
      "cell_type": "code",
      "metadata": {
        "id": "qX88PUB15Nzu",
        "colab_type": "code",
        "outputId": "15ae54e4-4a46-4035-fcb4-e42fbd26a3e9",
        "colab": {
          "base_uri": "https://localhost:8080/",
          "height": 1000
        }
      },
      "source": [
        "from tensorflow.keras.optimizers import Adam\n",
        "lr_histories = []\n",
        "for lr in [1e-1, 1e-2, 1e-3, 1e-4, 1e-5]:\n",
        "    model = Sequential()\n",
        "    model.add(Dense(12, input_dim=300, activation='relu'))\n",
        "    model.add(Dense(8, activation='relu'))\n",
        "    model.add(Dense(1, activation='sigmoid'))\n",
        "    ad = Adam(learning_rate=lr, beta_1=0.9, beta_2=0.999, amsgrad=False)\n",
        "    model.compile(loss='binary_crossentropy', optimizer=ad, metrics=['accuracy'])\n",
        "    history = model.fit(X, y, epochs=40, batch_size=64, validation_split=0.2)\n",
        "    lr_histories.append(history.history)"
      ],
      "execution_count": 19,
      "outputs": [
        {
          "output_type": "stream",
          "text": [
            "Epoch 1/40\n",
            "216/216 [==============================] - 1s 5ms/step - loss: 0.8861 - accuracy: 0.4934 - val_loss: 0.6933 - val_accuracy: 0.5036\n",
            "Epoch 2/40\n",
            "216/216 [==============================] - 1s 4ms/step - loss: 0.6945 - accuracy: 0.5005 - val_loss: 0.6938 - val_accuracy: 0.5036\n",
            "Epoch 3/40\n",
            "216/216 [==============================] - 1s 4ms/step - loss: 0.6941 - accuracy: 0.5020 - val_loss: 0.6947 - val_accuracy: 0.5036\n",
            "Epoch 4/40\n",
            "216/216 [==============================] - 1s 4ms/step - loss: 0.6956 - accuracy: 0.5000 - val_loss: 0.6933 - val_accuracy: 0.4964\n",
            "Epoch 5/40\n",
            "216/216 [==============================] - 1s 4ms/step - loss: 0.6941 - accuracy: 0.4991 - val_loss: 0.6942 - val_accuracy: 0.5036\n",
            "Epoch 6/40\n",
            "216/216 [==============================] - 1s 4ms/step - loss: 0.6945 - accuracy: 0.5024 - val_loss: 0.6957 - val_accuracy: 0.5036\n",
            "Epoch 7/40\n",
            "216/216 [==============================] - 1s 4ms/step - loss: 0.6953 - accuracy: 0.5027 - val_loss: 0.6931 - val_accuracy: 0.5036\n",
            "Epoch 8/40\n",
            "216/216 [==============================] - 1s 4ms/step - loss: 0.6946 - accuracy: 0.4952 - val_loss: 0.6931 - val_accuracy: 0.5036\n",
            "Epoch 9/40\n",
            "216/216 [==============================] - 1s 4ms/step - loss: 0.6948 - accuracy: 0.4953 - val_loss: 0.6947 - val_accuracy: 0.5036\n",
            "Epoch 10/40\n",
            "216/216 [==============================] - 1s 4ms/step - loss: 0.6955 - accuracy: 0.4972 - val_loss: 0.6931 - val_accuracy: 0.5036\n",
            "Epoch 11/40\n",
            "216/216 [==============================] - 1s 4ms/step - loss: 0.6942 - accuracy: 0.5012 - val_loss: 0.6942 - val_accuracy: 0.4964\n",
            "Epoch 12/40\n",
            "216/216 [==============================] - 1s 4ms/step - loss: 0.6949 - accuracy: 0.5001 - val_loss: 0.6931 - val_accuracy: 0.5036\n",
            "Epoch 13/40\n",
            "216/216 [==============================] - 1s 4ms/step - loss: 0.6941 - accuracy: 0.5003 - val_loss: 0.6931 - val_accuracy: 0.5036\n",
            "Epoch 14/40\n",
            "216/216 [==============================] - 1s 4ms/step - loss: 0.6945 - accuracy: 0.5012 - val_loss: 0.7012 - val_accuracy: 0.4964\n",
            "Epoch 15/40\n",
            "216/216 [==============================] - 1s 4ms/step - loss: 0.6945 - accuracy: 0.5016 - val_loss: 0.6948 - val_accuracy: 0.4964\n",
            "Epoch 16/40\n",
            "216/216 [==============================] - 1s 4ms/step - loss: 0.6947 - accuracy: 0.4994 - val_loss: 0.6932 - val_accuracy: 0.5036\n",
            "Epoch 17/40\n",
            "216/216 [==============================] - 1s 4ms/step - loss: 0.6942 - accuracy: 0.4926 - val_loss: 0.6985 - val_accuracy: 0.5036\n",
            "Epoch 18/40\n",
            "216/216 [==============================] - 1s 4ms/step - loss: 0.6942 - accuracy: 0.5046 - val_loss: 0.6936 - val_accuracy: 0.5036\n",
            "Epoch 19/40\n",
            "216/216 [==============================] - 1s 4ms/step - loss: 0.6948 - accuracy: 0.4974 - val_loss: 0.6933 - val_accuracy: 0.5036\n",
            "Epoch 20/40\n",
            "216/216 [==============================] - 1s 4ms/step - loss: 0.6946 - accuracy: 0.4999 - val_loss: 0.6932 - val_accuracy: 0.4964\n",
            "Epoch 21/40\n",
            "216/216 [==============================] - 1s 4ms/step - loss: 0.6950 - accuracy: 0.4987 - val_loss: 0.6942 - val_accuracy: 0.5036\n",
            "Epoch 22/40\n",
            "216/216 [==============================] - 1s 4ms/step - loss: 0.6941 - accuracy: 0.5099 - val_loss: 0.7006 - val_accuracy: 0.4964\n",
            "Epoch 23/40\n",
            "216/216 [==============================] - 1s 4ms/step - loss: 0.6948 - accuracy: 0.5070 - val_loss: 0.6962 - val_accuracy: 0.4964\n",
            "Epoch 24/40\n",
            "216/216 [==============================] - 1s 4ms/step - loss: 0.6948 - accuracy: 0.4981 - val_loss: 0.6935 - val_accuracy: 0.5036\n",
            "Epoch 25/40\n",
            "216/216 [==============================] - 1s 4ms/step - loss: 0.6952 - accuracy: 0.4979 - val_loss: 0.6969 - val_accuracy: 0.4964\n",
            "Epoch 26/40\n",
            "216/216 [==============================] - 1s 4ms/step - loss: 0.6943 - accuracy: 0.4958 - val_loss: 0.6933 - val_accuracy: 0.4964\n",
            "Epoch 27/40\n",
            "216/216 [==============================] - 1s 4ms/step - loss: 0.6958 - accuracy: 0.4939 - val_loss: 0.6942 - val_accuracy: 0.4964\n",
            "Epoch 28/40\n",
            "216/216 [==============================] - 1s 4ms/step - loss: 0.6946 - accuracy: 0.5002 - val_loss: 0.6966 - val_accuracy: 0.4964\n",
            "Epoch 29/40\n",
            "216/216 [==============================] - 1s 4ms/step - loss: 0.6941 - accuracy: 0.5009 - val_loss: 0.6933 - val_accuracy: 0.4964\n",
            "Epoch 30/40\n",
            "216/216 [==============================] - 1s 4ms/step - loss: 0.6953 - accuracy: 0.4987 - val_loss: 0.6949 - val_accuracy: 0.5036\n",
            "Epoch 31/40\n",
            "216/216 [==============================] - 1s 4ms/step - loss: 0.6954 - accuracy: 0.4905 - val_loss: 0.6935 - val_accuracy: 0.5036\n",
            "Epoch 32/40\n",
            "216/216 [==============================] - 1s 4ms/step - loss: 0.6951 - accuracy: 0.4997 - val_loss: 0.6934 - val_accuracy: 0.4964\n",
            "Epoch 33/40\n",
            "216/216 [==============================] - 1s 4ms/step - loss: 0.6947 - accuracy: 0.4919 - val_loss: 0.6943 - val_accuracy: 0.4964\n",
            "Epoch 34/40\n",
            "216/216 [==============================] - 1s 4ms/step - loss: 0.6943 - accuracy: 0.5048 - val_loss: 0.6935 - val_accuracy: 0.4964\n",
            "Epoch 35/40\n",
            "216/216 [==============================] - 1s 4ms/step - loss: 0.6943 - accuracy: 0.4941 - val_loss: 0.6959 - val_accuracy: 0.4964\n",
            "Epoch 36/40\n",
            "216/216 [==============================] - 1s 4ms/step - loss: 0.6947 - accuracy: 0.5005 - val_loss: 0.6933 - val_accuracy: 0.4964\n",
            "Epoch 37/40\n",
            "216/216 [==============================] - 1s 4ms/step - loss: 0.6947 - accuracy: 0.4987 - val_loss: 0.6956 - val_accuracy: 0.4964\n",
            "Epoch 38/40\n",
            "216/216 [==============================] - 1s 4ms/step - loss: 0.6946 - accuracy: 0.4921 - val_loss: 0.6940 - val_accuracy: 0.4964\n",
            "Epoch 39/40\n",
            "216/216 [==============================] - 1s 4ms/step - loss: 0.6945 - accuracy: 0.5014 - val_loss: 0.6965 - val_accuracy: 0.5036\n",
            "Epoch 40/40\n",
            "216/216 [==============================] - 1s 4ms/step - loss: 0.6940 - accuracy: 0.5011 - val_loss: 0.6937 - val_accuracy: 0.5036\n",
            "Epoch 1/40\n",
            "216/216 [==============================] - 1s 5ms/step - loss: 0.8143 - accuracy: 0.4955 - val_loss: 0.6932 - val_accuracy: 0.4964\n",
            "Epoch 2/40\n",
            "216/216 [==============================] - 1s 5ms/step - loss: 0.6934 - accuracy: 0.5017 - val_loss: 0.6931 - val_accuracy: 0.5036\n",
            "Epoch 3/40\n",
            "216/216 [==============================] - 1s 5ms/step - loss: 0.6932 - accuracy: 0.5040 - val_loss: 0.6931 - val_accuracy: 0.5036\n",
            "Epoch 4/40\n",
            "216/216 [==============================] - 1s 4ms/step - loss: 0.6933 - accuracy: 0.4889 - val_loss: 0.6931 - val_accuracy: 0.5036\n",
            "Epoch 5/40\n",
            "216/216 [==============================] - 1s 5ms/step - loss: 0.6933 - accuracy: 0.4970 - val_loss: 0.6935 - val_accuracy: 0.4964\n",
            "Epoch 6/40\n",
            "216/216 [==============================] - 1s 5ms/step - loss: 0.6935 - accuracy: 0.4954 - val_loss: 0.6935 - val_accuracy: 0.4964\n",
            "Epoch 7/40\n",
            "216/216 [==============================] - 1s 5ms/step - loss: 0.6933 - accuracy: 0.4939 - val_loss: 0.6931 - val_accuracy: 0.5036\n",
            "Epoch 8/40\n",
            "216/216 [==============================] - 1s 5ms/step - loss: 0.6933 - accuracy: 0.4955 - val_loss: 0.6931 - val_accuracy: 0.5036\n",
            "Epoch 9/40\n",
            "216/216 [==============================] - 1s 4ms/step - loss: 0.6934 - accuracy: 0.4918 - val_loss: 0.6933 - val_accuracy: 0.4964\n",
            "Epoch 10/40\n",
            "216/216 [==============================] - 1s 4ms/step - loss: 0.6932 - accuracy: 0.5005 - val_loss: 0.6937 - val_accuracy: 0.4964\n",
            "Epoch 11/40\n",
            "216/216 [==============================] - 1s 4ms/step - loss: 0.6935 - accuracy: 0.4921 - val_loss: 0.6933 - val_accuracy: 0.4964\n",
            "Epoch 12/40\n",
            "216/216 [==============================] - 1s 4ms/step - loss: 0.6933 - accuracy: 0.4952 - val_loss: 0.6932 - val_accuracy: 0.4964\n",
            "Epoch 13/40\n",
            "216/216 [==============================] - 1s 4ms/step - loss: 0.6934 - accuracy: 0.4911 - val_loss: 0.6931 - val_accuracy: 0.5036\n",
            "Epoch 14/40\n",
            "216/216 [==============================] - 1s 4ms/step - loss: 0.6934 - accuracy: 0.5011 - val_loss: 0.6931 - val_accuracy: 0.5036\n",
            "Epoch 15/40\n",
            "216/216 [==============================] - 1s 4ms/step - loss: 0.6934 - accuracy: 0.4983 - val_loss: 0.6934 - val_accuracy: 0.4964\n",
            "Epoch 16/40\n",
            "216/216 [==============================] - 1s 4ms/step - loss: 0.6934 - accuracy: 0.4938 - val_loss: 0.6934 - val_accuracy: 0.4964\n",
            "Epoch 17/40\n",
            "216/216 [==============================] - 1s 4ms/step - loss: 0.6933 - accuracy: 0.5008 - val_loss: 0.6932 - val_accuracy: 0.4964\n",
            "Epoch 18/40\n",
            "216/216 [==============================] - 1s 4ms/step - loss: 0.6933 - accuracy: 0.4989 - val_loss: 0.6932 - val_accuracy: 0.4964\n",
            "Epoch 19/40\n",
            "216/216 [==============================] - 1s 4ms/step - loss: 0.6933 - accuracy: 0.4958 - val_loss: 0.6934 - val_accuracy: 0.4964\n",
            "Epoch 20/40\n",
            "216/216 [==============================] - 1s 4ms/step - loss: 0.6933 - accuracy: 0.4963 - val_loss: 0.6931 - val_accuracy: 0.5036\n",
            "Epoch 21/40\n",
            "216/216 [==============================] - 1s 4ms/step - loss: 0.6933 - accuracy: 0.5017 - val_loss: 0.6931 - val_accuracy: 0.5036\n",
            "Epoch 22/40\n",
            "216/216 [==============================] - 1s 4ms/step - loss: 0.6932 - accuracy: 0.5030 - val_loss: 0.6935 - val_accuracy: 0.5036\n",
            "Epoch 23/40\n",
            "216/216 [==============================] - 1s 4ms/step - loss: 0.6934 - accuracy: 0.4969 - val_loss: 0.6931 - val_accuracy: 0.5036\n",
            "Epoch 24/40\n",
            "216/216 [==============================] - 1s 4ms/step - loss: 0.6933 - accuracy: 0.5013 - val_loss: 0.6932 - val_accuracy: 0.4964\n",
            "Epoch 25/40\n",
            "216/216 [==============================] - 1s 4ms/step - loss: 0.6933 - accuracy: 0.5001 - val_loss: 0.6931 - val_accuracy: 0.5036\n",
            "Epoch 26/40\n",
            "216/216 [==============================] - 1s 4ms/step - loss: 0.6934 - accuracy: 0.5009 - val_loss: 0.6932 - val_accuracy: 0.4964\n",
            "Epoch 27/40\n",
            "216/216 [==============================] - 1s 4ms/step - loss: 0.6934 - accuracy: 0.5000 - val_loss: 0.6934 - val_accuracy: 0.4964\n",
            "Epoch 28/40\n",
            "216/216 [==============================] - 1s 4ms/step - loss: 0.6935 - accuracy: 0.4949 - val_loss: 0.6932 - val_accuracy: 0.5036\n",
            "Epoch 29/40\n",
            "216/216 [==============================] - 1s 4ms/step - loss: 0.6934 - accuracy: 0.4955 - val_loss: 0.6936 - val_accuracy: 0.4964\n",
            "Epoch 30/40\n",
            "216/216 [==============================] - 1s 4ms/step - loss: 0.6935 - accuracy: 0.4939 - val_loss: 0.6931 - val_accuracy: 0.5036\n",
            "Epoch 31/40\n",
            "216/216 [==============================] - 1s 4ms/step - loss: 0.6933 - accuracy: 0.4982 - val_loss: 0.6932 - val_accuracy: 0.4964\n",
            "Epoch 32/40\n",
            "216/216 [==============================] - 1s 4ms/step - loss: 0.6933 - accuracy: 0.4968 - val_loss: 0.6933 - val_accuracy: 0.4964\n",
            "Epoch 33/40\n",
            "216/216 [==============================] - 1s 4ms/step - loss: 0.6934 - accuracy: 0.4959 - val_loss: 0.6931 - val_accuracy: 0.5036\n",
            "Epoch 34/40\n",
            "216/216 [==============================] - 1s 4ms/step - loss: 0.6934 - accuracy: 0.4967 - val_loss: 0.6932 - val_accuracy: 0.4964\n",
            "Epoch 35/40\n",
            "216/216 [==============================] - 1s 4ms/step - loss: 0.6933 - accuracy: 0.5014 - val_loss: 0.6931 - val_accuracy: 0.5036\n",
            "Epoch 36/40\n",
            "216/216 [==============================] - 1s 4ms/step - loss: 0.6933 - accuracy: 0.4945 - val_loss: 0.6932 - val_accuracy: 0.5036\n",
            "Epoch 37/40\n",
            "216/216 [==============================] - 1s 5ms/step - loss: 0.6934 - accuracy: 0.4940 - val_loss: 0.6931 - val_accuracy: 0.5036\n",
            "Epoch 38/40\n",
            "216/216 [==============================] - 1s 5ms/step - loss: 0.6932 - accuracy: 0.5039 - val_loss: 0.6931 - val_accuracy: 0.5036\n",
            "Epoch 39/40\n",
            "216/216 [==============================] - 1s 5ms/step - loss: 0.6933 - accuracy: 0.5024 - val_loss: 0.6931 - val_accuracy: 0.5036\n",
            "Epoch 40/40\n",
            "216/216 [==============================] - 1s 5ms/step - loss: 0.6933 - accuracy: 0.5035 - val_loss: 0.6934 - val_accuracy: 0.4964\n",
            "Epoch 1/40\n",
            "216/216 [==============================] - 1s 5ms/step - loss: 1.5759 - accuracy: 0.5004 - val_loss: 1.1550 - val_accuracy: 0.4967\n",
            "Epoch 2/40\n",
            "216/216 [==============================] - 1s 4ms/step - loss: 1.0863 - accuracy: 0.5092 - val_loss: 0.9570 - val_accuracy: 0.5152\n",
            "Epoch 3/40\n",
            "216/216 [==============================] - 1s 4ms/step - loss: 0.8798 - accuracy: 0.5256 - val_loss: 0.8871 - val_accuracy: 0.5210\n",
            "Epoch 4/40\n",
            "216/216 [==============================] - 1s 4ms/step - loss: 0.7962 - accuracy: 0.5341 - val_loss: 0.7413 - val_accuracy: 0.5422\n",
            "Epoch 5/40\n",
            "216/216 [==============================] - 1s 4ms/step - loss: 0.7480 - accuracy: 0.5486 - val_loss: 0.7667 - val_accuracy: 0.5329\n",
            "Epoch 6/40\n",
            "216/216 [==============================] - 1s 4ms/step - loss: 0.7269 - accuracy: 0.5490 - val_loss: 0.6971 - val_accuracy: 0.5637\n",
            "Epoch 7/40\n",
            "216/216 [==============================] - 1s 4ms/step - loss: 0.7227 - accuracy: 0.5547 - val_loss: 0.7316 - val_accuracy: 0.5425\n",
            "Epoch 8/40\n",
            "216/216 [==============================] - 1s 4ms/step - loss: 0.6878 - accuracy: 0.5732 - val_loss: 0.6834 - val_accuracy: 0.5756\n",
            "Epoch 9/40\n",
            "216/216 [==============================] - 1s 4ms/step - loss: 0.6736 - accuracy: 0.5896 - val_loss: 0.7416 - val_accuracy: 0.5257\n",
            "Epoch 10/40\n",
            "216/216 [==============================] - 1s 4ms/step - loss: 0.7003 - accuracy: 0.5693 - val_loss: 0.6560 - val_accuracy: 0.6069\n",
            "Epoch 11/40\n",
            "216/216 [==============================] - 1s 4ms/step - loss: 0.6622 - accuracy: 0.6032 - val_loss: 0.7000 - val_accuracy: 0.5500\n",
            "Epoch 12/40\n",
            "216/216 [==============================] - 1s 4ms/step - loss: 0.6634 - accuracy: 0.5982 - val_loss: 0.6468 - val_accuracy: 0.6202\n",
            "Epoch 13/40\n",
            "216/216 [==============================] - 1s 4ms/step - loss: 0.6605 - accuracy: 0.6096 - val_loss: 0.6674 - val_accuracy: 0.5843\n",
            "Epoch 14/40\n",
            "216/216 [==============================] - 1s 4ms/step - loss: 0.6581 - accuracy: 0.6100 - val_loss: 0.6673 - val_accuracy: 0.5860\n",
            "Epoch 15/40\n",
            "216/216 [==============================] - 1s 4ms/step - loss: 0.6626 - accuracy: 0.6086 - val_loss: 0.6351 - val_accuracy: 0.6452\n",
            "Epoch 16/40\n",
            "216/216 [==============================] - 1s 4ms/step - loss: 0.6479 - accuracy: 0.6260 - val_loss: 0.6343 - val_accuracy: 0.6403\n",
            "Epoch 17/40\n",
            "216/216 [==============================] - 1s 4ms/step - loss: 0.6482 - accuracy: 0.6228 - val_loss: 0.6335 - val_accuracy: 0.6440\n",
            "Epoch 18/40\n",
            "216/216 [==============================] - 1s 4ms/step - loss: 0.6436 - accuracy: 0.6288 - val_loss: 0.6329 - val_accuracy: 0.6394\n",
            "Epoch 19/40\n",
            "216/216 [==============================] - 1s 4ms/step - loss: 0.6359 - accuracy: 0.6354 - val_loss: 0.6464 - val_accuracy: 0.6275\n",
            "Epoch 20/40\n",
            "216/216 [==============================] - 1s 4ms/step - loss: 0.6481 - accuracy: 0.6260 - val_loss: 0.6663 - val_accuracy: 0.5962\n",
            "Epoch 21/40\n",
            "216/216 [==============================] - 1s 4ms/step - loss: 0.6398 - accuracy: 0.6344 - val_loss: 0.6257 - val_accuracy: 0.6429\n",
            "Epoch 22/40\n",
            "216/216 [==============================] - 1s 4ms/step - loss: 0.6449 - accuracy: 0.6270 - val_loss: 0.6294 - val_accuracy: 0.6397\n",
            "Epoch 23/40\n",
            "216/216 [==============================] - 1s 4ms/step - loss: 0.6303 - accuracy: 0.6415 - val_loss: 0.6491 - val_accuracy: 0.6115\n",
            "Epoch 24/40\n",
            "216/216 [==============================] - 1s 4ms/step - loss: 0.6366 - accuracy: 0.6365 - val_loss: 0.6361 - val_accuracy: 0.6356\n",
            "Epoch 25/40\n",
            "216/216 [==============================] - 1s 4ms/step - loss: 0.6486 - accuracy: 0.6268 - val_loss: 0.6537 - val_accuracy: 0.6092\n",
            "Epoch 26/40\n",
            "216/216 [==============================] - 1s 6ms/step - loss: 0.6340 - accuracy: 0.6401 - val_loss: 0.6342 - val_accuracy: 0.6290\n",
            "Epoch 27/40\n",
            "216/216 [==============================] - 1s 4ms/step - loss: 0.6407 - accuracy: 0.6389 - val_loss: 0.7514 - val_accuracy: 0.5367\n",
            "Epoch 28/40\n",
            "216/216 [==============================] - 1s 4ms/step - loss: 0.6378 - accuracy: 0.6328 - val_loss: 0.6649 - val_accuracy: 0.5947\n",
            "Epoch 29/40\n",
            "216/216 [==============================] - 1s 4ms/step - loss: 0.6403 - accuracy: 0.6320 - val_loss: 0.6718 - val_accuracy: 0.5921\n",
            "Epoch 30/40\n",
            "216/216 [==============================] - 1s 4ms/step - loss: 0.6384 - accuracy: 0.6307 - val_loss: 0.6628 - val_accuracy: 0.6081\n",
            "Epoch 31/40\n",
            "216/216 [==============================] - 1s 4ms/step - loss: 0.6341 - accuracy: 0.6432 - val_loss: 0.6258 - val_accuracy: 0.6443\n",
            "Epoch 32/40\n",
            "216/216 [==============================] - 1s 4ms/step - loss: 0.6378 - accuracy: 0.6318 - val_loss: 0.6359 - val_accuracy: 0.6252\n",
            "Epoch 33/40\n",
            "216/216 [==============================] - 1s 4ms/step - loss: 0.6249 - accuracy: 0.6505 - val_loss: 0.6269 - val_accuracy: 0.6426\n",
            "Epoch 34/40\n",
            "216/216 [==============================] - 1s 4ms/step - loss: 0.6323 - accuracy: 0.6389 - val_loss: 0.6196 - val_accuracy: 0.6597\n",
            "Epoch 35/40\n",
            "216/216 [==============================] - 1s 4ms/step - loss: 0.6243 - accuracy: 0.6497 - val_loss: 0.6176 - val_accuracy: 0.6591\n",
            "Epoch 36/40\n",
            "216/216 [==============================] - 1s 4ms/step - loss: 0.6270 - accuracy: 0.6480 - val_loss: 0.6176 - val_accuracy: 0.6585\n",
            "Epoch 37/40\n",
            "216/216 [==============================] - 1s 4ms/step - loss: 0.6210 - accuracy: 0.6507 - val_loss: 0.6162 - val_accuracy: 0.6603\n",
            "Epoch 38/40\n",
            "216/216 [==============================] - 1s 4ms/step - loss: 0.6272 - accuracy: 0.6463 - val_loss: 0.6326 - val_accuracy: 0.6371\n",
            "Epoch 39/40\n",
            "216/216 [==============================] - 1s 4ms/step - loss: 0.6307 - accuracy: 0.6408 - val_loss: 0.6245 - val_accuracy: 0.6446\n",
            "Epoch 40/40\n",
            "216/216 [==============================] - 1s 4ms/step - loss: 0.6309 - accuracy: 0.6436 - val_loss: 0.6224 - val_accuracy: 0.6469\n",
            "Epoch 1/40\n",
            "216/216 [==============================] - 1s 5ms/step - loss: 9.2968 - accuracy: 0.5170 - val_loss: 4.3804 - val_accuracy: 0.5147\n",
            "Epoch 2/40\n",
            "216/216 [==============================] - 1s 4ms/step - loss: 3.9791 - accuracy: 0.5134 - val_loss: 3.6932 - val_accuracy: 0.5141\n",
            "Epoch 3/40\n",
            "216/216 [==============================] - 1s 4ms/step - loss: 3.5610 - accuracy: 0.5099 - val_loss: 3.3929 - val_accuracy: 0.5138\n",
            "Epoch 4/40\n",
            "216/216 [==============================] - 1s 4ms/step - loss: 3.2084 - accuracy: 0.5078 - val_loss: 3.0537 - val_accuracy: 0.5129\n",
            "Epoch 5/40\n",
            "216/216 [==============================] - 1s 4ms/step - loss: 2.9099 - accuracy: 0.5133 - val_loss: 2.7205 - val_accuracy: 0.5170\n",
            "Epoch 6/40\n",
            "216/216 [==============================] - 1s 4ms/step - loss: 2.6461 - accuracy: 0.5087 - val_loss: 2.4669 - val_accuracy: 0.5181\n",
            "Epoch 7/40\n",
            "216/216 [==============================] - 1s 4ms/step - loss: 2.4016 - accuracy: 0.5129 - val_loss: 2.3164 - val_accuracy: 0.5176\n",
            "Epoch 8/40\n",
            "216/216 [==============================] - 1s 4ms/step - loss: 2.1785 - accuracy: 0.5151 - val_loss: 2.0585 - val_accuracy: 0.5149\n",
            "Epoch 9/40\n",
            "216/216 [==============================] - 1s 4ms/step - loss: 1.9938 - accuracy: 0.5161 - val_loss: 2.0460 - val_accuracy: 0.5199\n",
            "Epoch 10/40\n",
            "216/216 [==============================] - 1s 4ms/step - loss: 1.8400 - accuracy: 0.5224 - val_loss: 1.7357 - val_accuracy: 0.5205\n",
            "Epoch 11/40\n",
            "216/216 [==============================] - 1s 4ms/step - loss: 1.7019 - accuracy: 0.5257 - val_loss: 1.6787 - val_accuracy: 0.5155\n",
            "Epoch 12/40\n",
            "216/216 [==============================] - 1s 4ms/step - loss: 1.5868 - accuracy: 0.5283 - val_loss: 1.5838 - val_accuracy: 0.5178\n",
            "Epoch 13/40\n",
            "216/216 [==============================] - 1s 4ms/step - loss: 1.5054 - accuracy: 0.5360 - val_loss: 1.5258 - val_accuracy: 0.5210\n",
            "Epoch 14/40\n",
            "216/216 [==============================] - 1s 4ms/step - loss: 1.4057 - accuracy: 0.5357 - val_loss: 1.3710 - val_accuracy: 0.5312\n",
            "Epoch 15/40\n",
            "216/216 [==============================] - 1s 4ms/step - loss: 1.3290 - accuracy: 0.5399 - val_loss: 1.2922 - val_accuracy: 0.5306\n",
            "Epoch 16/40\n",
            "216/216 [==============================] - 1s 4ms/step - loss: 1.2582 - accuracy: 0.5474 - val_loss: 1.2593 - val_accuracy: 0.5294\n",
            "Epoch 17/40\n",
            "216/216 [==============================] - 1s 4ms/step - loss: 1.2029 - accuracy: 0.5505 - val_loss: 1.2030 - val_accuracy: 0.5352\n",
            "Epoch 18/40\n",
            "216/216 [==============================] - 1s 4ms/step - loss: 1.1483 - accuracy: 0.5531 - val_loss: 1.1373 - val_accuracy: 0.5437\n",
            "Epoch 19/40\n",
            "216/216 [==============================] - 1s 4ms/step - loss: 1.0981 - accuracy: 0.5549 - val_loss: 1.0873 - val_accuracy: 0.5419\n",
            "Epoch 20/40\n",
            "216/216 [==============================] - 1s 4ms/step - loss: 1.0768 - accuracy: 0.5600 - val_loss: 1.0513 - val_accuracy: 0.5471\n",
            "Epoch 21/40\n",
            "216/216 [==============================] - 1s 4ms/step - loss: 1.0514 - accuracy: 0.5601 - val_loss: 1.2213 - val_accuracy: 0.5428\n",
            "Epoch 22/40\n",
            "216/216 [==============================] - 1s 4ms/step - loss: 1.0010 - accuracy: 0.5678 - val_loss: 0.9980 - val_accuracy: 0.5529\n",
            "Epoch 23/40\n",
            "216/216 [==============================] - 1s 4ms/step - loss: 0.9773 - accuracy: 0.5718 - val_loss: 0.9601 - val_accuracy: 0.5556\n",
            "Epoch 24/40\n",
            "216/216 [==============================] - 1s 4ms/step - loss: 0.9492 - accuracy: 0.5749 - val_loss: 0.9971 - val_accuracy: 0.5585\n",
            "Epoch 25/40\n",
            "216/216 [==============================] - 1s 4ms/step - loss: 0.9189 - accuracy: 0.5768 - val_loss: 0.9797 - val_accuracy: 0.5576\n",
            "Epoch 26/40\n",
            "216/216 [==============================] - 1s 4ms/step - loss: 0.9028 - accuracy: 0.5799 - val_loss: 0.8933 - val_accuracy: 0.5672\n",
            "Epoch 27/40\n",
            "216/216 [==============================] - 1s 4ms/step - loss: 0.8859 - accuracy: 0.5832 - val_loss: 0.8767 - val_accuracy: 0.5706\n",
            "Epoch 28/40\n",
            "216/216 [==============================] - 1s 4ms/step - loss: 0.8577 - accuracy: 0.5859 - val_loss: 0.8630 - val_accuracy: 0.5764\n",
            "Epoch 29/40\n",
            "216/216 [==============================] - 1s 4ms/step - loss: 0.8603 - accuracy: 0.5858 - val_loss: 0.9596 - val_accuracy: 0.5619\n",
            "Epoch 30/40\n",
            "216/216 [==============================] - 1s 4ms/step - loss: 0.8334 - accuracy: 0.5943 - val_loss: 0.8914 - val_accuracy: 0.5701\n",
            "Epoch 31/40\n",
            "216/216 [==============================] - 1s 4ms/step - loss: 0.8223 - accuracy: 0.5900 - val_loss: 0.8341 - val_accuracy: 0.5788\n",
            "Epoch 32/40\n",
            "216/216 [==============================] - 1s 4ms/step - loss: 0.8022 - accuracy: 0.5943 - val_loss: 0.8189 - val_accuracy: 0.5880\n",
            "Epoch 33/40\n",
            "216/216 [==============================] - 1s 4ms/step - loss: 0.8018 - accuracy: 0.5973 - val_loss: 0.7910 - val_accuracy: 0.5878\n",
            "Epoch 34/40\n",
            "216/216 [==============================] - 1s 4ms/step - loss: 0.7832 - accuracy: 0.5999 - val_loss: 0.7925 - val_accuracy: 0.5930\n",
            "Epoch 35/40\n",
            "216/216 [==============================] - 1s 4ms/step - loss: 0.7744 - accuracy: 0.5993 - val_loss: 0.7727 - val_accuracy: 0.5938\n",
            "Epoch 36/40\n",
            "216/216 [==============================] - 1s 4ms/step - loss: 0.7559 - accuracy: 0.6069 - val_loss: 0.7633 - val_accuracy: 0.5950\n",
            "Epoch 37/40\n",
            "216/216 [==============================] - 1s 4ms/step - loss: 0.7591 - accuracy: 0.6059 - val_loss: 0.7640 - val_accuracy: 0.6014\n",
            "Epoch 38/40\n",
            "216/216 [==============================] - 1s 4ms/step - loss: 0.7462 - accuracy: 0.6146 - val_loss: 0.7933 - val_accuracy: 0.5921\n",
            "Epoch 39/40\n",
            "216/216 [==============================] - 1s 4ms/step - loss: 0.7405 - accuracy: 0.6076 - val_loss: 0.7387 - val_accuracy: 0.6031\n",
            "Epoch 40/40\n",
            "216/216 [==============================] - 1s 4ms/step - loss: 0.7309 - accuracy: 0.6107 - val_loss: 0.8297 - val_accuracy: 0.5846\n",
            "Epoch 1/40\n",
            "216/216 [==============================] - 1s 5ms/step - loss: 68.3311 - accuracy: 0.5009 - val_loss: 54.4619 - val_accuracy: 0.4964\n",
            "Epoch 2/40\n",
            "216/216 [==============================] - 1s 4ms/step - loss: 41.2551 - accuracy: 0.5009 - val_loss: 30.9773 - val_accuracy: 0.4964\n",
            "Epoch 3/40\n",
            "216/216 [==============================] - 1s 4ms/step - loss: 23.5076 - accuracy: 0.5009 - val_loss: 17.0779 - val_accuracy: 0.4961\n",
            "Epoch 4/40\n",
            "216/216 [==============================] - 1s 4ms/step - loss: 11.0636 - accuracy: 0.5011 - val_loss: 6.0019 - val_accuracy: 0.4946\n",
            "Epoch 5/40\n",
            "216/216 [==============================] - 1s 4ms/step - loss: 4.1905 - accuracy: 0.4910 - val_loss: 3.4988 - val_accuracy: 0.4888\n",
            "Epoch 6/40\n",
            "216/216 [==============================] - 1s 4ms/step - loss: 3.3710 - accuracy: 0.4910 - val_loss: 2.9398 - val_accuracy: 0.4856\n",
            "Epoch 7/40\n",
            "216/216 [==============================] - 1s 4ms/step - loss: 2.4251 - accuracy: 0.4900 - val_loss: 2.1371 - val_accuracy: 0.4949\n",
            "Epoch 8/40\n",
            "216/216 [==============================] - 1s 4ms/step - loss: 2.0206 - accuracy: 0.4889 - val_loss: 1.9439 - val_accuracy: 0.4993\n",
            "Epoch 9/40\n",
            "216/216 [==============================] - 1s 4ms/step - loss: 1.9118 - accuracy: 0.4892 - val_loss: 1.8668 - val_accuracy: 0.4990\n",
            "Epoch 10/40\n",
            "216/216 [==============================] - 1s 4ms/step - loss: 1.8603 - accuracy: 0.4901 - val_loss: 1.8272 - val_accuracy: 0.5019\n",
            "Epoch 11/40\n",
            "216/216 [==============================] - 1s 4ms/step - loss: 1.8272 - accuracy: 0.4926 - val_loss: 1.8034 - val_accuracy: 0.4955\n",
            "Epoch 12/40\n",
            "216/216 [==============================] - 1s 5ms/step - loss: 1.8025 - accuracy: 0.4906 - val_loss: 1.7819 - val_accuracy: 0.4938\n",
            "Epoch 13/40\n",
            "216/216 [==============================] - 1s 4ms/step - loss: 1.7811 - accuracy: 0.4908 - val_loss: 1.7646 - val_accuracy: 0.4946\n",
            "Epoch 14/40\n",
            "216/216 [==============================] - 1s 4ms/step - loss: 1.7628 - accuracy: 0.4902 - val_loss: 1.7454 - val_accuracy: 0.4929\n",
            "Epoch 15/40\n",
            "216/216 [==============================] - 1s 4ms/step - loss: 1.7477 - accuracy: 0.4918 - val_loss: 1.7323 - val_accuracy: 0.4941\n",
            "Epoch 16/40\n",
            "216/216 [==============================] - 1s 4ms/step - loss: 1.7313 - accuracy: 0.4918 - val_loss: 1.7160 - val_accuracy: 0.4935\n",
            "Epoch 17/40\n",
            "216/216 [==============================] - 1s 4ms/step - loss: 1.7157 - accuracy: 0.4923 - val_loss: 1.7057 - val_accuracy: 0.4935\n",
            "Epoch 18/40\n",
            "216/216 [==============================] - 1s 4ms/step - loss: 1.7011 - accuracy: 0.4910 - val_loss: 1.6871 - val_accuracy: 0.4941\n",
            "Epoch 19/40\n",
            "216/216 [==============================] - 1s 4ms/step - loss: 1.6873 - accuracy: 0.4925 - val_loss: 1.6766 - val_accuracy: 0.4970\n",
            "Epoch 20/40\n",
            "216/216 [==============================] - 1s 4ms/step - loss: 1.6732 - accuracy: 0.4934 - val_loss: 1.6613 - val_accuracy: 0.4967\n",
            "Epoch 21/40\n",
            "216/216 [==============================] - 1s 4ms/step - loss: 1.6612 - accuracy: 0.4929 - val_loss: 1.6507 - val_accuracy: 0.4961\n",
            "Epoch 22/40\n",
            "216/216 [==============================] - 1s 4ms/step - loss: 1.6484 - accuracy: 0.4915 - val_loss: 1.6366 - val_accuracy: 0.4967\n",
            "Epoch 23/40\n",
            "216/216 [==============================] - 1s 4ms/step - loss: 1.6362 - accuracy: 0.4919 - val_loss: 1.6243 - val_accuracy: 0.4970\n",
            "Epoch 24/40\n",
            "216/216 [==============================] - 1s 4ms/step - loss: 1.6231 - accuracy: 0.4924 - val_loss: 1.6155 - val_accuracy: 0.4972\n",
            "Epoch 25/40\n",
            "216/216 [==============================] - 1s 4ms/step - loss: 1.6123 - accuracy: 0.4919 - val_loss: 1.6020 - val_accuracy: 0.4970\n",
            "Epoch 26/40\n",
            "216/216 [==============================] - 1s 4ms/step - loss: 1.6002 - accuracy: 0.4920 - val_loss: 1.5879 - val_accuracy: 0.4964\n",
            "Epoch 27/40\n",
            "216/216 [==============================] - 1s 4ms/step - loss: 1.5882 - accuracy: 0.4924 - val_loss: 1.5767 - val_accuracy: 0.4958\n",
            "Epoch 28/40\n",
            "216/216 [==============================] - 1s 4ms/step - loss: 1.5762 - accuracy: 0.4918 - val_loss: 1.5686 - val_accuracy: 0.4975\n",
            "Epoch 29/40\n",
            "216/216 [==============================] - 1s 4ms/step - loss: 1.5639 - accuracy: 0.4931 - val_loss: 1.5535 - val_accuracy: 0.4961\n",
            "Epoch 30/40\n",
            "216/216 [==============================] - 1s 4ms/step - loss: 1.5523 - accuracy: 0.4934 - val_loss: 1.5458 - val_accuracy: 0.4978\n",
            "Epoch 31/40\n",
            "216/216 [==============================] - 1s 4ms/step - loss: 1.5411 - accuracy: 0.4945 - val_loss: 1.5314 - val_accuracy: 0.4946\n",
            "Epoch 32/40\n",
            "216/216 [==============================] - 1s 4ms/step - loss: 1.5298 - accuracy: 0.4939 - val_loss: 1.5191 - val_accuracy: 0.4961\n",
            "Epoch 33/40\n",
            "216/216 [==============================] - 1s 4ms/step - loss: 1.5188 - accuracy: 0.4947 - val_loss: 1.5114 - val_accuracy: 0.4972\n",
            "Epoch 34/40\n",
            "216/216 [==============================] - 1s 4ms/step - loss: 1.5072 - accuracy: 0.4942 - val_loss: 1.4971 - val_accuracy: 0.4967\n",
            "Epoch 35/40\n",
            "216/216 [==============================] - 1s 4ms/step - loss: 1.4953 - accuracy: 0.4934 - val_loss: 1.4865 - val_accuracy: 0.4952\n",
            "Epoch 36/40\n",
            "216/216 [==============================] - 1s 4ms/step - loss: 1.4847 - accuracy: 0.4932 - val_loss: 1.4769 - val_accuracy: 0.4941\n",
            "Epoch 37/40\n",
            "216/216 [==============================] - 1s 4ms/step - loss: 1.4738 - accuracy: 0.4941 - val_loss: 1.4681 - val_accuracy: 0.4949\n",
            "Epoch 38/40\n",
            "216/216 [==============================] - 1s 4ms/step - loss: 1.4622 - accuracy: 0.4956 - val_loss: 1.4582 - val_accuracy: 0.4943\n",
            "Epoch 39/40\n",
            "216/216 [==============================] - 1s 4ms/step - loss: 1.4520 - accuracy: 0.4945 - val_loss: 1.4504 - val_accuracy: 0.4946\n",
            "Epoch 40/40\n",
            "216/216 [==============================] - 1s 4ms/step - loss: 1.4409 - accuracy: 0.4958 - val_loss: 1.4355 - val_accuracy: 0.4929\n"
          ],
          "name": "stdout"
        }
      ]
    },
    {
      "cell_type": "code",
      "metadata": {
        "id": "SpVU9lYb5Nzx",
        "colab_type": "code",
        "outputId": "90438f7d-79dd-48d3-f445-ef716be739ac",
        "colab": {
          "base_uri": "https://localhost:8080/",
          "height": 282
        }
      },
      "source": [
        "maxs = [max(h['accuracy']) for h in lr_histories]\n",
        "plt.plot(maxs)"
      ],
      "execution_count": 20,
      "outputs": [
        {
          "output_type": "execute_result",
          "data": {
            "text/plain": [
              "[<matplotlib.lines.Line2D at 0x7fafed6903c8>]"
            ]
          },
          "metadata": {
            "tags": []
          },
          "execution_count": 20
        },
        {
          "output_type": "display_data",
          "data": {
            "image/png": "[encoded data removed]",
            "text/plain": [
              "<Figure size 432x288 with 1 Axes>"
            ]
          },
          "metadata": {
            "tags": []
          }
        }
      ]
    },
    {
      "cell_type": "markdown",
      "metadata": {
        "id": "CfHBRB-H5Nz0",
        "colab_type": "text"
      },
      "source": [
        "### Now train the model at the identified learning rate for 100 epochs\n",
        "\n",
        "Then plot the training history of this run - again taken from the `history.history` dictionary."
      ]
    },
    {
      "cell_type": "code",
      "metadata": {
        "id": "2oghjSuw5Nz1",
        "colab_type": "code",
        "outputId": "ffb12d05-dbd8-43f8-9cc1-ca8b737afbf0",
        "colab": {
          "base_uri": "https://localhost:8080/",
          "height": 1000
        }
      },
      "source": [
        "# define the keras model\n",
        "from tensorflow.keras.optimizers import Adam\n",
        "model = Sequential()\n",
        "model.add(Dense(12, input_dim=300, activation='relu'))\n",
        "model.add(Dense(8, activation='relu'))\n",
        "model.add(Dense(1, activation='sigmoid'))\n",
        "ad = Adam(learning_rate=1e-3, beta_1=0.9, beta_2=0.999, amsgrad=False)\n",
        "model.compile(loss='binary_crossentropy', optimizer=ad, metrics=['accuracy'])\n",
        "history = model.fit(X, y, epochs=100, batch_size=64, validation_split=0.2)"
      ],
      "execution_count": 21,
      "outputs": [
        {
          "output_type": "stream",
          "text": [
            "Epoch 1/100\n",
            "216/216 [==============================] - 1s 5ms/step - loss: 1.2802 - accuracy: 0.5022 - val_loss: 0.6942 - val_accuracy: 0.5025\n",
            "Epoch 2/100\n",
            "216/216 [==============================] - 1s 4ms/step - loss: 0.6934 - accuracy: 0.5026 - val_loss: 0.6934 - val_accuracy: 0.4958\n",
            "Epoch 3/100\n",
            "216/216 [==============================] - 1s 4ms/step - loss: 0.6932 - accuracy: 0.5026 - val_loss: 0.6939 - val_accuracy: 0.4961\n",
            "Epoch 4/100\n",
            "216/216 [==============================] - 1s 4ms/step - loss: 0.6931 - accuracy: 0.5064 - val_loss: 0.6929 - val_accuracy: 0.5062\n",
            "Epoch 5/100\n",
            "216/216 [==============================] - 1s 4ms/step - loss: 0.6928 - accuracy: 0.5146 - val_loss: 0.6928 - val_accuracy: 0.5088\n",
            "Epoch 6/100\n",
            "216/216 [==============================] - 1s 4ms/step - loss: 0.6923 - accuracy: 0.5192 - val_loss: 0.6923 - val_accuracy: 0.5207\n",
            "Epoch 7/100\n",
            "216/216 [==============================] - 1s 4ms/step - loss: 0.6914 - accuracy: 0.5283 - val_loss: 0.6923 - val_accuracy: 0.5242\n",
            "Epoch 8/100\n",
            "216/216 [==============================] - 1s 4ms/step - loss: 0.6908 - accuracy: 0.5316 - val_loss: 0.6924 - val_accuracy: 0.5202\n",
            "Epoch 9/100\n",
            "216/216 [==============================] - 1s 4ms/step - loss: 0.6905 - accuracy: 0.5359 - val_loss: 0.6926 - val_accuracy: 0.5190\n",
            "Epoch 10/100\n",
            "216/216 [==============================] - 1s 4ms/step - loss: 0.6907 - accuracy: 0.5310 - val_loss: 0.6925 - val_accuracy: 0.5213\n",
            "Epoch 11/100\n",
            "216/216 [==============================] - 1s 4ms/step - loss: 0.6902 - accuracy: 0.5320 - val_loss: 0.6923 - val_accuracy: 0.5236\n",
            "Epoch 12/100\n",
            "216/216 [==============================] - 1s 4ms/step - loss: 0.6903 - accuracy: 0.5358 - val_loss: 0.6932 - val_accuracy: 0.5115\n",
            "Epoch 13/100\n",
            "216/216 [==============================] - 1s 4ms/step - loss: 0.6900 - accuracy: 0.5351 - val_loss: 0.6913 - val_accuracy: 0.5268\n",
            "Epoch 14/100\n",
            "216/216 [==============================] - 1s 4ms/step - loss: 0.6901 - accuracy: 0.5333 - val_loss: 0.6931 - val_accuracy: 0.5068\n",
            "Epoch 15/100\n",
            "216/216 [==============================] - 1s 4ms/step - loss: 0.6898 - accuracy: 0.5370 - val_loss: 0.6909 - val_accuracy: 0.5277\n",
            "Epoch 16/100\n",
            "216/216 [==============================] - 1s 4ms/step - loss: 0.6894 - accuracy: 0.5359 - val_loss: 0.6907 - val_accuracy: 0.5251\n",
            "Epoch 17/100\n",
            "216/216 [==============================] - 1s 4ms/step - loss: 0.6889 - accuracy: 0.5408 - val_loss: 0.6903 - val_accuracy: 0.5312\n",
            "Epoch 18/100\n",
            "216/216 [==============================] - 1s 4ms/step - loss: 0.6887 - accuracy: 0.5422 - val_loss: 0.6918 - val_accuracy: 0.5176\n",
            "Epoch 19/100\n",
            "216/216 [==============================] - 1s 4ms/step - loss: 0.6883 - accuracy: 0.5401 - val_loss: 0.6896 - val_accuracy: 0.5341\n",
            "Epoch 20/100\n",
            "216/216 [==============================] - 1s 4ms/step - loss: 0.6874 - accuracy: 0.5452 - val_loss: 0.6906 - val_accuracy: 0.5292\n",
            "Epoch 21/100\n",
            "216/216 [==============================] - 1s 4ms/step - loss: 0.6875 - accuracy: 0.5465 - val_loss: 0.6885 - val_accuracy: 0.5347\n",
            "Epoch 22/100\n",
            "216/216 [==============================] - 1s 4ms/step - loss: 0.6863 - accuracy: 0.5483 - val_loss: 0.6875 - val_accuracy: 0.5425\n",
            "Epoch 23/100\n",
            "216/216 [==============================] - 1s 4ms/step - loss: 0.6870 - accuracy: 0.5473 - val_loss: 0.6874 - val_accuracy: 0.5440\n",
            "Epoch 24/100\n",
            "216/216 [==============================] - 1s 4ms/step - loss: 0.6857 - accuracy: 0.5494 - val_loss: 0.6905 - val_accuracy: 0.5367\n",
            "Epoch 25/100\n",
            "216/216 [==============================] - 1s 4ms/step - loss: 0.6836 - accuracy: 0.5573 - val_loss: 0.6840 - val_accuracy: 0.5605\n",
            "Epoch 26/100\n",
            "216/216 [==============================] - 1s 4ms/step - loss: 0.6835 - accuracy: 0.5610 - val_loss: 0.6832 - val_accuracy: 0.5556\n",
            "Epoch 27/100\n",
            "216/216 [==============================] - 1s 4ms/step - loss: 0.6809 - accuracy: 0.5677 - val_loss: 0.6840 - val_accuracy: 0.5512\n",
            "Epoch 28/100\n",
            "216/216 [==============================] - 1s 4ms/step - loss: 0.6845 - accuracy: 0.5555 - val_loss: 0.6929 - val_accuracy: 0.5347\n",
            "Epoch 29/100\n",
            "216/216 [==============================] - 1s 4ms/step - loss: 0.6793 - accuracy: 0.5681 - val_loss: 0.6762 - val_accuracy: 0.5808\n",
            "Epoch 30/100\n",
            "216/216 [==============================] - 1s 4ms/step - loss: 0.6745 - accuracy: 0.5854 - val_loss: 0.6775 - val_accuracy: 0.5686\n",
            "Epoch 31/100\n",
            "216/216 [==============================] - 1s 4ms/step - loss: 0.6739 - accuracy: 0.5828 - val_loss: 0.6686 - val_accuracy: 0.5921\n",
            "Epoch 32/100\n",
            "216/216 [==============================] - 1s 4ms/step - loss: 0.6672 - accuracy: 0.5940 - val_loss: 0.6771 - val_accuracy: 0.5750\n",
            "Epoch 33/100\n",
            "216/216 [==============================] - 1s 4ms/step - loss: 0.6640 - accuracy: 0.5974 - val_loss: 0.6567 - val_accuracy: 0.6092\n",
            "Epoch 34/100\n",
            "216/216 [==============================] - 1s 4ms/step - loss: 0.6566 - accuracy: 0.6120 - val_loss: 0.6526 - val_accuracy: 0.6202\n",
            "Epoch 35/100\n",
            "216/216 [==============================] - 1s 4ms/step - loss: 0.6632 - accuracy: 0.6003 - val_loss: 0.7059 - val_accuracy: 0.5178\n",
            "Epoch 36/100\n",
            "216/216 [==============================] - 1s 4ms/step - loss: 0.6531 - accuracy: 0.6172 - val_loss: 0.6463 - val_accuracy: 0.6246\n",
            "Epoch 37/100\n",
            "216/216 [==============================] - 1s 4ms/step - loss: 0.6547 - accuracy: 0.6145 - val_loss: 0.6906 - val_accuracy: 0.5506\n",
            "Epoch 38/100\n",
            "216/216 [==============================] - 1s 4ms/step - loss: 0.6432 - accuracy: 0.6334 - val_loss: 0.6480 - val_accuracy: 0.6249\n",
            "Epoch 39/100\n",
            "216/216 [==============================] - 1s 4ms/step - loss: 0.6340 - accuracy: 0.6419 - val_loss: 0.6307 - val_accuracy: 0.6493\n",
            "Epoch 40/100\n",
            "216/216 [==============================] - 1s 4ms/step - loss: 0.6365 - accuracy: 0.6378 - val_loss: 0.6739 - val_accuracy: 0.6046\n",
            "Epoch 41/100\n",
            "216/216 [==============================] - 1s 4ms/step - loss: 0.6295 - accuracy: 0.6461 - val_loss: 0.6374 - val_accuracy: 0.6353\n",
            "Epoch 42/100\n",
            "216/216 [==============================] - 1s 4ms/step - loss: 0.6400 - accuracy: 0.6315 - val_loss: 0.6294 - val_accuracy: 0.6487\n",
            "Epoch 43/100\n",
            "216/216 [==============================] - 1s 4ms/step - loss: 0.6310 - accuracy: 0.6486 - val_loss: 0.6762 - val_accuracy: 0.5828\n",
            "Epoch 44/100\n",
            "216/216 [==============================] - 1s 4ms/step - loss: 0.6305 - accuracy: 0.6428 - val_loss: 0.6314 - val_accuracy: 0.6423\n",
            "Epoch 45/100\n",
            "216/216 [==============================] - 1s 4ms/step - loss: 0.6238 - accuracy: 0.6542 - val_loss: 0.6310 - val_accuracy: 0.6435\n",
            "Epoch 46/100\n",
            "216/216 [==============================] - 1s 4ms/step - loss: 0.6257 - accuracy: 0.6518 - val_loss: 0.6210 - val_accuracy: 0.6539\n",
            "Epoch 47/100\n",
            "216/216 [==============================] - 1s 4ms/step - loss: 0.6267 - accuracy: 0.6480 - val_loss: 0.6357 - val_accuracy: 0.6382\n",
            "Epoch 48/100\n",
            "216/216 [==============================] - 1s 4ms/step - loss: 0.6281 - accuracy: 0.6464 - val_loss: 0.6569 - val_accuracy: 0.6110\n",
            "Epoch 49/100\n",
            "216/216 [==============================] - 1s 4ms/step - loss: 0.6218 - accuracy: 0.6516 - val_loss: 0.6204 - val_accuracy: 0.6551\n",
            "Epoch 50/100\n",
            "216/216 [==============================] - 1s 4ms/step - loss: 0.6197 - accuracy: 0.6555 - val_loss: 0.6229 - val_accuracy: 0.6519\n",
            "Epoch 51/100\n",
            "216/216 [==============================] - 1s 4ms/step - loss: 0.6261 - accuracy: 0.6459 - val_loss: 0.6197 - val_accuracy: 0.6536\n",
            "Epoch 52/100\n",
            "216/216 [==============================] - 1s 4ms/step - loss: 0.6241 - accuracy: 0.6530 - val_loss: 0.6213 - val_accuracy: 0.6507\n",
            "Epoch 53/100\n",
            "216/216 [==============================] - 1s 4ms/step - loss: 0.6233 - accuracy: 0.6539 - val_loss: 0.6724 - val_accuracy: 0.5985\n",
            "Epoch 54/100\n",
            "216/216 [==============================] - 1s 4ms/step - loss: 0.6240 - accuracy: 0.6526 - val_loss: 0.6333 - val_accuracy: 0.6406\n",
            "Epoch 55/100\n",
            "216/216 [==============================] - 1s 4ms/step - loss: 0.6202 - accuracy: 0.6574 - val_loss: 0.6259 - val_accuracy: 0.6519\n",
            "Epoch 56/100\n",
            "216/216 [==============================] - 1s 4ms/step - loss: 0.6175 - accuracy: 0.6580 - val_loss: 0.6315 - val_accuracy: 0.6420\n",
            "Epoch 57/100\n",
            "216/216 [==============================] - 1s 4ms/step - loss: 0.6233 - accuracy: 0.6545 - val_loss: 0.6816 - val_accuracy: 0.6023\n",
            "Epoch 58/100\n",
            "216/216 [==============================] - 1s 4ms/step - loss: 0.6190 - accuracy: 0.6532 - val_loss: 0.6434 - val_accuracy: 0.6272\n",
            "Epoch 59/100\n",
            "216/216 [==============================] - 1s 4ms/step - loss: 0.6286 - accuracy: 0.6415 - val_loss: 0.6192 - val_accuracy: 0.6533\n",
            "Epoch 60/100\n",
            "216/216 [==============================] - 1s 4ms/step - loss: 0.6164 - accuracy: 0.6593 - val_loss: 0.6185 - val_accuracy: 0.6580\n",
            "Epoch 61/100\n",
            "216/216 [==============================] - 1s 4ms/step - loss: 0.6171 - accuracy: 0.6611 - val_loss: 0.6190 - val_accuracy: 0.6493\n",
            "Epoch 62/100\n",
            "216/216 [==============================] - 1s 4ms/step - loss: 0.6210 - accuracy: 0.6532 - val_loss: 0.6170 - val_accuracy: 0.6594\n",
            "Epoch 63/100\n",
            "216/216 [==============================] - 1s 4ms/step - loss: 0.6228 - accuracy: 0.6557 - val_loss: 0.6178 - val_accuracy: 0.6559\n",
            "Epoch 64/100\n",
            "216/216 [==============================] - 1s 4ms/step - loss: 0.6263 - accuracy: 0.6501 - val_loss: 0.6178 - val_accuracy: 0.6585\n",
            "Epoch 65/100\n",
            "216/216 [==============================] - 1s 4ms/step - loss: 0.6217 - accuracy: 0.6515 - val_loss: 0.6335 - val_accuracy: 0.6388\n",
            "Epoch 66/100\n",
            "216/216 [==============================] - 1s 4ms/step - loss: 0.6160 - accuracy: 0.6592 - val_loss: 0.6254 - val_accuracy: 0.6455\n",
            "Epoch 67/100\n",
            "216/216 [==============================] - 1s 4ms/step - loss: 0.6171 - accuracy: 0.6561 - val_loss: 0.6167 - val_accuracy: 0.6606\n",
            "Epoch 68/100\n",
            "216/216 [==============================] - 1s 4ms/step - loss: 0.6161 - accuracy: 0.6582 - val_loss: 0.6478 - val_accuracy: 0.6234\n",
            "Epoch 69/100\n",
            "216/216 [==============================] - 1s 4ms/step - loss: 0.6160 - accuracy: 0.6613 - val_loss: 0.6342 - val_accuracy: 0.6353\n",
            "Epoch 70/100\n",
            "216/216 [==============================] - 1s 4ms/step - loss: 0.6171 - accuracy: 0.6637 - val_loss: 0.6225 - val_accuracy: 0.6551\n",
            "Epoch 71/100\n",
            "216/216 [==============================] - 1s 4ms/step - loss: 0.6177 - accuracy: 0.6578 - val_loss: 0.6361 - val_accuracy: 0.6336\n",
            "Epoch 72/100\n",
            "216/216 [==============================] - 1s 4ms/step - loss: 0.6233 - accuracy: 0.6525 - val_loss: 0.6445 - val_accuracy: 0.6258\n",
            "Epoch 73/100\n",
            "216/216 [==============================] - 1s 4ms/step - loss: 0.6200 - accuracy: 0.6562 - val_loss: 0.6403 - val_accuracy: 0.6278\n",
            "Epoch 74/100\n",
            "216/216 [==============================] - 1s 4ms/step - loss: 0.6147 - accuracy: 0.6603 - val_loss: 0.6210 - val_accuracy: 0.6519\n",
            "Epoch 75/100\n",
            "216/216 [==============================] - 1s 4ms/step - loss: 0.6148 - accuracy: 0.6614 - val_loss: 0.6213 - val_accuracy: 0.6510\n",
            "Epoch 76/100\n",
            "216/216 [==============================] - 1s 4ms/step - loss: 0.6145 - accuracy: 0.6653 - val_loss: 0.6182 - val_accuracy: 0.6498\n",
            "Epoch 77/100\n",
            "216/216 [==============================] - 1s 4ms/step - loss: 0.6150 - accuracy: 0.6561 - val_loss: 0.6182 - val_accuracy: 0.6493\n",
            "Epoch 78/100\n",
            "216/216 [==============================] - 1s 4ms/step - loss: 0.6237 - accuracy: 0.6511 - val_loss: 0.6244 - val_accuracy: 0.6516\n",
            "Epoch 79/100\n",
            "216/216 [==============================] - 1s 4ms/step - loss: 0.6137 - accuracy: 0.6607 - val_loss: 0.6245 - val_accuracy: 0.6516\n",
            "Epoch 80/100\n",
            "216/216 [==============================] - 1s 4ms/step - loss: 0.6142 - accuracy: 0.6616 - val_loss: 0.6586 - val_accuracy: 0.6162\n",
            "Epoch 81/100\n",
            "216/216 [==============================] - 1s 4ms/step - loss: 0.6149 - accuracy: 0.6566 - val_loss: 0.6383 - val_accuracy: 0.6342\n",
            "Epoch 82/100\n",
            "216/216 [==============================] - 1s 4ms/step - loss: 0.6145 - accuracy: 0.6583 - val_loss: 0.6180 - val_accuracy: 0.6580\n",
            "Epoch 83/100\n",
            "216/216 [==============================] - 1s 4ms/step - loss: 0.6141 - accuracy: 0.6646 - val_loss: 0.6175 - val_accuracy: 0.6513\n",
            "Epoch 84/100\n",
            "216/216 [==============================] - 1s 4ms/step - loss: 0.6171 - accuracy: 0.6563 - val_loss: 0.6161 - val_accuracy: 0.6606\n",
            "Epoch 85/100\n",
            "216/216 [==============================] - 1s 4ms/step - loss: 0.6177 - accuracy: 0.6600 - val_loss: 0.6220 - val_accuracy: 0.6510\n",
            "Epoch 86/100\n",
            "216/216 [==============================] - 1s 4ms/step - loss: 0.6253 - accuracy: 0.6519 - val_loss: 0.6173 - val_accuracy: 0.6638\n",
            "Epoch 87/100\n",
            "216/216 [==============================] - 1s 4ms/step - loss: 0.6141 - accuracy: 0.6622 - val_loss: 0.6280 - val_accuracy: 0.6464\n",
            "Epoch 88/100\n",
            "216/216 [==============================] - 1s 4ms/step - loss: 0.6171 - accuracy: 0.6590 - val_loss: 0.6159 - val_accuracy: 0.6565\n",
            "Epoch 89/100\n",
            "216/216 [==============================] - 1s 4ms/step - loss: 0.6175 - accuracy: 0.6571 - val_loss: 0.6391 - val_accuracy: 0.6321\n",
            "Epoch 90/100\n",
            "216/216 [==============================] - 1s 4ms/step - loss: 0.6224 - accuracy: 0.6534 - val_loss: 0.6461 - val_accuracy: 0.6266\n",
            "Epoch 91/100\n",
            "216/216 [==============================] - 1s 4ms/step - loss: 0.6215 - accuracy: 0.6510 - val_loss: 0.6247 - val_accuracy: 0.6513\n",
            "Epoch 92/100\n",
            "216/216 [==============================] - 1s 4ms/step - loss: 0.6186 - accuracy: 0.6551 - val_loss: 0.6279 - val_accuracy: 0.6469\n",
            "Epoch 93/100\n",
            "216/216 [==============================] - 1s 4ms/step - loss: 0.6134 - accuracy: 0.6587 - val_loss: 0.6188 - val_accuracy: 0.6551\n",
            "Epoch 94/100\n",
            "216/216 [==============================] - 1s 4ms/step - loss: 0.6104 - accuracy: 0.6634 - val_loss: 0.6381 - val_accuracy: 0.6350\n",
            "Epoch 95/100\n",
            "216/216 [==============================] - 1s 4ms/step - loss: 0.6159 - accuracy: 0.6604 - val_loss: 0.6336 - val_accuracy: 0.6377\n",
            "Epoch 96/100\n",
            "216/216 [==============================] - 1s 4ms/step - loss: 0.6149 - accuracy: 0.6609 - val_loss: 0.6402 - val_accuracy: 0.6313\n",
            "Epoch 97/100\n",
            "216/216 [==============================] - 1s 4ms/step - loss: 0.6176 - accuracy: 0.6571 - val_loss: 0.6162 - val_accuracy: 0.6588\n",
            "Epoch 98/100\n",
            "216/216 [==============================] - 1s 4ms/step - loss: 0.6166 - accuracy: 0.6595 - val_loss: 0.6162 - val_accuracy: 0.6574\n",
            "Epoch 99/100\n",
            "216/216 [==============================] - 1s 4ms/step - loss: 0.6123 - accuracy: 0.6630 - val_loss: 0.6222 - val_accuracy: 0.6478\n",
            "Epoch 100/100\n",
            "216/216 [==============================] - 1s 4ms/step - loss: 0.6152 - accuracy: 0.6593 - val_loss: 0.6156 - val_accuracy: 0.6588\n"
          ],
          "name": "stdout"
        }
      ]
    },
    {
      "cell_type": "code",
      "metadata": {
        "id": "vwuIyJ_P5Nz3",
        "colab_type": "code",
        "outputId": "cd7a60d0-bbe7-47eb-be56-1998c033711a",
        "colab": {
          "base_uri": "https://localhost:8080/",
          "height": 282
        }
      },
      "source": [
        "plt.plot(history.history['accuracy'])\n",
        "plt.plot(history.history['val_accuracy'])\n",
        "print(max(history.history['val_accuracy']))"
      ],
      "execution_count": 22,
      "outputs": [
        {
          "output_type": "stream",
          "text": [
            "0.6637656092643738\n"
          ],
          "name": "stdout"
        },
        {
          "output_type": "display_data",
          "data": {
            "image/png": "[encoded data removed]",
            "text/plain": [
              "<Figure size 432x288 with 1 Axes>"
            ]
          },
          "metadata": {
            "tags": []
          }
        }
      ]
    },
    {
      "cell_type": "markdown",
      "metadata": {
        "id": "mj6VZkP05Nz6",
        "colab_type": "text"
      },
      "source": [
        "## Speed up the learning\n",
        "\n",
        "Even when we are using a slower learning rate, it is possible to speed up the training process. `BatchNormalization` is covered in the lectures and involves normalising all values going into a layer before the forward pass. Although it introduces some small extra computational cost into the forward pass, the results for speeding up learning rate can be spectacular - particularly in the deeper networs that we will look at in the next part of this exercise.\n",
        "\n",
        "For now, import `BatchNormalization` from `tensorflow.keras.layers` and add a `BatchNormalization()` unit between each of your `Dense` layers.\n",
        "\n",
        "Retrain the model and look at the learning rates."
      ]
    },
    {
      "cell_type": "code",
      "metadata": {
        "id": "Dq25HtGK5Nz6",
        "colab_type": "code",
        "colab": {}
      },
      "source": [
        "from tensorflow.keras.layers import BatchNormalization"
      ],
      "execution_count": 0,
      "outputs": []
    },
    {
      "cell_type": "code",
      "metadata": {
        "id": "p-LxnVSI5Nz8",
        "colab_type": "code",
        "colab": {
          "base_uri": "https://localhost:8080/",
          "height": 1000
        },
        "outputId": "ae4ef618-f7eb-48ee-9fe0-2acdf768c8b2"
      },
      "source": [
        "# define the keras model\n",
        "from tensorflow.keras.optimizers import Adam\n",
        "model = Sequential()\n",
        "model.add(Dense(12, input_dim=300, activation='relu'))\n",
        "model.add(BatchNormalization())\n",
        "model.add(Dense(8, activation='relu'))\n",
        "model.add(BatchNormalization())\n",
        "model.add(Dense(1, activation='sigmoid'))\n",
        "ad = Adam(learning_rate=1e-4, beta_1=0.9, beta_2=0.999, amsgrad=False)\n",
        "model.compile(loss='binary_crossentropy', optimizer=ad, metrics=['accuracy'])\n",
        "history_bn = model.fit(X, y, epochs=100, batch_size=64, validation_split=0.2)"
      ],
      "execution_count": 24,
      "outputs": [
        {
          "output_type": "stream",
          "text": [
            "Epoch 1/100\n",
            "216/216 [==============================] - 1s 6ms/step - loss: 0.9198 - accuracy: 0.5016 - val_loss: 1.6330 - val_accuracy: 0.5048\n",
            "Epoch 2/100\n",
            "216/216 [==============================] - 1s 6ms/step - loss: 0.8210 - accuracy: 0.5089 - val_loss: 0.8549 - val_accuracy: 0.5057\n",
            "Epoch 3/100\n",
            "216/216 [==============================] - 1s 6ms/step - loss: 0.7668 - accuracy: 0.5108 - val_loss: 0.8166 - val_accuracy: 0.5025\n",
            "Epoch 4/100\n",
            "216/216 [==============================] - 1s 5ms/step - loss: 0.7350 - accuracy: 0.5215 - val_loss: 0.7458 - val_accuracy: 0.5178\n",
            "Epoch 5/100\n",
            "216/216 [==============================] - 1s 5ms/step - loss: 0.7170 - accuracy: 0.5285 - val_loss: 0.7283 - val_accuracy: 0.5187\n",
            "Epoch 6/100\n",
            "216/216 [==============================] - 1s 6ms/step - loss: 0.7082 - accuracy: 0.5333 - val_loss: 0.7240 - val_accuracy: 0.5228\n",
            "Epoch 7/100\n",
            "216/216 [==============================] - 1s 6ms/step - loss: 0.7000 - accuracy: 0.5375 - val_loss: 0.7036 - val_accuracy: 0.5448\n",
            "Epoch 8/100\n",
            "216/216 [==============================] - 1s 5ms/step - loss: 0.6935 - accuracy: 0.5509 - val_loss: 0.7033 - val_accuracy: 0.5373\n",
            "Epoch 9/100\n",
            "216/216 [==============================] - 1s 6ms/step - loss: 0.6884 - accuracy: 0.5570 - val_loss: 0.7011 - val_accuracy: 0.5393\n",
            "Epoch 10/100\n",
            "216/216 [==============================] - 1s 5ms/step - loss: 0.6840 - accuracy: 0.5631 - val_loss: 0.7015 - val_accuracy: 0.5332\n",
            "Epoch 11/100\n",
            "216/216 [==============================] - 1s 6ms/step - loss: 0.6788 - accuracy: 0.5700 - val_loss: 0.6951 - val_accuracy: 0.5553\n",
            "Epoch 12/100\n",
            "216/216 [==============================] - 1s 5ms/step - loss: 0.6755 - accuracy: 0.5771 - val_loss: 0.6845 - val_accuracy: 0.5596\n",
            "Epoch 13/100\n",
            "216/216 [==============================] - 1s 5ms/step - loss: 0.6715 - accuracy: 0.5823 - val_loss: 0.6835 - val_accuracy: 0.5645\n",
            "Epoch 14/100\n",
            "216/216 [==============================] - 1s 5ms/step - loss: 0.6683 - accuracy: 0.5900 - val_loss: 0.6829 - val_accuracy: 0.5695\n",
            "Epoch 15/100\n",
            "216/216 [==============================] - 1s 6ms/step - loss: 0.6622 - accuracy: 0.6021 - val_loss: 0.6790 - val_accuracy: 0.5747\n",
            "Epoch 16/100\n",
            "216/216 [==============================] - 1s 5ms/step - loss: 0.6574 - accuracy: 0.6072 - val_loss: 0.6705 - val_accuracy: 0.5872\n",
            "Epoch 17/100\n",
            "216/216 [==============================] - 1s 6ms/step - loss: 0.6547 - accuracy: 0.6173 - val_loss: 0.6731 - val_accuracy: 0.5886\n",
            "Epoch 18/100\n",
            "216/216 [==============================] - 1s 5ms/step - loss: 0.6541 - accuracy: 0.6196 - val_loss: 0.6934 - val_accuracy: 0.5869\n",
            "Epoch 19/100\n",
            "216/216 [==============================] - 1s 5ms/step - loss: 0.6421 - accuracy: 0.6307 - val_loss: 0.6503 - val_accuracy: 0.6095\n",
            "Epoch 20/100\n",
            "216/216 [==============================] - 1s 6ms/step - loss: 0.6367 - accuracy: 0.6362 - val_loss: 0.6814 - val_accuracy: 0.6002\n",
            "Epoch 21/100\n",
            "216/216 [==============================] - 1s 6ms/step - loss: 0.6287 - accuracy: 0.6500 - val_loss: 0.6411 - val_accuracy: 0.6275\n",
            "Epoch 22/100\n",
            "216/216 [==============================] - 1s 5ms/step - loss: 0.6231 - accuracy: 0.6518 - val_loss: 0.6401 - val_accuracy: 0.6304\n",
            "Epoch 23/100\n",
            "216/216 [==============================] - 1s 6ms/step - loss: 0.6196 - accuracy: 0.6566 - val_loss: 0.6599 - val_accuracy: 0.6217\n",
            "Epoch 24/100\n",
            "216/216 [==============================] - 1s 6ms/step - loss: 0.6162 - accuracy: 0.6601 - val_loss: 0.6508 - val_accuracy: 0.6252\n",
            "Epoch 25/100\n",
            "216/216 [==============================] - 1s 5ms/step - loss: 0.6148 - accuracy: 0.6611 - val_loss: 0.6447 - val_accuracy: 0.6246\n",
            "Epoch 26/100\n",
            "216/216 [==============================] - 1s 6ms/step - loss: 0.6158 - accuracy: 0.6622 - val_loss: 0.6447 - val_accuracy: 0.6301\n",
            "Epoch 27/100\n",
            "216/216 [==============================] - 1s 6ms/step - loss: 0.6132 - accuracy: 0.6646 - val_loss: 0.6278 - val_accuracy: 0.6501\n",
            "Epoch 28/100\n",
            "216/216 [==============================] - 1s 6ms/step - loss: 0.6143 - accuracy: 0.6630 - val_loss: 0.6599 - val_accuracy: 0.6162\n",
            "Epoch 29/100\n",
            "216/216 [==============================] - 1s 6ms/step - loss: 0.6121 - accuracy: 0.6653 - val_loss: 0.6734 - val_accuracy: 0.6049\n",
            "Epoch 30/100\n",
            "216/216 [==============================] - 1s 6ms/step - loss: 0.6111 - accuracy: 0.6637 - val_loss: 0.6649 - val_accuracy: 0.6202\n",
            "Epoch 31/100\n",
            "216/216 [==============================] - 1s 6ms/step - loss: 0.6110 - accuracy: 0.6644 - val_loss: 0.6585 - val_accuracy: 0.6202\n",
            "Epoch 32/100\n",
            "216/216 [==============================] - 1s 5ms/step - loss: 0.6102 - accuracy: 0.6638 - val_loss: 0.6729 - val_accuracy: 0.6144\n",
            "Epoch 33/100\n",
            "216/216 [==============================] - 1s 6ms/step - loss: 0.6088 - accuracy: 0.6705 - val_loss: 0.6246 - val_accuracy: 0.6475\n",
            "Epoch 34/100\n",
            "216/216 [==============================] - 1s 6ms/step - loss: 0.6089 - accuracy: 0.6665 - val_loss: 0.6762 - val_accuracy: 0.6098\n",
            "Epoch 35/100\n",
            "216/216 [==============================] - 1s 6ms/step - loss: 0.6078 - accuracy: 0.6685 - val_loss: 0.7049 - val_accuracy: 0.5895\n",
            "Epoch 36/100\n",
            "216/216 [==============================] - 1s 6ms/step - loss: 0.6087 - accuracy: 0.6663 - val_loss: 0.6512 - val_accuracy: 0.6220\n",
            "Epoch 37/100\n",
            "216/216 [==============================] - 1s 5ms/step - loss: 0.6075 - accuracy: 0.6698 - val_loss: 0.6260 - val_accuracy: 0.6498\n",
            "Epoch 38/100\n",
            "216/216 [==============================] - 1s 5ms/step - loss: 0.6072 - accuracy: 0.6706 - val_loss: 0.6731 - val_accuracy: 0.6176\n",
            "Epoch 39/100\n",
            "216/216 [==============================] - 1s 5ms/step - loss: 0.6079 - accuracy: 0.6693 - val_loss: 0.6229 - val_accuracy: 0.6440\n",
            "Epoch 40/100\n",
            "216/216 [==============================] - 1s 5ms/step - loss: 0.6078 - accuracy: 0.6696 - val_loss: 0.6281 - val_accuracy: 0.6432\n",
            "Epoch 41/100\n",
            "216/216 [==============================] - 1s 5ms/step - loss: 0.6061 - accuracy: 0.6668 - val_loss: 0.6231 - val_accuracy: 0.6478\n",
            "Epoch 42/100\n",
            "216/216 [==============================] - 1s 6ms/step - loss: 0.6068 - accuracy: 0.6669 - val_loss: 0.6432 - val_accuracy: 0.6304\n",
            "Epoch 43/100\n",
            "216/216 [==============================] - 1s 5ms/step - loss: 0.6064 - accuracy: 0.6664 - val_loss: 0.6225 - val_accuracy: 0.6490\n",
            "Epoch 44/100\n",
            "216/216 [==============================] - 1s 6ms/step - loss: 0.6064 - accuracy: 0.6685 - val_loss: 0.6336 - val_accuracy: 0.6374\n",
            "Epoch 45/100\n",
            "216/216 [==============================] - 1s 5ms/step - loss: 0.6066 - accuracy: 0.6661 - val_loss: 0.6344 - val_accuracy: 0.6417\n",
            "Epoch 46/100\n",
            "216/216 [==============================] - 1s 5ms/step - loss: 0.6056 - accuracy: 0.6703 - val_loss: 0.6249 - val_accuracy: 0.6417\n",
            "Epoch 47/100\n",
            "216/216 [==============================] - 1s 5ms/step - loss: 0.6059 - accuracy: 0.6721 - val_loss: 0.6230 - val_accuracy: 0.6478\n",
            "Epoch 48/100\n",
            "216/216 [==============================] - 1s 5ms/step - loss: 0.6061 - accuracy: 0.6701 - val_loss: 0.6223 - val_accuracy: 0.6507\n",
            "Epoch 49/100\n",
            "216/216 [==============================] - 1s 6ms/step - loss: 0.6051 - accuracy: 0.6698 - val_loss: 0.6218 - val_accuracy: 0.6493\n",
            "Epoch 50/100\n",
            "216/216 [==============================] - 1s 6ms/step - loss: 0.6059 - accuracy: 0.6713 - val_loss: 0.6333 - val_accuracy: 0.6359\n",
            "Epoch 51/100\n",
            "216/216 [==============================] - 1s 5ms/step - loss: 0.6033 - accuracy: 0.6738 - val_loss: 0.6927 - val_accuracy: 0.6098\n",
            "Epoch 52/100\n",
            "216/216 [==============================] - 1s 5ms/step - loss: 0.6049 - accuracy: 0.6693 - val_loss: 0.6240 - val_accuracy: 0.6475\n",
            "Epoch 53/100\n",
            "216/216 [==============================] - 1s 6ms/step - loss: 0.6065 - accuracy: 0.6684 - val_loss: 0.6368 - val_accuracy: 0.6336\n",
            "Epoch 54/100\n",
            "216/216 [==============================] - 1s 5ms/step - loss: 0.6041 - accuracy: 0.6706 - val_loss: 0.6226 - val_accuracy: 0.6466\n",
            "Epoch 55/100\n",
            "216/216 [==============================] - 1s 6ms/step - loss: 0.6041 - accuracy: 0.6719 - val_loss: 0.6235 - val_accuracy: 0.6452\n",
            "Epoch 56/100\n",
            "216/216 [==============================] - 1s 6ms/step - loss: 0.6040 - accuracy: 0.6716 - val_loss: 0.6231 - val_accuracy: 0.6481\n",
            "Epoch 57/100\n",
            "216/216 [==============================] - 1s 6ms/step - loss: 0.6039 - accuracy: 0.6674 - val_loss: 0.6404 - val_accuracy: 0.6321\n",
            "Epoch 58/100\n",
            "216/216 [==============================] - 1s 6ms/step - loss: 0.6032 - accuracy: 0.6723 - val_loss: 0.6224 - val_accuracy: 0.6461\n",
            "Epoch 59/100\n",
            "216/216 [==============================] - 1s 6ms/step - loss: 0.6032 - accuracy: 0.6729 - val_loss: 0.6235 - val_accuracy: 0.6455\n",
            "Epoch 60/100\n",
            "216/216 [==============================] - 1s 6ms/step - loss: 0.6039 - accuracy: 0.6714 - val_loss: 0.6236 - val_accuracy: 0.6478\n",
            "Epoch 61/100\n",
            "216/216 [==============================] - 1s 6ms/step - loss: 0.6029 - accuracy: 0.6717 - val_loss: 0.6214 - val_accuracy: 0.6481\n",
            "Epoch 62/100\n",
            "216/216 [==============================] - 1s 6ms/step - loss: 0.6038 - accuracy: 0.6741 - val_loss: 0.6232 - val_accuracy: 0.6466\n",
            "Epoch 63/100\n",
            "216/216 [==============================] - 1s 6ms/step - loss: 0.6026 - accuracy: 0.6695 - val_loss: 0.6587 - val_accuracy: 0.6295\n",
            "Epoch 64/100\n",
            "216/216 [==============================] - 1s 6ms/step - loss: 0.6029 - accuracy: 0.6728 - val_loss: 0.6232 - val_accuracy: 0.6458\n",
            "Epoch 65/100\n",
            "216/216 [==============================] - 1s 6ms/step - loss: 0.6030 - accuracy: 0.6703 - val_loss: 0.6276 - val_accuracy: 0.6475\n",
            "Epoch 66/100\n",
            "216/216 [==============================] - 1s 6ms/step - loss: 0.6032 - accuracy: 0.6708 - val_loss: 0.6299 - val_accuracy: 0.6379\n",
            "Epoch 67/100\n",
            "216/216 [==============================] - 1s 6ms/step - loss: 0.6038 - accuracy: 0.6740 - val_loss: 0.6252 - val_accuracy: 0.6437\n",
            "Epoch 68/100\n",
            "216/216 [==============================] - 1s 6ms/step - loss: 0.6031 - accuracy: 0.6717 - val_loss: 0.6297 - val_accuracy: 0.6446\n",
            "Epoch 69/100\n",
            "216/216 [==============================] - 1s 6ms/step - loss: 0.6034 - accuracy: 0.6724 - val_loss: 0.6232 - val_accuracy: 0.6455\n",
            "Epoch 70/100\n",
            "216/216 [==============================] - 1s 6ms/step - loss: 0.6023 - accuracy: 0.6716 - val_loss: 0.6225 - val_accuracy: 0.6516\n",
            "Epoch 71/100\n",
            "216/216 [==============================] - 1s 5ms/step - loss: 0.6029 - accuracy: 0.6712 - val_loss: 0.6250 - val_accuracy: 0.6449\n",
            "Epoch 72/100\n",
            "216/216 [==============================] - 1s 5ms/step - loss: 0.6031 - accuracy: 0.6719 - val_loss: 0.6250 - val_accuracy: 0.6478\n",
            "Epoch 73/100\n",
            "216/216 [==============================] - 1s 5ms/step - loss: 0.6043 - accuracy: 0.6703 - val_loss: 0.6353 - val_accuracy: 0.6345\n",
            "Epoch 74/100\n",
            "216/216 [==============================] - 1s 6ms/step - loss: 0.6033 - accuracy: 0.6716 - val_loss: 0.6286 - val_accuracy: 0.6443\n",
            "Epoch 75/100\n",
            "216/216 [==============================] - 1s 6ms/step - loss: 0.6023 - accuracy: 0.6674 - val_loss: 0.6283 - val_accuracy: 0.6443\n",
            "Epoch 76/100\n",
            "216/216 [==============================] - 1s 6ms/step - loss: 0.6021 - accuracy: 0.6727 - val_loss: 0.6235 - val_accuracy: 0.6466\n",
            "Epoch 77/100\n",
            "216/216 [==============================] - 1s 6ms/step - loss: 0.6021 - accuracy: 0.6729 - val_loss: 0.6457 - val_accuracy: 0.6281\n",
            "Epoch 78/100\n",
            "216/216 [==============================] - 1s 6ms/step - loss: 0.6024 - accuracy: 0.6740 - val_loss: 0.6339 - val_accuracy: 0.6353\n",
            "Epoch 79/100\n",
            "216/216 [==============================] - 1s 5ms/step - loss: 0.6035 - accuracy: 0.6696 - val_loss: 0.6230 - val_accuracy: 0.6432\n",
            "Epoch 80/100\n",
            "216/216 [==============================] - 1s 6ms/step - loss: 0.6018 - accuracy: 0.6727 - val_loss: 0.6262 - val_accuracy: 0.6426\n",
            "Epoch 81/100\n",
            "216/216 [==============================] - 1s 5ms/step - loss: 0.6021 - accuracy: 0.6735 - val_loss: 0.6827 - val_accuracy: 0.6165\n",
            "Epoch 82/100\n",
            "216/216 [==============================] - 1s 6ms/step - loss: 0.6023 - accuracy: 0.6711 - val_loss: 0.6235 - val_accuracy: 0.6449\n",
            "Epoch 83/100\n",
            "216/216 [==============================] - 1s 6ms/step - loss: 0.6020 - accuracy: 0.6735 - val_loss: 0.6241 - val_accuracy: 0.6469\n",
            "Epoch 84/100\n",
            "216/216 [==============================] - 1s 6ms/step - loss: 0.6020 - accuracy: 0.6734 - val_loss: 0.6228 - val_accuracy: 0.6469\n",
            "Epoch 85/100\n",
            "216/216 [==============================] - 1s 6ms/step - loss: 0.6015 - accuracy: 0.6743 - val_loss: 0.6324 - val_accuracy: 0.6403\n",
            "Epoch 86/100\n",
            "216/216 [==============================] - 1s 6ms/step - loss: 0.6021 - accuracy: 0.6730 - val_loss: 0.6255 - val_accuracy: 0.6429\n",
            "Epoch 87/100\n",
            "216/216 [==============================] - 1s 6ms/step - loss: 0.6023 - accuracy: 0.6732 - val_loss: 0.6668 - val_accuracy: 0.6258\n",
            "Epoch 88/100\n",
            "216/216 [==============================] - 1s 5ms/step - loss: 0.6012 - accuracy: 0.6734 - val_loss: 0.6240 - val_accuracy: 0.6481\n",
            "Epoch 89/100\n",
            "216/216 [==============================] - 1s 6ms/step - loss: 0.6024 - accuracy: 0.6745 - val_loss: 0.6337 - val_accuracy: 0.6397\n",
            "Epoch 90/100\n",
            "216/216 [==============================] - 1s 5ms/step - loss: 0.6024 - accuracy: 0.6727 - val_loss: 0.6445 - val_accuracy: 0.6345\n",
            "Epoch 91/100\n",
            "216/216 [==============================] - 1s 6ms/step - loss: 0.6032 - accuracy: 0.6711 - val_loss: 0.6257 - val_accuracy: 0.6496\n",
            "Epoch 92/100\n",
            "216/216 [==============================] - 1s 5ms/step - loss: 0.6008 - accuracy: 0.6739 - val_loss: 0.6256 - val_accuracy: 0.6516\n",
            "Epoch 93/100\n",
            "216/216 [==============================] - 1s 6ms/step - loss: 0.6019 - accuracy: 0.6736 - val_loss: 0.6386 - val_accuracy: 0.6377\n",
            "Epoch 94/100\n",
            "216/216 [==============================] - 1s 5ms/step - loss: 0.6005 - accuracy: 0.6742 - val_loss: 0.6373 - val_accuracy: 0.6408\n",
            "Epoch 95/100\n",
            "216/216 [==============================] - 1s 6ms/step - loss: 0.6011 - accuracy: 0.6758 - val_loss: 0.6233 - val_accuracy: 0.6490\n",
            "Epoch 96/100\n",
            "216/216 [==============================] - 1s 5ms/step - loss: 0.6005 - accuracy: 0.6759 - val_loss: 0.6326 - val_accuracy: 0.6388\n",
            "Epoch 97/100\n",
            "216/216 [==============================] - 1s 5ms/step - loss: 0.6001 - accuracy: 0.6756 - val_loss: 0.6244 - val_accuracy: 0.6513\n",
            "Epoch 98/100\n",
            "216/216 [==============================] - 1s 5ms/step - loss: 0.5998 - accuracy: 0.6750 - val_loss: 0.6499 - val_accuracy: 0.6208\n",
            "Epoch 99/100\n",
            "216/216 [==============================] - 1s 5ms/step - loss: 0.6002 - accuracy: 0.6737 - val_loss: 0.6366 - val_accuracy: 0.6365\n",
            "Epoch 100/100\n",
            "216/216 [==============================] - 1s 5ms/step - loss: 0.6013 - accuracy: 0.6738 - val_loss: 0.6355 - val_accuracy: 0.6371\n"
          ],
          "name": "stdout"
        }
      ]
    },
    {
      "cell_type": "code",
      "metadata": {
        "id": "Dt0kVkLz5Nz-",
        "colab_type": "code",
        "colab": {
          "base_uri": "https://localhost:8080/",
          "height": 282
        },
        "outputId": "7c43c830-0b21-4f10-8e33-0c12f28b47db"
      },
      "source": [
        "plt.plot(history_bn.history['accuracy'])\n",
        "plt.plot(history_bn.history['val_accuracy'])\n",
        "print(max(history_bn.history['val_accuracy']))"
      ],
      "execution_count": 25,
      "outputs": [
        {
          "output_type": "stream",
          "text": [
            "0.6515811085700989\n"
          ],
          "name": "stdout"
        },
        {
          "output_type": "display_data",
          "data": {
            "image/png": "[encoded data removed]",
            "text/plain": [
              "<Figure size 432x288 with 1 Axes>"
            ]
          },
          "metadata": {
            "tags": []
          }
        }
      ]
    },
    {
      "cell_type": "markdown",
      "metadata": {
        "id": "ai-x3zzJ5N0C",
        "colab_type": "text"
      },
      "source": [
        "## Look at some other metrics\n",
        "\n",
        "Lets look at some other metrics of model performance. Let's try a confusion matrix. Start getting your true and predicted y values, then use `sklearn.metrics.confusion_matrix` to build the confusion matrix.\n",
        "\n",
        "The confusion matrix returned by `scikit-learn` has the following form:\n",
        "\n",
        "$$\n",
        "\\begin{bmatrix}\n",
        "TP & FP \\\\\n",
        "FN & TN \\\\ \n",
        "\\end{bmatrix}\n",
        "$$\n",
        "\n",
        "Where:\n",
        " - TP: True Positives\n",
        " - FP: False Positives\n",
        " - FN: False Negatives\n",
        " - TN: True Negatives\n",
        "\n",
        "This matrix can indicate when the model is going wrong and can help to debug point problems with the network."
      ]
    },
    {
      "cell_type": "code",
      "metadata": {
        "id": "Lz9-v9Qo5N0C",
        "colab_type": "code",
        "colab": {}
      },
      "source": [
        "y_true = y\n",
        "y_pred = model.predict(X)"
      ],
      "execution_count": 0,
      "outputs": []
    },
    {
      "cell_type": "code",
      "metadata": {
        "id": "q9r_r2Ar5N0E",
        "colab_type": "code",
        "outputId": "e7038ced-a3da-4469-c634-67cdf0dee192",
        "colab": {
          "base_uri": "https://localhost:8080/",
          "height": 51
        }
      },
      "source": [
        "from sklearn.metrics import confusion_matrix, plot_confusion_matrix\n",
        "\n",
        "y_pred = np.rint(y_pred)\n",
        "confusion_matrix(y_true, y_pred)"
      ],
      "execution_count": 27,
      "outputs": [
        {
          "output_type": "execute_result",
          "data": {
            "text/plain": [
              "array([[7114, 1503],\n",
              "       [4362, 4255]])"
            ]
          },
          "metadata": {
            "tags": []
          },
          "execution_count": 27
        }
      ]
    }
  ]
}